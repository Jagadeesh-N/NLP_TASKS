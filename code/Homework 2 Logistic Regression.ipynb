{
 "cells": [
  {
   "cell_type": "markdown",
   "metadata": {},
   "source": [
    "# Assignment 2: Sentiment Classification Using Logistic Regression"
   ]
  },
  {
   "cell_type": "markdown",
   "metadata": {},
   "source": [
    "## Programming Assignment (100 Points scaled to 40)"
   ]
  },
  {
   "cell_type": "markdown",
   "metadata": {},
   "source": [
    "For this assignment we will be implementing a naive bayes baseline classifier. Additionally, we will be using pytorch to implement a binary logistic regression classifier. Our task is sentiment classification for hotel reviews. The input to your model will be a text review, and the output label is a 1 or 0 marking it as positive or negative."
   ]
  },
  {
   "cell_type": "markdown",
   "metadata": {},
   "source": [
    "We have provided a util.py file for loading the data, and some of the basic modeling. Your task is to fill in the functions below in order to train as accurate a classifier as possible!\n",
    "\n",
    "We suggest browsing the util.py script first. Additionally, make sure to install dependencies from the provided requirements.txt file in a similar fashion to the pytorch tutorial. With your environment activated int he terminal, run:\n",
    "```\n",
    "pip install -r requirements.txt\n",
    "```"
   ]
  },
  {
   "cell_type": "code",
   "execution_count": 252,
   "metadata": {},
   "outputs": [],
   "source": [
    "import numpy as np\n",
    "import random\n",
    "import torch\n",
    "from util import *"
   ]
  },
  {
   "cell_type": "markdown",
   "metadata": {},
   "source": [
    "## Section 1: Sentiment Classification Dataset (Total: 20 Points)\n",
    "\n",
    "The training data for this task consists of a collection of short hotel reviews. The data is formatted as one review per line. Each line starts with a unique identifier for the review (as in ID-2001) followed by tab and the text of the review.  The reviews are not tokenized or sentence segmented in any way (the words are space separated). The positive reviews and negative reviews appear in separate files namely [hotelPosT-train.txt](data/hotelPosT-train.txt) and [hotelNegT-train.txt](data/hotelNegT-train.txt)."
   ]
  },
  {
   "cell_type": "code",
   "execution_count": 253,
   "metadata": {},
   "outputs": [],
   "source": [
    "# load the dataset\n",
    "pos_datapath = \"data/hotelPosT-train.txt\"\n",
    "neg_datapath = \"data/hotelNegT-train.txt\"\n",
    "all_texts, all_labels = load_train_data(pos_datapath, neg_datapath)"
   ]
  },
  {
   "cell_type": "code",
   "execution_count": 254,
   "metadata": {},
   "outputs": [
    {
     "name": "stdout",
     "output_type": "stream",
     "text": [
      "['Went to this hotel when visiting nearby national parks with family. Front desk staff was courteous and quickly resolved any questions we had. Our 2-queen bed room was clean and spacious. Room has nice LCD TV, coffee maker, fridge, microwave, massaging shower heads, and good mattresses. We stayed for 2 nights and room was well cleaned and put together after first night with coffee packs refilled. Overall very satisfied.', \"Over the holidays, we stayed at the Westin in St. Louis,MO. The hotel is stunning! It's located right across from the Cardinals Stadium. The hotel staff was very accommodating. We requested more towels at midnight and they were up there within minutes! The rooms were absolutely gorgeous. The beds were extremely comfortable. My daughter loved that there was a phone in the bathroom! Great experience overall.\", \"Beautiful resort with excellent views of the ocean. The large pool with pool bar was an excellent place to chill and unwind with my wife while we glanced over the kids playing in the various parts of the pool. Extremely close to the beach, which had the right amount of people that you didn't feel alone, but certainly didn't feel cramped for space. Very nice, friendly staff that gave off the calm, Caribbean vibe. Couldn't of asked for a better resort.\", 'This is a fantastic botique hotel in Portland, Oregon. All the rooms are suites and include a kitchenette. This hotel is great for small families because it allows you ample space and you have the kitchen included where you can prepare some meals in order to save on some food costs while on vacation. The best part is that there are piles of Starbursts candies throughout the hotel available for the taking!', 'Headed up to Massachusetts for the New England Folk Festival in Mansfield. We booked in at the North Attleboro Super 8, since it was the closest place that had really reasonable rates. What a pleasant surprise to find an inn so clean, comfortable and well-appointed at this price level. The beds were firm, the room was roomy and the in-room fridge was a welcome convenience. In the mornings, we picked up bagels, butter, peanut butter, preserves, cereal, juice, milk and coffee from the free breakfast buffet in the lobby and took them back to the dining area in our room where we supplemented them with cheese, cucumbers and hardboiled eggs that we kept in the fridge. We were able to start each day with a hearty breakfast with no real expense of either time or money. You can be sure we’ll be back there again next year.', 'The Beachcomber Resort & Villas is what makes South Florida, South Florida. The moment I walked in I was taken back by the beautiful decor, and greeted by friendly staff. I was able to check in quickly, and with no hassle. The room was more amazing then expected! It had a BEAUTIFUL view! I looked out and saw ALL of Ft. Lauderdale on a crystal clear day. At this point, I decided I’d rather be on the beach then look at it, and no sooner then that I walked out the back door of the hotel, and was right on the beach. Beachcomber is amazing, the rooms, the service, the amenities all exceeded my very high expectations.', 'Absolutely a great hotel for families! The rooms are spacious, restaraunts are very kid-friendly, and the pool area is gorgeous. My children felt like they were at a water park, not just another hotel. We will definitely return for another stay here!', \"We had an incredible stay at The XV Beacon. It started with an upgrade to a gorgeous room. The hotel is in a quaint part of Boston hand the rooms are on the smaller side. However, this is made up for with the service and the decor. The room is so luxurious and comfortable. The bed linens are the highest quality I have ever seen in a hotel. The bath products are amazing as well. Everywhere you look there are wonderful details. from bowls of fruit for the taking throughout the hotel to embossed leather walls in the elevator. The staff knew us by name each time we passed through the lobby and always went out of their way to be friendly towards our young daughter. The location can't be beat either. it's like staying with a friend in their brownstone in Beacon Hill. I would never stay anywhere else in Boston.\", \"The Holiday Inn near the stadium in Philly was one of the highlights of my trip last summer. I was there for a weekend to take in the sights and watch a playoff game at the ballpark. The customer staff was very professional and even told me of a discount that I was eligible for, which I had no idea about, and it saved me almost $20 per night! The room was perfectly clean and the beds were just as comfortable as mine at home, so I slept soundly the entire time I was there. The WiFi was great and the restaurant was even better the couple of times that I ate there. All in all, it was a very pleasent experience and I can't wait for my team to play in Philly again so I can revisit that Holiday Inn!\", \"A night at the Hotel Roanoke is a charming experience and the perfect overnight getaway. there are many venues to experience from enjoying a quality gourmet meal in The regency room to enjoy the luxury of late night drinks in the Pine Room, complimentary big cookies waiting for us in our room. A walkway connects the hotel with the downtown shops, restaurants and large farmer's market.  The opportunity of exploration are endless in this beautiful city, Roanoke it self being known as the festival city of Virginia always has something going on form the festival in the park to Dickens of a Christmas its a amazing place to visit\", \"The San Francisco Marriot at Union Square is an amazing hotel. I stayed there for three days during the summer of 2011. First of all the location of the hotel in Union Square is great because of all the shops and restaurants nearby and because of its proximity to many interesting San Francisco hot spots. When I entered the hotel I was greeted by the receptionist who had my reservation ready and who offered me many ideas as to what to do in the city whenever I left the hotel. My room was spectacular and had a nice big window in which I could see Union Square and all the commotion going on the street, which is nice when you're in a big city and can see all the city lights. The beds were nice and clean which is always a big concern of mine and the bathroom was equipped with many towels and toiletries, which was also really nice. There is absolutely nothing I can complain about seeing as the location, the hotel amenities, and my room were all wonderful. I would definitely stay there again.\", 'This place is a piece of heaven on earth. As we drove up, we heard the sound of the ocean crashing against the rocks. The building was very open and inviting. The hotel staff greeted us with smiling faces, and offered to help immediately. The grounds to the hotel are well manicured and very lush. The rooms are luxurious. The beds, with their down comforters and fluffy pillows, provided the best rest. The soaps and lotions were heavenly. The lobby had nice areas to relax, and the beach access is as good as it gets. In addition, the pools are quite nice. There is even a slide for the kids and an outdoor bar for lounging and snacking, or drinks. The entire family enjoyed the stay.', 'Howard Johnson hotels are the best value for your money and your time. The staff there are very helpful and friendly, and the hotel itself is immaculate. Our family really loved the idea of bringing Fido on our vacation with us, and this hotel accommodated that for us. My children absolutely loved this place and everything about it. They were amazed at the sight of an indoor pool, and delighted when I told them they could go swimming. The hotel also had one of the best complimentary breakfast Ive had at a hotel. There was a huge selection of food. The rooms are big and spacious, so we had no problem fitting everyone in comfortably. I would certainly recommend this hotel to anyone looking to get away, whether that be with or without family. One of the best hotel experiences of my life!', 'This hotel was absolutely beautiful as soon as I walked into the lobby. There are a lot of places to relax downstairs with lots of comfy chairs. The room had a great view of the town and it was a great place to relax. The bed was very soft and I had no trouble sleeping. There is a pool downstairs if you want to enjoy the weather, and the attached bar and restaurant are convenient.', 'My wife, two-year old son and I stayed at La Quinta Inn in Garland, Texas during our vacation this Spring Break. The staff was very nice and accomodating. They quickly brought up a crib for our son soon after we requested one. The room was clean and very spacious. Our bed was also comfortable. A great breakfast came free with the stay. They offered scrambled eggs, waffles, cereals, pastries, and much more. We had a great stay here. It only cost us about $80 a night.', \"My husband and I were recently on a business trip to Seattle that coincided with his birthday; while he was working one day I made a spur-of-the-moment decision to celebrate by whisking him away to Victoria, British Columbia for the weekend. I booked a package deal which included ferry tickets, a champagne brunch, and two nights at the famed Fairmont Empress hotel.  I kept our hotel location a secret from my husband until we arrived, and I'm so glad I did! After we docked and cleared customs and emerged into the brisk air, we rounded a corner, and got our first look at the majestic old building. It honestly looked like a storybook castle with its pitched gables, gothic Victorian architecture and a fresh dusting of snow. We both audibly gasped.   Once inside, the front desk was busy with other guests from the ferry. My husband and I stood in line but took turns slipping away to poke around the warm, elegant lobby. It had fascinating objects like model steamships and faded photographs of royal and celebrity guests enjoying the hotel's various amenities over the years. We were therefore in a good mood when the customer in front of us threw what might politely be termed a tantrum. The young clerk handled the matter professionally and quickly. By the time she got to us she was incredibly apologetic. By the time we walked away from the desk, we not only had a seriously upgraded room (with a harbor view and free wi-fi) but a lovely written invitation to enjoy a complimentary birthday dessert in the Bengal Lounge! Amazing.  This hotel is wildly romantic in the snow; because of it we stayed largely inside, snuggled into impossibly comfortable sheets and pillows in our luxuriously appointed suite, sampling the abundance of delicious teas (the Empress is famous for their Afternoon Tea service) our room offered. We had breakfast in front of a roaring fire in the Empress Room, which featured heavy dark wood, intricate carvings and ornate candelabra hung amongst tapestries and paintings. We had delicious champagne and curry at night in the Bengal room, overseen by a full-sized tiger (skin, anyway).   This hotel was one of the few I've ever stayed in that I can actually say I was content to just spend time in; wandering various floors, exploring some fascinating history and relaxing in the refined yet comfortable ambiance.  A once in a lifetime stay!\", \"Staying at the Bon Aire on St. Pete Beach is by far the best vacation experience I have ever had in my life. The landscaping is beautiful! I couldn't believe all of the different colored flowers and plants. Also the hotel rooms were great. Everything was kept very sanitary, and the layout of the room couldn't have been better. In my opinion, the greatest plus to have staying at the Bon Aire was being able to get food and drinks all day from Sandbar Bills. Sandbar Bills makes one of the greatest cheese burgers I have ever had in my life. Everything about this resort is just all around amazing, including the location. Right across the street from the resort is a Walgreens that is open 24/7! At night when Sandbar Bills is closed, I could walk across the street and buy a snack. In conclusion, I would recommend staying at the Bon Aire over any other place if you are coming to visit St. Pete Beach. You will not be disappointed!\", \"I stay at Great Wolf Lodge at least 3 times a year, its a great place to have fun with your family and friends. this place is amazing , It has a giant Indoor water park, with water slides and lazy river. The best part is you can go year round because the indoor water park is climate controlled. they have several activities for children to do year round, such as a wizard quest, and during the holidays they have a christmas play. these hotels are a great way to get a way from your everyday life for the weekend. access to the water park is included with your stay. If you get tired of swimming you can head down to the arcade and enjoy arcade games, and air hockey. This is vacation where you don't have to ever leave the hotel. for adults, you can enjoy their many restaurants and fine eating establishments.\", 'The Kalahari is a great place to take your kids for a quick vacation. I went to the Kalahari a few months ago and had a blast. The whole hotel is rainforest themed, which creates a vacation feel, almost like Disney World. The indoor water park is phenomenal. Kids and adults alike will enjoy all of the entertainment that the Kalahari has.', \"I stayed here several times while visiting friends in Blaine. The staff are very friendly and everything you could ever need is actually within walking distance. Pizza Hut is next door, which is awesome! They also have free doughnuts every morning along with juice and coffee. The room I stayed in was very clean and smelled nice. I slept better there than at home. Even with the motorway practically across the street it was very quiet and peaceful. I'll definitely be back!\", 'The Westin in Virginia Beach is by far my favorite hotel, which is why I keep going back. The fluffy white bedspreads and crisp white sheets will make you feel like royalty. The staff is very courteous and respectful, and the room service is prompt and delicious. I had to take pictures of my eggs benedict because it was plated so elegantly!! They offer a lobby bar and restaurant, a Starbucks, and a fitness center, with some bedrooms having fitness equipment in them. There are tons of restaurants and shops only a block away from the hotel! The rooms are spacious as are the bathrooms. The attention to detail is apparent- from the folded toilet paper to the elegant leaf-shaped soap! Everything is fresh, bright and shiny! I wish I could live at the Westin! You too will get the royal treatment here!', 'We stayed at The Oread in the Fall for a work conference and had a wonderful time. The staff greeted us as we entered and directed us to our rooms. The architecture is beautiful, with rock walls lining both the inside and outside of the establishment. It almost felt like we were in a castle. Our room was nice and clean and was well-appointed. There were granite counters and a comfortable bed. The pillows were so great that I actually asked to purchase one before we left, and they said since they get that request so often, I could order one to be shipped to my house. Overall, it was a great stay and I will stay there again when I am in the area.', \"I had a wonderful, relaxed stay at the Huntley Hotel. I wasn't staying in the priciest room, but all the staff treated me like I had reserved the penthouse. The desk clerk even helped me locate my wallet after I left it in the hotel restaurant. In addition to beautiful rooms and a kind staff, the Huntley boasts a location barely two blocks from the Santa Monica beach. When I wasn't enjoying the amenities of the hotel, I was lounging in the sun.\", 'I took a trip to New York for a couple of days with my two daughters and we decided to splurge and stay at the Doubletree in Times Square. We booked a small suite on a mid level floor and were very excited by our room. The decor was exciting, bright colored and contemporary. Everything was comfortable and the bathroom was somewhat luxorious. We tried the exercize room too. It was quite nice and we were the only people in it. The reception area was stylish and appealing and the hotel staff were helpful and freindly. No one was snobby even though we were paying over $400 per night. We all had a great time at the Doubletree and felt welcome and comfortable.', 'I stayed at this hotel with my family last summer. A big plus for us was that they accepted pets so we were able to bring our dogs on vacation with us. The staff was very friendly and accomodating, and the rooms were neat and clean. We really liked the fact that there were separate areas for us to walk our dogs and for our child to play. I would definitely recommend this hotel and will most likely be staying there in the future.', 'This the best hotel for the money that I paid to stay there for a week last summer. Very decent breakfast and friendly staff. Internet was free and fast. I would certainly recommend this hotel to my friends and looking forward to my next stay there this summer.', 'The hotel was enjoyable because the price was reasonable and the service was quick.', \"I've stayed at this hotel several times and always had a positive experience. The rooms are nicely furnished and in good condition, and always kept clean. Likewise, linens have always been clean and bathroom towels are plentiful. The water in the shower actually gets hot and stays that way (I've stayed in places where taking a shower is a risky experience!). On our most recent visit we ordered a cot for our daughter and were pleasantly surprised to receive a twin-sized roll-away bed that was just as comfortable as the regular beds--and without any extra cost.\", 'Hampton Inn and Suites in Lakeland Florida was a great place to stay! We stayed for a Dance competition for my daughter who is 12. the staff was great, the rooms were all on the same floor and we even had a free hot breakfast! I loved this hotels location, it was in the middle of a shopping mall and the girls loved to go out there and walk around or go to the movies all while staying at the hotel A+ Location and service!', 'This hotel and resort is wonderful for family events. The three pools are an added bonus. There are many activities to enjoy year round.', \"My stay at the Rennaissance hotel in Ft. Lauderdale coincided with the wedding of a dear friend. My initial plans for a place to stay fell through and I had to book a room at the Rennaissance after arriving in the area. The booking staff on the phone was very helpful and the rates were great considering I was reserving for a stay that would begin that very night.  I was very happy with the amenities at the hotel. There is a more than ample parking lot. The lobby was fit for an art museum, and the food was scrumptious. The room we stayed in was beautiful and overlooked the pool and a lake. Our bed was very comfortable and we slept like babies.   Overall the service at the Rennaissance was impeccable. The concierge was extremely helpful, polite, and responsive. If I ever need to be in the area again, I'll make this hotel my first choice.\", \"I love staying at the La Quinta Inn everytime we travel! Their rooms are always clean, many have awesome pools, and we always are able to get a generous military discount (my husband is in the Army.) The first time we stayed, I was unaware of their military discount, and my husband wasn't with me. The clerk started to ring me up, and then noticed my husband's dog tags around my neck. She offered me the discount...that has stuck with me, because she didn't have to do that, but she went above and beyond for us. Also, the La Quinta almost always has rooms for large families available, which can be hard to find (we are a family of 6.) I would recomend them to anyone!\", 'I thought that this hotel was great. The resort was huge, had many pools, and offered many dinning options. They also had a shuttle that would take you to all the different theme parks as well as many on sight activities to do everyday of the week. You could do paddle boats, play tennis and basketball, and play a round of mini-golf.', 'i recently visited The W hotel in New Orleans(downtown)for the first time and it was best hotel ive ever been too. First of all, the hotel is beautiful!! The valet is prompt and courteous. I was even given a bottle of Voss water upon entrance...for free!! The check-in girl was polite and gave me a free room upgrade. My room was immaculate and beautifully decorated. later that night i ordered room service and the food was hot and fresh. i requested a wake up call the next morning and i did receive it on the dot.  Checkout was a breeze and so was retrieval of my vehicle. overall, i give this hotel two thumbs up!', 'When other hotels in the area were either fully booked or offering sky-high rates, the Extended Stay America in Burbank was a great option. There was ample parking, easy access to local freeways, and the room itself was clean and comfortable. The best part was the kitchen that carried all of the pans, dishes, and utensils we needed. It was right in a huge shopping center, which was very convenient.', 'This hotel was a very nice and affordable stay. The beds were comfortable and it had cable. The shower worked great, and the continental breakfast included a nice variety of foods. I would definitely stay here again.', 'I stayed in this hotel while I was on vacation. This is an amazing hotel. Lobby is huge and my kids really enjoyed the time we spent there. TV was big size and very crystal clear. Bed was clean and everything was very organized. Staff was very quick in responding to phone calls. I went to checkout the bar at night and to my surprise it was also very big and lot of options for beer. Overall great experience!', \"The first time visiting a city you've never been in is scary. Luckily, my friend booked me a place at embassy suites, and it wasn't so sad anymore. It has a great view from the 7th floor and the lights at night are fantastic. It's in walking distance from the North Point mall in Alpharetta, GA and I just about went there everyday. I practically spent all my money going to the mall and eating out everyday, but it was a fabulous time. The hotel itself has a beautiful interior and the one I stayed at had a free breakfast, an indoor pool and a bar. What more can you ask for? The staff at the hotel were very polite and accommodating and it was just a pleasant experience staying here. I would definitely choose this hotel again when I'm nearby and need a place to stay.\", 'The Microtel in Charlotte, North Carolina is a nice place to stay. It is located just a short distance of the Charlotte-Douglas Airport. It is clean and inexpensive, a perfect combination for a traveler on a budget. I stayed there when visiting a NASCAR race in the area. The hotel was roomy, the hotel staff was friendly and informative, and I enjoyed relaxing there. The beds and pillows were soft. I enjoyed my stay there and would gladly stay there again. 4 out of 5 stars.', 'The Ocean Creek Resort in Myrtle Beach is the Best!The Hotel is situated on the water in Myrtle Beach and has several pools for both adults and children. Because of the location near a creek the water is great for little children. The rooms are spacious and bright. the staff is very friendly and accommodating to your needs. The ocean side bar is perfect for sitting back and listening to music.', \"My husband and I recently spent 3 nights at The Flamingo Las Vegas. We very much enjoyed our experience there! The Flamingo is located at the center of the Strip and we were in short walking distance to tons of restaurants and other hotels. Our room had floor to ceiling windows with an AMAZING view of the strip and the Bellagio fountains. The room was updated with a very large flat screen TV in the living room and even a small TV in the bathroom mirror! Check-in was very quick and easy and all of the staff were extremely friendly. The hotel wasn't stuffy or uppity like other hotels we have been to on the Vegas Strip. The grounds were superbly kept and extremely peaceful at night.   We ate at the various places in the hotel several times and were pleased with each experience. Margaritaville had a great atmosphere and great service. We ordered room service for breakfast and the french toast was amazing!   My husband and I plan to return to Vegas this year and will be staying at the Flamingo again. You just can't beat the price and location!\", 'The Melia hotel in Atlanta was exceptionally nice. The room was very clean and the bed was comfortable. They have a nice bar and grill inside the hotel that was very lively. I enjoyed the overall atmosphere and it was walking distance to the Georgia Aquarium and the Coke building. The price was reasonable considering the location. My room rate including a great breakfast buffet. I was with my daughter visiting the Georgia Aquarium and considering I did not have to spend money on a taxi or buy breakfast, I figured I saved at least $50 each day or $100 total. I would stay again.', \"We went to Sycuan as a birthday trip for my husband. Even though the hotel and casino are seperate it was nice because it may the environment at the resort a lot more peaceful. When I made my reservation online, I ordered a dessert tray to be delivered to our room as a surpise for my husband. We were only in the room for 5 or 10 minutes when there was a knock on our door from room service delivering our treats. The dessert tray was amazing! We not only had chcoclate dipped strawberries and fresh baked cookies, but also a GIANT piece of triple chocolate cake. We almost didn't make it to the casino because we almost slipped into a food coma from all the sweets. What also made our stay really nice was the fact that they had free transportation to and from the casino. You could call from your room, and be picked up outside of your room to be driven to the casino. The bus runs 24 hours so it didn't matter if we went late at night or in the middle of the day. The drive is only 5 minutes and they drop you off right in front of the casino. After being in the casino we got picked up and driven back to our room. We had such a great night's sleep and there was no rush to check-out on time.  I would recommend this to anyone who wants the comfort of a resort with the entertainment of a casino. I will definately go back again.\", \"This hotel is conveniently located just blocks from the world-famous Waikiki beach. The room price was very reasonable, and the hotel had a lot of great amenities, such as a pool, hot tub, bar, restaurant, and gift shop. The room was quite comfortable with a great view of the city, although I know that for a little more money nightly, the hotel also provides rooms that have an ocean view. The room was secure. It had a nice bathroom with a hair dryer. It also had a closet with hangers, and an ironing board and iron. There was a fairly large safe in the room where I could store important belongings while I was out, just for added security. There was a television, a refrigerator, and a coffee pot. There was also internet for a small daily fee. The hotel is not only located close to the beach, but also to a lot of shops and restaurants. It is right on the bus line, so it is very easy to just walk outside the hotel and catch a bus to virtually anywhere on the island, including the Manoa neighborhood, the zoo, or even to Hanauma Bay, which is about an hour's drive away from the Waikiki area. Furthermore, I really liked the hotel lobby--it is a nice open air lobby with tables to sit at and have breakfast. There is a lovely fountain and koi pond. I would definitely recommend this hotel to anyone who is on a budget, but would like to experience Hawaii nonetheless.\", 'This hotel was incredible. I stayed at the Holiday Inn in Binghamton, NY. The room was a perfect size, they had a mini fridge in the room which was a definite plus. The beds were comfortable and they even had soft and firm pillows! I would rate this 4/5. They were clean, and the staff was respectful. The services were perfect.', 'This hotel was very accommodating to our needs. It provided a comfortable queen sized bed and a pull-out couch for our daughter to sleep in. The continental breakfast was simple but just enough for our taste. It saved us the trouble of having to pay for breakfast somewhere else. The workout area was nice, as was the pool. Overall, we had a very good experience staying in this hotel.', \"I recently stayed at the Marriott Beachside Hotel in Key West, the one right off the roadway when you first get into town. It was pure luxury, and has its own private beach, with small boat rentals right there on the property. They have private cabana rentals and a poolside tiki bar. The restaurant is amazing and you can watch the chefs preparing everything right there from your table. It's a little ways from the main action in Key West, but they provide a free shuttle that runs every few minutes and drops you off right on the main strip, in front of the Jimmy Buffet Margaritaville restaurant. It's much quieter to stay off the main strip, and you don't have to worry about parking or driving if you've been partying. And who doesn't party when they go to Key West??\", \"I've stayed at the 16th Street Mall Westin more than 60 nights in the past four years, on a combined business/personal trips. The staff and management of the hotel have always been friendly and guest driven in their service.   Love the hotel's location. In fact the reason I first stayed at the hotel is the fact it's on the 16th Street Mall and within walking distance of our corporate office. In fact after the first trip I stopped renting a car, there just was no need for one. The view of the mountains from the upper floors is breathtaking. The king sized bed has always been world class, as they are in every Westin I've stayed at.  The room comfort and staff friendliness are the reason I stay at this hotel every trip to Denver.\", 'On a cross-country trip, hubby and I decided to stop overnight at this hotel. Upon entering, we were warmly greeted by the front desk and check-in was prompt and quick.  We went to our economy room and quickly found the bathroom facilities were not in working order. The front desk promptly upgraded our room for no charge (although there were many economy rooms still available). After a quick room change we went to check out the pool and hot tub area. The area was clean and well stocked with chairs and towels (and as a bonus, we were the only ones there). The pool was cool and clear, and the hot tup warm. After a quick dip we headed back to our room to enjoy the king size bed, huge flat screen TV, and premium cable. Our stay was very comfortable and no complaints about bed, bedding, or showering facilities.  The continental breakfast was superb. There was fresh fruit, cereal, eggs, and make-your-own waffles. We left filling full, refreshed, and ready for the last leg of our trip. I would recommended this hotel for anyone looking for a nicer hotel on your weekend trip.', \"The Polynesian Resort Hotel is an absolutely gorgeous hotel. We had a fabulous time. We especially enjoyed the look and feel of the Polynesian. You feel like you're in the islands.   The service was terrific and the food at the restaurants was very good. There are also great shops inside for shopping.   It's convenient to the parks and you can go to the other hotels in the area.   I would definitely recommend it and we are going back really soon.  Keep up the good work!!!!\", \"I stayed here while attending a SHPE conference in Washington. The accommodations were very nice, the beds were comfortable, the walls were thick, the bathroom was of decent size - I absolutely loved the hotel. The staff was absolutely amazing and very hospitable- they went out of their way to make sure we felt welcome and enjoyed our stay during the event. One of my favorite parts of the hotel was the lobby, simply because it was large, but you couldn't get lost in it. There was always someone there to assist you with exceptional customer service skills. Everyone was very friendly during the stay.  I would recommend this hotel to anyone, and while some hesitate because of the price, it is really one of the best hotels to stay at in Washington in order to make the stay comfortable and positively memorable.\", 'The Southernmost Hotel in Key West is absolutely amazing. The location is beautiful, right on the beach with an extremely accessible and clean pool. The rooms were fully updated and featured a beautiful Key West/Island decor. The staff was very friendly and accommodating. They answered all of our questions about Key West thoroughly and offered great recommendations. They even upgraded us to a nicer room upon arrival. The price was not exorbitant. The location was within walking distance to all the attractions on Duval.', \"We love staying at the Hyatt! We have two little kids, so having an extra sitting room makes our time here so much more pleasant. The boys need to sleep earlier than we do, so we have the freedom here of putting them to bed without having to sit around in the dark waiting for them to fall asleep. We've stayed several times, and have yet to have a dirty room.\", 'Recently I traveled to Phenix City, Alabama to visit my brother who is in the army and stationed in Fort Benning, Georgia. The trip was lengthy and by the time I arrived in Phenix City I was absolutely worn out. I decided to check in at the Quality Inn. I ended up staying there for three nights and enjoyed everything about it. They had the absolute best hot continental breakfast that I have ever had at a hotel and my suite was always clean and stocked with fresh blankets and towels. If I had the opportunity, I would definitely stay there again.', 'This was a really great hotel to stay at. It has a great location close to Lansing attractions including the Lansing Center, the Breslin, and downtown. In addition to the convenient location, it is also modern and updated and the hotel was clean throughout. The room was very comfortable and cleanliness was not an issue at all. The staff were friendly and helpful and the continental breakfast was a great bonus.', \"Our family of 4 recently stayed at the International Palms Resort in Cocoa Beach Florida. This is an excellent resort for families with young children. The rooms are accommodating with a large bed and a pullout couch. The kitchenette was also convenient because we could eat breakfast and lunch in our room and only had to buy one meal per day out. We also really liked the on site restaurant on the beach. It was close and the food was good. It also had an upper deck with a full view of the beach. The pool area is absolutely wonderful. There is a large pool for the adults and the children's pool has a pirate ship complete with water cannons and slides. Our stay was very enjoyable and we will be visiting again.\", \"My husband and I stayed at the Marriott Fairfield Inn and Suites in downtown Louisville, Kentucky a few weekends ago. The hotel was conveniently located right off I-65 and the hotel provided adequate parking. We arrived before check-in but our room was ready for us. Room decor is modern and colorful and I liked that the bath and lavatory were separate. The hotel was quiet and clean and the complimentary breakfast was one of the best I've had at a hotel -- fresh fruit, homemade waffles, bacon and eggs, etc, etc. Would definitely stay again if travelling to the area.\", \"The Sheraton was divine. It had a trendy decor, great staff, and pleasant atmosphere. It was a bit pricey but it was also very worth it. I didn't have any issues with the staff. They were all very helpful and well trained. My room was like a gateway to heaven. The beds were soft, it was like sleeping on air. The bathroom was built with relaxation in mind. The dining was impeccable. The pool was another get away on its own. They even had a spa. This place exceeded all of my expectations. I couldn't have asked for a better stay.\", \"The Riviera Hotel in Las Vegas is a great place to stay if you're looking for a place to unwind after a your wild nights in Vegas. Upon arriving the first thing you'll notice is there is plenty of easily accessible parking, that won't have you walking too far to get to your room. You'll enter and notice a large lobby with good abeyance and quick service. The food offered inside the hotel is great. The food court offers cuisine from all over the world, for cheap and affordable prices. The Indian food was AWESOME, quick and cheap compared to most of the prices you'll be looking at in Vegas. When I entered my room I was stunned by the size. For the $30 a night rate, I was not expecting a large comfortable room! The bathroom was more comfortable than being home. When do you ever get that? The staff at the Riviera was all sorts of friendly, even helping us find our way around the strip and letting us know some fun places to go that our 20 year old friends, and of-drinking-age friends could all have a blast. Next time I'm in Vegas, I'm booking my room at the Riviera.\", 'The Residence Inn Marriott was a fantastic hotel that I have stayed in many times. The staff is extremely friendly and always remember who I am since I travel quite often to this hotel.   The rooms are more than spacious as they boast a full kitchen, full sized couch, flat screen TV, a small dining table and a desk to do work on.   Also, a few nights a week they have free food and drinks on their first floor which is very delightful.  I would recommend this hotel to anyone.', 'We stayed here this winter and absolutely LOVED our stay! The service was impeccable and the charm of the hotel was perfect. When we checked in, we were created with frosty glasses of water and were taken to a beautifully appointed guest room. We enjoyed riding bikes around the resort and looking at the beautiful ruins, as well as lounging by the pool with drinks for the fun cocktail bar. The food at each of the hotel restaurants was delicious! We could not have had a better stay and will definitely be returning!!', 'The Place Inn in Oxnard, CA is a perfect place to stay if you are traveling up the coast of California. The rates range form $25 to $40 a night. Each room has a microwave and a fridge so you can keep all the snacks you want right in your room. The twon of Oxnard is quiet and scenic so you can relax all of your vacation. Some of the rooms also have a large spa that you can relax in. The staff is helpful and room service is always on time.', 'The Red Roof Inn was an excellent place to stay when i was needing to stay within a budget. The rooms were clean and the bathrooms had enough towels. The reservations clerk was professional. This hotel had a pool that was clean and well kept. The continental breakfast was good and fresh. There was plenty of parking. I felt safe staying there for the night and felt that i had enough privacy.', \"Hotel Penn is in a great location and at a cheap price. For less than most other hotels in NY, you get to stay in the heart of the city write across from Penn Station/MSG and a few blocks away from Times Square, Macy's, and many subway stops. The rooms aren't too small, and our room even had a view of the Empire State Building! The hotel is also surrounded by tons of cheap restaurants, and it is perfect for a tourist!\", \"In 2010 my girlfriend and I decided to take a trip Puerto Rico as a reward to ourselves for graduating college. During the time, we were looking for vacation spots, we went on a website that offered great vacation packages. One of the packages included the Wyndham Rio Mar. My girlfrind and I immediately paid for this four night (air fair inclusive) trip. We originally did not know what to expect as the reviews for the hotel were good and bad. But this wasn't a deal breaker. Upon arrival to the Wyndham Rio Mar, we were impressed with the service, up-keep, and views from the hotel. The reviews certainly did not justice for the expereince we were about to have. The hotel was in an excellent location on th beach. We were within a mile of snorkling, horesback riding, and mountain climbing. We also wanted to travel into the city which they offered a shuttle and it was only a few miles away. The hotel also had four different restaurants within the hotle and a conference area. Overall the food was also great. The only drwaback was that is wasn't all-inclusive (Bummer). But all in all, this was an amazing experience.\", 'This hotel is very affordable when my family takes trips to Lake Mead. You can find affordable rooms all year long and it is a very short drive to the lake and to the Hoover Dam. There is a gas station across the street and a casino, bar, buffet, and restaurant downstairs. They also have ice machines that are conveniently located, a game room for the kids and a decent sized pool and jacuzzi. They also have car spots that are ideal for those parking their cars with trailers. They have a small theatre where they show movies at a low price. The customer service is great. When we had an issue with a barking dog next door, we were bumped up to a mini suite in the small tower. It was great! I definitely recommend this hotel to anyone visiting Lake Mead.', \"I decided to stay at the Japan House Suites thinking that it would be just like any other motel and for the amazing rate I figured the rooms wouldn't be all that great. But, boy was I WRONG. The owners were very nice, helpful, and have AMAZING customer service. The rooms were spacious, clean, and comfortable. And in the morning they make a made to order breakfast, which steak and eggs is one of the items on the menu. I couldn't believe this great hotel that i found especially for such a bargain!\", \"The Wynn hotel was one of the grandest hotels I've ever had the pleasure to stay in. The shopping is truly the best of all the hotels on the strip! The rooms were ample in size and very modern in the decor. It was five star all the way! My husband loved the sports book and said it was the best of all he has been to. He should know he has been coming to Vegas since the '72. The night life there was fantastic. Surrender is now one of my alltime fav clubs to go to. Let me mention the view was incredible from our rooms. The water falls were beautiful too! I LOVE THE WYNN\", \"The Naples Grande Beach Resort by Waldorf Astoria is a fabulous hotel located in the pristine beaches of Florida's Gulf Coast. This wonderful property features an unparalleled location overlooking the ocean while sipping a drink from your room's balcony. Helpful staff and high standards of service and cleanliness make it a great place to relax for a few days. If you are traveling with your family, Naples Grande features many amenities for kids, including a very entertaining pool complete with water slides and water activities. A second pool is available for those who wish a more quiet atmosphere while still enjoying pool-side service.   Located just a few minutes from downtown Naples, you can always venture out for dinner in town, or for some shopping. However, if you just want to get away you can park your car and forget about it until it is time to venture back to reality! Everything you may need is available at this fabulous hotel!\", \"Once you book a room at the Baltimore Hyatt Regency Hotel, you will get an instant feeling of being right at home. The hotel staff greets all of it's customers with warm smiles and candy. The hotel staff, upon request, can give you a tour of the room that you plan to book. Once you are in your hotel room, the rooms are emmaculate. Overlooking the Inner Harbor and all of it's attractions. I was able to visit the attractions, have dinner in the hotel's dining room, and kick back and enjoy the room.\", \"This should definitely be one of your first choices for a place to stay on any trip to Montreal, but especially if you are visiting for pleasure. It offers a bargain price for elegant, comfortable accommodations and an authentically high-class experience - the staff is great and friendly, and will make you feel like (whether you are or not) a celebrity. Also, its downtown location is quite convenient. Overall, one of the best values you'll find.\", \"I'm a frequent traveler to Japan, and of all the hotels I've stayed in, my favorite, by far, has been the Park Hotel Tokyo. The hotel is located in the skyscraper district of Shiodome and lies within walking distance of the Ginza shopping district and the famous Tsukiji fish auction, a popular tourist attraction.  The Park Hotel Tokyo's service is excellent and the English-speaking staff are helpful and friendly. The rooms, though a bit small, as is common in Japanese hotels, are clean and have a stylish, modern appeal.  The lobby, which is on the 25th floor of the Shiodome Media Tower, has a beautiful view of the Tokyo Tower and there are often soft Jazz concerts in the evenings, giving the hotel a quiet, calm elegance. In the mornings, the lobby is bustling with patrons enjoying the excellent breakfast buffet. The buffet is not included in the room price, but I was fortunate enough to receive coupons on a couple of visits, and the food was excellent.  And when you're not relaxing in the lobby or enjoying your quiet room, the Park Hotel Tokyo is also within walking distance to several excellent restaurants and there is a Starbucks Coffee located in the basement of the adjacent building, along with a convenience store for late-night snacks or drinks.  The Shiodome area is primarily a business district, so unlike other popular Tokyo hotels, the Park Hotel Tokyo's surrounding areas are quiet on the weekends and evenings, though the hustle and bustle of the morning work rush can be daunting. That it's also a business district, however, means that it's a great hub for traveling, with many Tokyo Metro subway lines running through the area, as well the JR Shimbashi train station, leaving travelers a lot of options to get around.  Also, Shimbashi station is centrally located station, just a few stops from the main Tokyo station, Akihabara, the electronics district, and popular tourist destinations like Harajuku, Shinjuku, and Ueno.  Taking convenience, location, and atmosphere into location, the Park Hotel Tokyo has been and will likely remain my favorite hotel when visiting Tokyo.\", \"This hotel was surprisingly well maintained and nice for the price. I found the room to be very clean and the bed was confortable. The wireless was lacking but data center in the lobby was such that I could work and not be distracted. I enjoyed the food in the restaurant and the bar. The staff was very pleasant and the night auditor was very helpful straightening out a problem with my bill. I'd defintely stay there again if I'm ever back in Dallas and would recommend to friends visiting the area.\", \"I recently went to the Aulani Resort and Spa for a staycation for 3 days. Our party consisted of 3 females and 3 males all between the ages of 25 and 30 and we all found the hotel a great place to spend a few days to relax and be a kid again. We had breakfast with Hawaiian themed Disney characters such as Goofy, Mickey, and Minnie which was fun. Playing in the large pool and relaxing in the man-made creek was a great place to be. 3 in our party went to the spa and all came back relaxed and refreshed while my girlfriend, her friend and I went to play on the water slides and generally have a good time. The setting of the hotel is beautiful beside a salt water lagoon. The night before we left we had a delicious dinner at the Ama'ama restaurant. It was sad to get back to reality once we finished.\", \"I was very impressed with the hotel. The exterior of the hotel was one thing, which is simply marvelous, but it was probably the roomiest hotel in the Concord, NH area. It is close to my brother's school, had excellent service and pretty nifty free toiletry, nice bathrooms, free internet connection and more. The attendants were very attentive, and I would love to stay there again if not for the price.\", 'My stay at the Embassy Suites Hotel in Minneapolis, MN was an enjoyable experience that was enhanced by the many upscale benefits provided by the hotel. The highlight of these was the complimentary hot breakfast served in the morning. In addition to the normal breakfast components such as fresh fruit, cereal, assorted pastries, and the other usual suspects, Embassy Suits offers a cooked-to-order grill, where you can request pancakes, bacon, sausage, and their famous omelets. It was delicious!  The main reception area off of the lobby is gorgeous, with flowing water and plants creating a peaceful atmosphere that is a great place to sit down and relax, or chat with friends. I also appreciated the clean room (with comfy beds) that had both a sleeping area, and a separate living room space. Capping it all off, the hotel is right next to the Mall of America and 10 minute away from the Minneapolis airport.', \"This hotel was fantastic, everything about it was simply amazing. Not only that, but on my first attempt to find the place, my GPS took me to the wrong location (another Hyatt Place) and even THAT location was clean, and had nice attendants who promptly directed me to the other location.  The price and amenities are simply unbeatable. Due to extending my stay, I had to switch hotels, and let me say, this hotel offered twice the value at half the cost. When you enter, the room is split into multiple rooms, the TV is huge and HD, the WiFi is free, and the beds are so comfortable. Downstairs, they have a 24/7 desert bar, you simply walk down, tell them what you want, and they add it to your tab (they don't even ask for your room number, they remember it!). So convenient and amazing. When you show up, they even offer you a personalized tour!  And when you wake up, stop by the breakfast. Their biscuits and gravy are to die for.\", 'I have no complaints and I’m a picky hotel guest. The room was clean, the sheets were not old, and the bathroom was spotless. Everything worked properly which made for a great experience while getting ready for an interview. The front desk staff was more the helpful. They gave us advice on where to eat, information on the city, and the place I was interviewing at. The continental breakfast had lots of unique options; it went beyond the average spread at a hotel. I’m impressed.', 'Thsi is the mose beautiful place I have ever stayed. A very small 40 room French style hotel. The staff is exceptional and the beach is the best in all of Jamaica.  Very clean and the rooms are great. Clive the beach security is the best ever in keeping all the venodors away from you so you can relax', \"From the moment you walk in, you know the experience at the Westin is going to be a fantastic one. The staff behind the counter are friendly and the bellhop will take your bags to your room while you check in. Everyone is dressed nicely and act very professionally; something you expect from such a high quality hotel. The rooms are large with nice flat-screen televisions to watch while you're laying on a goose feather down comforter. The bathroom is equally as impressive with marble floors, a large back lit mirror and a walk in shower that has stone tile! The in house restaurant has a variety of delicious menu options to eat while you look out over the pool deck. Valet parking is available as well and can be called from your room so you don't have to wait! I loved this hotel and would recommend it to anyone seeking luxury and comfort during their stay.\", 'I stayed at the Red Lion in Anehiem, CA. It was within walking distance of Disneyland, which was great. The interior of the hotel was beautiful. The marble floors in the lobby were goreous. The room was tastefully decorated, with a beautiful bathroom. The bed was very comfortable and the bedding was clean. The housekeeping was great. I also loved the great HD TV available in the room. I would stay again!', 'My wife and I spent our honeymoon at Sandals Grande St. Lucian and absolutely fell in love the place. Our room was very spacious and had a nice flat screen TV. There was also three different pools to choose from. The main pool even had a swim up bar. Even better yet, the beach was amazing. This was true a true paradise.', 'When my family and I were on college visiting trips, this is one of the hotels we unfortunately stayed in. First off, the hotel was no where near the University campus, even though it was construed on the website that they were within walking distance. Note: I contacted their corporate offices and they have since taken this fact out of the hotels description.  The room was not no terribly spacious and the decor / ambiance of the room was very dated; think old floral paintings and an outdated lead-screen TV.  And it smelled! Oh dear god did it smell bad in that room. At one point, our family actually had to switch rooms entirely just to avoid the odor emanating from the bowels of Hell itself.  Would I ever go back to this hotel? Absolutely not.', 'I live in Houston and I usually stay at the Galvez Hotel on Galveston Island at least one or two times a year, as I live in Houston, which is about an hour away in good traffic. I like to go down there as a quick weekend getaway, to relax and unwind. They have a bed and breakfast deal that suits my needs perfectly. I’ve always liked their historical ambience, and they’ve updated the décor in recent times which makes it an even more attractive place. The staff is always pleasant and the rooms are always clean, peaceful and quiet, which are all major attractions for me. The hotel is supposed to be haunted, and I would love to see a ghost, but to date, I have never had so much as one paranormal experience. Despite my lack of ghostly encounters, I still love staying at the hotel because of its historic ambience, tranquility and beachfront location. One of my more pleasant memories of the Galvez is standing on the beach there at dawn, with coffee in hand and watching the sun come up over the ocean. The hotel is close to several of Galveston’s attractions that I like to visit. I come down to eat at nearby Pier 21 and have one of their shrimp poor boys, go shopping on the Strand and visit Moody gardens, which has a great saltwater aquarium and a wonderful rainforest pyramid, loaded with tropical birds and butterflies. If you want a loud, crazy place, then fly to Las Vegas, but if you need to relax and unwind, stay at the Hotel Galvez on Galveston Island.', \"The W Hotel in San Francisco, is conveniently located close to the Mascone Convention center and a couple blocks from San Francisco's shopping district - Union Square. The very chic and trendy hotel is well furnished, full of amenities like a gym and indoor pool, and the service is top notch. The rooms are very modern and there are several bars located within the building. The staff are extremely knowledgeable and will help guide if the most knowledgeable guest. I had the privilege to spend a weekend here and I won't hesitate to do it again next time I'm in the area. The hotel is also a stone's throw away from the SFMOMA - San Francisco museum of modern art for the art lovers out there.\", \"I loved the time I spent at the Luxor. It combined an elegant design with an amazing staff. We stayed near the very top of the pyramid, and the view of the city was simply breathtaking. Even something as simple as using the elevator was a fun experience. Instead of simply going up and down, it's structured to take the unique slant of the hotel into consideration.\", 'I loved the experience I had at this hotel/resort. The hotel was clean and organized. The heated pool was very nice when it was late and a little windy. The restaurant food was very delicious and fresh. The variety of food in the restaurant amazing. They had many typical Mexican dishes that were amazing. The beach was crystal clear and the sand was clean. I did not have to fear of getting cut or hurting my feet.', \"This is easily Seattle's most elegant hotel. The Fireside Room, a stunning, wood-paneled lounge on the first floor of the building, is in itself worth a visit. With frequent live jazz performances and cocktails, it transports you to a bygone era. The rooms themselves, though on the small side, are dripping with atmosphere. The furnishings are elegant, the walls accented with wonderful period details, and the bookcase (filled with real books) is a wonderful touch. Everything, from the bathrooms to the linens, has a wonderful, lived-in feel. And best of all, the hotel is only a few blocks from downtown! The location is especially ideal for those doing business at the conference center, which is only a short walk away. If you want a homey, refined atmosphere, The Sorrento can't be beat.\", \"On my last vacation, I decided I wanted to go to a place that was quaint and quiet, but still had a suitable level of culture to partake in. This place turned out to be Charleston, SC. After doing research on hotels in the area, I decided on the Planters Inn on Market Street, a quite luxurious hotel for the area featuring a 4-star dining experience. Upon reaching the hotel the staff was friendly and greeted me warmly. Check-in was a breeze and soon I was off to my king room accommodations. Outside the room was a little round, iron-wrought table set for two overlooking the courtyard. The tall white columns were freshly washed and looked new and fresh plants were out. (The weather was a bit dreary the entire time, so I didn't get to enjoy that feature of the hotel very much.) Once inside with my luggage, the first thing I noticed was a card with my name on it and a teddy bear in the middle of my ginormous bed. The card welcomed me and the bear ultimately became a keepsake for my nephew. The bedroom was beautiful, and the bathroom was just as nice. The first thing I did was take a nice long, hot bath in the jacuzzi. It was the perfect way to unwind after my drive from Atlanta where I'd just barely fled some unseasonable snow. After the bath, I ordered the duck from the 4-star Peninsula Grill and a glass of champagne. It was my first vacation in almost a decade and I planned to live it up! My stay lasted a week, and all in all, each day was the a slightly different rendition of the first. Between sightseeing, visiting shops for gifts and keepsakes, and hitting up a few bead shops for my jewelry line on Etsy, I got to relax in some of the most luxurious accommodations I have ever had the pleasure of partaking in. The staff, from the front desk to the housekeepers, were all friendly and quick to answer any request. (Once I saw a bellman delivering chocolate covered strawberries that were not on the menu, he made sure I got some too!) It was a fabulous hotel and a place I plan to visit again in the future. Thanks Planters Inn!\", 'I had one of my best hotel experiences in this establishment. This hotel is located right on the beach, had plenty of amenities and the people (both guests and employees) were full of energy and really made me feel both welcome and happy.', \"America's Best Value Inn - Golden Gate is just that, a great value near Golden Gate Bridge. The hotel was located near several different bus stop lines, which made travel around the city very simple. The Golden Gate Bridge was about a ten minute ride away. As for the hotel itself, the staff was very friendly, they held our bags for us when we got there earlier then expected and also let us check in about two hours early after that. The room we booked was a King Suite and the size was great for only $50something per night. We joined their free discount club before we went, so the room was a great deal. The shower had plenty of hot water and the bathroom was clean. We had never been to San Francisco before and so we didn't spend too much time in the hotel but it was clean, the bed was large and comfortable and the staff was great. We plan on staying with them next time we travel to SF.\", 'The Pearl River Hilton offers an incredibly upscale experience. The hotel boasts 17 acres of extraordinary landscape, a full pool, and a gourmet restaurant on premise. The staff is extremely friendly, and the rooms are very comfortable - all with a great view! Additionally, there are many conference and event rooms in a separate wing available for your next special event.', \"Indian Hills Inn Taos Plaza is a great place to stay, especially for the price. We were in the middle of everything -- the shops, the restaurants -- and could pretty much walk everywhere. The parking was great, even though our stay was during Spring Break. The room was clean, and the beds were very comfortable. We'll book again the next time we're in Taos.\", \"I like the motel 6, it was very affordable for what it was. Didn't have a bad odor like most motels. Pretty clean rooms.They are pet friendly so I didn't have to pay extra for my dog. Which is a money saver. I like the pool in the middle of the property where you can see rooms from pool.\", \"Recently, I stayed in Las Vegas at the Motel 6 Tropicana. I loved this Motel 6. It was newly remodeled, and they allow pets. I travel with my dogs, so being able to bring them in is a plus. The newly remodeled room was very pleasant. I stayed in a non smoking room. It was very clean. The bathroom was spacious! The room was decorated in bright colored paint, and had a flat panel TV. The Motel 6 Tropicana, is located two blocks from the Strip. It made walking to the Strip a breeze. The staff was very helpful in finding a room on the first floor of the two story hotel. I also travel with small children, and needed to be able to access the room without the hassel of stairs. I'm planning another trip to Las Vegas in the very near future. I've already booked a room at the Motel 6 Tropicana.\", \"I mistakenly thought that since my multiple stays at other Marriott locations were excellent and clean that this location would be as well. Man was I wrong. This place is terrible. The room was very dirty and there were dead bugs everywhere. The room smelled horrible. I couldn't get the room windows open enough to help remove the smell. It took a while to find this place with all the construction in the area and the awkward road design in the area. I will never stay here again!\", \"We got stuck in Orlando Florida and the airline put us up in a Best Western. By the time we got to the hotel it was 2am, we were tired and cranky, and the male receptionist had sharpened his teeth and finger nails into a point -- very creepy. We we got to the room it appeared to not have been cleaned at all. The carpet was wet from the air conditioner to the front of the nearest bed, the lamp shades were bent/faded and there were used test strips on the desk -- looked like it was missed simply because the test strip was the same color of the desk. I took pictures and intended on e-mailing them and a complaint to the corporate office, but never got around to it. To make matters worse, we put the do not disturb sign on the door and the hotel staff knocked on the door at 9am, 10am and 11am wanting to clean the room --- our check out time wasn't until noon. I opened the door and gave a scolding look and said they were too late for cleaning.\", \"The rooms were small, the size or a jail cell or so. Televisions were small and dated. Outside of the motel was not pleasant, very dirty with garbage everywhere. The microwaves were dirty inside when I made a quick snack at night. Also the owner was quite questionable, as we're the other residents. Very run down motel.. My husband and I also woke up in the middle of the night itching, we pulled up the sheets and found bed bugs. We' then packed our stuff and left. I would NEVER EVER recommend anybody stay at this motel. When we approached the owners about the bugs, all they said was  we know, we are trying to get rid of them. They shoud be reported to the health inspector.\", 'This Hotel is filthy, bedbugs, dirt, mold, the bedding looked dirty. There is only one person that runs the front desk and he is old and does not speak english. I could not get a refund for my stay and I wanted to get out of this place as soon as I walked into the room. There are obvious drug users and other illegal activity on the premises. I would never stay here again. The front desk operator is rude and the place is not worth what I paid for it. If I wanted to pay for bedbugs and filth I wouldnt have had a problem with the place. They alley would have been cleaner and probably safer. STAY AWAY!!!!', \"We stayed at the sandcastle resort/hotel in virginia beach for three days. Our experience was less than enjoyable. To start off when we arrived to check in, they could not find our reservation and the staff that was working there was extremely rude. They were confident that there was no reservation under our name so i went through my emails and showed them the one i received from them almost a month earlier. Finally after about 20 minutes we received our keys and headed to our room. When we got to our floor they were doing construction in our hallway and being very noisy. I went back to the front desk and requested that we be moved to another floor where there was no construction going on. they advised me they had no other rooms available but assured us that the construction would be done before 4pm. After going back to our room we found the room very dirty and run down. Paint was peeling from the ceiling and there were a lot of stains in the carpet. At this pint i decided not to make a big deal out of it until after we came back from dinner. We returned to the hotel just after 7pm and they were still doing construction on our floor. I wouldnt have minded the construction if it wasn't for the fact that they were very loud and drilling and cutting things with saws. I returned to the front desk again and requested to speak to a manager. After waiting for almost 15 minutes the manager finally arrived. We asked to be moved to a different room again and the manager finally agreed to move us to a suite for the same price we paid for our room. When we got to our room we found that is hasn't even been cleaned yet. The bed sheets were on the floor and there was trash everywhere. Apparently house keeping hasn't cleaned the room yet even though by now it was almost 8pm. At this point i was pretty upset and started to call surrounding hotels. we finally found another hotel that had a room available about a mile down the street. We went back to the front desk and spoke to the manager again. We requested a refund and the manager oked it. This was the worst experience ive ever had at any hotel, and to find out they still haven't refunded or 3 days to my credit card. I've been on the phone several times but have yet to hear back from the manager about the refund. I would not recommend this hotel to anyone and am very unhappy with the way we were treated.\", 'Hotel prices were below others of similar ratings in the area. This should have been my warning. Not knowing the area, I later found that the hotel was situated in the tenerloin district of San Francisco. The rooms were small and poorly designed, the hotel had no amenities, and local calls cost to make. A poor choice all the way around.', \"The Super 8 was one of the worst properties that I have ever stayed at, it was dirty, out of dated and the staff was rude. The carpeting in my room was ripped and stained. In the bathroom the shower was moldy and the fixtures were chipped. The wifi was operating at just above phone dial-up speed. My TV didn't work at all.This room was not worth the rack rate, or even 50% of the rack rate.\", \"The rooms were very old and dated. It looks like nothing has been replaced since the 70's or something. Our room had moldy patches on the carpet near the jacuzzi, and areas where the paint/wallpaper were rubbed off or peeling on the corners of the room. The room had a really weird smell to it as well. There was even trash in the garbage can when we checked into the room, so that was gross. And the housekeepers were loud in the morning and were swearing in the hallway. Definitely not worth our time or money. We won't be going back.\", \"This hotel is located at a busy traffic circle near the interstate. It isn't walking distance to downtown. The hotel restaurant was average. My wife complained about the quality of the sheets; they were pretty rough.\", 'Do not stay at the Days Inn. First, when we got to the front counter and rang the bell, it took TEN minutes for someone to finally approach us. The young woman who did was more interested in her phone than in talking to us. Once we got our keycard we found our room and expected to at least have something average there. Wrong! The bedsheets and everything were everywhere. Also, there was trash in the cans and on the counter. The room also smelled like cigarette smoke. We will never be staying here again.', \"I was very displeased with my two-night stay at Doubletree in Savannah. It must have been off-season, because the hotel was nearly empty, and that apparently meant there wasn't enough staff to do anything. On Day Two of my stay, my room was still not cleaned by 12:30 p.m., which I found out after stopping back at the hotel to change clothes after spending the morning in town. I made a call to housekeeping at that time, then left the hotel to meet folks for lunch. When I returned about 3:00 p.m., my room was still not cleaned, and I had to call housekeeping again. I again left to walk through the historic district nearby. When I returned at 5:30, I again had to call housekeeping - this time I told them I would wait right there until someone finally came to time how long it took. About 15 minutes later, someone finally came to clean the room. Later that night - that maid had the audacity to knock at the door to ask for a bigger tip. When I checked out the next day, I tipped the valet - who came back a few minutes later on foot. She couldn't move my car because it's a standard transmission, she said, so I'd have to get it myself. She then gave me the keys and walked away - my original tip still in her hand.\", 'Super 8 was a hotel I recently stayed at due to lack of other options. As far as hotels go, they were untidy, service was slow and the overall experience was horrible. The room I got has bed sheets strewn all over the place, and no room keeping person had bothered to clean the room after the previous person had left. The service was slow and it took an unreasonable amount of time to get a simple makeshift bed brought to our room. Overall, a horrible experience that was a waste of money.', \"I think I overpaid for a room at this hotel. Compared to the other hotels I have stayed at, which have only been a handful, for the price of the room I expected the quality of the room to be much better. $40 or so would have been acceptable for the state of the room. It was pretty bare and looked, well, cheap really. The sheets were thin and the tv was small, so paying almost $100 for the room seemed like too much. The continental breakfast items were also bland and it seemed like there wasn't much thought put into the food, just quickly made and delivered.\", \"I stayed at this hotel when I was trekking across Pennsylvania to get to New York City the next day. I was extremely disappointed by my stay here! The staff ignored most of my questions and brushed those questions off of their shoulders like eh, it can wait. I was even more baffled with disgust when I entered my extremely stuffy room to find a TV that did not work, and a very low internet connection that I PAID to connect to! The meal was great though, room service was mediocre at best, and the bed was surprisingly very comfortable. This hotel was by far the worst I've ever stayed at, you can tell that these people were just in it for the money and had no people skills.\", 'This hotel smelled like smoke everywhere, not just on the smoking floors. There was also a mix-up about our reservations before we arrived, they got it worked out but it involved some inconvenience for us. The breakfast selections were paltry, just a few sad pastries and some fruit, not the full, hot breakfast we were led to believe we would have. Overall, this hotel was not the worst but it was just disappointing in many ways. Next time I find myself in Grand Junction, Colorado I will choose to stay somewhere else!', 'I was hoping to be able to spend my night somewhere nice for my birthday to get away but boy did I make a big mistake! The room was unclean and the beds unmade. When we went to the office to complain they did every little to apologize and made very little effort to fix the situation. Rude and unclean! I do not plan on returning during my next stay.', \"After a recent stay at the Luxor in Las Vegas, my husband and I have decided that we won't be going back or recommending the hotel. At check-in we were notified of a 15 dollar a day phone charge, we had no intention of using the phone but they told us this was a mandatory charge. We stayed in the pyramid and found it to be very outdated and kind of grubby. The hair dryer in the bathroom didn't work and it took over two hours and several phone calls to get a replacement. It was also noisy in this part of the hotel. The buffet was awful. We gave both breakfast and lunch a try. At breakfast, the coffee creamers on the table were spoiled. Gross.\", 'My stay at the Jameson Inn in Lafayette, LA was absolutely horrible. The room was dirty and antiquated. The walls must have been paper thin as I heard every other guest in the entire building. Additionally, guests were venturing in at all hours of the night and I was unable to sleep at all due to the noise. The staff was not friendly and refused to address any of my complaints. I would never stay here again.', 'We stayed at the Days in on 39th in Brooklyn for about 5 days in December. My daughter needed to find a place to live and register for school. This was the cheapest hotel we could find in Brooklyn. We thought it would be really bad but it was actually worse. There were bed bugs and we brought them home with us. eeeeeek! The staff were very helpful when we needed to get a cab. There was a free buffet breakfast. It was edible and the coffee was great. For the money it would have been fine but getting rid of the bed bugs was a nightmare.', 'I was in town for my friend’s wedding and stayed the weekend at this Days Inn. I have stayed in many Days Inn in the past, but this one was horrible. The room smelled like stale cigarettes and mildew. I had to buy some Lysol and spray it on every cover of the room and bed. I think something was biting in bed and when I pulled the sheet back. I saw dead insects under underneath the sheets I was laying on. The water ran slowly so it was hard to take a quick bath or brush my teeth. There were all kinds of huge spot on the carpet from old spills or leaks. When I complained to the front desk, he was not very helpful. The hotel was full and other hotels had no vacancies because it was “Bike Weekend”. I will never stay at this Days Inn again and will not recommend it to any of my friends. They have lost a customer for life.', 'After reading so many negative reviews of the Lafayette Hotel in San Diego, I felt like people must be just spoiled with modern hotel amenities and do not appreciate accommodations that are steeped in history. I was wrong. I am an optimist, and my positive thinking lasted all the way up the stairs and up to about 15 minutes after I got to the room. At first, the hotel lobby seemed dated and plain, but I felt that I could appreciate the character it had. Then we went up a staircase that was a little spooky, and finally, we got into our room. The carpet looked soiled, the bedspread seemed itchy, the bathroom was very dated, and the air conditioning was set into the window with a gap between the unit and the window itself. We had a child with us, and the windows came down so low, with no security gate or bars. The worst part was probably the lack of ventilation. It was summertime, and the air was stuffy in the room. Not at all the crisp, cool feel you look for during a summer getaway. We left the same day and found a room at the LaQuinta with a much better room and an even better rate.', \"We travel as a family to the Florida's Space Coast several times per year and stay in hotels for 3-4 days at a time. This year we visited Doubletree by Hilton in Melbourne FL during the holiday season. The hotel's website gave an appearance of being an upscale hotel on the beach. When we arrived the hotel was not what we expected. Parking was difficult. The hotel was under construction and we were constantly running into workers in the lobby and elevator. On our first night's stay I had to call the front desk several times because maintenance was still working on the room next to us after 9pm and there was constant hammering. The water for showers was lukewarm at best and the room was small for a suite. Also there was NO internet available for the hotel rooms so we had to go to the lobby every time we wanted to to a web search for restaurants, surf board rentals or other vacation necessities. The housekeeping staff ignored our request for clean towels even though we called the front desk several times and on the last day of our stay we were down to 1 hand towel for 4 people. I would never recommend this hotel because of the poor level of service and concern for the customer.\", 'Upon check in at the hotel the front desk person was very rude, and attenitive in the least. The room was dirty, and the jaccuzi was filthy and out dated.', \"Stay away from this hotel!!! My fiance and I ended up staying at a Motel 6 on vacation due to their popularity and decent reputation, and especially for the fair pricing, however, this experience was something that was almost enough to ruin our entire trip. The room had no working air conditioner, and it was summer!!! No matter how many times we informed the front desk, they didn't send out maintenance. The sheets had yellow stains, and the entire room smelled awful. The shower head had terrible water pressure, but, this again was something that was never fixed. Eventually we just ended up leaving the hotel and paying double price for a hotel of the same caliber. Absolutely awful experience.\", \"This is one of the worst places to stay. The hotel is next to railroad tracks, and the trains were running and blowing the horn day and night. When the train wasn't loud, the traffic on the busy street nearby was. The rooms were dirty and had some empty soda bottles in it. Our room was still not ready two hours after we were told it would be ready. We were so desperate to get in our room to change our clothes for a family reunion that we helped the maid make the bed. Do not stay here.\", 'Staff was very rude and unfriendly, made checking in to the hotel a pain. Breakfast in the mornings was cold and unenjoyable. Rooms were only mediocre.', \"I stayed at the Super 8 location in East Lansing, Michigan. It was cheap, but there's a good reason for that- the entire place is a wreck. The staircases up to the motel rooms were filthy, and some of the glass attached to the railing was broken. Once you got to the room, the carpets were discolored, and the room had a strange, pungent smell to it. I wouldn't stay there again.\", 'Well to start, there is mice the laundry room. The side balconies are very weak, made from debilitated wood that is almost 50 years old. The rooms are very drafty. The rooms come with television, that is choson by who is in the office at the time. They can change your programming right in the middle of your show! The rooms are badly painted, they are extremely little. They took the wifi extenders out, which makes internet very hard to get from this location. To be honest we HAVE to use the Ramadas internet to get internet connection. The whole back building is full of sex offenders. The sex offenders are made to work on the rest of the property throughout the day, which makes conditions for safety of kids very poor. That about does it.', \"I really wanted to like the Lemon tree Hotel. However- the king size bed was so hard, I didn't get any sleep for two nights (and I was 7 months pregnant at the time!). The futon in the kitchen/living room of our suite wasn't any better. When we told the front desk person, she looked irked.The fan in the bathroom was so loud, that we ended up not turning the light on (light and fan were connected) when we used the toilet or showered. Speaking of lights, they were so oddly placed and the light switches were not near the lights that they operated. The free breakfast was picked over by the time we got there at 8am both days, but they did restock the pastries and the coffee creamer (begrudgingly!), once they saw us standing there (or overheard us talking about going elsewhere).\", \"I have stayed at The Inn At The Convention Center for a total of one week on separate occasions. First, if you can get past the curt responses of the near inhuman clerks in the front office, you will make your way into one of the worst hotel experiences of your life. Taking a trip in the elevator feels as if it will be your last. It is squeaky, smells strongly of cleaning detergents, and runs slowly. Once you arrive on your floor, the smell of cleaning agents is even stronger than the smell of the elevator. It buries itself into one's pores and haunts your entire stay. As for the location, it's true that the Inn At The Convention Center is near major freeways and minutes from downtown, but the area it's located in is terrible, offering nothing in the way of good food or culture. It is a haven for young party animals, noise included. Additionally, the wi-fi is terrible, if and when it works at all.You would be better off saving your money for a different hotel in a different location. You won't be sorry you did.\", \"Located in downtown Jefferson, Texas, this Victorian style hotel is sure to please. With the Lamanche's Italian Restaurant found right beside this historical hotel, one doesn't need to go far to find comfort of mind or body. Each room hosts a cable television and personal baths, and the bedding is comfortable. Each piece of furniture within the rooms is maintained very well to further the Victorian feel.For any who are interested in the paranormal, and find themselves traveling to Jefferson for first hand accounts, they will find many a story of the odd visitations that others have had in certain rooms. Any who are less acceptable of paranormal activities can enjoy the calm and quiet of other well-decorated rooms. With a friendly, personable staff to complete a pleasant stay, one can't veer wrong by visiting the Jefferson Hotel.\", \"The Hotel was Horrible!!!! I mean it stank! I ordered a room with a Niagara Falls view, but I barely saw it. I guess the room itself was fine, but don't even get me started with the food. It was sick! I am a vegetarian and I prefer not to eat on the same plate as meat was served on, but they completely disrespected my beliefs!! You can make an obvious hint that bacon was served on it!!\", 'The hotel was pretty nice on the outside for the most part, but when we got to the hallway our room was on the wall paper was in the middle of being replaced so it was all torn down, the carpets were getting ripped up. If they were in the middle of renovations I wish they just put us in a different hallway, or at least given us a discount.', 'A family-oriented motel well off the beaten path. Most guest rooms are family units that can be separated into two sleeping areas - one with a queen bed, the other with two twins - by a tacky folding vinyl wall. Third floor accommodations feature wood-burning fireplaces with gas starters. All have ocean views and are equipped with direct-dial phones, mini-refrigerators, and coffee makers. Rooms are clean, but decor is minimal and desperately in need of refurbishing.', 'When I checked into the hotel, I was informed the elevator was not working. I had to truck up the stairs, with my luggage, by self. I was provided no help from the staff. The air conditioner was broken, which created a very stuffy room. When I took a shower, the stopper was stuck shut, so by the end of the shower, the water was almost overflowing.', \"I love San Francisco and any chance I get I love to take a trip there. The last time I chose to stay at The Argonaut as I had always heard good things about the hotel. Sadly, the good reviews were either grossly exaggerated or there has been some major changes to the way the hotel runs things lately. The hotel staff were rude, snobbish and always seemed to be busy with some other thing whenever I needed help. Given the price of the hotel, I expected five star service, but was treated like I was some duty and obligation they quickly wanted to get rid of. Overall, my experience at the hotel was so sub-par that I'll probably never return to the hotel, no matter how great a location on Fisherman's Wharf it is.\", \"Reminded me of a carnivalThe hotel was nice enough, but it's just crawling with people. It reminded me of a carnival--swarming with people everywhere like ants, and wherever you turn there's shops and shopkeepers trying to get you to spend money. The hotel is surrounded by shops, and as if that's not enough, Ala Moana shopping center is close by (more crowds and shops)! We checked out the famous Diamond Head beach which is close by and it was also just crowded with tourists.I felt so far removed from the actual natural beauty and charm of Hawaii and couldn't wait to get out of there! I ended up staying at a quiet B&B in Kailua instead--much more peaceful and beautiful.\", 'This hotel was one of the worst I have ever stayed in! When we arrived, the sheets were stained and smelled unclean. The bathroom had not been touched. There was no toilet paper or complimentary shampoos. The television did not even work. When we called the front, it took two hours for someone to come up and turn our room over. I would not recommend this hotel to anyone!', \"Although it was very cheap, this hotel still wasn't worth the money. The sink didn't work, there was no toilet paper, and the room was in dire need of repair. Dents and stains on the wall were unsightly and even with all the locks on the door, the people standing around all day outside my room made me feel uneasy. I would not recommend this hotel.\", \"I stayed at the Adam's Mark Buffalo for an extended stay. While I was there I became very unsatisfied with the hotel as a whole. The maid and restaurant staff were not only unfriendly but at times down right rude. The hotel had bed bugs and leaking windows which ruined some of my belongings. The food, even a fruit salad would take over an half hour to arrive when you could see the staff sitting around and talking. I heard multiple rude or sexual comments from the staff. The carpets were dirty and smelled.\", 'I picked this hotel because I thought the location looked good, and while it is not too far from downtown or South Congress, a car is required to get anywhere. No city buses come near this hotel that make it convenient to get to any desirable locations. The hotel room was not very clean, and some objects in the room were damaged or broken. For example the toilet paper holder literally was barely attached to the wall. Housekeeping did not replenish bathroom supplies. The bedding did not have a fresh feel or smell to it. The continental breakfast was the worst I have ever seen, with only old cereal available and coffee. The only good thing was that the price was low, however, I would recommend paying more for a different hotel.', \"We recently stayed at the Country Inn and Suites in Mishawaka, IN. It seemed dark and had a musty smell. The indoor swimming pool had debris in it so we didn't even get to use it. The carpet also had stains. I would highly recommend staying at a different hotel in this area if you are looking for something that feels new and fresh.\", \"The prices at this hotel are reasonably cheap, but that doesn't make up for the inconsistency of service here. The atmosphere of the hotel is not exactly what you would call ambiance as it is rather drab, dull and maybe even disheartening. In addition, it can get very noisy even at night, so that you might not be able to sleep despite being inside your room. For a decently priced hotel, they also charge shockingly high prices for food at their restaurant. Don't book this hotel, you can do better.\", 'My husband and I were moving from Colorado to Georgia and were using Super 8 motels almost exclusively because they had a policy of allowing dogs in the rooms. We reserved a room in St. Louis at the Super 8 and were dismayed to hear the manager tell us that he did not allow dogs in the rooms. This was in violation of Super 8 policy. I told the manager this so he said he could give us a room in a special area of the motel. The room he put us in was dirty with stains on the carpet and walls. We were so exhausted from travelling cross country that we took the substandard room so we could be sure our dogs would be safe. This was by far the worst Super 8 we had ever stayed at. The manager lied to us and violated Super 8 policy when the computer clearly indicated that dogs were welcome at this motel.', \"The Dillon Inn is a nice hotel, but I have a couple of complaints. The rooms were pretty nice, but the water in the showers didn't get as hot as I would like. Also, the staff was not very friendly. When I called the front desk asking for a few extra pillows the front desk person was not very nice, and I had to walk down to get them myself. Other than the lack of hot water, and the somewhat unfriendly staff, the hotel is pretty nice.\", 'In all my travels, Aston Waikiki Circle has to be one of the worst hotels we have ever stayed at. Amidst the busy Waikiki Beach, the atmosphere was far from relaxing, although we were minutes away from all the ABC stores in every corner. The parking spaces were miniscule and the hotel needed a major remodel. The website photos were very deceiving because the room was so small and was in disrepair. We booked a penthouse and we got a cheap motel with dated furnitures and beddings. The only positive would have to be the view from the balcony overlooking Waikiki Beach and the amazing time I had with my husband.', \"Caesars Palace seemed like a natural stop for Vegas. It's somewhat iconic to the location. However, that's what I ended up not really liking about it. It seemed like they were far too focused on being iconic, and not enough on actually being a hotel. It just felt a bit too much like I was in a casino with beds, compared to an actual high quality hotel.\", \"How can I not like sleeping in the happiest place on earth? We for one thing I didn't sleep, at all! The room looked great, with a big high bed and fun decor. But at night my husband and I realized the plush bed was just for show, it was very uncomfortable to lay on. The pillows were like the tiny little airline pillows. I needed 3 under my head just to feel comfortable. We were also disappointed that the hot tub was not working. It was a brisk night and a hot tub dip sounded great, but the water was maybe only 80 degrees. The hot tub was really cute, decorated with the little mermaid. Overall for $300 a night I expect a comfortable bed and a working pool area.\", \"When we reserved a reservation at La Quinta Hotel in Ft. Lauderdale, FL, we expected a decent nights sleep at a fairly decent price. We have stayed at La Quinta before and were always satisfied. This particular hotel is not what we expected. It is run down and dirty in the rooms. Also the noise level was a constant all night with the parties going on in numerous rooms around ours. I wouldn't recommend this to my enemy!\", \"The Ste Marie Marie Antoinette Hotel, now renamed the Hotel Le Marais, is located in the heart of the popular French Quarter of New Orleans. Its location is convenient to the sights of the Quarter. Unfortunately that is the one positive aspect of this tired hotel. The property is in need of a renovation to the rooms and the common space. During my stay the pool was not operational, and the restaurant/bar was not open. The rooms were below average for similarly priced hotels in the French Quarter. The hotel's brochure featured photographs that were either heavily retouched, or taken when the property had seen much better times.\", 'the hotel is very dirtyand its not clean at all it has roaches there.', 'I hate that motel is cheap noisy very load barly change sheets, ppl tent to break into cars and they barly do anything bout it just sucks...', 'This hotel is your typical corporate facility, which is ok if you like that type of thing. Centrally located and clean and safe. WHAT I DID NOT LIKE WAS THE EXTRA FEES FOR INTERNET AND THE PRICES OF MEALS IN THE RESTAURANT, THEY WERE OUTRAGEOUS. THANKS, BLF.', \"This hotel was absolutely disgusting. The price is low but it is definitely not worth it. You are much better off paying more and staying in a hotel that doesn't make you leave feeling filthy. The towels were tiny and had strange stains on them. The tv did not work and the hotel staff were not helpful at all. The worst thing was that the bed stunk horribly. It really smelled like a dead body laid in the bed for a month and then they didn't change the sheets. I can't imagine how long those sheets must have been on that bed for them to stink as badly as they did. I would never, ever stay there again even if they paid me.\", 'The desk clerk was very nice. However the rooms were not nice, they had baseboards missing off the walls the tub looked nasty, the toilet didnt flush right, we had to go ask for a plunger to get it to flush at one time. The fridge was iced over. The price was high for such bad rooms!', 'I would not recommend staying here to anyone. The rooms smelled like smoke, although it is a non smoking hotel. The beds seemed dirty and recently used without washing the sheets. We had to stay here because our car broke down and the mechanic was only a few blocks away and we were over 500 miles away from home. At night, it seems like a party hotel with people hanging around everywhere.', 'I attended a business meeting out of town, and my secretary booked me a room at the Hampton Inn and Suites in Modesto, California. This was the absolute worst hotel stay I have ever experienced! I travel often for business, and in all of my travels I have never been so disappointed with a stay at a hotel or motel. The clerks at the front desk were rude and unwelcoming upon checking into my room. Noisy children filled the hallways at all hours of the night, completely disrupting my sleep. Getting ready in the morning was a total nightmare, as no hot water flowed from my shower. To make matters worse, when I left a complaint in the suggestion box at the front desk, the manager never responded back to rectify the awful situation! Needless to say, I will never stay at this property again or recommend this hotel to anyone.', 'Overall, this hotel was not the greatest. The room was of decent quality, but was not nearly as clean as it should have been. The room service was terrible in that it did not properly stock the bathroom every day, creating a shortage of soap and clean towels. The complementary breakfast was good, but basic. The free wifi was very slow and unacceptable. The casino shuttle service was nice, however it was not on time. The gym was crowded and disorganized. Furthermore, the jacuzzi suites left much to be desired.', 'The management was unfriendly, the pool was a glorified bath tub, the smoke free hotel room smelled like a tobacco field, our electronic key card stopped working at 4 AM (we were returning from a wedding reception) and there was no one at the desk until 4:30. Imagine being drunk and tired and having to use the toilet and having to wait 30 minutes at 4 in the morning....No thank you.', \"A couple of friends and my wife decided to take a one day short trip to the North Shore of Minnesota and at the end of teh day were so exhausted that we decided to stay in a hotel there rather than driving back to the Twin Cities. We stayed at the Grand Superior Lodge. Big disappointment. While they had rooms available, the hotel was so rustic the beds seemed old and were uncomfortable, and their restaurant closed at 8pm. In fact, all of the staff disappeared at around that time so we had to venture into town to find a place to eat. There were no amenities at the hotel and their only plus was the nice view of the lake they had. I wouldn't recommend this hotel at all.\", \"I would never stay in the hotel again. The carpet looked and smelled as if it had been trampled on by a bunch of wet dogs. The microwave looked as if it hadn't been truly cleaned in months, not to mention the decor of the room looked as if it were chosen from a scene of an 80's movie. They claim to have free wifi but you have to call the front desk for a login code, well if no one answers at the front desk, this is pretty useless. The pictures on the website definitely overestimate the attractiveness of the indoor pool area.......the kiddie pool was the size of one of the baby pools that you buy for $10 at walmart. Needless to say, we were not impressed with the atmosphere. This may be a nice getaway for college kids that plan on being wasted the entire stay (this way the defects of the hotel woould not be apparent)!\", 'THE WORST HOTEL EXPERIENCE EVER!Due to the fact the me and my husband did not pre-register to stay in a hotel during the State Finals weekend, we were forced to stay in the hotel. The first room we were given still had dirty towels in it. The service was horrible it took them 2 ENTIRE hours just to get us transferred to a new room. The WOST servicing experience of my life!', 'When we came into our room it had not been cleaned by housekeeping yet. We notified the front desk who moved us to another room. We reserved a non smoking room however the room smelled like old, stale smoke. It also had a musty odor as if there was mold or mildew somewhere. The furnishings were outdated and in poor condition. The lighting was poor which added to the drab appearance. The air conditioner was loud and leaked. The hotel was in a location that I did not feel safe in.', \"I booked at this hotel to save a few bucks but it was disgusting! Part of the hotel is facing a highway and I was given a room in this part on the corner of the hotel. It was so loud from trucks all night I couldn't sleep. There were drunk kids going to their rooms all hours of the morning! The hotel wasn't very clean at all. Not ever staying here ever again!\", \"I booked a weekend at Terranea for my birthday. When I arrived my room was not ready at my check-in time and I was told I would have to wait. The front desk did not provide me an exact time but said I could walk around. An hour later it was still not ready. It took 5 hours actually. The next day at the pool a server came around and took my order while I laid out. They never returned. When I approached the pool bar it was mess. The sink was clogged and cups were everywhere. The price I paid made me really expect more. It should be a 2 star not 4.5. I won't be returning.\", \"The Inn at El Gaucho in Seattle sounded like a great idea, being right above one of the most popular steak houses in the whole city, and located in the popular Belltown district downtown. However, the reality was far from great. The rooms were very sparse and the service was even more sparse. We waited for a long time just to get anyone to come to the front desk, and had to go downstairs to the busy steak house to find an attendant. The noise at night was deafening, with street sounds coming right through the walls all night, and music from the small movie theater underneath, which happened to be hosting a party that night. The prices were way to high for the level of comfort, which wasn't anything to write home about.\", 'I stayed at the Quality Inn in Hinesville Ga, and did not like it. My first impression was they got to be joking. There is no quality in Quality Inn. Just old bed spreadings that were so thin that could see right through them. The corners of my room was dusty with crumbs and the bathroom was ruined with rust. The beds was not comfortable at all. I was not very happy with the room and will never go there again.', 'I stayed at this days inn hotel for 5 days and bill was over $250.00 way to much for this uncomfortable stay. Located near the main street and highway so it was a lot of noise all day and night. Reminded me of an old motel. Smelled musty and molded. No swimming pool!', \"I stayed for business for 4 nights. I requested a non-smoking room, but when I arrived the room smelled horribly of smoke. They did not have any other rooms available. The Manger's special in the evening, which is suppose to be drinks and a snack was horrible. There was no snack to speak of and drinks were $7 each.\", 'I called weeks in advance to reserve a room, and informed the staff that I had a handicapped woman with me so I would need a wheelchair accessible room. When I arrived to the hotel I was shown to my room, which ended up NOT being handicap accessible. The handicap room was not available so I basically had to deal with what they gave me. On top of that, there were no towels in my room and the continental breakfast ended up only being frozen waffles. I will NOT be staying here again.', \"I had booked a one week stay at the St. Augustine Beachfront Resort but after the first night I left. To begin they gave me the key to a room filled with other people!!! Can you imagine that!!! Then they sent me to another room that the beds were not made and it was dirty. The third room the key did not work after a long drive the last thing I wanted to deal with was all these problems. We finally got into our room and it was very dirty, the carpets were black the wall paper was peeling, the shower had mildew and worst of all there roaches crawling on the walls. I have never felt so disgusted. When I walked out of the room there were rats crawling in the hallways. There is no beach access, so this is not a beachfront resort like they claim.The office staff is rude and very unprofessional, you can tell they don't care about there jobs at all. This a roach motel not a resort!!\", \"My son and I made a spur of the moment decision to spend the weekend in Virginia Beach. We arrived and saw that the Palm Grove was on the ocean and had a vacancy. I was immediately annoyed when I had to pay for the room upfront. My experience only got worse. The interior is old and worn out- which I could have handles, except my room was also dirty. The floor had not been cleaned, the bed was messy, and there was popcorn in the sheets! Even worse, when I called the desk to change rooms, I was told I could not and after being treated rudely, someone came to clean the room an hour later. I should have left then and there. Needless to say we didn't stay a second night, and I'll never return again.\", 'When I booked my stay, I was not informed that the entire third floor was under construction. We booked a business king room, which is normally on the first floor at other Red Roof Inns. Our room, however, was on the fourth floor. When I called guest services from my room to ask places that delivered food to the hotel, they only recommended the pizza company advertised on the room keys. After calling places myself, I was able to find a Mexican restaurant and Chinese restaurant that were not advertised by the hotel. The hotel boasts of having a 24-hour diner. Do not expect good service at this diner. They do not have fountain beverages and they do not pay attention to their tables. The heated pool advertised was dirty. The only thing good about this hotel is the free shuttle to the airport.', \"I really didn't like how cheap this motel was. It was somewhat shabby and not very nice sometimes to stay in the main building and was somewhat dark. The place didn't offer as much as I really wanted from a motel.\", \"I went to Syracuse last winter to watch my team play in the Carrier Dome and chose this Econo Lodge because the prices were cheaper (because I found out later that it's in a pretty run-down part of town) and mainly cause most of the better hotels were already booked. I drove up there and arrived pretty late, so I was very tired and ready to get some sleep before the game the next day. After pulling into the small parking lot, I realized after driving around that all the Free Parking spaces were gone, so I had to drive down the street to a paid parking lot. Then, after carrying my luggage all the way to the hotel, I checked in and, in a sleepy haze, threw my stuff down in the room and went to sleep.Not more than two hours later, I woke up from incredible itching on my arms and legs, so I quickly turned on the light and realized how awfully dirty my room was. Then I looked closer at my bed near the sheets and I literally could see many, if not hundreds, of tiny bedbugs crawling everywhere. I immediately ran to the desk, where no one was there of course, and after waiting for 30 minutes for someone to show up, I demanded another room. I then got the new room key, went up to it, and after opening the door, I saw that this new room was no more clean than the last. And yes, there were just as many bedbugs in this bed. I grabbed my stuff and walked back to my car and slept there for the rest of the night. Needless to say, not only will I never visit this Econo Lodge again, I doubt I will ever even visit Syracuse again.\", 'This Red Roof Inn in North Charleston, South Carolina is pretty inexpensive, but you definitely get what you pay for. The location is terrible. It’s right off the interstate in a very busy, loud commercial area. It should also be noted that it’s not as close to the historic downtown and beach areas in Charleston as you might be lead to believe. We got there a little early and the room wasn’t ready, so we went to a nearby Starbucks for about an hour. We came back after check-in time, and the room still wasn’t ready. They lady at the desk was nice but incompetent. When we finally got into a room, it was what you’d expect from a cheap hotel, and it smelled of cigarettes and cheap cleaning products. I think the worst part of it all was the other clientele there. We had a room on the second floor, which required climbing two flights of stairs. Some very unsavory individuals were always hanging out on the stairs and the landing. It made me really uncomfortable to walk to and from my car. Next time, I’ll pay extra and stay somewhere else.', \"The hotel has very thin walls and ceiling so you can hear EVERYTHING. You can even hear full conversations word-for-word. Even when we complained to have someone tell the person above us to be quiet, the manager didn't do anything at all. There was a county fair going on with bus fulls of high school kids having a party right outside our door and were shooting off fireworks. However, no one told them to be quiet. All the manager told us was that we could leave (without a refund).\", 'On my way home from a trip with my family, the drive was taking longer than expected, so we decided to stay in a hotel for the evening. It was summer, and there were few vacanies along highway 299, but we felt lucky to find an open spot in a motel, just as darkness was creeping up on us. Unfortunately, there were many obvious reasons for said vacancy. The walls were paper thin, and we could hear the people on the floor above us walk, talk, and urinate. When they turned the shower on, our ceiling suddenly became leaky. The room was small, and dirty, with strange decor. Also, there is a tiny, tacky cage in the parking lot, which claims to have housed Big Foot. Overall, it was a terrible experience.', \"The Rio hotel is the absolute worst hotel I've stayed in on or just off the strip! It had the worst service! As we would stroll down the rundown hallways the smell of room service dishes and smoke was so dissapointing! The same left over food was left out for our two days stay. We could smell smoke in our rooms from the casino. My husband had trouble sleeping as the neon lights could be seen in our rooms with the curtains drawn. The casino was like an old bar room. Really bad ventilation! Last but not least! It took over sixty minutes to check out!\", 'The Ao Chalong Hotel in Phuket, Thailand was a huge disappointment. We wanted to have a nice, somewhat luxury vacation, me and my two friends. We arrived at a later hour (but had informed the hotel that we would get in later because of our late flight) and the staff was extremely unfriendly. Since there were three of us traveling together it was difficult to find rooms that accommodated three people. However, when we booked with Ao Chalong we specifically stated that we would be three people and need a third bed. From the get go, the hotel had our reservation completely wrong and were extremely disrespectful to us. They made us very uncomfortable and the accommodations were terrible. We could hear everything from the other rooms and the locations were ugly and in terrible state. Stay away from this hotel.', \"When I visited this hotel, I thought everything was going to be great. It's appearance was not too shabby, but as soon as I got to the room, my opinion began to change. The room was nowhere near the quality that the rest of the hotel was; it only came with the basics, and nothing more. I would have expected more from a nicer hotel. The other surprising thing about this hotel was the staff. I did not feel secure at all. When I first came to my room to find my wife, she was not there (and I did not have a key). I simply came to the door, knocked, and waited one second. The maid down the hall came over and let me in the room. I could have been some stranger that was knocking on someone's room! I will not go back to that hotel because of this safety issue. Thank you.\", 'We were visiting Salem and only stayed one night at this location. The room felt...and smelled dirty. It smelled like it had at one point been a smoking room that they were attempting to cover up and re-purpose as a non smoking room. The water in the hotel also had a funny taste and there were no alternatives to tap water provided that they were not charging a ridiculous amount for. All in all any mildly redeeming qualities did not make up for the sanitary levels of the room we stayed in.', \"The inclusion of insects in your hotel room isn't anything to be thrilled about. The motel 6 hotelier establishments typically have permissable conditions, however a particular experience of mind was quite atrocious. The room had a faint odor or must to it that denoted mold or mildew in the bathroom area. Also the maids or cleaning staff enter your room without knocking first, promptly apologizing however the damage has already been done. I do not appreciate people unlocking my door at a whim's notice and having complete unhindered access to my valuables which are extremely important. Documents such as my passport and my wallet were placed into the electrical safe only to find that the safe did NOT lock and opened with a universal key code of 00000. I will not be returning to this hotel if I can help it.\", 'This was our first and only stay at the Ambassador hotel in New Orleans. When arriving we had to wait for five minutes before anyone even asked us about checking in. We paid for a deluxe room only to find that the room did not have a window looking to the outside. I must point out I said a window looking to the outside as we did in fact have a window looking out into the hallway? Also it had flimsy blinds covering the window, hardly blocking anyone from looking right in at the bed. It was mid-may in New Orleans which means its already hotter than a firecracker on the fourth of July, the air conditioning would barely work even after we left it on full blast for 6 hours. The only way to tell it was even on beside the rumbling of the motor was to lay your face on the vent to feel the semi cool air. After complaining to the hotel staff we were brushed off and never was able to get a hold of them again. I would HIGHLY not recommend this hotel to anyone, not even my worst enemy. As the room may bake you alive with the heat and the staff just do not care.', 'This hotel was mediocre. It did not live up to the hilton hype. It was not priced correctly for the service I got. It was nothing in particular that caught my eye. The lobby looked like a HG t.v. magazine threw up in it. The indoor pool might as well had been outside due to the fact it was a random pigeon flying about freely. The food was not as well prepared as I had expected. The menu was drab and had a small selection. I really thought I was ordering from a kids menu. The room I was in had such a filthy carpet. It was like the people before me threw a party then checked out when I checked in. The bed was ok, but for 123 dollars a nite it should have been stellar. The bathroom was also a little let down. The tub could barely fit my husband. I would not ask anyone to pay for a stay here. I paid the hilton price for a motel six stay.', \"I didn't enjoy my experience in this hotel because their were insects in my hotel room and it seemed very dirty.\", \"Me and my family stayed here during the 4th of July weekend as a family get-together and birthday party. The resort has it's own water park, which is nice, but that's about as far as nice got. Upon arriving, the rooms were not what had been described to the person who purchased all of the rooms, and they had to purchase an additional room to make up for the misunderstanding. Later, one of the rooms was charged to another family member who checked in early. Another family member was charged with room service fees for meals they never ordered or received (watch your credit cards closely!). The rooms were dated and the carpeting was gross. The location of the rooms are literally a drive from the front desk, so if you need anything, it's going to take a while. And the maid service? Non-existent until the morning we were all due to leave. For the price, this place was atrocious, and I would never recommend staying here, even with the water park (the added resort fee pays for that). Save your money.\", 'The Circus Circus hotel in Reno, Nevada is not even a hotel that I would send my worst enemy. Not only is the place in the middle of the armpit of America (Reno), but the hotel is just a mess. Everything, and I mean, everything smells like smoke. The smoking is supposed to be in the casino area only, but that is hardly the case. There are multiple restaurants, but they are usually closed and the food is horrible anyway. It is terribly old and it definitely shows in the rooms and in the casino. It is in serious need of a renovation asap.', \"We didn't feel at home at the Crowne Plaza near the Pittsburgh, PA airport from the moment we got there. The room was not clean, we had to scrub the bathtub before we even thought about using it. Airplanes continually roared above our room, which must have been right under a major landing path for the nearby airport. We expected a higher level of service and room amenities than we received. The outdoor pool was not heated, and it was frigid for late-August. The pool area was also not clean. We were glad for the morning to come so that we could leave and be on our way.\", \"I am a business traveler that often had to stay at this hotel because the other options in the area were often sold out or more expensive (would get rejected by my corporate policy).Repeatedly, I was disappointed with this hotel. This hotel is stuck in a time warp for renovations and basic amenities. Even with recent updates in the lobby, the actual rooms lack the much needed updates. On one occassion, my room did not have towels or a shower curtain! Yes, the hotel can fix this but it shows the lack of effort and attention to each room. For a frequent traveler, I found the beds uncomfortable and lumpy. The blow dryer was old and while it seems like a small piece, it's an important luxury. The toiletries were as basic as they come and this is a Courtyard, I expect body lotion or conditioner! I have voiced my concerns to management and been contacted before but never heard back about changes being made. In 2011, I had to spend 78 nights here. I could change my travel schedule to avoid overnights so I would not have to stay here.\", 'I recently stayed at the Astor Crown Plaza in New Orleans for a work seminar. My seminar was being held in another hotel in the French Quarter, so I felt that it would be best for me to stay in the French Quarter as well. I got a somewhat reasonable price for the Astor and thought that it was in a good location when looking at a map of the area. I arrived with a coworker very late at night due to plane layovers and was extremely uncomfortable when getting out of my taxi. There were probably 7-10 random people standing outside the doors cursing and yelling. I had to walk through these people to get to the door and there was no doorman to make me feel more at ease with the random cursing people.I went to check in and it went quick enough, however the woman helping me spoke only when spoken to and seemed very annoyed that we were checking in - like we had interrupted something. Just handed us our room keys and looked back at her computer. The room was fine - no complaints about the cleanliness. However, it is IMPOSSIBLE to sleep! With all of the commotion on Bourbon street below, you must bring ear plugs if you even want to think about sleeping! I was in need of some water and went down the hall to the vending area and tried to but a bottle and was unable to because it was sold out. I went back to my room assuming that it would be refilled at some point that night or the next morning. The next night, I tried again - no water. I then went to several other vending areas on other floors and no water there either. I went back to my room and called room service and did receive two bottles of water. I drank half of one and went to bed. The next day, I left the room for my work function and came back to see that housekeeping had taken my water! All in all, the location of this hotel is fine, but customer service, and water, seem to be lacking quite a bit! I will be returning to the French Quarter but not to this hotel.', 'I booked this hotel last week while visiting Philly. I am generally a fan of Hilton properties so when I called Hilton they offered this hotel which they stated was 15 minutes from downtown Philly. Boy where they wrong. this hotel was actually a 40 minute drive from the downtown area. When my girlfriend and I checked in, we did not realize that they were renovating the lobby and certain rooms, I with the telephone representative would have stated this!!Also, they gave us a corner room on the 2nd floor all the way at the rear of the building. The door to our room was ajar when we entered so I thought something was suspicious. there was a 30 minute delay in order to switch us to a different room. not a good experience. will not stay until the renovations are all done.', 'We arrived at the hotel about 5 pm. First of all google maps gave us the wrong address. Sent us 10 miles up the road. (not blaming the hotel). Then we went up to our room and the A/C was not working properly. The ac knob was broken and we could not turn it on or off. It took them about 2 hours to get someone up to fix it. Besides that the stay was blah. Nothing major or nothing to get excited about. I requested a partial refund and finally got one only because I am a priority member.', \"I recently stayed at the Aliante Station Casino in Las Vegas, Nevada. I am a regular guest at Red Rock Station Casino, their sister property. I was enticed to stay at Aliante because of a deep discount they were offering. However, our experience was so bad that the hotel should have paid US! The directions on the hotel's website were outdated. The route took at least half an hour longer than if they had taken another freeway. We finally arrived and got up to our room. Despite opening less than a year ago, our room had many things broken or missing. Lights were burnt out, the television remote did not work unless we sat one inch in front of the television, our bathroom toiler paper holder was ripped from the wall and the sink water pressure was horrendous. They also forgot to stock our minibar, despite checking in much later than the usual arrival time. We tried to ignore the poorly-maintained room by dining and gambling downstairs. We first tried their cafe. The service was horribly slow and the food was tasteless. We next tried their Pancake House. The food was covered in vinegar and was disgusting. After those two meals, we drove to the nearest grocery store and prepared the remainder of our meals in the room or ate at restaurants off of the property. I shared my complaints with the reservation agent upon checking out and he did not seem to care. I will never stay at this location again!\"] [1, 1, 1, 1, 1, 1, 1, 1, 1, 1, 1, 1, 1, 1, 1, 1, 1, 1, 1, 1, 1, 1, 1, 1, 1, 1, 1, 1, 1, 1, 1, 1, 1, 1, 1, 1, 1, 1, 1, 1, 1, 1, 1, 1, 1, 1, 1, 1, 1, 1, 1, 1, 1, 1, 1, 1, 1, 1, 1, 1, 1, 1, 1, 1, 1, 1, 1, 1, 1, 1, 1, 1, 1, 1, 1, 1, 1, 1, 1, 1, 1, 1, 1, 1, 1, 1, 1, 1, 1, 1, 1, 1, 1, 1, 1, 0, 0, 0, 0, 0, 0, 0, 0, 0, 0, 0, 0, 0, 0, 0, 0, 0, 0, 0, 0, 0, 0, 0, 0, 0, 0, 0, 0, 0, 0, 0, 0, 0, 0, 0, 0, 0, 0, 0, 0, 0, 0, 0, 0, 0, 0, 0, 0, 0, 0, 0, 0, 0, 0, 0, 0, 0, 0, 0, 0, 0, 0, 0, 0, 0, 0, 0, 0, 0, 0, 0, 0, 0, 0, 0, 0, 0, 0, 0, 0, 0, 0, 0, 0, 0, 0, 0, 0, 0, 0, 0, 0, 0, 0]\n"
     ]
    }
   ],
   "source": [
    "print(all_texts,all_labels)"
   ]
  },
  {
   "cell_type": "markdown",
   "metadata": {},
   "source": [
    "### Let's look at what is in the data"
   ]
  },
  {
   "cell_type": "code",
   "execution_count": 255,
   "metadata": {},
   "outputs": [
    {
     "name": "stdout",
     "output_type": "stream",
     "text": [
      "--- Positive Example ---\n",
      "Staying at the Bon Aire on St. Pete Beach is by far the best vacation experience I have ever had in my life. The landscaping is beautiful! I couldn't believe all of the different colored flowers and plants. Also the hotel rooms were great. Everything was kept very sanitary, and the layout of the room couldn't have been better. In my opinion, the greatest plus to have staying at the Bon Aire was being able to get food and drinks all day from Sandbar Bills. Sandbar Bills makes one of the greatest cheese burgers I have ever had in my life. Everything about this resort is just all around amazing, including the location. Right across the street from the resort is a Walgreens that is open 24/7! At night when Sandbar Bills is closed, I could walk across the street and buy a snack. In conclusion, I would recommend staying at the Bon Aire over any other place if you are coming to visit St. Pete Beach. You will not be disappointed!\n",
      "\n",
      "--- Negative Example ---\n",
      "This hotel was mediocre. It did not live up to the hilton hype. It was not priced correctly for the service I got. It was nothing in particular that caught my eye. The lobby looked like a HG t.v. magazine threw up in it. The indoor pool might as well had been outside due to the fact it was a random pigeon flying about freely. The food was not as well prepared as I had expected. The menu was drab and had a small selection. I really thought I was ordering from a kids menu. The room I was in had such a filthy carpet. It was like the people before me threw a party then checked out when I checked in. The bed was ok, but for 123 dollars a nite it should have been stellar. The bathroom was also a little let down. The tub could barely fit my husband. I would not ask anyone to pay for a stay here. I paid the hilton price for a motel six stay.\n"
     ]
    }
   ],
   "source": [
    "# print positive and negative examples from all_texts\n",
    "def random_sample(texts, labels, label):\n",
    "    data_by_label = {}\n",
    "    for lab, text in zip(labels, texts):\n",
    "        if lab not in data_by_label:\n",
    "            data_by_label[lab] = []\n",
    "        data_by_label[lab].append(text)\n",
    "    return random.choice(data_by_label[label])\n",
    "\n",
    "print(\"--- Positive Example ---\")\n",
    "print(random_sample(all_texts, all_labels, label=1))\n",
    "print(\"\\n--- Negative Example ---\")\n",
    "print(random_sample(all_texts, all_labels, label=0))"
   ]
  },
  {
   "cell_type": "markdown",
   "metadata": {},
   "source": [
    "### Test Data ( WAIT TILL DEADLINE)\n",
    "\n",
    "This is the test dataset that you will need to use to report the results on. This set is the unseen dataset meaning, you are not in anyway supoose to look what is in this dataset. We will release this dataset on the last day of the assignment's deadline."
   ]
  },
  {
   "cell_type": "code",
   "execution_count": 256,
   "metadata": {},
   "outputs": [
    {
     "ename": "FileNotFoundError",
     "evalue": "[Errno 2] No such file or directory: '/data/HW2-testset.txt'",
     "output_type": "error",
     "traceback": [
      "\u001b[0;31m---------------------------------------------------------------------------\u001b[0m",
      "\u001b[0;31mFileNotFoundError\u001b[0m                         Traceback (most recent call last)",
      "Cell \u001b[0;32mIn[256], line 5\u001b[0m\n\u001b[1;32m      1\u001b[0m \u001b[38;5;66;03m### RUN THIS ONLY ON DEADLINE ###\u001b[39;00m\n\u001b[1;32m      2\u001b[0m \u001b[38;5;66;03m# Load the test data\u001b[39;00m\n\u001b[1;32m      4\u001b[0m test_datapath \u001b[38;5;241m=\u001b[39m \u001b[38;5;124m\"\u001b[39m\u001b[38;5;124m/data/HW2-testset.txt\u001b[39m\u001b[38;5;124m\"\u001b[39m\n\u001b[0;32m----> 5\u001b[0m test_texts, test_labels \u001b[38;5;241m=\u001b[39m load_test_data(test_datapath)\n",
      "File \u001b[0;32m~/Desktop/BOULDER/CUB_Semesters/Sem3_Fall2024/NLP/Assignment2_Sentiment_Analysis/util.py:49\u001b[0m, in \u001b[0;36mload_test_data\u001b[0;34m(filepath)\u001b[0m\n\u001b[1;32m     47\u001b[0m texts \u001b[38;5;241m=\u001b[39m []\n\u001b[1;32m     48\u001b[0m labels \u001b[38;5;241m=\u001b[39m []\n\u001b[0;32m---> 49\u001b[0m \u001b[38;5;28;01mwith\u001b[39;00m \u001b[38;5;28mopen\u001b[39m(filepath, \u001b[38;5;124m\"\u001b[39m\u001b[38;5;124mr\u001b[39m\u001b[38;5;124m\"\u001b[39m) \u001b[38;5;28;01mas\u001b[39;00m file:\n\u001b[1;32m     50\u001b[0m     \u001b[38;5;28;01mfor\u001b[39;00m line \u001b[38;5;129;01min\u001b[39;00m file:\n\u001b[1;32m     51\u001b[0m         idx, text, label \u001b[38;5;241m=\u001b[39m line\u001b[38;5;241m.\u001b[39mrstrip()\u001b[38;5;241m.\u001b[39msplit(\u001b[38;5;124m\"\u001b[39m\u001b[38;5;130;01m\\t\u001b[39;00m\u001b[38;5;124m\"\u001b[39m)\n",
      "\u001b[0;31mFileNotFoundError\u001b[0m: [Errno 2] No such file or directory: '/data/HW2-testset.txt'"
     ]
    }
   ],
   "source": [
    "### RUN THIS ONLY ON DEADLINE ###\n",
    "# Load the test data\n",
    "\n",
    "test_datapath = \"/data/HW2-testset.txt\"\n",
    "test_texts, test_labels = load_test_data(test_datapath)"
   ]
  },
  {
   "cell_type": "markdown",
   "metadata": {},
   "source": [
    "### Task 1.1: Print the number of \"positive\" and \"negative\" samples (5 Points)"
   ]
  },
  {
   "cell_type": "markdown",
   "metadata": {},
   "source": [
    "It is important to know the distribution of the training examples. More often than not, you will have to work with datasets that are not \"balanced\" with respect to the labels of the samples. For this task, print out the number of examples that have label = 1 and label = 0, respectively, in std:out or plot a pie chart."
   ]
  },
  {
   "cell_type": "code",
   "execution_count": 257,
   "metadata": {
    "scrolled": true
   },
   "outputs": [
    {
     "data": {
      "image/png": "[encoded data removed]",
      "text/plain": [
       "<Figure size 640x480 with 1 Axes>"
      ]
     },
     "metadata": {},
     "output_type": "display_data"
    },
    {
     "data": {
      "text/plain": [
       "(95, 94)"
      ]
     },
     "execution_count": 257,
     "metadata": {},
     "output_type": "execute_result"
    }
   ],
   "source": [
    "### ENTER CODE HERE ###\n",
    "import seaborn as sns\n",
    "import matplotlib.pyplot as plt\n",
    "def label_distribution(labels):\n",
    "    \"\"\"\n",
    "    TODO: Replace the line `raise NotImplementedError` with your code\n",
    "    to print the labels distribution.\n",
    "\n",
    "    Args:\n",
    "        labels (List[int]): Labels for the dataset. 1 = postive, 0 = negative\n",
    "    \n",
    "    Returns\n",
    "        pos_count, neg_count (int, int): The counts of each label\n",
    "    \"\"\"\n",
    "    \n",
    "    positive_count = labels.count(1)\n",
    "    negative_count = labels.count(0)\n",
    "    ax = sns.countplot(x=labels)\n",
    "    for p in ax.patches:\n",
    "        ax.annotate(f'{int(p.get_height())}', (p.get_x() + p.get_width() / 2., p.get_height()), \n",
    "                ha='center', va='baseline', fontsize=12, color='black', xytext=(0, 5),\n",
    "                textcoords='offset points')\n",
    "\n",
    "    plt.title('Distribution of Positives and Negative Reviews')\n",
    "    plt.show()\n",
    "    return positive_count,negative_count\n",
    "\n",
    "\n",
    "\n",
    "label_distribution(all_labels)"
   ]
  },
  {
   "cell_type": "markdown",
   "metadata": {},
   "source": [
    "### Task 1.2: Split Training and Development Sets (5 Points)"
   ]
  },
  {
   "cell_type": "markdown",
   "metadata": {},
   "source": [
    "For the purpose of coming with the best parameters for the model you will have to split the dataset into training and development sets. Make sure the splits follow the same distribution."
   ]
  },
  {
   "cell_type": "code",
   "execution_count": 258,
   "metadata": {},
   "outputs": [
    {
     "name": "stdout",
     "output_type": "stream",
     "text": [
      "Train Label Distribution:\n"
     ]
    },
    {
     "data": {
      "image/png": "[encoded data removed]",
      "text/plain": [
       "<Figure size 640x480 with 1 Axes>"
      ]
     },
     "metadata": {},
     "output_type": "display_data"
    },
    {
     "name": "stdout",
     "output_type": "stream",
     "text": [
      "Dev Label Distribution:\n"
     ]
    },
    {
     "data": {
      "image/png": "[encoded data removed]",
      "text/plain": [
       "<Figure size 640x480 with 1 Axes>"
      ]
     },
     "metadata": {},
     "output_type": "display_data"
    },
    {
     "data": {
      "text/plain": [
       "(19, 19)"
      ]
     },
     "execution_count": 258,
     "metadata": {},
     "output_type": "execute_result"
    }
   ],
   "source": [
    "### ENTER CODE HERE ###\n",
    "import random \n",
    "def split_dataset(texts, labels):\n",
    "    \"\"\"\n",
    "    Split the dataset randomly into 80% training and 20% development set\n",
    "    Make sure the splits have the same label distribution\n",
    "    \"\"\"\n",
    "    train_size = 0.8\n",
    "    random.seed(42)\n",
    "\n",
    "    group_text_lables = {}\n",
    "    for i,j in zip(texts,labels):\n",
    "        if(j not in group_text_lables):\n",
    "            group_text_lables[j]=[]\n",
    "        group_text_lables[j].append((i,j))\n",
    "    \n",
    "    train_text,train_label,dev_text,dev_label =[],[],[],[]\n",
    "    for i,j in group_text_lables.items():\n",
    "        random.shuffle(j)\n",
    "        split_index = int(len(j)*(train_size))\n",
    "        train_g = j[:split_index]\n",
    "        dev_g = j[split_index:]\n",
    "\n",
    "        for tt,tl in train_g:\n",
    "            train_text.append(tt)\n",
    "            train_label.append(tl)\n",
    "        for dt,dl in dev_g:\n",
    "            dev_text.append(dt)\n",
    "            dev_label.append(dl)\n",
    "    return train_text,train_label,dev_text,dev_label\n",
    "\n",
    "    \n",
    "\n",
    "train_texts, train_labels, dev_texts, dev_labels =  split_dataset(all_texts, all_labels)\n",
    "\n",
    "print('Train Label Distribution:')\n",
    "label_distribution(train_labels)\n",
    "\n",
    "print('Dev Label Distribution:')\n",
    "label_distribution(dev_labels)"
   ]
  },
  {
   "cell_type": "markdown",
   "metadata": {},
   "source": [
    "### Task 1.3: Evaluation Metrics (10 Points)\n",
    "\n",
    "Implement the evaulation metrics: Accuracy, Precision, Recall and F1 score"
   ]
  },
  {
   "cell_type": "code",
   "execution_count": 259,
   "metadata": {},
   "outputs": [],
   "source": [
    "### ENTER CODE HERE ###\n",
    "# implementing \n",
    "def accuracy(predicted_labels, true_labels):\n",
    "    \"\"\"\n",
    "    Accuracy is correct predictions / all predicitons\n",
    "    \"\"\"\n",
    "    correct_predictions = sum((i == j) for i,j in zip(predicted_labels,true_labels))\n",
    "    accuracy_score = correct_predictions / len(true_labels)\n",
    "    return torch.tensor([accuracy_score]).item()\n",
    "\n",
    "def precision(predicted_labels, true_labels):\n",
    "    \"\"\"\n",
    "    Precision is True Positives / All Positives Predictions\n",
    "    \"\"\"\n",
    "    true_positives = sum((i == 1 and j == 1) for i,j in zip(predicted_labels,true_labels))\n",
    "    false_positives = sum((i == 1 and j == 0) for i,j in zip(predicted_labels,true_labels))\n",
    "    if(true_positives + false_positives == 0):\n",
    "        return 0\n",
    "    else:\n",
    "        precision_score = true_positives / (true_positives + false_positives)\n",
    "        return torch.tensor([precision_score]).item()\n",
    "\n",
    "def recall(predicted_labels, true_labels):\n",
    "    \"\"\"\n",
    "    Recall is True Positives / All Positive Labels\n",
    "    \"\"\"\n",
    "    true_positives = sum((i == 1 and j == 1) for i,j in zip(predicted_labels,true_labels))\n",
    "    false_negatives = sum((i== 0 and j == 1) for i, j in zip(predicted_labels,true_labels))\n",
    "    if(true_positives + false_negatives == 0):\n",
    "        return 0\n",
    "    else:\n",
    "        recall_Score = true_positives / (true_positives + false_negatives)\n",
    "        return torch.tensor([recall_Score]).item()\n",
    "\n",
    "\n",
    "def f1_score(predicted_labels, true_labels):\n",
    "    \"\"\"\n",
    "    F1 score is the harmonic mean of precision and recall\n",
    "    \"\"\"\n",
    "    precision_f1 = precision(predicted_labels, true_labels)\n",
    "    recall_f1 = recall(predicted_labels, true_labels)\n",
    "    if(precision_f1 + recall_f1 == 0):\n",
    "        return 0\n",
    "    else:\n",
    "        f1_score_pr = (2*precision_f1*recall_f1) / (precision_f1 + recall_f1)\n",
    "        return torch.tensor([f1_score_pr]).item()\n",
    "\n",
    "    "
   ]
  },
  {
   "cell_type": "code",
   "execution_count": 260,
   "metadata": {},
   "outputs": [
    {
     "ename": "AssertionError",
     "evalue": "",
     "output_type": "error",
     "traceback": [
      "\u001b[0;31m---------------------------------------------------------------------------\u001b[0m",
      "\u001b[0;31mAssertionError\u001b[0m                            Traceback (most recent call last)",
      "Cell \u001b[0;32mIn[260], line 11\u001b[0m\n\u001b[1;32m      8\u001b[0m em_test_recall \u001b[38;5;241m=\u001b[39m \u001b[38;5;241m0.5\u001b[39m\n\u001b[1;32m      9\u001b[0m em_test_f1 \u001b[38;5;241m=\u001b[39m \u001b[38;5;241m2\u001b[39m\u001b[38;5;241m/\u001b[39m\u001b[38;5;241m3\u001b[39m\n\u001b[0;32m---> 11\u001b[0m \u001b[38;5;28;01massert\u001b[39;00m accuracy(em_test_predictions, em_test_labels) \u001b[38;5;241m==\u001b[39m em_test_accuracy\n\u001b[1;32m     12\u001b[0m \u001b[38;5;28;01massert\u001b[39;00m precision(em_test_predictions, em_test_labels) \u001b[38;5;241m==\u001b[39m em_test_precision \n\u001b[1;32m     13\u001b[0m \u001b[38;5;28;01massert\u001b[39;00m recall(em_test_predictions, em_test_labels) \u001b[38;5;241m==\u001b[39m em_test_recall\n",
      "\u001b[0;31mAssertionError\u001b[0m: "
     ]
    }
   ],
   "source": [
    "### DO NOT EDIT ###\n",
    "\n",
    "em_test_labels = [0]*6 + [1]*4\n",
    "em_test_predictions = [0]*8 + [1]*2\n",
    "\n",
    "em_test_accuracy = 0.8\n",
    "em_test_precision = 1.0\n",
    "em_test_recall = 0.5\n",
    "em_test_f1 = 2/3\n",
    "\n",
    "assert accuracy(em_test_predictions, em_test_labels) == em_test_accuracy\n",
    "assert precision(em_test_predictions, em_test_labels) == em_test_precision \n",
    "assert recall(em_test_predictions, em_test_labels) == em_test_recall\n",
    "assert f1_score(em_test_predictions, em_test_labels) == em_test_f1\n",
    "\n",
    "print('All Test Cases Passed!')"
   ]
  },
  {
   "cell_type": "markdown",
   "metadata": {},
   "source": [
    "## Section 2: Baselines (Total: 20 Points)"
   ]
  },
  {
   "cell_type": "markdown",
   "metadata": {},
   "source": [
    "It is important to come up with baselines for the classifications to compare the more complicated models with. The baselines are also useful as a debugging method for your actual classfication model. You will create two baselines:\n",
    "\n",
    "1. Random Chance\n",
    "2. Naive Bayes Classifier"
   ]
  },
  {
   "cell_type": "markdown",
   "metadata": {},
   "source": [
    "### Task 2.1: Random Chance Classifier (5 Points)\n",
    "\n",
    "A random chance classifier predicts the label according to the label's distribution. As an example, if the label 1 appears 70% of the times in the training set, you predict 70 out of 100 times the label 1 and label 0 30% of the times"
   ]
  },
  {
   "cell_type": "code",
   "execution_count": 261,
   "metadata": {},
   "outputs": [],
   "source": [
    "### ENTER CODE HERE ###\n",
    "\n",
    "def predict_random(train_labels, num_samples):\n",
    "    \"\"\"\n",
    "    Using the label distribution, predict the label num_sample number of times\n",
    "    \"\"\"\n",
    "    train_labels = list(train_labels)\n",
    "    total_labels = len(train_labels)\n",
    "    unique_labels = list(set(train_labels))\n",
    "    label_count = {}\n",
    "    label_prob = {}\n",
    "    for i in unique_labels:\n",
    "        label_count[i] = train_labels.count(i)\n",
    "    for i in unique_labels:\n",
    "        label_prob[i] = label_count[i]/total_labels\n",
    "    label_probab = list(label_prob.values())\n",
    "    predicted_labels = list(np.random.choice(unique_labels, size=num_samples, p=label_probab))\n",
    "    return predicted_labels\n",
    "    \n"
   ]
  },
  {
   "cell_type": "code",
   "execution_count": 262,
   "metadata": {},
   "outputs": [
    {
     "data": {
      "image/png": "[encoded data removed]",
      "text/plain": [
       "<Figure size 640x480 with 1 Axes>"
      ]
     },
     "metadata": {},
     "output_type": "display_data"
    },
    {
     "data": {
      "image/png": "[encoded data removed]",
      "text/plain": [
       "<Figure size 640x480 with 1 Axes>"
      ]
     },
     "metadata": {},
     "output_type": "display_data"
    },
    {
     "name": "stdout",
     "output_type": "stream",
     "text": [
      "All Test Cases Passed!\n"
     ]
    }
   ],
   "source": [
    "rc_labels = np.array([1]*10 + [0]*5, dtype=int)\n",
    "rc_predictions = predict_random(rc_labels, 3)\n",
    "assert len(rc_predictions) == 3\n",
    "assert len(set(rc_predictions).difference({0, 1})) == 0\n",
    "\n",
    "rc_labels = np.array([0]*10 + [1]*5, dtype=int)\n",
    "rc_predictions = predict_random(rc_labels, 100)\n",
    "p, n = label_distribution(rc_predictions)\n",
    "assert n > p\n",
    "\n",
    "rc_labels = np.array([1]*10 + [0]*5, dtype=int)\n",
    "rc_predictions = predict_random(rc_labels, 100)\n",
    "p, n = label_distribution(rc_predictions)\n",
    "assert p > n\n",
    "\n",
    "print('All Test Cases Passed!')"
   ]
  },
  {
   "cell_type": "markdown",
   "metadata": {},
   "source": [
    "### Task 2.2: Naive Bayes Classifier (Total: 10 Points)\n",
    "\n",
    "In this task, you will implement a Naive Bayes Classifier using the tokens in the training sample. As a preprocessing step, you will tokenize via whitespace separation and lowercase all tokens."
   ]
  },
  {
   "cell_type": "markdown",
   "metadata": {},
   "source": [
    "### Task 2.2.2: Preprocessing (5 Points)\n",
    "\n",
    "Tokenize text by separating by whitespace, and then lowercase all tokens."
   ]
  },
  {
   "cell_type": "code",
   "execution_count": 263,
   "metadata": {},
   "outputs": [
    {
     "name": "stdout",
     "output_type": "stream",
     "text": [
      "All Test Cases Passed!\n"
     ]
    }
   ],
   "source": [
    "### ENTER CODE HERE ###\n",
    "\n",
    "def preprocess(text):\n",
    "    \"\"\"\n",
    "    Takes a string of text and returns a list of the whitespace-separated and lowercased tokens.\n",
    "    \"\"\"\n",
    "    tokens_list = text.lower().split()\n",
    "    return tokens_list\n",
    "    \n",
    "test_string = \"This sentence needs to be preprocessed.\"\n",
    "\n",
    "assert preprocess(test_string) == ['this', 'sentence', 'needs', 'to', 'be', 'preprocessed.']\n",
    "\n",
    "print('All Test Cases Passed!')"
   ]
  },
  {
   "cell_type": "markdown",
   "metadata": {},
   "source": [
    "### Task 2.2.3: The Naive Bayes Class (5 Points)\n",
    "\n",
    "The standard way of implementing classifiers like Naive Bayes is to implement the two methods: \"fit\" and \"predict\". The fit method expects the training data along with labels, and the predict method predicts the labels for the provides texts of samples."
   ]
  },
  {
   "cell_type": "code",
   "execution_count": 264,
   "metadata": {},
   "outputs": [
    {
     "name": "stdout",
     "output_type": "stream",
     "text": [
      "This should definitely be one of your first choices for a place to stay on any trip to Montreal, but especially if you are visiting for pleasure. It offers a bargain price for elegant, comfortable accommodations and an authentically high-class experience - the staff is great and friendly, and will make you feel like (whether you are or not) a celebrity. Also, its downtown location is quite convenient. Overall, one of the best values you'll find.\n",
      "The Residence Inn Marriott was a fantastic hotel that I have stayed in many times. The staff is extremely friendly and always remember who I am since I travel quite often to this hotel.   The rooms are more than spacious as they boast a full kitchen, full sized couch, flat screen TV, a small dining table and a desk to do work on.   Also, a few nights a week they have free food and drinks on their first floor which is very delightful.  I would recommend this hotel to anyone.\n",
      "The Place Inn in Oxnard, CA is a perfect place to stay if you are traveling up the coast of California. The rates range form $25 to $40 a night. Each room has a microwave and a fridge so you can keep all the snacks you want right in your room. The twon of Oxnard is quiet and scenic so you can relax all of your vacation. Some of the rooms also have a large spa that you can relax in. The staff is helpful and room service is always on time.\n",
      "The Red Roof Inn was an excellent place to stay when i was needing to stay within a budget. The rooms were clean and the bathrooms had enough towels. The reservations clerk was professional. This hotel had a pool that was clean and well kept. The continental breakfast was good and fresh. There was plenty of parking. I felt safe staying there for the night and felt that i had enough privacy.\n",
      "i recently visited The W hotel in New Orleans(downtown)for the first time and it was best hotel ive ever been too. First of all, the hotel is beautiful!! The valet is prompt and courteous. I was even given a bottle of Voss water upon entrance...for free!! The check-in girl was polite and gave me a free room upgrade. My room was immaculate and beautifully decorated. later that night i ordered room service and the food was hot and fresh. i requested a wake up call the next morning and i did receive it on the dot.  Checkout was a breeze and so was retrieval of my vehicle. overall, i give this hotel two thumbs up!\n",
      "The hotel was enjoyable because the price was reasonable and the service was quick.\n",
      "Over the holidays, we stayed at the Westin in St. Louis,MO. The hotel is stunning! It's located right across from the Cardinals Stadium. The hotel staff was very accommodating. We requested more towels at midnight and they were up there within minutes! The rooms were absolutely gorgeous. The beds were extremely comfortable. My daughter loved that there was a phone in the bathroom! Great experience overall.\n",
      "The Wynn hotel was one of the grandest hotels I've ever had the pleasure to stay in. The shopping is truly the best of all the hotels on the strip! The rooms were ample in size and very modern in the decor. It was five star all the way! My husband loved the sports book and said it was the best of all he has been to. He should know he has been coming to Vegas since the '72. The night life there was fantastic. Surrender is now one of my alltime fav clubs to go to. Let me mention the view was incredible from our rooms. The water falls were beautiful too! I LOVE THE WYNN\n",
      "My husband and I were recently on a business trip to Seattle that coincided with his birthday; while he was working one day I made a spur-of-the-moment decision to celebrate by whisking him away to Victoria, British Columbia for the weekend. I booked a package deal which included ferry tickets, a champagne brunch, and two nights at the famed Fairmont Empress hotel.  I kept our hotel location a secret from my husband until we arrived, and I'm so glad I did! After we docked and cleared customs and emerged into the brisk air, we rounded a corner, and got our first look at the majestic old building. It honestly looked like a storybook castle with its pitched gables, gothic Victorian architecture and a fresh dusting of snow. We both audibly gasped.   Once inside, the front desk was busy with other guests from the ferry. My husband and I stood in line but took turns slipping away to poke around the warm, elegant lobby. It had fascinating objects like model steamships and faded photographs of royal and celebrity guests enjoying the hotel's various amenities over the years. We were therefore in a good mood when the customer in front of us threw what might politely be termed a tantrum. The young clerk handled the matter professionally and quickly. By the time she got to us she was incredibly apologetic. By the time we walked away from the desk, we not only had a seriously upgraded room (with a harbor view and free wi-fi) but a lovely written invitation to enjoy a complimentary birthday dessert in the Bengal Lounge! Amazing.  This hotel is wildly romantic in the snow; because of it we stayed largely inside, snuggled into impossibly comfortable sheets and pillows in our luxuriously appointed suite, sampling the abundance of delicious teas (the Empress is famous for their Afternoon Tea service) our room offered. We had breakfast in front of a roaring fire in the Empress Room, which featured heavy dark wood, intricate carvings and ornate candelabra hung amongst tapestries and paintings. We had delicious champagne and curry at night in the Bengal room, overseen by a full-sized tiger (skin, anyway).   This hotel was one of the few I've ever stayed in that I can actually say I was content to just spend time in; wandering various floors, exploring some fascinating history and relaxing in the refined yet comfortable ambiance.  A once in a lifetime stay!\n",
      "We stayed here this winter and absolutely LOVED our stay! The service was impeccable and the charm of the hotel was perfect. When we checked in, we were created with frosty glasses of water and were taken to a beautifully appointed guest room. We enjoyed riding bikes around the resort and looking at the beautiful ruins, as well as lounging by the pool with drinks for the fun cocktail bar. The food at each of the hotel restaurants was delicious! We could not have had a better stay and will definitely be returning!!\n",
      "I stayed here several times while visiting friends in Blaine. The staff are very friendly and everything you could ever need is actually within walking distance. Pizza Hut is next door, which is awesome! They also have free doughnuts every morning along with juice and coffee. The room I stayed in was very clean and smelled nice. I slept better there than at home. Even with the motorway practically across the street it was very quiet and peaceful. I'll definitely be back!\n",
      "The San Francisco Marriot at Union Square is an amazing hotel. I stayed there for three days during the summer of 2011. First of all the location of the hotel in Union Square is great because of all the shops and restaurants nearby and because of its proximity to many interesting San Francisco hot spots. When I entered the hotel I was greeted by the receptionist who had my reservation ready and who offered me many ideas as to what to do in the city whenever I left the hotel. My room was spectacular and had a nice big window in which I could see Union Square and all the commotion going on the street, which is nice when you're in a big city and can see all the city lights. The beds were nice and clean which is always a big concern of mine and the bathroom was equipped with many towels and toiletries, which was also really nice. There is absolutely nothing I can complain about seeing as the location, the hotel amenities, and my room were all wonderful. I would definitely stay there again.\n",
      "We love staying at the Hyatt! We have two little kids, so having an extra sitting room makes our time here so much more pleasant. The boys need to sleep earlier than we do, so we have the freedom here of putting them to bed without having to sit around in the dark waiting for them to fall asleep. We've stayed several times, and have yet to have a dirty room.\n",
      "I recently went to the Aulani Resort and Spa for a staycation for 3 days. Our party consisted of 3 females and 3 males all between the ages of 25 and 30 and we all found the hotel a great place to spend a few days to relax and be a kid again. We had breakfast with Hawaiian themed Disney characters such as Goofy, Mickey, and Minnie which was fun. Playing in the large pool and relaxing in the man-made creek was a great place to be. 3 in our party went to the spa and all came back relaxed and refreshed while my girlfriend, her friend and I went to play on the water slides and generally have a good time. The setting of the hotel is beautiful beside a salt water lagoon. The night before we left we had a delicious dinner at the Ama'ama restaurant. It was sad to get back to reality once we finished.\n",
      "The Southernmost Hotel in Key West is absolutely amazing. The location is beautiful, right on the beach with an extremely accessible and clean pool. The rooms were fully updated and featured a beautiful Key West/Island decor. The staff was very friendly and accommodating. They answered all of our questions about Key West thoroughly and offered great recommendations. They even upgraded us to a nicer room upon arrival. The price was not exorbitant. The location was within walking distance to all the attractions on Duval.\n",
      "On my last vacation, I decided I wanted to go to a place that was quaint and quiet, but still had a suitable level of culture to partake in. This place turned out to be Charleston, SC. After doing research on hotels in the area, I decided on the Planters Inn on Market Street, a quite luxurious hotel for the area featuring a 4-star dining experience. Upon reaching the hotel the staff was friendly and greeted me warmly. Check-in was a breeze and soon I was off to my king room accommodations. Outside the room was a little round, iron-wrought table set for two overlooking the courtyard. The tall white columns were freshly washed and looked new and fresh plants were out. (The weather was a bit dreary the entire time, so I didn't get to enjoy that feature of the hotel very much.) Once inside with my luggage, the first thing I noticed was a card with my name on it and a teddy bear in the middle of my ginormous bed. The card welcomed me and the bear ultimately became a keepsake for my nephew. The bedroom was beautiful, and the bathroom was just as nice. The first thing I did was take a nice long, hot bath in the jacuzzi. It was the perfect way to unwind after my drive from Atlanta where I'd just barely fled some unseasonable snow. After the bath, I ordered the duck from the 4-star Peninsula Grill and a glass of champagne. It was my first vacation in almost a decade and I planned to live it up! My stay lasted a week, and all in all, each day was the a slightly different rendition of the first. Between sightseeing, visiting shops for gifts and keepsakes, and hitting up a few bead shops for my jewelry line on Etsy, I got to relax in some of the most luxurious accommodations I have ever had the pleasure of partaking in. The staff, from the front desk to the housekeepers, were all friendly and quick to answer any request. (Once I saw a bellman delivering chocolate covered strawberries that were not on the menu, he made sure I got some too!) It was a fabulous hotel and a place I plan to visit again in the future. Thanks Planters Inn!\n",
      "The Polynesian Resort Hotel is an absolutely gorgeous hotel. We had a fabulous time. We especially enjoyed the look and feel of the Polynesian. You feel like you're in the islands.   The service was terrific and the food at the restaurants was very good. There are also great shops inside for shopping.   It's convenient to the parks and you can go to the other hotels in the area.   I would definitely recommend it and we are going back really soon.  Keep up the good work!!!!\n",
      "The Melia hotel in Atlanta was exceptionally nice. The room was very clean and the bed was comfortable. They have a nice bar and grill inside the hotel that was very lively. I enjoyed the overall atmosphere and it was walking distance to the Georgia Aquarium and the Coke building. The price was reasonable considering the location. My room rate including a great breakfast buffet. I was with my daughter visiting the Georgia Aquarium and considering I did not have to spend money on a taxi or buy breakfast, I figured I saved at least $50 each day or $100 total. I would stay again.\n",
      "This hotel was fantastic, everything about it was simply amazing. Not only that, but on my first attempt to find the place, my GPS took me to the wrong location (another Hyatt Place) and even THAT location was clean, and had nice attendants who promptly directed me to the other location.  The price and amenities are simply unbeatable. Due to extending my stay, I had to switch hotels, and let me say, this hotel offered twice the value at half the cost. When you enter, the room is split into multiple rooms, the TV is huge and HD, the WiFi is free, and the beds are so comfortable. Downstairs, they have a 24/7 desert bar, you simply walk down, tell them what you want, and they add it to your tab (they don't even ask for your room number, they remember it!). So convenient and amazing. When you show up, they even offer you a personalized tour!  And when you wake up, stop by the breakfast. Their biscuits and gravy are to die for.\n",
      "My stay at the Rennaissance hotel in Ft. Lauderdale coincided with the wedding of a dear friend. My initial plans for a place to stay fell through and I had to book a room at the Rennaissance after arriving in the area. The booking staff on the phone was very helpful and the rates were great considering I was reserving for a stay that would begin that very night.  I was very happy with the amenities at the hotel. There is a more than ample parking lot. The lobby was fit for an art museum, and the food was scrumptious. The room we stayed in was beautiful and overlooked the pool and a lake. Our bed was very comfortable and we slept like babies.   Overall the service at the Rennaissance was impeccable. The concierge was extremely helpful, polite, and responsive. If I ever need to be in the area again, I'll make this hotel my first choice.\n",
      "Our family of 4 recently stayed at the International Palms Resort in Cocoa Beach Florida. This is an excellent resort for families with young children. The rooms are accommodating with a large bed and a pullout couch. The kitchenette was also convenient because we could eat breakfast and lunch in our room and only had to buy one meal per day out. We also really liked the on site restaurant on the beach. It was close and the food was good. It also had an upper deck with a full view of the beach. The pool area is absolutely wonderful. There is a large pool for the adults and the children's pool has a pirate ship complete with water cannons and slides. Our stay was very enjoyable and we will be visiting again.\n",
      "I was very impressed with the hotel. The exterior of the hotel was one thing, which is simply marvelous, but it was probably the roomiest hotel in the Concord, NH area. It is close to my brother's school, had excellent service and pretty nifty free toiletry, nice bathrooms, free internet connection and more. The attendants were very attentive, and I would love to stay there again if not for the price.\n",
      "This hotel was very accommodating to our needs. It provided a comfortable queen sized bed and a pull-out couch for our daughter to sleep in. The continental breakfast was simple but just enough for our taste. It saved us the trouble of having to pay for breakfast somewhere else. The workout area was nice, as was the pool. Overall, we had a very good experience staying in this hotel.\n",
      "I thought that this hotel was great. The resort was huge, had many pools, and offered many dinning options. They also had a shuttle that would take you to all the different theme parks as well as many on sight activities to do everyday of the week. You could do paddle boats, play tennis and basketball, and play a round of mini-golf.\n",
      "From the moment you walk in, you know the experience at the Westin is going to be a fantastic one. The staff behind the counter are friendly and the bellhop will take your bags to your room while you check in. Everyone is dressed nicely and act very professionally; something you expect from such a high quality hotel. The rooms are large with nice flat-screen televisions to watch while you're laying on a goose feather down comforter. The bathroom is equally as impressive with marble floors, a large back lit mirror and a walk in shower that has stone tile! The in house restaurant has a variety of delicious menu options to eat while you look out over the pool deck. Valet parking is available as well and can be called from your room so you don't have to wait! I loved this hotel and would recommend it to anyone seeking luxury and comfort during their stay.\n",
      "I decided to stay at the Japan House Suites thinking that it would be just like any other motel and for the amazing rate I figured the rooms wouldn't be all that great. But, boy was I WRONG. The owners were very nice, helpful, and have AMAZING customer service. The rooms were spacious, clean, and comfortable. And in the morning they make a made to order breakfast, which steak and eggs is one of the items on the menu. I couldn't believe this great hotel that i found especially for such a bargain!\n",
      "America's Best Value Inn - Golden Gate is just that, a great value near Golden Gate Bridge. The hotel was located near several different bus stop lines, which made travel around the city very simple. The Golden Gate Bridge was about a ten minute ride away. As for the hotel itself, the staff was very friendly, they held our bags for us when we got there earlier then expected and also let us check in about two hours early after that. The room we booked was a King Suite and the size was great for only $50something per night. We joined their free discount club before we went, so the room was a great deal. The shower had plenty of hot water and the bathroom was clean. We had never been to San Francisco before and so we didn't spend too much time in the hotel but it was clean, the bed was large and comfortable and the staff was great. We plan on staying with them next time we travel to SF.\n",
      "The Holiday Inn near the stadium in Philly was one of the highlights of my trip last summer. I was there for a weekend to take in the sights and watch a playoff game at the ballpark. The customer staff was very professional and even told me of a discount that I was eligible for, which I had no idea about, and it saved me almost $20 per night! The room was perfectly clean and the beds were just as comfortable as mine at home, so I slept soundly the entire time I was there. The WiFi was great and the restaurant was even better the couple of times that I ate there. All in all, it was a very pleasent experience and I can't wait for my team to play in Philly again so I can revisit that Holiday Inn!\n",
      "The first time visiting a city you've never been in is scary. Luckily, my friend booked me a place at embassy suites, and it wasn't so sad anymore. It has a great view from the 7th floor and the lights at night are fantastic. It's in walking distance from the North Point mall in Alpharetta, GA and I just about went there everyday. I practically spent all my money going to the mall and eating out everyday, but it was a fabulous time. The hotel itself has a beautiful interior and the one I stayed at had a free breakfast, an indoor pool and a bar. What more can you ask for? The staff at the hotel were very polite and accommodating and it was just a pleasant experience staying here. I would definitely choose this hotel again when I'm nearby and need a place to stay.\n",
      "I live in Houston and I usually stay at the Galvez Hotel on Galveston Island at least one or two times a year, as I live in Houston, which is about an hour away in good traffic. I like to go down there as a quick weekend getaway, to relax and unwind. They have a bed and breakfast deal that suits my needs perfectly. I’ve always liked their historical ambience, and they’ve updated the décor in recent times which makes it an even more attractive place. The staff is always pleasant and the rooms are always clean, peaceful and quiet, which are all major attractions for me. The hotel is supposed to be haunted, and I would love to see a ghost, but to date, I have never had so much as one paranormal experience. Despite my lack of ghostly encounters, I still love staying at the hotel because of its historic ambience, tranquility and beachfront location. One of my more pleasant memories of the Galvez is standing on the beach there at dawn, with coffee in hand and watching the sun come up over the ocean. The hotel is close to several of Galveston’s attractions that I like to visit. I come down to eat at nearby Pier 21 and have one of their shrimp poor boys, go shopping on the Strand and visit Moody gardens, which has a great saltwater aquarium and a wonderful rainforest pyramid, loaded with tropical birds and butterflies. If you want a loud, crazy place, then fly to Las Vegas, but if you need to relax and unwind, stay at the Hotel Galvez on Galveston Island.\n",
      "Thsi is the mose beautiful place I have ever stayed. A very small 40 room French style hotel. The staff is exceptional and the beach is the best in all of Jamaica.  Very clean and the rooms are great. Clive the beach security is the best ever in keeping all the venodors away from you so you can relax\n",
      "I've stayed at the 16th Street Mall Westin more than 60 nights in the past four years, on a combined business/personal trips. The staff and management of the hotel have always been friendly and guest driven in their service.   Love the hotel's location. In fact the reason I first stayed at the hotel is the fact it's on the 16th Street Mall and within walking distance of our corporate office. In fact after the first trip I stopped renting a car, there just was no need for one. The view of the mountains from the upper floors is breathtaking. The king sized bed has always been world class, as they are in every Westin I've stayed at.  The room comfort and staff friendliness are the reason I stay at this hotel every trip to Denver.\n",
      "This hotel was incredible. I stayed at the Holiday Inn in Binghamton, NY. The room was a perfect size, they had a mini fridge in the room which was a definite plus. The beds were comfortable and they even had soft and firm pillows! I would rate this 4/5. They were clean, and the staff was respectful. The services were perfect.\n",
      "We went to Sycuan as a birthday trip for my husband. Even though the hotel and casino are seperate it was nice because it may the environment at the resort a lot more peaceful. When I made my reservation online, I ordered a dessert tray to be delivered to our room as a surpise for my husband. We were only in the room for 5 or 10 minutes when there was a knock on our door from room service delivering our treats. The dessert tray was amazing! We not only had chcoclate dipped strawberries and fresh baked cookies, but also a GIANT piece of triple chocolate cake. We almost didn't make it to the casino because we almost slipped into a food coma from all the sweets. What also made our stay really nice was the fact that they had free transportation to and from the casino. You could call from your room, and be picked up outside of your room to be driven to the casino. The bus runs 24 hours so it didn't matter if we went late at night or in the middle of the day. The drive is only 5 minutes and they drop you off right in front of the casino. After being in the casino we got picked up and driven back to our room. We had such a great night's sleep and there was no rush to check-out on time.  I would recommend this to anyone who wants the comfort of a resort with the entertainment of a casino. I will definately go back again.\n",
      "I like the motel 6, it was very affordable for what it was. Didn't have a bad odor like most motels. Pretty clean rooms.They are pet friendly so I didn't have to pay extra for my dog. Which is a money saver. I like the pool in the middle of the property where you can see rooms from pool.\n",
      "I stayed here while attending a SHPE conference in Washington. The accommodations were very nice, the beds were comfortable, the walls were thick, the bathroom was of decent size - I absolutely loved the hotel. The staff was absolutely amazing and very hospitable- they went out of their way to make sure we felt welcome and enjoyed our stay during the event. One of my favorite parts of the hotel was the lobby, simply because it was large, but you couldn't get lost in it. There was always someone there to assist you with exceptional customer service skills. Everyone was very friendly during the stay.  I would recommend this hotel to anyone, and while some hesitate because of the price, it is really one of the best hotels to stay at in Washington in order to make the stay comfortable and positively memorable.\n",
      "Recently, I stayed in Las Vegas at the Motel 6 Tropicana. I loved this Motel 6. It was newly remodeled, and they allow pets. I travel with my dogs, so being able to bring them in is a plus. The newly remodeled room was very pleasant. I stayed in a non smoking room. It was very clean. The bathroom was spacious! The room was decorated in bright colored paint, and had a flat panel TV. The Motel 6 Tropicana, is located two blocks from the Strip. It made walking to the Strip a breeze. The staff was very helpful in finding a room on the first floor of the two story hotel. I also travel with small children, and needed to be able to access the room without the hassel of stairs. I'm planning another trip to Las Vegas in the very near future. I've already booked a room at the Motel 6 Tropicana.\n",
      "Howard Johnson hotels are the best value for your money and your time. The staff there are very helpful and friendly, and the hotel itself is immaculate. Our family really loved the idea of bringing Fido on our vacation with us, and this hotel accommodated that for us. My children absolutely loved this place and everything about it. They were amazed at the sight of an indoor pool, and delighted when I told them they could go swimming. The hotel also had one of the best complimentary breakfast Ive had at a hotel. There was a huge selection of food. The rooms are big and spacious, so we had no problem fitting everyone in comfortably. I would certainly recommend this hotel to anyone looking to get away, whether that be with or without family. One of the best hotel experiences of my life!\n",
      "I stayed in this hotel while I was on vacation. This is an amazing hotel. Lobby is huge and my kids really enjoyed the time we spent there. TV was big size and very crystal clear. Bed was clean and everything was very organized. Staff was very quick in responding to phone calls. I went to checkout the bar at night and to my surprise it was also very big and lot of options for beer. Overall great experience!\n",
      "I took a trip to New York for a couple of days with my two daughters and we decided to splurge and stay at the Doubletree in Times Square. We booked a small suite on a mid level floor and were very excited by our room. The decor was exciting, bright colored and contemporary. Everything was comfortable and the bathroom was somewhat luxorious. We tried the exercize room too. It was quite nice and we were the only people in it. The reception area was stylish and appealing and the hotel staff were helpful and freindly. No one was snobby even though we were paying over $400 per night. We all had a great time at the Doubletree and felt welcome and comfortable.\n",
      "The Ocean Creek Resort in Myrtle Beach is the Best!The Hotel is situated on the water in Myrtle Beach and has several pools for both adults and children. Because of the location near a creek the water is great for little children. The rooms are spacious and bright. the staff is very friendly and accommodating to your needs. The ocean side bar is perfect for sitting back and listening to music.\n",
      "My husband and I recently spent 3 nights at The Flamingo Las Vegas. We very much enjoyed our experience there! The Flamingo is located at the center of the Strip and we were in short walking distance to tons of restaurants and other hotels. Our room had floor to ceiling windows with an AMAZING view of the strip and the Bellagio fountains. The room was updated with a very large flat screen TV in the living room and even a small TV in the bathroom mirror! Check-in was very quick and easy and all of the staff were extremely friendly. The hotel wasn't stuffy or uppity like other hotels we have been to on the Vegas Strip. The grounds were superbly kept and extremely peaceful at night.   We ate at the various places in the hotel several times and were pleased with each experience. Margaritaville had a great atmosphere and great service. We ordered room service for breakfast and the french toast was amazing!   My husband and I plan to return to Vegas this year and will be staying at the Flamingo again. You just can't beat the price and location!\n",
      "The Kalahari is a great place to take your kids for a quick vacation. I went to the Kalahari a few months ago and had a blast. The whole hotel is rainforest themed, which creates a vacation feel, almost like Disney World. The indoor water park is phenomenal. Kids and adults alike will enjoy all of the entertainment that the Kalahari has.\n",
      "Hotel Penn is in a great location and at a cheap price. For less than most other hotels in NY, you get to stay in the heart of the city write across from Penn Station/MSG and a few blocks away from Times Square, Macy's, and many subway stops. The rooms aren't too small, and our room even had a view of the Empire State Building! The hotel is also surrounded by tons of cheap restaurants, and it is perfect for a tourist!\n",
      "This hotel was surprisingly well maintained and nice for the price. I found the room to be very clean and the bed was confortable. The wireless was lacking but data center in the lobby was such that I could work and not be distracted. I enjoyed the food in the restaurant and the bar. The staff was very pleasant and the night auditor was very helpful straightening out a problem with my bill. I'd defintely stay there again if I'm ever back in Dallas and would recommend to friends visiting the area.\n",
      "My husband and I stayed at the Marriott Fairfield Inn and Suites in downtown Louisville, Kentucky a few weekends ago. The hotel was conveniently located right off I-65 and the hotel provided adequate parking. We arrived before check-in but our room was ready for us. Room decor is modern and colorful and I liked that the bath and lavatory were separate. The hotel was quiet and clean and the complimentary breakfast was one of the best I've had at a hotel -- fresh fruit, homemade waffles, bacon and eggs, etc, etc. Would definitely stay again if travelling to the area.\n",
      "We had an incredible stay at The XV Beacon. It started with an upgrade to a gorgeous room. The hotel is in a quaint part of Boston hand the rooms are on the smaller side. However, this is made up for with the service and the decor. The room is so luxurious and comfortable. The bed linens are the highest quality I have ever seen in a hotel. The bath products are amazing as well. Everywhere you look there are wonderful details. from bowls of fruit for the taking throughout the hotel to embossed leather walls in the elevator. The staff knew us by name each time we passed through the lobby and always went out of their way to be friendly towards our young daughter. The location can't be beat either. it's like staying with a friend in their brownstone in Beacon Hill. I would never stay anywhere else in Boston.\n",
      "When other hotels in the area were either fully booked or offering sky-high rates, the Extended Stay America in Burbank was a great option. There was ample parking, easy access to local freeways, and the room itself was clean and comfortable. The best part was the kitchen that carried all of the pans, dishes, and utensils we needed. It was right in a huge shopping center, which was very convenient.\n",
      "I have no complaints and I’m a picky hotel guest. The room was clean, the sheets were not old, and the bathroom was spotless. Everything worked properly which made for a great experience while getting ready for an interview. The front desk staff was more the helpful. They gave us advice on where to eat, information on the city, and the place I was interviewing at. The continental breakfast had lots of unique options; it went beyond the average spread at a hotel. I’m impressed.\n",
      "I recently stayed at the Marriott Beachside Hotel in Key West, the one right off the roadway when you first get into town. It was pure luxury, and has its own private beach, with small boat rentals right there on the property. They have private cabana rentals and a poolside tiki bar. The restaurant is amazing and you can watch the chefs preparing everything right there from your table. It's a little ways from the main action in Key West, but they provide a free shuttle that runs every few minutes and drops you off right on the main strip, in front of the Jimmy Buffet Margaritaville restaurant. It's much quieter to stay off the main strip, and you don't have to worry about parking or driving if you've been partying. And who doesn't party when they go to Key West??\n",
      "Beautiful resort with excellent views of the ocean. The large pool with pool bar was an excellent place to chill and unwind with my wife while we glanced over the kids playing in the various parts of the pool. Extremely close to the beach, which had the right amount of people that you didn't feel alone, but certainly didn't feel cramped for space. Very nice, friendly staff that gave off the calm, Caribbean vibe. Couldn't of asked for a better resort.\n",
      "Staying at the Bon Aire on St. Pete Beach is by far the best vacation experience I have ever had in my life. The landscaping is beautiful! I couldn't believe all of the different colored flowers and plants. Also the hotel rooms were great. Everything was kept very sanitary, and the layout of the room couldn't have been better. In my opinion, the greatest plus to have staying at the Bon Aire was being able to get food and drinks all day from Sandbar Bills. Sandbar Bills makes one of the greatest cheese burgers I have ever had in my life. Everything about this resort is just all around amazing, including the location. Right across the street from the resort is a Walgreens that is open 24/7! At night when Sandbar Bills is closed, I could walk across the street and buy a snack. In conclusion, I would recommend staying at the Bon Aire over any other place if you are coming to visit St. Pete Beach. You will not be disappointed!\n",
      "The Microtel in Charlotte, North Carolina is a nice place to stay. It is located just a short distance of the Charlotte-Douglas Airport. It is clean and inexpensive, a perfect combination for a traveler on a budget. I stayed there when visiting a NASCAR race in the area. The hotel was roomy, the hotel staff was friendly and informative, and I enjoyed relaxing there. The beds and pillows were soft. I enjoyed my stay there and would gladly stay there again. 4 out of 5 stars.\n",
      "This hotel is very affordable when my family takes trips to Lake Mead. You can find affordable rooms all year long and it is a very short drive to the lake and to the Hoover Dam. There is a gas station across the street and a casino, bar, buffet, and restaurant downstairs. They also have ice machines that are conveniently located, a game room for the kids and a decent sized pool and jacuzzi. They also have car spots that are ideal for those parking their cars with trailers. They have a small theatre where they show movies at a low price. The customer service is great. When we had an issue with a barking dog next door, we were bumped up to a mini suite in the small tower. It was great! I definitely recommend this hotel to anyone visiting Lake Mead.\n",
      "I had a wonderful, relaxed stay at the Huntley Hotel. I wasn't staying in the priciest room, but all the staff treated me like I had reserved the penthouse. The desk clerk even helped me locate my wallet after I left it in the hotel restaurant. In addition to beautiful rooms and a kind staff, the Huntley boasts a location barely two blocks from the Santa Monica beach. When I wasn't enjoying the amenities of the hotel, I was lounging in the sun.\n",
      "The Riviera Hotel in Las Vegas is a great place to stay if you're looking for a place to unwind after a your wild nights in Vegas. Upon arriving the first thing you'll notice is there is plenty of easily accessible parking, that won't have you walking too far to get to your room. You'll enter and notice a large lobby with good abeyance and quick service. The food offered inside the hotel is great. The food court offers cuisine from all over the world, for cheap and affordable prices. The Indian food was AWESOME, quick and cheap compared to most of the prices you'll be looking at in Vegas. When I entered my room I was stunned by the size. For the $30 a night rate, I was not expecting a large comfortable room! The bathroom was more comfortable than being home. When do you ever get that? The staff at the Riviera was all sorts of friendly, even helping us find our way around the strip and letting us know some fun places to go that our 20 year old friends, and of-drinking-age friends could all have a blast. Next time I'm in Vegas, I'm booking my room at the Riviera.\n",
      "I stayed at this hotel with my family last summer. A big plus for us was that they accepted pets so we were able to bring our dogs on vacation with us. The staff was very friendly and accomodating, and the rooms were neat and clean. We really liked the fact that there were separate areas for us to walk our dogs and for our child to play. I would definitely recommend this hotel and will most likely be staying there in the future.\n",
      "The Beachcomber Resort & Villas is what makes South Florida, South Florida. The moment I walked in I was taken back by the beautiful decor, and greeted by friendly staff. I was able to check in quickly, and with no hassle. The room was more amazing then expected! It had a BEAUTIFUL view! I looked out and saw ALL of Ft. Lauderdale on a crystal clear day. At this point, I decided I’d rather be on the beach then look at it, and no sooner then that I walked out the back door of the hotel, and was right on the beach. Beachcomber is amazing, the rooms, the service, the amenities all exceeded my very high expectations.\n",
      "Absolutely a great hotel for families! The rooms are spacious, restaraunts are very kid-friendly, and the pool area is gorgeous. My children felt like they were at a water park, not just another hotel. We will definitely return for another stay here!\n",
      "We stayed at The Oread in the Fall for a work conference and had a wonderful time. The staff greeted us as we entered and directed us to our rooms. The architecture is beautiful, with rock walls lining both the inside and outside of the establishment. It almost felt like we were in a castle. Our room was nice and clean and was well-appointed. There were granite counters and a comfortable bed. The pillows were so great that I actually asked to purchase one before we left, and they said since they get that request so often, I could order one to be shipped to my house. Overall, it was a great stay and I will stay there again when I am in the area.\n",
      "On a cross-country trip, hubby and I decided to stop overnight at this hotel. Upon entering, we were warmly greeted by the front desk and check-in was prompt and quick.  We went to our economy room and quickly found the bathroom facilities were not in working order. The front desk promptly upgraded our room for no charge (although there were many economy rooms still available). After a quick room change we went to check out the pool and hot tub area. The area was clean and well stocked with chairs and towels (and as a bonus, we were the only ones there). The pool was cool and clear, and the hot tup warm. After a quick dip we headed back to our room to enjoy the king size bed, huge flat screen TV, and premium cable. Our stay was very comfortable and no complaints about bed, bedding, or showering facilities.  The continental breakfast was superb. There was fresh fruit, cereal, eggs, and make-your-own waffles. We left filling full, refreshed, and ready for the last leg of our trip. I would recommended this hotel for anyone looking for a nicer hotel on your weekend trip.\n",
      "This is easily Seattle's most elegant hotel. The Fireside Room, a stunning, wood-paneled lounge on the first floor of the building, is in itself worth a visit. With frequent live jazz performances and cocktails, it transports you to a bygone era. The rooms themselves, though on the small side, are dripping with atmosphere. The furnishings are elegant, the walls accented with wonderful period details, and the bookcase (filled with real books) is a wonderful touch. Everything, from the bathrooms to the linens, has a wonderful, lived-in feel. And best of all, the hotel is only a few blocks from downtown! The location is especially ideal for those doing business at the conference center, which is only a short walk away. If you want a homey, refined atmosphere, The Sorrento can't be beat.\n",
      "A night at the Hotel Roanoke is a charming experience and the perfect overnight getaway. there are many venues to experience from enjoying a quality gourmet meal in The regency room to enjoy the luxury of late night drinks in the Pine Room, complimentary big cookies waiting for us in our room. A walkway connects the hotel with the downtown shops, restaurants and large farmer's market.  The opportunity of exploration are endless in this beautiful city, Roanoke it self being known as the festival city of Virginia always has something going on form the festival in the park to Dickens of a Christmas its a amazing place to visit\n",
      "The Naples Grande Beach Resort by Waldorf Astoria is a fabulous hotel located in the pristine beaches of Florida's Gulf Coast. This wonderful property features an unparalleled location overlooking the ocean while sipping a drink from your room's balcony. Helpful staff and high standards of service and cleanliness make it a great place to relax for a few days. If you are traveling with your family, Naples Grande features many amenities for kids, including a very entertaining pool complete with water slides and water activities. A second pool is available for those who wish a more quiet atmosphere while still enjoying pool-side service.   Located just a few minutes from downtown Naples, you can always venture out for dinner in town, or for some shopping. However, if you just want to get away you can park your car and forget about it until it is time to venture back to reality! Everything you may need is available at this fabulous hotel!\n",
      "This hotel is conveniently located just blocks from the world-famous Waikiki beach. The room price was very reasonable, and the hotel had a lot of great amenities, such as a pool, hot tub, bar, restaurant, and gift shop. The room was quite comfortable with a great view of the city, although I know that for a little more money nightly, the hotel also provides rooms that have an ocean view. The room was secure. It had a nice bathroom with a hair dryer. It also had a closet with hangers, and an ironing board and iron. There was a fairly large safe in the room where I could store important belongings while I was out, just for added security. There was a television, a refrigerator, and a coffee pot. There was also internet for a small daily fee. The hotel is not only located close to the beach, but also to a lot of shops and restaurants. It is right on the bus line, so it is very easy to just walk outside the hotel and catch a bus to virtually anywhere on the island, including the Manoa neighborhood, the zoo, or even to Hanauma Bay, which is about an hour's drive away from the Waikiki area. Furthermore, I really liked the hotel lobby--it is a nice open air lobby with tables to sit at and have breakfast. There is a lovely fountain and koi pond. I would definitely recommend this hotel to anyone who is on a budget, but would like to experience Hawaii nonetheless.\n",
      "When my family and I were on college visiting trips, this is one of the hotels we unfortunately stayed in. First off, the hotel was no where near the University campus, even though it was construed on the website that they were within walking distance. Note: I contacted their corporate offices and they have since taken this fact out of the hotels description.  The room was not no terribly spacious and the decor / ambiance of the room was very dated; think old floral paintings and an outdated lead-screen TV.  And it smelled! Oh dear god did it smell bad in that room. At one point, our family actually had to switch rooms entirely just to avoid the odor emanating from the bowels of Hell itself.  Would I ever go back to this hotel? Absolutely not.\n",
      "The Westin in Virginia Beach is by far my favorite hotel, which is why I keep going back. The fluffy white bedspreads and crisp white sheets will make you feel like royalty. The staff is very courteous and respectful, and the room service is prompt and delicious. I had to take pictures of my eggs benedict because it was plated so elegantly!! They offer a lobby bar and restaurant, a Starbucks, and a fitness center, with some bedrooms having fitness equipment in them. There are tons of restaurants and shops only a block away from the hotel! The rooms are spacious as are the bathrooms. The attention to detail is apparent- from the folded toilet paper to the elegant leaf-shaped soap! Everything is fresh, bright and shiny! I wish I could live at the Westin! You too will get the royal treatment here!\n",
      "Went to this hotel when visiting nearby national parks with family. Front desk staff was courteous and quickly resolved any questions we had. Our 2-queen bed room was clean and spacious. Room has nice LCD TV, coffee maker, fridge, microwave, massaging shower heads, and good mattresses. We stayed for 2 nights and room was well cleaned and put together after first night with coffee packs refilled. Overall very satisfied.\n",
      "The Pearl River Hilton offers an incredibly upscale experience. The hotel boasts 17 acres of extraordinary landscape, a full pool, and a gourmet restaurant on premise. The staff is extremely friendly, and the rooms are very comfortable - all with a great view! Additionally, there are many conference and event rooms in a separate wing available for your next special event.\n",
      "The Sheraton was divine. It had a trendy decor, great staff, and pleasant atmosphere. It was a bit pricey but it was also very worth it. I didn't have any issues with the staff. They were all very helpful and well trained. My room was like a gateway to heaven. The beds were soft, it was like sleeping on air. The bathroom was built with relaxation in mind. The dining was impeccable. The pool was another get away on its own. They even had a spa. This place exceeded all of my expectations. I couldn't have asked for a better stay.\n",
      "I had one of my best hotel experiences in this establishment. This hotel is located right on the beach, had plenty of amenities and the people (both guests and employees) were full of energy and really made me feel both welcome and happy.\n",
      "Recently I traveled to Phenix City, Alabama to visit my brother who is in the army and stationed in Fort Benning, Georgia. The trip was lengthy and by the time I arrived in Phenix City I was absolutely worn out. I decided to check in at the Quality Inn. I ended up staying there for three nights and enjoyed everything about it. They had the absolute best hot continental breakfast that I have ever had at a hotel and my suite was always clean and stocked with fresh blankets and towels. If I had the opportunity, I would definitely stay there again.\n",
      "I loved the time I spent at the Luxor. It combined an elegant design with an amazing staff. We stayed near the very top of the pyramid, and the view of the city was simply breathtaking. Even something as simple as using the elevator was a fun experience. Instead of simply going up and down, it's structured to take the unique slant of the hotel into consideration.\n",
      "This the best hotel for the money that I paid to stay there for a week last summer. Very decent breakfast and friendly staff. Internet was free and fast. I would certainly recommend this hotel to my friends and looking forward to my next stay there this summer.\n",
      "I'm a frequent traveler to Japan, and of all the hotels I've stayed in, my favorite, by far, has been the Park Hotel Tokyo. The hotel is located in the skyscraper district of Shiodome and lies within walking distance of the Ginza shopping district and the famous Tsukiji fish auction, a popular tourist attraction.  The Park Hotel Tokyo's service is excellent and the English-speaking staff are helpful and friendly. The rooms, though a bit small, as is common in Japanese hotels, are clean and have a stylish, modern appeal.  The lobby, which is on the 25th floor of the Shiodome Media Tower, has a beautiful view of the Tokyo Tower and there are often soft Jazz concerts in the evenings, giving the hotel a quiet, calm elegance. In the mornings, the lobby is bustling with patrons enjoying the excellent breakfast buffet. The buffet is not included in the room price, but I was fortunate enough to receive coupons on a couple of visits, and the food was excellent.  And when you're not relaxing in the lobby or enjoying your quiet room, the Park Hotel Tokyo is also within walking distance to several excellent restaurants and there is a Starbucks Coffee located in the basement of the adjacent building, along with a convenience store for late-night snacks or drinks.  The Shiodome area is primarily a business district, so unlike other popular Tokyo hotels, the Park Hotel Tokyo's surrounding areas are quiet on the weekends and evenings, though the hustle and bustle of the morning work rush can be daunting. That it's also a business district, however, means that it's a great hub for traveling, with many Tokyo Metro subway lines running through the area, as well the JR Shimbashi train station, leaving travelers a lot of options to get around.  Also, Shimbashi station is centrally located station, just a few stops from the main Tokyo station, Akihabara, the electronics district, and popular tourist destinations like Harajuku, Shinjuku, and Ueno.  Taking convenience, location, and atmosphere into location, the Park Hotel Tokyo has been and will likely remain my favorite hotel when visiting Tokyo.\n",
      "I stayed at the Red Lion in Anehiem, CA. It was within walking distance of Disneyland, which was great. The interior of the hotel was beautiful. The marble floors in the lobby were goreous. The room was tastefully decorated, with a beautiful bathroom. The bed was very comfortable and the bedding was clean. The housekeeping was great. I also loved the great HD TV available in the room. I would stay again!\n",
      "When we reserved a reservation at La Quinta Hotel in Ft. Lauderdale, FL, we expected a decent nights sleep at a fairly decent price. We have stayed at La Quinta before and were always satisfied. This particular hotel is not what we expected. It is run down and dirty in the rooms. Also the noise level was a constant all night with the parties going on in numerous rooms around ours. I wouldn't recommend this to my enemy!\n",
      "The prices at this hotel are reasonably cheap, but that doesn't make up for the inconsistency of service here. The atmosphere of the hotel is not exactly what you would call ambiance as it is rather drab, dull and maybe even disheartening. In addition, it can get very noisy even at night, so that you might not be able to sleep despite being inside your room. For a decently priced hotel, they also charge shockingly high prices for food at their restaurant. Don't book this hotel, you can do better.\n",
      "The rooms were small, the size or a jail cell or so. Televisions were small and dated. Outside of the motel was not pleasant, very dirty with garbage everywhere. The microwaves were dirty inside when I made a quick snack at night. Also the owner was quite questionable, as we're the other residents. Very run down motel.. My husband and I also woke up in the middle of the night itching, we pulled up the sheets and found bed bugs. We' then packed our stuff and left. I would NEVER EVER recommend anybody stay at this motel. When we approached the owners about the bugs, all they said was  we know, we are trying to get rid of them. They shoud be reported to the health inspector.\n",
      "Stay away from this hotel!!! My fiance and I ended up staying at a Motel 6 on vacation due to their popularity and decent reputation, and especially for the fair pricing, however, this experience was something that was almost enough to ruin our entire trip. The room had no working air conditioner, and it was summer!!! No matter how many times we informed the front desk, they didn't send out maintenance. The sheets had yellow stains, and the entire room smelled awful. The shower head had terrible water pressure, but, this again was something that was never fixed. Eventually we just ended up leaving the hotel and paying double price for a hotel of the same caliber. Absolutely awful experience.\n",
      "This hotel is located at a busy traffic circle near the interstate. It isn't walking distance to downtown. The hotel restaurant was average. My wife complained about the quality of the sheets; they were pretty rough.\n",
      "I think I overpaid for a room at this hotel. Compared to the other hotels I have stayed at, which have only been a handful, for the price of the room I expected the quality of the room to be much better. $40 or so would have been acceptable for the state of the room. It was pretty bare and looked, well, cheap really. The sheets were thin and the tv was small, so paying almost $100 for the room seemed like too much. The continental breakfast items were also bland and it seemed like there wasn't much thought put into the food, just quickly made and delivered.\n",
      "The Ao Chalong Hotel in Phuket, Thailand was a huge disappointment. We wanted to have a nice, somewhat luxury vacation, me and my two friends. We arrived at a later hour (but had informed the hotel that we would get in later because of our late flight) and the staff was extremely unfriendly. Since there were three of us traveling together it was difficult to find rooms that accommodated three people. However, when we booked with Ao Chalong we specifically stated that we would be three people and need a third bed. From the get go, the hotel had our reservation completely wrong and were extremely disrespectful to us. They made us very uncomfortable and the accommodations were terrible. We could hear everything from the other rooms and the locations were ugly and in terrible state. Stay away from this hotel.\n",
      "I stayed at this hotel when I was trekking across Pennsylvania to get to New York City the next day. I was extremely disappointed by my stay here! The staff ignored most of my questions and brushed those questions off of their shoulders like eh, it can wait. I was even more baffled with disgust when I entered my extremely stuffy room to find a TV that did not work, and a very low internet connection that I PAID to connect to! The meal was great though, room service was mediocre at best, and the bed was surprisingly very comfortable. This hotel was by far the worst I've ever stayed at, you can tell that these people were just in it for the money and had no people skills.\n",
      "I recently stayed at the Astor Crown Plaza in New Orleans for a work seminar. My seminar was being held in another hotel in the French Quarter, so I felt that it would be best for me to stay in the French Quarter as well. I got a somewhat reasonable price for the Astor and thought that it was in a good location when looking at a map of the area. I arrived with a coworker very late at night due to plane layovers and was extremely uncomfortable when getting out of my taxi. There were probably 7-10 random people standing outside the doors cursing and yelling. I had to walk through these people to get to the door and there was no doorman to make me feel more at ease with the random cursing people.I went to check in and it went quick enough, however the woman helping me spoke only when spoken to and seemed very annoyed that we were checking in - like we had interrupted something. Just handed us our room keys and looked back at her computer. The room was fine - no complaints about the cleanliness. However, it is IMPOSSIBLE to sleep! With all of the commotion on Bourbon street below, you must bring ear plugs if you even want to think about sleeping! I was in need of some water and went down the hall to the vending area and tried to but a bottle and was unable to because it was sold out. I went back to my room assuming that it would be refilled at some point that night or the next morning. The next night, I tried again - no water. I then went to several other vending areas on other floors and no water there either. I went back to my room and called room service and did receive two bottles of water. I drank half of one and went to bed. The next day, I left the room for my work function and came back to see that housekeeping had taken my water! All in all, the location of this hotel is fine, but customer service, and water, seem to be lacking quite a bit! I will be returning to the French Quarter but not to this hotel.\n",
      "I called weeks in advance to reserve a room, and informed the staff that I had a handicapped woman with me so I would need a wheelchair accessible room. When I arrived to the hotel I was shown to my room, which ended up NOT being handicap accessible. The handicap room was not available so I basically had to deal with what they gave me. On top of that, there were no towels in my room and the continental breakfast ended up only being frozen waffles. I will NOT be staying here again.\n",
      "This Hotel is filthy, bedbugs, dirt, mold, the bedding looked dirty. There is only one person that runs the front desk and he is old and does not speak english. I could not get a refund for my stay and I wanted to get out of this place as soon as I walked into the room. There are obvious drug users and other illegal activity on the premises. I would never stay here again. The front desk operator is rude and the place is not worth what I paid for it. If I wanted to pay for bedbugs and filth I wouldnt have had a problem with the place. They alley would have been cleaner and probably safer. STAY AWAY!!!!\n",
      "Upon check in at the hotel the front desk person was very rude, and attenitive in the least. The room was dirty, and the jaccuzi was filthy and out dated.\n",
      "Located in downtown Jefferson, Texas, this Victorian style hotel is sure to please. With the Lamanche's Italian Restaurant found right beside this historical hotel, one doesn't need to go far to find comfort of mind or body. Each room hosts a cable television and personal baths, and the bedding is comfortable. Each piece of furniture within the rooms is maintained very well to further the Victorian feel.For any who are interested in the paranormal, and find themselves traveling to Jefferson for first hand accounts, they will find many a story of the odd visitations that others have had in certain rooms. Any who are less acceptable of paranormal activities can enjoy the calm and quiet of other well-decorated rooms. With a friendly, personable staff to complete a pleasant stay, one can't veer wrong by visiting the Jefferson Hotel.\n",
      "We got stuck in Orlando Florida and the airline put us up in a Best Western. By the time we got to the hotel it was 2am, we were tired and cranky, and the male receptionist had sharpened his teeth and finger nails into a point -- very creepy. We we got to the room it appeared to not have been cleaned at all. The carpet was wet from the air conditioner to the front of the nearest bed, the lamp shades were bent/faded and there were used test strips on the desk -- looked like it was missed simply because the test strip was the same color of the desk. I took pictures and intended on e-mailing them and a complaint to the corporate office, but never got around to it. To make matters worse, we put the do not disturb sign on the door and the hotel staff knocked on the door at 9am, 10am and 11am wanting to clean the room --- our check out time wasn't until noon. I opened the door and gave a scolding look and said they were too late for cleaning.\n",
      "I attended a business meeting out of town, and my secretary booked me a room at the Hampton Inn and Suites in Modesto, California. This was the absolute worst hotel stay I have ever experienced! I travel often for business, and in all of my travels I have never been so disappointed with a stay at a hotel or motel. The clerks at the front desk were rude and unwelcoming upon checking into my room. Noisy children filled the hallways at all hours of the night, completely disrupting my sleep. Getting ready in the morning was a total nightmare, as no hot water flowed from my shower. To make matters worse, when I left a complaint in the suggestion box at the front desk, the manager never responded back to rectify the awful situation! Needless to say, I will never stay at this property again or recommend this hotel to anyone.\n",
      "I was hoping to be able to spend my night somewhere nice for my birthday to get away but boy did I make a big mistake! The room was unclean and the beds unmade. When we went to the office to complain they did every little to apologize and made very little effort to fix the situation. Rude and unclean! I do not plan on returning during my next stay.\n",
      "I would not recommend staying here to anyone. The rooms smelled like smoke, although it is a non smoking hotel. The beds seemed dirty and recently used without washing the sheets. We had to stay here because our car broke down and the mechanic was only a few blocks away and we were over 500 miles away from home. At night, it seems like a party hotel with people hanging around everywhere.\n",
      "Reminded me of a carnivalThe hotel was nice enough, but it's just crawling with people. It reminded me of a carnival--swarming with people everywhere like ants, and wherever you turn there's shops and shopkeepers trying to get you to spend money. The hotel is surrounded by shops, and as if that's not enough, Ala Moana shopping center is close by (more crowds and shops)! We checked out the famous Diamond Head beach which is close by and it was also just crowded with tourists.I felt so far removed from the actual natural beauty and charm of Hawaii and couldn't wait to get out of there! I ended up staying at a quiet B&B in Kailua instead--much more peaceful and beautiful.\n",
      "Staff was very rude and unfriendly, made checking in to the hotel a pain. Breakfast in the mornings was cold and unenjoyable. Rooms were only mediocre.\n",
      "The Dillon Inn is a nice hotel, but I have a couple of complaints. The rooms were pretty nice, but the water in the showers didn't get as hot as I would like. Also, the staff was not very friendly. When I called the front desk asking for a few extra pillows the front desk person was not very nice, and I had to walk down to get them myself. Other than the lack of hot water, and the somewhat unfriendly staff, the hotel is pretty nice.\n",
      "Hotel prices were below others of similar ratings in the area. This should have been my warning. Not knowing the area, I later found that the hotel was situated in the tenerloin district of San Francisco. The rooms were small and poorly designed, the hotel had no amenities, and local calls cost to make. A poor choice all the way around.\n",
      "This hotel was absolutely disgusting. The price is low but it is definitely not worth it. You are much better off paying more and staying in a hotel that doesn't make you leave feeling filthy. The towels were tiny and had strange stains on them. The tv did not work and the hotel staff were not helpful at all. The worst thing was that the bed stunk horribly. It really smelled like a dead body laid in the bed for a month and then they didn't change the sheets. I can't imagine how long those sheets must have been on that bed for them to stink as badly as they did. I would never, ever stay there again even if they paid me.\n",
      "This hotel was mediocre. It did not live up to the hilton hype. It was not priced correctly for the service I got. It was nothing in particular that caught my eye. The lobby looked like a HG t.v. magazine threw up in it. The indoor pool might as well had been outside due to the fact it was a random pigeon flying about freely. The food was not as well prepared as I had expected. The menu was drab and had a small selection. I really thought I was ordering from a kids menu. The room I was in had such a filthy carpet. It was like the people before me threw a party then checked out when I checked in. The bed was ok, but for 123 dollars a nite it should have been stellar. The bathroom was also a little let down. The tub could barely fit my husband. I would not ask anyone to pay for a stay here. I paid the hilton price for a motel six stay.\n",
      "When I visited this hotel, I thought everything was going to be great. It's appearance was not too shabby, but as soon as I got to the room, my opinion began to change. The room was nowhere near the quality that the rest of the hotel was; it only came with the basics, and nothing more. I would have expected more from a nicer hotel. The other surprising thing about this hotel was the staff. I did not feel secure at all. When I first came to my room to find my wife, she was not there (and I did not have a key). I simply came to the door, knocked, and waited one second. The maid down the hall came over and let me in the room. I could have been some stranger that was knocking on someone's room! I will not go back to that hotel because of this safety issue. Thank you.\n",
      "I booked a weekend at Terranea for my birthday. When I arrived my room was not ready at my check-in time and I was told I would have to wait. The front desk did not provide me an exact time but said I could walk around. An hour later it was still not ready. It took 5 hours actually. The next day at the pool a server came around and took my order while I laid out. They never returned. When I approached the pool bar it was mess. The sink was clogged and cups were everywhere. The price I paid made me really expect more. It should be a 2 star not 4.5. I won't be returning.\n",
      "I really didn't like how cheap this motel was. It was somewhat shabby and not very nice sometimes to stay in the main building and was somewhat dark. The place didn't offer as much as I really wanted from a motel.\n",
      "This hotel was one of the worst I have ever stayed in! When we arrived, the sheets were stained and smelled unclean. The bathroom had not been touched. There was no toilet paper or complimentary shampoos. The television did not even work. When we called the front, it took two hours for someone to come up and turn our room over. I would not recommend this hotel to anyone!\n",
      "I stayed at the Super 8 location in East Lansing, Michigan. It was cheap, but there's a good reason for that- the entire place is a wreck. The staircases up to the motel rooms were filthy, and some of the glass attached to the railing was broken. Once you got to the room, the carpets were discolored, and the room had a strange, pungent smell to it. I wouldn't stay there again.\n",
      "Do not stay at the Days Inn. First, when we got to the front counter and rang the bell, it took TEN minutes for someone to finally approach us. The young woman who did was more interested in her phone than in talking to us. Once we got our keycard we found our room and expected to at least have something average there. Wrong! The bedsheets and everything were everywhere. Also, there was trash in the cans and on the counter. The room also smelled like cigarette smoke. We will never be staying here again.\n",
      "The Rio hotel is the absolute worst hotel I've stayed in on or just off the strip! It had the worst service! As we would stroll down the rundown hallways the smell of room service dishes and smoke was so dissapointing! The same left over food was left out for our two days stay. We could smell smoke in our rooms from the casino. My husband had trouble sleeping as the neon lights could be seen in our rooms with the curtains drawn. The casino was like an old bar room. Really bad ventilation! Last but not least! It took over sixty minutes to check out!\n",
      "I stayed at the Adam's Mark Buffalo for an extended stay. While I was there I became very unsatisfied with the hotel as a whole. The maid and restaurant staff were not only unfriendly but at times down right rude. The hotel had bed bugs and leaking windows which ruined some of my belongings. The food, even a fruit salad would take over an half hour to arrive when you could see the staff sitting around and talking. I heard multiple rude or sexual comments from the staff. The carpets were dirty and smelled.\n",
      "I stayed at the Quality Inn in Hinesville Ga, and did not like it. My first impression was they got to be joking. There is no quality in Quality Inn. Just old bed spreadings that were so thin that could see right through them. The corners of my room was dusty with crumbs and the bathroom was ruined with rust. The beds was not comfortable at all. I was not very happy with the room and will never go there again.\n",
      "In all my travels, Aston Waikiki Circle has to be one of the worst hotels we have ever stayed at. Amidst the busy Waikiki Beach, the atmosphere was far from relaxing, although we were minutes away from all the ABC stores in every corner. The parking spaces were miniscule and the hotel needed a major remodel. The website photos were very deceiving because the room was so small and was in disrepair. We booked a penthouse and we got a cheap motel with dated furnitures and beddings. The only positive would have to be the view from the balcony overlooking Waikiki Beach and the amazing time I had with my husband.\n",
      "I stayed at this days inn hotel for 5 days and bill was over $250.00 way to much for this uncomfortable stay. Located near the main street and highway so it was a lot of noise all day and night. Reminded me of an old motel. Smelled musty and molded. No swimming pool!\n",
      "The hotel was pretty nice on the outside for the most part, but when we got to the hallway our room was on the wall paper was in the middle of being replaced so it was all torn down, the carpets were getting ripped up. If they were in the middle of renovations I wish they just put us in a different hallway, or at least given us a discount.\n",
      "This hotel is your typical corporate facility, which is ok if you like that type of thing. Centrally located and clean and safe. WHAT I DID NOT LIKE WAS THE EXTRA FEES FOR INTERNET AND THE PRICES OF MEALS IN THE RESTAURANT, THEY WERE OUTRAGEOUS. THANKS, BLF.\n",
      "When we came into our room it had not been cleaned by housekeeping yet. We notified the front desk who moved us to another room. We reserved a non smoking room however the room smelled like old, stale smoke. It also had a musty odor as if there was mold or mildew somewhere. The furnishings were outdated and in poor condition. The lighting was poor which added to the drab appearance. The air conditioner was loud and leaked. The hotel was in a location that I did not feel safe in.\n",
      "This Red Roof Inn in North Charleston, South Carolina is pretty inexpensive, but you definitely get what you pay for. The location is terrible. It’s right off the interstate in a very busy, loud commercial area. It should also be noted that it’s not as close to the historic downtown and beach areas in Charleston as you might be lead to believe. We got there a little early and the room wasn’t ready, so we went to a nearby Starbucks for about an hour. We came back after check-in time, and the room still wasn’t ready. They lady at the desk was nice but incompetent. When we finally got into a room, it was what you’d expect from a cheap hotel, and it smelled of cigarettes and cheap cleaning products. I think the worst part of it all was the other clientele there. We had a room on the second floor, which required climbing two flights of stairs. Some very unsavory individuals were always hanging out on the stairs and the landing. It made me really uncomfortable to walk to and from my car. Next time, I’ll pay extra and stay somewhere else.\n",
      "I was very displeased with my two-night stay at Doubletree in Savannah. It must have been off-season, because the hotel was nearly empty, and that apparently meant there wasn't enough staff to do anything. On Day Two of my stay, my room was still not cleaned by 12:30 p.m., which I found out after stopping back at the hotel to change clothes after spending the morning in town. I made a call to housekeeping at that time, then left the hotel to meet folks for lunch. When I returned about 3:00 p.m., my room was still not cleaned, and I had to call housekeeping again. I again left to walk through the historic district nearby. When I returned at 5:30, I again had to call housekeeping - this time I told them I would wait right there until someone finally came to time how long it took. About 15 minutes later, someone finally came to clean the room. Later that night - that maid had the audacity to knock at the door to ask for a bigger tip. When I checked out the next day, I tipped the valet - who came back a few minutes later on foot. She couldn't move my car because it's a standard transmission, she said, so I'd have to get it myself. She then gave me the keys and walked away - my original tip still in her hand.\n",
      "I would never stay in the hotel again. The carpet looked and smelled as if it had been trampled on by a bunch of wet dogs. The microwave looked as if it hadn't been truly cleaned in months, not to mention the decor of the room looked as if it were chosen from a scene of an 80's movie. They claim to have free wifi but you have to call the front desk for a login code, well if no one answers at the front desk, this is pretty useless. The pictures on the website definitely overestimate the attractiveness of the indoor pool area.......the kiddie pool was the size of one of the baby pools that you buy for $10 at walmart. Needless to say, we were not impressed with the atmosphere. This may be a nice getaway for college kids that plan on being wasted the entire stay (this way the defects of the hotel woould not be apparent)!\n",
      "We didn't feel at home at the Crowne Plaza near the Pittsburgh, PA airport from the moment we got there. The room was not clean, we had to scrub the bathtub before we even thought about using it. Airplanes continually roared above our room, which must have been right under a major landing path for the nearby airport. We expected a higher level of service and room amenities than we received. The outdoor pool was not heated, and it was frigid for late-August. The pool area was also not clean. We were glad for the morning to come so that we could leave and be on our way.\n",
      "How can I not like sleeping in the happiest place on earth? We for one thing I didn't sleep, at all! The room looked great, with a big high bed and fun decor. But at night my husband and I realized the plush bed was just for show, it was very uncomfortable to lay on. The pillows were like the tiny little airline pillows. I needed 3 under my head just to feel comfortable. We were also disappointed that the hot tub was not working. It was a brisk night and a hot tub dip sounded great, but the water was maybe only 80 degrees. The hot tub was really cute, decorated with the little mermaid. Overall for $300 a night I expect a comfortable bed and a working pool area.\n",
      "We travel as a family to the Florida's Space Coast several times per year and stay in hotels for 3-4 days at a time. This year we visited Doubletree by Hilton in Melbourne FL during the holiday season. The hotel's website gave an appearance of being an upscale hotel on the beach. When we arrived the hotel was not what we expected. Parking was difficult. The hotel was under construction and we were constantly running into workers in the lobby and elevator. On our first night's stay I had to call the front desk several times because maintenance was still working on the room next to us after 9pm and there was constant hammering. The water for showers was lukewarm at best and the room was small for a suite. Also there was NO internet available for the hotel rooms so we had to go to the lobby every time we wanted to to a web search for restaurants, surf board rentals or other vacation necessities. The housekeeping staff ignored our request for clean towels even though we called the front desk several times and on the last day of our stay we were down to 1 hand towel for 4 people. I would never recommend this hotel because of the poor level of service and concern for the customer.\n",
      "We recently stayed at the Country Inn and Suites in Mishawaka, IN. It seemed dark and had a musty smell. The indoor swimming pool had debris in it so we didn't even get to use it. The carpet also had stains. I would highly recommend staying at a different hotel in this area if you are looking for something that feels new and fresh.\n",
      "I had booked a one week stay at the St. Augustine Beachfront Resort but after the first night I left. To begin they gave me the key to a room filled with other people!!! Can you imagine that!!! Then they sent me to another room that the beds were not made and it was dirty. The third room the key did not work after a long drive the last thing I wanted to deal with was all these problems. We finally got into our room and it was very dirty, the carpets were black the wall paper was peeling, the shower had mildew and worst of all there roaches crawling on the walls. I have never felt so disgusted. When I walked out of the room there were rats crawling in the hallways. There is no beach access, so this is not a beachfront resort like they claim.The office staff is rude and very unprofessional, you can tell they don't care about there jobs at all. This a roach motel not a resort!!\n",
      "When I checked into the hotel, I was informed the elevator was not working. I had to truck up the stairs, with my luggage, by self. I was provided no help from the staff. The air conditioner was broken, which created a very stuffy room. When I took a shower, the stopper was stuck shut, so by the end of the shower, the water was almost overflowing.\n",
      "The Ste Marie Marie Antoinette Hotel, now renamed the Hotel Le Marais, is located in the heart of the popular French Quarter of New Orleans. Its location is convenient to the sights of the Quarter. Unfortunately that is the one positive aspect of this tired hotel. The property is in need of a renovation to the rooms and the common space. During my stay the pool was not operational, and the restaurant/bar was not open. The rooms were below average for similarly priced hotels in the French Quarter. The hotel's brochure featured photographs that were either heavily retouched, or taken when the property had seen much better times.\n",
      "The rooms were very old and dated. It looks like nothing has been replaced since the 70's or something. Our room had moldy patches on the carpet near the jacuzzi, and areas where the paint/wallpaper were rubbed off or peeling on the corners of the room. The room had a really weird smell to it as well. There was even trash in the garbage can when we checked into the room, so that was gross. And the housekeepers were loud in the morning and were swearing in the hallway. Definitely not worth our time or money. We won't be going back.\n",
      "We arrived at the hotel about 5 pm. First of all google maps gave us the wrong address. Sent us 10 miles up the road. (not blaming the hotel). Then we went up to our room and the A/C was not working properly. The ac knob was broken and we could not turn it on or off. It took them about 2 hours to get someone up to fix it. Besides that the stay was blah. Nothing major or nothing to get excited about. I requested a partial refund and finally got one only because I am a priority member.\n",
      "THE WORST HOTEL EXPERIENCE EVER!Due to the fact the me and my husband did not pre-register to stay in a hotel during the State Finals weekend, we were forced to stay in the hotel. The first room we were given still had dirty towels in it. The service was horrible it took them 2 ENTIRE hours just to get us transferred to a new room. The WOST servicing experience of my life!\n",
      "I mistakenly thought that since my multiple stays at other Marriott locations were excellent and clean that this location would be as well. Man was I wrong. This place is terrible. The room was very dirty and there were dead bugs everywhere. The room smelled horrible. I couldn't get the room windows open enough to help remove the smell. It took a while to find this place with all the construction in the area and the awkward road design in the area. I will never stay here again!\n",
      "I love San Francisco and any chance I get I love to take a trip there. The last time I chose to stay at The Argonaut as I had always heard good things about the hotel. Sadly, the good reviews were either grossly exaggerated or there has been some major changes to the way the hotel runs things lately. The hotel staff were rude, snobbish and always seemed to be busy with some other thing whenever I needed help. Given the price of the hotel, I expected five star service, but was treated like I was some duty and obligation they quickly wanted to get rid of. Overall, my experience at the hotel was so sub-par that I'll probably never return to the hotel, no matter how great a location on Fisherman's Wharf it is.\n",
      "After a recent stay at the Luxor in Las Vegas, my husband and I have decided that we won't be going back or recommending the hotel. At check-in we were notified of a 15 dollar a day phone charge, we had no intention of using the phone but they told us this was a mandatory charge. We stayed in the pyramid and found it to be very outdated and kind of grubby. The hair dryer in the bathroom didn't work and it took over two hours and several phone calls to get a replacement. It was also noisy in this part of the hotel. The buffet was awful. We gave both breakfast and lunch a try. At breakfast, the coffee creamers on the table were spoiled. Gross.\n",
      "On my way home from a trip with my family, the drive was taking longer than expected, so we decided to stay in a hotel for the evening. It was summer, and there were few vacanies along highway 299, but we felt lucky to find an open spot in a motel, just as darkness was creeping up on us. Unfortunately, there were many obvious reasons for said vacancy. The walls were paper thin, and we could hear the people on the floor above us walk, talk, and urinate. When they turned the shower on, our ceiling suddenly became leaky. The room was small, and dirty, with strange decor. Also, there is a tiny, tacky cage in the parking lot, which claims to have housed Big Foot. Overall, it was a terrible experience.\n",
      "I have stayed at The Inn At The Convention Center for a total of one week on separate occasions. First, if you can get past the curt responses of the near inhuman clerks in the front office, you will make your way into one of the worst hotel experiences of your life. Taking a trip in the elevator feels as if it will be your last. It is squeaky, smells strongly of cleaning detergents, and runs slowly. Once you arrive on your floor, the smell of cleaning agents is even stronger than the smell of the elevator. It buries itself into one's pores and haunts your entire stay. As for the location, it's true that the Inn At The Convention Center is near major freeways and minutes from downtown, but the area it's located in is terrible, offering nothing in the way of good food or culture. It is a haven for young party animals, noise included. Additionally, the wi-fi is terrible, if and when it works at all.You would be better off saving your money for a different hotel in a different location. You won't be sorry you did.\n",
      "A couple of friends and my wife decided to take a one day short trip to the North Shore of Minnesota and at the end of teh day were so exhausted that we decided to stay in a hotel there rather than driving back to the Twin Cities. We stayed at the Grand Superior Lodge. Big disappointment. While they had rooms available, the hotel was so rustic the beds seemed old and were uncomfortable, and their restaurant closed at 8pm. In fact, all of the staff disappeared at around that time so we had to venture into town to find a place to eat. There were no amenities at the hotel and their only plus was the nice view of the lake they had. I wouldn't recommend this hotel at all.\n",
      "Overall, this hotel was not the greatest. The room was of decent quality, but was not nearly as clean as it should have been. The room service was terrible in that it did not properly stock the bathroom every day, creating a shortage of soap and clean towels. The complementary breakfast was good, but basic. The free wifi was very slow and unacceptable. The casino shuttle service was nice, however it was not on time. The gym was crowded and disorganized. Furthermore, the jacuzzi suites left much to be desired.\n",
      "This is one of the worst places to stay. The hotel is next to railroad tracks, and the trains were running and blowing the horn day and night. When the train wasn't loud, the traffic on the busy street nearby was. The rooms were dirty and had some empty soda bottles in it. Our room was still not ready two hours after we were told it would be ready. We were so desperate to get in our room to change our clothes for a family reunion that we helped the maid make the bed. Do not stay here.\n",
      "We stayed at the sandcastle resort/hotel in virginia beach for three days. Our experience was less than enjoyable. To start off when we arrived to check in, they could not find our reservation and the staff that was working there was extremely rude. They were confident that there was no reservation under our name so i went through my emails and showed them the one i received from them almost a month earlier. Finally after about 20 minutes we received our keys and headed to our room. When we got to our floor they were doing construction in our hallway and being very noisy. I went back to the front desk and requested that we be moved to another floor where there was no construction going on. they advised me they had no other rooms available but assured us that the construction would be done before 4pm. After going back to our room we found the room very dirty and run down. Paint was peeling from the ceiling and there were a lot of stains in the carpet. At this pint i decided not to make a big deal out of it until after we came back from dinner. We returned to the hotel just after 7pm and they were still doing construction on our floor. I wouldnt have minded the construction if it wasn't for the fact that they were very loud and drilling and cutting things with saws. I returned to the front desk again and requested to speak to a manager. After waiting for almost 15 minutes the manager finally arrived. We asked to be moved to a different room again and the manager finally agreed to move us to a suite for the same price we paid for our room. When we got to our room we found that is hasn't even been cleaned yet. The bed sheets were on the floor and there was trash everywhere. Apparently house keeping hasn't cleaned the room yet even though by now it was almost 8pm. At this point i was pretty upset and started to call surrounding hotels. we finally found another hotel that had a room available about a mile down the street. We went back to the front desk and spoke to the manager again. We requested a refund and the manager oked it. This was the worst experience ive ever had at any hotel, and to find out they still haven't refunded or 3 days to my credit card. I've been on the phone several times but have yet to hear back from the manager about the refund. I would not recommend this hotel to anyone and am very unhappy with the way we were treated.\n",
      "Although it was very cheap, this hotel still wasn't worth the money. The sink didn't work, there was no toilet paper, and the room was in dire need of repair. Dents and stains on the wall were unsightly and even with all the locks on the door, the people standing around all day outside my room made me feel uneasy. I would not recommend this hotel.\n",
      "I am a business traveler that often had to stay at this hotel because the other options in the area were often sold out or more expensive (would get rejected by my corporate policy).Repeatedly, I was disappointed with this hotel. This hotel is stuck in a time warp for renovations and basic amenities. Even with recent updates in the lobby, the actual rooms lack the much needed updates. On one occassion, my room did not have towels or a shower curtain! Yes, the hotel can fix this but it shows the lack of effort and attention to each room. For a frequent traveler, I found the beds uncomfortable and lumpy. The blow dryer was old and while it seems like a small piece, it's an important luxury. The toiletries were as basic as they come and this is a Courtyard, I expect body lotion or conditioner! I have voiced my concerns to management and been contacted before but never heard back about changes being made. In 2011, I had to spend 78 nights here. I could change my travel schedule to avoid overnights so I would not have to stay here.\n",
      "My husband and I were moving from Colorado to Georgia and were using Super 8 motels almost exclusively because they had a policy of allowing dogs in the rooms. We reserved a room in St. Louis at the Super 8 and were dismayed to hear the manager tell us that he did not allow dogs in the rooms. This was in violation of Super 8 policy. I told the manager this so he said he could give us a room in a special area of the motel. The room he put us in was dirty with stains on the carpet and walls. We were so exhausted from travelling cross country that we took the substandard room so we could be sure our dogs would be safe. This was by far the worst Super 8 we had ever stayed at. The manager lied to us and violated Super 8 policy when the computer clearly indicated that dogs were welcome at this motel.\n",
      "Me and my family stayed here during the 4th of July weekend as a family get-together and birthday party. The resort has it's own water park, which is nice, but that's about as far as nice got. Upon arriving, the rooms were not what had been described to the person who purchased all of the rooms, and they had to purchase an additional room to make up for the misunderstanding. Later, one of the rooms was charged to another family member who checked in early. Another family member was charged with room service fees for meals they never ordered or received (watch your credit cards closely!). The rooms were dated and the carpeting was gross. The location of the rooms are literally a drive from the front desk, so if you need anything, it's going to take a while. And the maid service? Non-existent until the morning we were all due to leave. For the price, this place was atrocious, and I would never recommend staying here, even with the water park (the added resort fee pays for that). Save your money.\n",
      "After reading so many negative reviews of the Lafayette Hotel in San Diego, I felt like people must be just spoiled with modern hotel amenities and do not appreciate accommodations that are steeped in history. I was wrong. I am an optimist, and my positive thinking lasted all the way up the stairs and up to about 15 minutes after I got to the room. At first, the hotel lobby seemed dated and plain, but I felt that I could appreciate the character it had. Then we went up a staircase that was a little spooky, and finally, we got into our room. The carpet looked soiled, the bedspread seemed itchy, the bathroom was very dated, and the air conditioning was set into the window with a gap between the unit and the window itself. We had a child with us, and the windows came down so low, with no security gate or bars. The worst part was probably the lack of ventilation. It was summertime, and the air was stuffy in the room. Not at all the crisp, cool feel you look for during a summer getaway. We left the same day and found a room at the LaQuinta with a much better room and an even better rate.\n",
      "I was in town for my friend’s wedding and stayed the weekend at this Days Inn. I have stayed in many Days Inn in the past, but this one was horrible. The room smelled like stale cigarettes and mildew. I had to buy some Lysol and spray it on every cover of the room and bed. I think something was biting in bed and when I pulled the sheet back. I saw dead insects under underneath the sheets I was laying on. The water ran slowly so it was hard to take a quick bath or brush my teeth. There were all kinds of huge spot on the carpet from old spills or leaks. When I complained to the front desk, he was not very helpful. The hotel was full and other hotels had no vacancies because it was “Bike Weekend”. I will never stay at this Days Inn again and will not recommend it to any of my friends. They have lost a customer for life.\n",
      "This hotel smelled like smoke everywhere, not just on the smoking floors. There was also a mix-up about our reservations before we arrived, they got it worked out but it involved some inconvenience for us. The breakfast selections were paltry, just a few sad pastries and some fruit, not the full, hot breakfast we were led to believe we would have. Overall, this hotel was not the worst but it was just disappointing in many ways. Next time I find myself in Grand Junction, Colorado I will choose to stay somewhere else!\n",
      "The Super 8 was one of the worst properties that I have ever stayed at, it was dirty, out of dated and the staff was rude. The carpeting in my room was ripped and stained. In the bathroom the shower was moldy and the fixtures were chipped. The wifi was operating at just above phone dial-up speed. My TV didn't work at all.This room was not worth the rack rate, or even 50% of the rack rate.\n",
      "Super 8 was a hotel I recently stayed at due to lack of other options. As far as hotels go, they were untidy, service was slow and the overall experience was horrible. The room I got has bed sheets strewn all over the place, and no room keeping person had bothered to clean the room after the previous person had left. The service was slow and it took an unreasonable amount of time to get a simple makeshift bed brought to our room. Overall, a horrible experience that was a waste of money.\n",
      "The Circus Circus hotel in Reno, Nevada is not even a hotel that I would send my worst enemy. Not only is the place in the middle of the armpit of America (Reno), but the hotel is just a mess. Everything, and I mean, everything smells like smoke. The smoking is supposed to be in the casino area only, but that is hardly the case. There are multiple restaurants, but they are usually closed and the food is horrible anyway. It is terribly old and it definitely shows in the rooms and in the casino. It is in serious need of a renovation asap.\n",
      "The Inn at El Gaucho in Seattle sounded like a great idea, being right above one of the most popular steak houses in the whole city, and located in the popular Belltown district downtown. However, the reality was far from great. The rooms were very sparse and the service was even more sparse. We waited for a long time just to get anyone to come to the front desk, and had to go downstairs to the busy steak house to find an attendant. The noise at night was deafening, with street sounds coming right through the walls all night, and music from the small movie theater underneath, which happened to be hosting a party that night. The prices were way to high for the level of comfort, which wasn't anything to write home about.\n",
      "We were visiting Salem and only stayed one night at this location. The room felt...and smelled dirty. It smelled like it had at one point been a smoking room that they were attempting to cover up and re-purpose as a non smoking room. The water in the hotel also had a funny taste and there were no alternatives to tap water provided that they were not charging a ridiculous amount for. All in all any mildly redeeming qualities did not make up for the sanitary levels of the room we stayed in.\n",
      "I really wanted to like the Lemon tree Hotel. However- the king size bed was so hard, I didn't get any sleep for two nights (and I was 7 months pregnant at the time!). The futon in the kitchen/living room of our suite wasn't any better. When we told the front desk person, she looked irked.The fan in the bathroom was so loud, that we ended up not turning the light on (light and fan were connected) when we used the toilet or showered. Speaking of lights, they were so oddly placed and the light switches were not near the lights that they operated. The free breakfast was picked over by the time we got there at 8am both days, but they did restock the pastries and the coffee creamer (begrudgingly!), once they saw us standing there (or overheard us talking about going elsewhere).\n",
      "Caesars Palace seemed like a natural stop for Vegas. It's somewhat iconic to the location. However, that's what I ended up not really liking about it. It seemed like they were far too focused on being iconic, and not enough on actually being a hotel. It just felt a bit too much like I was in a casino with beds, compared to an actual high quality hotel.\n",
      "I hate that motel is cheap noisy very load barly change sheets, ppl tent to break into cars and they barly do anything bout it just sucks...\n",
      "The hotel has very thin walls and ceiling so you can hear EVERYTHING. You can even hear full conversations word-for-word. Even when we complained to have someone tell the person above us to be quiet, the manager didn't do anything at all. There was a county fair going on with bus fulls of high school kids having a party right outside our door and were shooting off fireworks. However, no one told them to be quiet. All the manager told us was that we could leave (without a refund).\n"
     ]
    }
   ],
   "source": [
    "for i in train_texts:\n",
    "    print(i)"
   ]
  },
  {
   "cell_type": "code",
   "execution_count": 265,
   "metadata": {},
   "outputs": [
    {
     "name": "stdout",
     "output_type": "stream",
     "text": [
      "[1, 1, 1, 1, 1, 1, 1, 1, 1, 1, 1, 1, 1, 1, 1, 1, 1, 1, 1, 1, 1, 1, 1, 1, 1, 1, 1, 1, 1, 1, 1, 1, 1, 1, 1, 1, 1, 1, 1, 1, 1, 1, 1, 1, 1, 1, 1, 1, 1, 1, 1, 1, 1, 1, 1, 1, 1, 1, 1, 1, 1, 1, 1, 1, 1, 1, 1, 1, 1, 1, 1, 1, 1, 1, 1, 1, 0, 0, 0, 0, 0, 0, 0, 0, 0, 0, 0, 0, 0, 0, 0, 0, 0, 0, 0, 0, 0, 0, 0, 0, 0, 0, 0, 0, 0, 0, 0, 0, 0, 0, 0, 0, 0, 0, 0, 0, 0, 0, 0, 0, 0, 0, 0, 0, 0, 0, 0, 0, 0, 0, 0, 0, 0, 0, 0, 0, 0, 0, 0, 0, 0, 0, 0, 0, 0, 0, 0, 0, 0, 0, 0]\n"
     ]
    }
   ],
   "source": [
    "print(train_labels)"
   ]
  },
  {
   "cell_type": "code",
   "execution_count": 266,
   "metadata": {},
   "outputs": [],
   "source": [
    "### ENTER CODE HERE ###\n",
    "import math\n",
    "class NaiveBayesClassifier:\n",
    "    def __init__(self, num_classes):\n",
    "        self.num_classes = num_classes\n",
    "        self.label_word_counter = {} # count of each word in each label\n",
    "        self.label_words_count = {} # Total number of words for each label \n",
    "        self.label_count = {} # number of samples per label\n",
    "        self.vocab = set() # Vocabulary of all unique words\n",
    "        self.prior_probabilities = {} # Probabilities for each class \n",
    "\n",
    "    \n",
    "    def fit(self, texts, labels):\n",
    "        \"\"\"\n",
    "        1. Group samples by their labels\n",
    "        2. Preprocess each text\n",
    "        3. Count the words of the text for each label\n",
    "        \"\"\"\n",
    "        #grouping samples by lables using for loop \n",
    "         # in this for loop :\n",
    "        # 1. extracting for the count of the words for each label \n",
    "        # 2. extracting the total number of samples(text sentences) for each labels \n",
    "        # 3. extracting the count of each words in the each label \n",
    "        # 4. and also com\n",
    "        for i,j in zip(texts,labels):\n",
    "            if(j not in self.label_count):\n",
    "                self.label_count[j]=0\n",
    "                self.label_word_counter[j]={}\n",
    "                self.label_words_count[j] = 0\n",
    "            self.label_count[j] = self.label_count[j] +1\n",
    "\n",
    "            # using the same preprocess function provided above to preprocess the text data\n",
    "            tokens = preprocess(i)\n",
    "            self.label_words_count[j] = self.label_words_count[j] + len(tokens)\n",
    "            for t in tokens:\n",
    "                if(t not in self.label_word_counter[j]):\n",
    "                    self.label_word_counter[j][t] = 0\n",
    "                self.label_word_counter[j][t] = self.label_word_counter[j][t] +1\n",
    "            self.vocab.update(tokens)\n",
    "        self.total_samples = sum(self.label_count.values())\n",
    "\n",
    "        # creating the prior probabilities for each class based on samples\n",
    "        for l,t in self.label_count.items():\n",
    "            self.prior_probabilities[l] = math.log(t/self.total_samples)\n",
    "\n",
    "\n",
    "        \n",
    "\n",
    "    \n",
    "    def predict(self, texts):\n",
    "        \"\"\"\n",
    "        1. Preprocess the texts\n",
    "        2. Predict the class by using the likelihood with Bayes Method and Laplace Smoothing\n",
    "        \"\"\"\n",
    "        pred_values = []\n",
    "        vocab_size = len(self.vocab)\n",
    "        total_samples = sum(self.label_count.values())\n",
    "    \n",
    "        for i in texts:\n",
    "            tokens = preprocess(i)\n",
    "            each_label_prob_for_each_sample ={}\n",
    "            for l in range(self.num_classes):\n",
    "                word_likelihood = 0\n",
    "                for j in tokens:\n",
    "                    word_count = self.label_word_counter.get(l,{}).get(j,0)\n",
    "                    total_words_in_each_label = self.label_words_count.get(l,0)\n",
    "                    #Laplace smooting\n",
    "                    word_prob = (word_count+1)/(total_words_in_each_label+vocab_size)\n",
    "                    word_likelihood = word_likelihood + math.log(word_prob)\n",
    "                each_label_prob_for_each_sample[l] = self.prior_probabilities[l] + word_likelihood\n",
    "            pred_label = max(each_label_prob_for_each_sample,key=each_label_prob_for_each_sample.get)\n",
    "            pred_values.append(pred_label)\n",
    "        return pred_values\n",
    "            \n"
   ]
  },
  {
   "cell_type": "markdown",
   "metadata": {},
   "source": [
    "### Task 2.3: Baseline Results  (5 Points)"
   ]
  },
  {
   "cell_type": "markdown",
   "metadata": {},
   "source": [
    "Since there is not hyperparameter-tuing required for the baselines, we can use the entirety of the training set (no need to split the dataset into train and development). Report the results you achieve with the two baselines by running the following cell:"
   ]
  },
  {
   "cell_type": "code",
   "execution_count": 267,
   "metadata": {},
   "outputs": [
    {
     "name": "stdout",
     "output_type": "stream",
     "text": [
      "Random Chance F1: 0.42424243688583374\n",
      "Naive Bayes F1: 0.9268292784690857\n"
     ]
    }
   ],
   "source": [
    "### DO NOT EDIT ###\n",
    "\n",
    "### DEV SET RESULTS\n",
    "\n",
    "testset_prediction_random = predict_random(train_labels, num_samples=len(dev_labels))\n",
    "print('Random Chance F1:', f1_score(testset_prediction_random, dev_labels))\n",
    "\n",
    "naive_bayes_classifier = NaiveBayesClassifier(num_classes=2)\n",
    "naive_bayes_classifier.fit(train_texts, train_labels)\n",
    "testset_predictions_nb = naive_bayes_classifier.predict(dev_texts)\n",
    "print('Naive Bayes F1:', f1_score(testset_predictions_nb, dev_labels))"
   ]
  },
  {
   "cell_type": "code",
   "execution_count": 268,
   "metadata": {},
   "outputs": [
    {
     "ename": "NameError",
     "evalue": "name 'test_labels' is not defined",
     "output_type": "error",
     "traceback": [
      "\u001b[0;31m---------------------------------------------------------------------------\u001b[0m",
      "\u001b[0;31mNameError\u001b[0m                                 Traceback (most recent call last)",
      "Cell \u001b[0;32mIn[268], line 5\u001b[0m\n\u001b[1;32m      1\u001b[0m \u001b[38;5;66;03m### DO NOT EDIT ###\u001b[39;00m\n\u001b[1;32m      2\u001b[0m \u001b[38;5;66;03m### RUN THIS ONLY ON DEADLINE ###\u001b[39;00m\n\u001b[1;32m      3\u001b[0m \u001b[38;5;66;03m### TEST SET RESULTS\u001b[39;00m\n\u001b[0;32m----> 5\u001b[0m testset_prediction_random \u001b[38;5;241m=\u001b[39m predict_random(all_labels, num_samples\u001b[38;5;241m=\u001b[39m\u001b[38;5;28mlen\u001b[39m(test_labels))\n\u001b[1;32m      6\u001b[0m \u001b[38;5;28mprint\u001b[39m(\u001b[38;5;124m'\u001b[39m\u001b[38;5;124mRandom Chance F1:\u001b[39m\u001b[38;5;124m'\u001b[39m, f1_score(testset_prediction_random, test_labels))\n\u001b[1;32m      8\u001b[0m naive_bayes_classifier \u001b[38;5;241m=\u001b[39m NaiveBayesClassifier(num_classes\u001b[38;5;241m=\u001b[39m\u001b[38;5;241m2\u001b[39m)\n",
      "\u001b[0;31mNameError\u001b[0m: name 'test_labels' is not defined"
     ]
    }
   ],
   "source": [
    "### DO NOT EDIT ###\n",
    "### RUN THIS ONLY ON DEADLINE ###\n",
    "### TEST SET RESULTS\n",
    "\n",
    "testset_prediction_random = predict_random(all_labels, num_samples=len(test_labels))\n",
    "print('Random Chance F1:', f1_score(testset_prediction_random, test_labels))\n",
    "\n",
    "naive_bayes_classifier = NaiveBayesClassifier(num_classes=2)\n",
    "naive_bayes_classifier.fit(all_texts, all_labels)\n",
    "testset_predictions_nb = naive_bayes_classifier.predict(test_texts)\n",
    "print('Naive Bayes F1:', f1_score(testset_predictions_nb, test_labels))"
   ]
  },
  {
   "cell_type": "markdown",
   "metadata": {},
   "source": [
    "## Section 3: Logistic Regression on Features (Total: 60 Points)\n",
    "\n",
    "Now let's try building a logistic regression based classifier on hand-engineered features.\n",
    "\n",
    "The following tasks are going to be the implementation of the components required in building a Logistic Regressor."
   ]
  },
  {
   "attachments": {
    "image.png": {
     "image/png": "[encoded data removed]"
    }
   },
   "cell_type": "markdown",
   "metadata": {},
   "source": [
    "### Task 3.0: Feature Extraction (20 points)\n",
    "\n",
    "This is perhaps the most challenging part of this assignment. In the class, we went over how to featurize text for a classification system for sentiment analysis. In this assignment, you should implement and build upon this to accuractely classify the hotel reviews.\n",
    "\n",
    "This task requires a thorough understanding of the dataset to answer the important question, \"What is in the data?\". Please go through some of the datapoints and convert the signals that you think might help in identifying \"sentiment\" as features.\n",
    "\n",
    "Please refer to the section in Jim's book that illustrates the process of feature engineering for this task. We have attached an image of the table below:\n",
    "\n",
    "![image.png](attachment:image.png)\n",
    "\n",
    "Please use the files with postive and negative words attached in the assignment: [positive_words.txt](data/poisitive-words.txt) and  [negative_words.txt](data/negative-words.txt)"
   ]
  },
  {
   "cell_type": "code",
   "execution_count": 334,
   "metadata": {},
   "outputs": [],
   "source": [
    "with open(\"/Users/jagadeeshnadimpalli/Desktop/BOULDER/CUB_Semesters/Sem3_Fall2024/NLP/Assignment2_Sentiment_Analysis/data/positive-words.txt\",'r') as f:\n",
    "    positive_words = list(set(f.read().splitlines()))\n",
    "\n",
    "with open(\"/Users/jagadeeshnadimpalli/Desktop/BOULDER/CUB_Semesters/Sem3_Fall2024/NLP/Assignment2_Sentiment_Analysis/data/negative-words.txt\",'r') as f:\n",
    "   negative_words = list(set(f.read().splitlines()))"
   ]
  },
  {
   "cell_type": "code",
   "execution_count": 335,
   "metadata": {},
   "outputs": [
    {
     "name": "stdout",
     "output_type": "stream",
     "text": [
      "positive words:------ 2006\n",
      "['properly', 'passionate', 'envy', 'powerful', 'jaw-dropping', 'cherish', 'seamless', 'astutely', 'zeal', 'recommended', 'steadfastness', 'lucid', 'eminence', 'revere', 'endorses', 'danke', 'glitz', 'reconciliation', 'adoringly', 'twinkly', 'heroic', 'wows', 'cushy', 'perseverance', 'glamorous', 'luxuriously', 'priceless', 'eases', 'softer', 'productively', 'commend', 'elegant', 'nobly', 'congratulations', 'hallowed', 'noteworthy', 'dote', 'humorously', 'illumine', 'survival', 'profound', 'pepping', 'favored', 'gush', 'leads', 'grateful', 'spotless', 'appreciated', 'exonerate', 'prettily', 'terrific', 'hail', 'sweeping', 'tender', 'cleared', 'kindliness', 'liking', 'neatly', 'delicacy', 'enrapt', 'revelation', 'toll-free', 'notably', 'charmingly', 'exceeds', 'purposeful', 'tantalize', 'victorious', 'useful', 'desiring', 'pain-free', 'astonish', 'enchanted', 'trusted', 'thrive', 'laudable', 'ideally', 'consummate', 'aver', 'enthralled', 'dirt-cheap', 'blessing', 'excitedness', 'endearing', 'usable', 'gracefully', 'convenience', 'amiability', 'cost-effective', 'lustrous', 'reverence', 'togetherness', 'well-informed', 'lucky', 'cashback', 'nice', 'energy-efficient', 'prominence', 'smoother', 'exhilarating', 'patience', 'eventful', 'freshest', 'stimulates', 'visionary', 'accessible', 'groundbreaking', 'elegance', 'colorful', 'fascinatingly', 'exquisite', 'captivating', 'dignity', 'bargain', 'easier', 'staunchness', 'tranquil', 'irresistible', 'admirable', 'awed', 'mighty', 'ethical', 'enjoyably', 'panoramic', 'avidly', 'gracious', 'revolutionizes', 'firmer', 'glorious', 'generously', 'happiness', 'sweetness', 'convience', 'humour', 'readily', 'succeeds', 'tolerable', 'effusion', 'audible', 'first-rate', 'dominated', 'pamper', 'precisely', 'well-known', 'endorsing', 'reconcile', 'clean', 'compliment', 'enjoys', 'sagacity', 'industrious', 'economical', 'reverently', 'willing', 'deservedly', 'trustingly', 'peace', 'bliss', 'immaculate', 'unlimited', 'capability', 'dumbfounded', 'excels', 'openness', 'miracle', 'advantageously', 'merciful', 'intricate', 'maturity', 'harmless', 'darling', 'gain', 'saver', 'amazingly', 'vivacious', 'geekier', 'recommendations', 'outstrip', 'fine-looking', 'excellent', 'trusting', 'jubilate', 'unparalleled', 'peacekeepers', 'reassure', 'fair', 'fragrant', 'indulgent', 'positively', 'promptly', 'satisified', 'graciously', 'celebration', 'comfort', 'overjoyed', 'constructive', 'unbeatable', 'commendable', 'jaw-droping', 'gutsy', 'accommodative', 'stimulating', 'champ', 'infallibility', 'gold', 'slammin', 'wow', 'awe', 'unfettered', 'blissfully', 'revival', 'straightforward', 'inexpensive', 'agility', 'smile', 'supremely', 'fave', 'excitedly', 'ebullient', 'striving', 'considerate', 'revives', 'virtuously', 'ecstasies', 'faultless', 'venerate', 'upgradeable', 'effectual', 'altruistic', 'admiringly', 'appeal', 'trust', 'agreeable', 'valiant', 'homage', 'distinguished', 'smart', 'verifiable', 'trouble-free', 'enjoying', 'enthusiastic', 'undaunted', 'accomplished', 'effectiveness', 'boom', 'upscale', 'dashing', 'encourage', 'faster', 'loved', 'cure', 'defeating', 'magnificently', 'pluses', 'favour', 'painlessly', 'obsession', 'wondrous', 'excite', 'sensitive', 'delightfully', 'proficient', 'brainiest', 'virtuous', 'amusing', 'diplomatic', 'flexibility', 'fortuitous', 'transparent', 'well-received', 'danken', 'fascination', 'infallible', 'felicity', 'bullish', 'nourish', 'warmly', 'refine', 'stirringly', 'exemplar', 'gains', 'gladden', 'eyecatch', 'righteousness', 'lean', 'unconditional', 'streamlined', 'hearten', 'enhanced', 'inspiring', 'brand-new', 'wellbeing', 'swift', 'peaceable', 'concise', 'tough', 'well-intentioned', 'eulogize', 'classic', 'authentic', 'resilient', 'gaiety', 'wonderous', 'progress', 'contribution', 'desirable', 'fecilitous', 'enhancement', 'flatteringly', 'shine', 'redeeming', 'impress', 'prestigious', 'restructure', 'nifty', 'finely', 'instantly', 'bright', 'fortuitously', 'genial', 'authoritative', 'commodious', 'fiery', 'enliven', 'mastery', 'simplest', 'pep', 'winning', 'adorer', 'proficiently', 'snappy', 'expansive', 'quieter', 'undisputable', 'doubtless', 'comfortably', 'oasis', 'invincible', 'meticulous', 'steadiness', 'compassion', 'abounds', 'thrill', 'admirer', 'pampered', 'majestic', 'favorited', 'convienient', 'celebratory', 'dextrous', 'enviable', 'entertains', 'skilled', 'valuable', 'euphorically', 'spellbinding', 'revolutionary', 'grace', 'diligence', 'gaining', 'stylish', 'clever', 'sane', 'affirm', 'futurestic', 'dexterous', 'sleek', 'thrilling', 'defender', 'record-setting', 'outperformed', 'godsend', 'preferes', 'continuity', 'punctual', 'obtainable', 'beneficent', 'ecstatically', 'savior', 'whooa', 'diversified', 'traction', 'amenable', 'contentment', 'rightly', 'smarter', 'adequate', 'coherence', 'cherub', 'passion', 'jollify', 'devout', 'pretty', 'easygoing', 'enthuse', 'magnificent', 'effortlessly', 'foresight', 'bless', 'famed', 'amazing', 'irreplaceable', 'excellant', 'welcome', 'admire', 'holy', 'rock-stars', 'affectionate', 'sweetheart', 'gentle', 'famous', 'goood', 'appreciates', 'ecstasy', 'avid', 'satisfies', 'plentiful', 'efficacious', 'worth-while', 'delectable', 'evenly', 'felicitate', 'clearer', 'ingenuity', 'intimate', 'swanky', 'luck', 'safe', 'astounding', 'elation', 'merry', 'sumptuousness', 'compassionate', 'entice', 'significant', 'talented', 'accolades', 'trivially', 'gems', 'pleasure', 'tenacity', 'greatness', 'appreciatively', 'trump', 'crisper', 'advantages', 'paradise', 'rapt', 'adventuresome', 'suavely', 'subsidizing', 'wonderfully', 'elan', 'endorsement', 'rockstars', 'regard', 'convient', 'polite', 'pamperedness', 'justly', 'extraordinarily', 'loveliness', 'wowing', 'love', 'advocated', 'succeeded', 'rapturously', 'illuminati', 'accolade', 'resounding', 'rectify', 'subsidizes', 'thrilled', 'sweet', 'encouragingly', 'nicest', 'high-quality', 'impartiality', 'deginified', 'glitter', 'blockbuster', 'retractable', 'adaptive', 'yay', 'eminent', 'low-cost', 'respite', 'stainless', 'noble', 'seasoned', 'mesmerizingly', 'breathlessness', 'idolized', 'prudent', 'advantage', 'foolproof', 'blossom', 'eye-catch', 'lavish', 'harmoniously', 'sustainable', 'undisputably', 'assurances', 'ameliorate', 'simplifying', 'reliably', 'richly', 'surpass', 'impressiveness', 'counter-attack', 'cozy', 'eagerly', 'proves', 'best-performing', 'effectively', 'prefer', 'sensationally', 'revitalize', 'guiltless', 'gratifyingly', 'well-behaved', 'grand', 'harmonize', 'winnable', 'rejuvenating', 'lively', 'smiles', 'feature-rich', 'well-made', 'endorse', 'excitement', 'beautify', 'amicability', 'nourishment', 'bravo', 'charisma', 'astound', 'astounded', 'feisty', 'wisdom', 'gleefully', 'joyfully', 'reachable', 'magnificence', 'unbiased', 'recovery', 'splendor', 'admiring', 'fluent', 'evaluative', 'eloquence', 'peacefully', 'compact', 'ardent', 'superbly', 'outshone', 'admirably', 'tantalizingly', 'persevere', 'efficient', 'robust', 'trendy', 'tempting', 'fortunate', 'relent', 'thinner', 'tremendously', 'truthfulness', 'impeccable', 'sincerely', 'empower', 'ebullience', 'shimmeringly', 'accomplishments', 'restored', 'levity', 'unforgettable', 'sincere', 'steadfastly', 'gaily', 'low-price', 'stupendously', 'heros', 'kid-friendly', 'jolly', 'dedicated', 'regally', 'warmhearted', 'progressive', 'eloquent', 'inviolable', 'available', 'fearlessly', 'kindly', 'intelligence', 'strong', 'gained', 'freedom', 'accomodative', 'brotherly', 'rapture', 'stability', 'hug', 'thrills', 'exceedingly', 'quiet', 'mesmerized', 'readable', 'earnest', 'sufficient', 'courageousness', 'versatility', 'respectful', 'revel', 'pleased', 'solicitous', 'capably', 'satisfactorily', 'educated', 'solid', 'luxury', 'triumphal', 'revolutionized', 'precise', 'promised', 'autonomous', 'preeminent', 'truthful', 'energetic', 'cleanly', 'compatible', 'favorite', 'thriving', 'coolest', 'renewed', 'right', 'suave', 'luxuriant', 'smartest', 'cool', 'effusiveness', 'bloom', 'impressive', 'rapturous', 'energy-saving', 'hospitable', 'invincibility', 'resolute', 'nourishing', 'outdone', 'adoring', 'heartwarming', 'unabashedly', 'spellbindingly', 'advocate', 'proactive', 'gooood', 'idolize', 'like', 'magnanimous', 'entertain', 'gainful', 'smartly', 'peps', 'calming', 'propitiously', 'lawful', 'loyalty', 'fashionably', 'deserving', 'magic', 'generous', 'straighten', 'meritorious', 'hooray', 'charm', 'unmatched', 'risk-free', 'spellbound', 'striking', 'assuredly', 'generosity', 'exuberant', 'rational', 'sprightly', 'felicitous', 'trusty', 'luxuriate', 'modern', 'lyrical', 'clear', 'marvelous', 'improvement', 'shimmering', 'proper', 'congratulate', 'elegantly', 'gratifying', 'cheery', 'enrichment', 'complemented', 'friendliness', 'strikingly', 'better-than-expected', 'adore', 'toughest', 'exaltingly', 'topnotch', 'purify', 'merit', 'recomend', 'amazed', 'captivate', 'honored', 'merriment', 'fresher', 'exaltedly', 'fast-growing', 'dexterously', 'succes', 'entranced', 'reasonable', 'painless', 'ebulliently', 'logical', 'fine', 'breathtakingly', 'exceeding', 'responsibly', 'won', 'goodness', 'festive', 'courteous', 'astonishingly', 'privileged', 'zest', 'dominates', 'nurturing', 'excellence', 'tantalizing', 'protection', 'subsidize', 'delighted', 'flourish', 'originality', 'sufficiently', 'believable', 'pleasurable', 'bravery', 'efficiently', 'inestimably', 'windfall', 'enthral', 'mature', 'conciliatory', 'halcyon', 'acclaimed', 'excelled', 'bonny', 'ingeniously', 'overtake', 'marvelousness', 'simpler', 'brainy', 'advanced', 'astonished', 'fulfillment', 'savings', 'richer', 'amicable', 'serene', 'headway', 'improve', 'heartily', 'enough', 'affirmation', 'promising', 'delicate', 'magical', 'sharp', 'improves', 'kudos', 'proven', 'judicious', 'fondly', 'astoundingly', 'appropriate', 'idol', 'pleasingly', 'intrigue', 'inestimable', 'prosperity', 'law-abiding', 'peaceful', 'gumption', 'entrust', 'geeky', 'achievible', 'sharpest', 'palatial', 'auspicious', 'idyllic', 'refunded', 'cleanliness', 'idealize', 'honor', 'thrillingly', 'abound', 'faith', 'astonishing', 'remarkable', 'zippy', 'plusses', 'winners', 'profoundly', 'playfully', 'decisiveness', 'upbeat', 'brilliantly', 'sweetly', 'swankiest', 'encouragement', 'tingle', 'youthful', 'marvellous', 'supportive', 'beauty', 'merrily', 'recommendation', 'poetic', 'fastest', 'best-selling', 'upheld', 'truthfully', 'mercifully', 'overtaking', 'lower-priced', 'resplendent', 'safely', 'fantastic', 'amazement', 'sensations', 'enhances', 'sumptuously', 'elevate', 'unassailable', 'beauteous', 'sustainability', 'perfectly', 'superb', 'flattering', 'luxurious', 'poeticize', 'easiness', 'invaluable', 'smilingly', 'worthwhile', 'glory', 'affinity', 'poised', 'empathy', 'better', 'invigorating', 'posh', 'prodigiously', 'exhilaration', 'goodly', 'romantically', 'supremacy', 'problem-free', 'steadfast', 'cooperatively', 'smooth', 'innocuous', 'amuse', 'influential', 'electrify', 'successful', 'benifits', 'masterpieces', 'richness', 'peerless', 'unfazed', 'fidelity', 'enjoyed', 'exceptionally', 'soundly', 'honesty', 'openly', 'sparkling', 'supporting', 'well-positioned', 'brilliant', 'reputation', 'unity', 'beutifully', 'divine', 'credence', 'adulate', 'stunningly', 'exuberance', 'navigable', 'exceptional', 'jubilation', 'beneficiary', 'wholesome', 'tougher', 'brisk', 'willingness', 'interesting', 'romantic', 'fanfare', 'irreproachable', 'praising', 'precious', 'satisfactory', 'titillate', 'enjoy', 'proving', 'delight', 'impressively', 'fast', 'fancy', 'prompt', 'modesty', 'zenith', 'delightful', 'mightily', 'paramount', 'reliable', 'smoothly', 'splendidly', 'carefree', 'neat', 'blithe', 'golden', 'success', 'razor-sharp', 'profusion', 'honest', 'compactly', 'cost-saving', 'acclaim', 'well-bred', 'thoughtful', 'entrancing', 'resourcefulness', 'brighten', 'smitten', 'inspirational', 'affordable', 'cheerful', 'compliant', 'comforting', 'virtue', 'masterful', 'laudably', 'enticingly', 'celebrate', 'cheaper', 'lovable', 'durable', 'renown', 'well-connected', 'thrift', 'low-priced', 'inspire', 'elate', 'delightfulness', 'rejoicingly', 'easy-to-use', 'impartially', 'reaffirmation', 'thrifty', 'standout', 'worthiness', 'unequivocally', 'awarded', 'classy', 'smiling', 'top-quality', 'outstandingly', 'accessable', 'successfully', 'thumbs-up', 'excellency', 'satisfying', 'subsidized', 'ambitious', 'humble', 'dignify', 'terrifically', 'reforming', 'hot', 'rejoice', 'pepped', 'knowledgeable', 'recommend', 'chaste', 'protective', 'wholeheartedly', 'luckiest', 'excelent', 'good', 'enthrall', 'excel', 'dauntless', 'advantageous', 'examplar', 'brilliances', 'sagely', 'witty', 'awestruck', 'eager', 'remunerate', 'savvy', 'enticed', 'lionhearted', 'hale', 'fame', 'genuine', 'dreamland', 'assurance', 'staunchly', 'unwavering', 'graciousness', 'flatter', 'beneficially', 'decisive', 'first-class', 'solace', 'promoter', 'destiny', 'pre-eminent', 'daringly', 'applaud', 'flawlessly', 'relaxed', 'cashbacks', 'energize', 'fervent', 'dawn', 'abundance', 'empathize', 'fabulous', 'marvelously', 'dazzled', 'awsome', 'impartial', 'unquestionably', 'eyecatching', 'healthy', 'adventurous', 'mesmerizing', 'wonderously', 'heal', 'veritable', 'providence', 'ergonomical', 'apotheosis', 'important', 'reclaim', 'vibrant', 'dead-on', 'pleasantly', 'comfortable', 'prudence', 'top-notch', 'stellarly', 'harmony', 'self-sufficiency', 'successes', 'well-educated', 'complements', 'enthusiasm', 'amiabily', 'elatedly', 'abundant', 'entertaining', 'restructuring', 'swankier', 'well-balanced', 'staunch', 'effortless', 'cohesive', 'excellently', 'cheapest', 'fancinating', 'exult', 'roomy', 'conveniently', 'defeat', 'beautifully', 'receptive', 'deference', 'succeeding', 'supports', 'prospros', 'useable', 'freed', 'exalted', 'benefit', 'self-determination', 'pinnacle', 'optimistic', 'unreal', 'fastest-growing', 'liberate', 'happier', 'exellent', 'exciting', 'audibly', 'decency', 'unequivocal', 'engaging', 'vouchsafe', 'talents', 'elite', 'immaculately', 'agilely', 'solicitously', 'distinction', 'hardy', 'tops', 'fervor', 'endorsed', 'adaptable', 'nicely', 'convenient', 'frolic', 'enticing', 'mercy', 'supported', 'intuitive', 'surreal', 'restructured', 'raptureous', 'greatest', 'tidy', 'adorable', 'perfect', 'rock-star', 'affably', 'hopeful', 'impresses', 'spacious', 'mesmerize', 'memorable', 'assure', 'enthusiastically', 'futuristic', 'overtook', 'hallmark', 'extraordinary', 'simplifies', 'trumpet', 'proud', 'imaculate', 'maturely', 'faithful', 'sturdier', 'exceeded', 'refreshed', 'gratefully', 'supurbly', 'rectification', 'crisp', 'affluent', 'outperforms', 'monumentally', 'phenomenal', 'enviously', 'permissible', 'romanticize', 'comprehensive', 'saintliness', 'prize', 'dynamic', 'hotcake', 'rightness', 'speedy', 'sublime', 'illuminating', 'preferring', 'uplift', 'handy', 'quaint', 'rightfully', 'meaningful', 'fruitful', 'integral', 'appreciable', 'gratified', 'hardier', 'happy', 'honoring', 'gratification', 'exceed', 'saint', 'catchy', 'congratulatory', 'stimulate', 'commitment', 'gallant', 'gratitude', 'pride', 'time-honored', 'talent', 'gallantly', 'backbone', 'soundness', 'endear', 'enchant', 'beautifullly', 'amply', 'triumphant', 'brilliance', 'clear-cut', 'momentous', 'enviably', 'miraculousness', 'charming', 'reward', 'correctly', 'erudite', 'feasible', 'morality', 'unrivaled', 'cornerstone', 'stable', 'warm', 'spectacularly', 'sharper', 'titillating', 'faithfully', 'swank', 'attraction', 'dummy-proof', 'refinement', 'prefers', 'personalized', 'upliftingly', 'fondness', 'invaluablely', 'well-being', 'flawless', 'innovative', 'gratifies', 'enchanting', 'lucrative', 'variety', 'examplary', 'award', 'multi-purpose', 'appreciative', 'congratulation', 'ingenuously', 'improving', 'marveled', 'appreciate', 'immense', 'earnestness', 'rejuvenated', 'gleeful', 'spellbind', 'ample', 'enthusiast', 'supporter', 'aspiration', 'long-lasting', 'attractive', 'solidarity', 'earnestly', 'confidence', 'fairness', 'tenderly', 'wieldy', 'positives', 'easy', 'spontaneous', 'fervently', 'balanced', 'satisfy', 'beloved', 'reform', 'succeed', 'masterfully', 'stellar', 'lush', 'flourishing', 'equitable', 'spectacular', 'vibrantly', 'ecstatic', 'patiently', 'thoughtfully', 'brightest', 'fond', 'healthful', 'blissful', 'handily', 'snazzy', 'surmount', 'stunned', 'wonderful', 'complementary', 'courage', 'exceled', 'adulation', 'civility', 'amenity', 'salutary', 'eye-catching', 'handier', 'euphoric', 'beckons', 'luckier', 'overture', 'eased', 'selective', 'playful', 'tickle', 'amazes', 'stylishly', 'promise', 'uncomplicated', 'glowingly', 'overtaken', 'dependable', 'benevolence', 'instrumental', 'breakthroughs', 'evocative', 'grandeur', 'stunning', 'consistently', 'premier', 'speedily', 'better-known', 'a+', 'warmth', 'extol', 'overtakes', 'worth', 'plush', 'dazzle', 'sensation', 'woo', 'reaffirm', 'humility', 'approval', 'pampers', 'cherished', 'engrossing', 'illuminate', 'cute', 'upliftment', 'accurately', 'revolutionize', 'fertile', 'astonishment', 'profuse', 'victory', 'wowed', 'skillfully', 'defeats', 'simplify', 'improvements', 'tranquility', 'unrestricted', 'well-regarded', 'angel', 'inpressed', 'perfection', 'relief', 'master', 'masterpiece', 'easiest', 'gem', 'workable', 'effective', 'manageable', 'expeditiously', 'scenic', 'stylized', 'helping', 'popular', 'sexy', 'intriguing', 'exalt', 'keenly', 'incredibly', 'helped', 'stimulative', 'dazzling', 'self-satisfaction', 'gloriously', 'bolster', 'chic', 'soft', 'lovably', 'whoooa', 'advocates', 'glad', 'decent', 'well-run', 'well-managed', 'heartfelt', 'amicably', 'upgradable', 'marvelled', 'prodigy', 'lead', 'reasoned', 'tenacious', 'tenaciously', 'polished', 'miracles', 'assuring', 'pleases', 'deft', 'believeable', 'hallmarks', 'motivated', 'lavishly', 'joy', 'saintly', 'preferable', 'dotingly', 'quicker', 'inventive', 'consistent', 'handsome', 'suffices', 'enlightenment', 'flutter', 'outsmart', 'capable', 'excited', 'articulate', 'pleasing', 'ennoble', 'majesty', 'beckoned', 'comely', 'likes', 'passionately', 'ecenomical', 'defeated', 'adroitly', 'recover', 'rockstar', 'dependably', 'non-violent', 'euphoria', 'glee', 'diligent', 'renaissance', 'super', 'well', 'light-hearted', 'conscientious', 'congenial', 'winner', 'exultingly', 'reasonably', 'exemplary', 'expertly', 'sturdy', 'eagerness', 'sociable', 'lover', 'respect', 'commendably', 'treasure', 'wonders', 'lovely', 'boundless', 'prosperous', 'nimble', 'heaven', 'bonuses', 'detachable', 'miraculous', 'portable', 'strongest', 'prodigious', 'famously', 'lucidly', 'agile', 'counter-attacks', 'luckiness', 'individualized', 'beckon', 'rectifying', 'heavenly', 'affection', 'survivor', 'covenant', 'sophisticated', 'adulatory', 'soulful', 'supreme', 'acclamation', 'cleaner', 'titillatingly', 'reformed', 'amity', 'sufficed', 'valor', 'inspiration', 'stately', 'timely', 'fresh', 'complement', 'worked', 'ease', 'fortunately', 'insightful', 'hard-working', 'err-free', 'thankful', 'ardently', 'pardon', 'glow', 'diligently', 'intelligent', 'stabilize', 'enjoyable', 'large-capacity', 'marvels', 'whoa', 'glistening', 'willingly', 'invigorate', 'adjustable', 'bonus', 'jubilant', 'opulent', 'enhance', 'convincingly', 'enraptured', 'thoughtfulness', 'keen', 'hands-down', 'adroit', 'refreshing', 'likable', 'exhilaratingly', 'qualified', 'irresistibly', 'acumen', 'pros', 'formidable', 'fervid', 'indebted', 'legendary', 'silent', 'complimentary', 'rapid', 'supurb', 'inviolate', 'dumbfounding', 'harmonious', 'fast-paced', 'pure', 'salute', 'spiritual', 'fearless', 'viewable', 'unaffected', 'meticulously', 'securely', 'enviousness', 'rejoicing', 'valiantly', 'nicer', 'coherent', 'enrich', 'hilarious', 'feat', 'glorify', 'attentive', 'respectfully', 'promises', 'remarkably', 'restful', 'outwit', 'handsomely', 'calm', 'awards', 'buoyant', 'righteously', 'well-wishers', 'exaltation', 'imaginative', 'vigilance', 'secure', 'gorgeously', 'radiant', 'affluence', 'admiration', 'leverage', 'responsive', 'grin', 'enchantingly', 'effusive', 'sumptuous', 'champion', 'unselfish', 'sporty', 'sensible', 'cajole', 'finer', 'optimism', 'creative', 'remission', 'unencumbered', 'distinctive', 'convincing', 'affordably', 'enlighten', 'resound', 'warmer', 'wonder', 'unbound', 'altruistically', 'agreeableness', 'gentlest', 'skillful', 'self-respect', 'qualify', 'neatest', 'affirmative', 'gifted', 'beneficial', 'heroize', 'delicious', 'led', 'accurate', 'thank', 'peach', 'breakthrough', 'regal', 'divinely', 'exhilarate', 'well-backlit', 'sensational', 'joyously', 'optimal', 'supple', 'simplified', 'user-friendly', 'fortitude', 'patriot', 'godlike', 'state-of-the-art', 'suffice', 'reverent', 'exuberantly', 'integrated', 'confident', 'god-send', 'clarity', 'trustworthy', 'honorable', 'righteous', 'top', 'aspirations', 'mesmerizes', 'shiny', 'facilitate', 'amusingly', 'unquestionable', 'redeem', 'empowerment', 'pleasurably', 'cuteness', 'exultation', 'refresh', 'wealthy', 'outperform', 'celebrated', 'gainfully', 'magnanimously', 'attune', 'eloquently', 'enjoyment', 'favorable', 'personages', 'guidance', 'gorgeous', 'humane', 'liked', 'leading', 'loves', 'protect', 'incredible', 'spirited', 'respectable', 'effusively', 'upgraded', 'prosper', 'amiable', 'fortune', 'realistic', 'soothingly', 'rosy', 'exultant', 'rejuvenate', 'exalting', 'righten', 'statuesque', 'prowess', 'suitable', 'indulgence', 'principled', 'ingenuous', 'intriguingly', 'afordable', 'ideal', 'obsessions', 'luster', 'trustworthiness', 'peppy', 'elated', 'improved', 'ftw', 'swiftness', 'guarantee', 'achievable', 'smoothes', 'steadiest', 'vouch', 'enterprising', 'praiseworthy', 'finest', 'prefered', 'faithfulness', 'serenity', 'rewarding', 'fav', 'favor', 'feasibly', 'reforms', 'slick', 'support', 'ilu', 'first-in-class', 'galore', 'chivalrous', 'stronger', 'brighter', 'superiority', 'accomplishment', 'awesome', 'embolden', 'foremost', 'well-established', 'mind-blowing', 'work', 'jubilantly', 'well-rounded', 'god-given', 'skill', 'hotcakes', 'wins', 'heroically', 'understandable', 'impeccably', 'fantastically', 'civilize', 'vigilant', 'glowing', 'laud', 'agreeably', 'triumphantly', 'orderly', 'cure-all', 'cooperative', 'outshine', 'politeness', 'rapport', 'noiseless', 'innovation', 'vivid', 'appealing', 'satisfied', 'intelligible', 'tempt', 'realizable', 'easing', 'breathtaking', 'superior', 'dominate', 'approve', 'outperforming', 'pamperedly', 'merriness', 'unabashed', 'bountiful', 'desirous', 'awesomeness', 'benefactor', 'benefits', 'rightful', 'privilege', 'problem-solver', 'dignified', 'ultra-crisp', 'user-replaceable', 'affectation', 'ingenious', 'glimmer', 'clears', 'ardor', 'frugal', 'phenomenally', 'patriotic', 'issue-free', 'worthy', 'masters', 'clearly', 'instructive', 'wisely', 'loyal', 'flashy', 'achievement', 'afford', 'conciliate', 'attractively', 'picturesque', 'gusto', 'goodwill', 'uplifting', 'cleanest', 'free', 'freedoms', 'cleverly', 'affable', 'charismatic', 'courageous', 'lifesaver', 'glimmering', 'joyous', 'positive', 'revive', 'beckoning', 'praise', 'heroine', 'redemption', 'modest', 'hero', 'temptingly', 'competitive', 'aspire', 'humor', 'joyful', 'prestige', 'uphold', 'fancier', 'prudently', 'gratify', 'encouraging', 'patient', 'kindness', 'all-around', 'resourceful', 'credible', 'exquisitely', 'infallibly', 'outstanding', 'cohere', 'alluringly', 'reputable', 'accomplish', 'high-spirited', 'awesomely', 'pleasant', 'rich', 'lighter', 'refined', 'boost', 'gladly', 'rewardingly', 'versatile', 'hottest', 'breeze', 'fascinating', 'world-famous', 'reassurance', 'novelty', 'marvel', 'calmness', 'powerfully', 'jovial', 'angelic', 'soothe', 'friendly', 'enrapture', 'win', 'comfy', 'courageously', 'adored', 'alluring', 'great', 'substantive', 'sparkle', 'best', 'impassioned', 'undisputed', 'fashionable', 'fascinate', 'glisten', 'humorous', 'roomier', 'loving', 'remedy', 'excitingly', 'liberation', 'correct', 'extoll', 'luminous', 'intimacy', 'beautiful', 'non-violence', 'productive', 'fabulously', 'renowned', 'refund', 'relish', 'graceful', 'stupendous', 'happily', 'sincerity', 'splendid', 'radiance', 'fun', 'amaze', 'trophy', 'matchless', 'keenness', 'fans', 'lawfully', 'sweeten', 'humourous', 'propitious', 'sensibly', 'helpful', 'genius', 'works', 'poignant', 'jubiliant', 'piety', 'contrasty', 'dead-cheap', 'maneuverable', 'poise', 'low-risk', 'impressed', 'charitable', 'invulnerable', 'outdo', 'triumph', 'ready', 'steady', 'edify', 'ovation', 'self-sufficient', 'thumb-up', 'wise', 'flexible', 'fairly', 'excites', 'affability', 'monumental', 'courtly', 'undamaged', 'daring', 'ambitiously', 'blameless', 'insightfully', 'liberty', 'prolific', 'well-mannered', 'envious', 'interests', 'prominent', 'chivalry', 'everlasting', 'miraculously', 'smoothest', 'brave', 'heartening', 'replaceable', 'best-known', 'cheer', 'excallent', 'fervidly', 'benevolent', 'gladness', 'raptureously', 'booming', 'illustrious', 'preferably', 'achievements']\n",
      "negative words:------ 4780\n",
      "['conscons', 'unwillingness', 'worrisome', 'wretchedness', 'threat', 'wiles', 'noise', 'accost', 'ironies', 'obstruction', 'bleed', 'expropriation', 'destroyer', 'pollute', 'zombie', 'inconstant', 'virulence', 'traitor', 'appal', 'distraughtness', 'stutter', 'browbeat', 'incivility', 'messing', 'stampede', 'lethargic', 'delinquent', 'tyrannical', 'resentment', 'reprehensibly', 'suicide', 'stumbled', 'cringes', 'gloomy', 'irrationalities', 'scars', 'scold', 'disadvantageous', 'jaundiced', 'severe', 'venomous', 'pervert', 'vomits', 'egregious', 'quarrellously', 'discombobulate', 'incendiary', 'fake', 'mad', 'abyss', 'chagrin', 'crumpled', 'injure', 'obnoxiously', 'presumptuous', 'discontinued', 'thoughtless', 'disrespectablity', 'discontinuity', 'graceless', 'cheater', 'fib', 'vexingly', 'life-threatening', 'unwillingly', 'unimaginably', 'overdue', 'misconceptions', 'repugnance', 'conceit', 'heresy', 'unfit', 'bewildering', 'intractable', 'screwed', 'slooow', 'dark', 'loathly', 'protesting', 'scant', 'sued', 'ail', 'defensive', 'strain', 'suspicions', 'unresponsive', 'antiquated', 'chasten', 'sadness', 'dissatisfying', 'pains', 'erodes', 'uproot', 'aggressiveness', 'frustration', 'backbite', 'dastardly', 'deficiency', 'insincere', 'taunts', 'comical', 'stinging', 'indecent', 'leakage', 'blather', 'ineligible', 'tawdry', 'hurtful', 'bondage', 'hates', 'ignore', 'deploringly', 'ruin', 'apologist', 'unacceptable', 'fluster', 'irritation', 'jealousy', 'interruptions', 'obscene', 'oppositions', 'clumsy', 'downsides', 'stupid', 'jeeringly', 'feebleminded', 'inflammation', 'slowly', 'bluring', 'spoonfed', 'slog', 'drop-outs', 'unleash', 'wickedly', 'anti-proliferation', 'blatant', 'wrangle', 'apathetically', 'demon', 'disgustedly', 'distasteful', 'restrict', 'squeaks', 'unfulfilled', 'hamper', 'belligerently', 'plaything', 'outrageously', 'belligerence', 'tetchy', 'chilly', 'irate', 'mirage', 'quibble', 'undetermined', 'unconvincing', 'vehement', 'indecorum', 'uncivil', 'unrelenting', 'ire', 'infringements', 'malaise', 'fumes', 'miser', 'creak', 'enslave', 'crafty', 'injudicious', 'mope', 'wobble', 'scornful', 'disbelieve', 'violently', 'died', 'fraught', 'sufferer', 'gutless', 'egotistically', 'starvation', 'suffocate', 'dissocial', 'plagiarize', 'cramping', 'undignified', 'amiss', 'savaged', 'botch', 'earsplitting', 'reticent', 'slowed', 'disrespecting', 'repugn', 'alienate', 'spoiled', 'helplessly', 'crush', 'unnecessary', 'ambush', 'cheated', 'crueler', 'humiliate', 'incapably', 'aground', 'tortuous', 'forebodingly', 'throbbing', 'corrupts', 'swindle', 'awful', 'bashful', 'vindictiveness', 'hotheaded', 'degeneration', 'dead', 'insincerity', 'error', 'exasperated', 'selfishness', 'outrages', 'scandalized', 'suspect', 'exasperating', 'unlawful', 'perplexed', 'worriedly', 'sweaty', 'itching', 'funnily', 'topple', 'lifeless', 'restlessness', 'hypocricy', 'lesser-known', 'miseries', 'unsuccessful', 'abominable', 'acridly', 'bump', 'dishonesty', 'dreadfully', 'inaptitude', 'uneconomical', 'objections', 'quarrel', 'superficiality', 'irredeemably', 'murderously', 'forgetful', 'tangled', 'throbbed', 'madder', 'screw-up', 'fleer', 'emphatically', 'hurting', 'dogged', 'devious', 'pity', 'forsaken', 'impersonal', 'questionable', 'sidetrack', 'thrash', 'tormented', 'unsettled', 'dirts', 'irritations', 'polarisation', 'unhappy', 'intolerablely', 'collude', 'oppress', 'astray', 'bereft', 'indoctrinate', 'intrusion', 'smokescreen', 'equivocal', 'insolence', 'dissuasive', 'drains', 'gainsayer', 'melancholy', 'aweful', 'desert', 'blurry', 'quandary', 'disconsolately', 'gauche', 'threesome', 'repressive', 'danger', 'fearsome', 'risky', 'scoff', 'smelly', 'terrorism', 'useless', 'fugitive', 'overlook', 'repulsiveness', 'infiltrator', 'defame', 'pan', 'feign', 'undue', 'impetuous', 'ironically', 'unemployed', 'ding', 'grumpier', 'execrate', 'hopelessness', 'tiringly', 'unorthodox', 'mudslinger', 'lukewarm', 'odder', 'torrent', 'rebuff', 'eccentric', 'repudiation', 'wail', 'embarrass', 'despotism', 'unthinkably', 'revengeful', 'dubitable', 'strict', 'untrustworthy', 'accidental', 'anomaly', 'disdain', 'stuttered', 'uninformed', 'inconvenience', 'bearish', 'odd', 'dejected', 'worryingly', 'shrivel', 'chatter', 'fooled', 'long-time', 'belittling', 'grossly', 'impatience', 'rampage', 'underlings', 'unpleasantries', 'overact', 'ruthlessly', 'offenses', 'dishonorablely', 'fall', 'addicted', 'hassle', 'contradictory', 'beg', 'debacle', 'overthrows', 'paranoia', 'remorsefully', 'snub', 'derisively', 'debaucher', 'gravely', 'gainsay', 'raving', 'unravel', 'congestion', 'wretchedly', 'hypocrite', 'maliciousness', 'reprimand', 'sagged', 'sillily', 'wounds', 'losses', 'barbarously', 'sag', 'noisier', 'procrastinates', 'decline', 'smuttier', 'desititute', 'despicable', 'downside', 'outmoded', 'banal', 'disses', 'oversimplify', 'immodest', 'sneaky', 'slogged', 'unfaithfully', 'mire', 'smoldering', 'monstrous', 'unwise', 'naively', 'seethe', 'sham', 'spiritless', 'stolen', 'inferior', 'insidious', 'pugnaciously', 'laggy', 'limp', 'disastrous', 'slander', 'asinininity', 'disavow', 'uncivilized', 'backache', 'capriciously', 'dropout', 'disgustfully', 'jaded', 'pig', 'pigs', 'self-humiliation', 'shamelessness', 'indiscreetly', 'poorest', 'inequitable', 'smudge', 'blunder', 'flareup', 'mangle', 'mercilessly', 'misguided', 'snob', 'dissonance', 'stubborn', 'gloatingly', 'slow-moving', 'bane', 'satirize', 'unbearable', 'rile', 'sinful', 'liable', 'heckle', 'confined', 'uneventful', 'ignorance', 'absentee', 'queer', 'derisive', 'subdued', 'bankrupt', 'calumnious', 'flicering', 'demolisher', 'anxiously', 'nagging', 'punch', 'ruffian', 'timidly', 'brashly', 'unnerve', 'disinterest', 'ineffectually', 'hurts', 'rattle', 'contemptible', 'thoughtlessness', 'disquieting', 'domineer', 'hoodium', 'contortions', 'villian', 'intimidate', 'hasseling', 'incapable', 'blackmail', 'deploring', 'dumping', 'lorn', 'rankle', 'naive', 'cringe', 'dissappointing', 'gaffe', 'threats', 'disquietude', 'impetuously', 'risk', 'urgent', 'sadly', 'credulous', 'perturb', 'ironic', 'exagerated', 'condescension', 'disapproving', 'infringement', 'semi-retarded', 'woebegone', 'disoriented', 'puny', 'stench', 'wrinkle', 'pernicious', 'unspeakable', 'overwhelms', 'uncaring', 'blemish', 'displace', 'furiously', 'grudge', 'peevishly', 'agonizing', 'awkward', 'dullard', 'noxious', 'slogging', 'drippy', 'vindictively', 'disconcertingly', 'complex', 'sneakily', 'foolish', 'defiantly', 'scandals', 'backward', 'irately', 'leaks', 'sluts', 'ungrateful', 'inconsistence', 'sickly', 'expire', 'backaching', 'err', 'exorbitant', 'murderous', 'shunned', 'plot', 'liar', 'slowest', 'stigmatize', 'accusingly', 'blunt', 'panicked', 'unwelcome', 'extortion', 'perplexing', 'obscenity', 'apprehensive', 'helpless', 'antipathy', 'spendy', 'slowwww', 'infest', 'shame', 'mangled', 'repugnantly', 'endanger', 'inaccuracies', 'nitpick', 'inequities', 'anti-semites', 'wastefulness', 'inapt', 'hustler', 'scorn', 'controversial', 'toughness', 'criticisms', 'insubstantially', 'boring', 'divisiveness', 'insensitivity', 'distrust', 'dejectedly', 'flak', 'niggle', 'squealing', 'transgression', 'glitch', 'drips', 'obstructed', 'poisonously', 'humming', 'lose', 'indoctrination', 'judder', 'shallow', 'sketchy', 'torture', 'incomparable', 'contradiction', 'loveless', 'belie', 'bland', 'swamped', 'commonplace', 'inexcusably', 'skeletons', 'desolate', 'unclear', 'famished', 'suspicious', 'decayed', 'sloppily', 'enrage', 'uncertain', 'divisively', 'humiliating', 'dissappointed', 'corrode', 'adulteration', 'obstinate', 'threatening', 'warned', 'racist', 'despot', 'asinine', 'worthlessness', 'domineering', 'snappish', 'ambivalent', 'choleric', 'contaminates', 'overkill', 'defile', 'mockingly', 'vulnerable', 'wily', 'mulish', 'deceive', 'incitement', 'infamy', 'junky', 'sardonically', 'anxious', 'misalign', 'insinuate', 'crashed', 'lie', 'fried', 'suicidal', 'bash', 'cynical', 'mischief', 'rattles', 'hangs', 'revenge', 'trash', 'deadly', 'choppy', 'dick', 'boggle', 'audacious', 'enflame', 'unsafe', 'disbelief', 'wrinkled', 'counter-productive', 'mawkishness', 'dispirit', 'dreadfulness', 'taunt', 'irresolute', 'decrepit', 'villify', 'denies', 'unstable', 'diabolic', 'regress', 'sulk', 'unjustifiable', 'detestably', 'bulkier', 'handicapped', 'niggles', 'plebeian', 'seriousness', 'untouched', 'blaspheme', 'rhapsodize', 'miserly', 'uncomfortably', 'skinny', 'resistance', 'creep', 'disloyalty', 'scathingly', 'fallen', 'abuses', 'fuss', 'dogmatic', 'insatiable', 'spank', 'overreach', 'uneven', 'grotesque', 'opportunistic', 'contort', 'brute', 'fusty', 'mockery', 'deviously', 'hooligan', 'unaccustomed', 'cuss', 'atrocity', 'forswear', 'lambast', 'mistakes', 'perfidious', 'torturously', 'frigging', 'detract', 'languorously', 'plunderer', 'idiot', 'overstatements', 'fetid', 'irregular', 'wack', 'break-up', 'pugnacious', 'audacity', 'eschew', 'snagging', 'ill-natured', 'vociferously', 'sneering', 'hollow', 'negligence', 'beseech', 'ridiculous', 'repression', 'disprove', 'suffers', 'disobedience', 'caricature', 'jeering', 'shortsightedness', 'implausibly', 'pertinaciously', 'junk', 'streaky', 'run-down', 'spilling', 'objectionable', 'rage', 'dishearten', 'conceded', 'finicky', 'villainously', 'debaser', 'bastards', 'distaste', 'fatigued', 'itchy', 'stressful', 'sugarcoated', 'bungler', 'delirium', 'clueless', 'injustices', 'woefully', 'undermining', 'disaffirm', 'reluctance', 'retract', 'pugnacity', 'martyrdom-seeking', 'ineloquently', 'cataclysmically', 'hazard', 'struggles', 'prickles', 'bogus', 'frighten', 'degradation', 'madness', 'whimper', 'disputed', 'lowly', 'impudently', 'sneeringly', 'incompatible', 'stringent', 'distressingly', 'bleakly', 'cash-strapped', 'election-rigger', 'glitches', 'loose', 'destains', 'disapointing', 'ugly', 'upheaval', 'smuttiest', 'split', 'villianously', 'wasteful', 'mashed', 'deform', 'grind', 'subjection', 'detracting', '2-faced', 'anti-israeli', 'despairingly', 'harden', 'craziness', 'ineffectual', 'scum', 'nepotism', 'freak', 'ferociously', 'burn', 'carelessness', 'glibly', 'instigate', 'transgress', 'crept', 'crime', 'sharply', 'clog', 'overbearingly', 'unsupported', 'bashed', 'bicker', 'substandard', 'lurking', 'scowl', 'shirker', 'obliterated', 'perilously', 'delusion', 'sagging', 'undone', 'disabled', 'dense', 'detraction', 'embroil', 'capitulate', 'acrimonious', 'dread', 'hallucination', 'breaking', 'messes', 'abusive', 'tease', 'concession', 'feeble', 'shipwreck', 'meager', 'sinfully', 'ignorant', 'denying', 'terror-genic', 'catastrophe', 'brutalising', 'unable', 'spew', 'dire', 'virulent', 'excoriate', 'disappointing', 'anti-social', 'apathetic', 'mischievously', 'calumnies', 'left-leaning', 'irrecoverableness', 'misleading', 'tenuous', 'un-viewable', 'draconian', 'ill-conceived', 'infidels', 'horrible', 'jeer', 'unproven', 'scar', 'dungeon', 'degenerate', 'mischievous', 'persecute', 'hatefully', 'discomfit', 'lewd', 'menacingly', 'uproarious', 'impious', 'blotchy', 'irksomenesses', 'shrug', 'hardships', 'shamelessly', 'denunciations', 'cheap', 'fictitious', 'dispirited', 'dripping', 'fragile', 'craftily', 'strangely', 'stumped', 'extremism', 'blurred', 'uncollectible', 'falsehood', 'falls', 'deride', 'forfeit', 'irritant', 'spookiest', 'afraid', 'confrontational', 'misinform', 'shrill', 'encroach', 'stinks', 'coldly', 'laid-off', 'disheartening', 'slur', 'isolation', 'break', 'meltdown', 'ineptly', 'preposterous', 'unneeded', 'dissention', 'depression', 'greed', 'frigid', 'difficult', 'slanders', 'snappishly', 'oddity', 'straining', 'juddering', 'bungle', 'odor', 'incorrectly', 'procrastination', 'grumble', 'fallacious', 'squeal', 'contaminated', 'impulsive', 'macabre', 'vague', 'disgruntle', 'foul', 'punitive', 'headache', 'dictatorial', 'outrage', 'darker', 'unraveled', 'severity', 'douchbag', 'opposition', 'oppression', 'flaws', 'plunder', 'wasting', 'obtuse', 'forgetfulness', 'hostility', 'ailment', 'snag', 'flickering', 'gimmicking', 'disapprove', 'limited', 'waste', 'wrought', 'bias', 'disappoints', 'unipolar', 'lone', 'discourteously', 'overblown', 'unsettling', 'hazy', 'bug', 'faze', 'forlornly', 'goon', 'stresses', 'villains', 'contaminating', 'aggrieved', 'bleeding', 'disappointingly', 'discouragingly', 'midget', 'overthrow', 'leaky', 'desultory', 'coercion', 'pest', 'damned', 'dropouts', 'coarse', 'lag', 'merciless', 'rejection', 'displeasure', 'disruptive', 'scam', 'unworkable', 'incautious', 'scapegoat', 'selfish', 'tumble', 'shortcoming', 'dissolute', 'undermined', 'deviation', 'confusing', 'obnoxious', 'failed', 'rhetoric', 'discoutinous', 'repetitive', 'tarnished', 'anti-occupation', 'downer', 'banalize', 'puzzlement', 'deceit', 'scaly', 'stagnation', 'disaster', 'jerk', 'madden', 'self-criticism', 'stubbornly', 'dubious', 'overemphasize', 'blurs', 'belittle', 'despondency', 'haywire', 'misgiving', 'fatty', 'fruitless', 'little-known', 'rant', 'frets', 'sass', 'hack', 'blatantly', 'shortchange', 'woeful', 'challenging', 'dungeons', 'bewail', 'braggart', 'imposing', 'retreated', 'lure', 'slaves', 'solemn', 'conservative', 'lazy', 'provocative', 'startlingly', 'warped', 'damper', 'haste', 'impractical', 'scarcity', 'unhappiness', 'hissing', 'blame', 'sloww', 'dehumanization', 'vanity', 'imprecate', 'deterrent', 'messy', 'viciousness', 'bemused', 'lurch', 'apocalyptic', 'neglect', 'refuses', 'steeply', 'droop', 'bedlamite', 'hissed', 'unconstitutional', 'naughty', 'horrify', 'irrational', 'insolent', 'inconsequential', 'inhospitality', 'absence', 'collusion', 'laughingstock', 'leak', 'neglected', 'invader', 'screwy', 'scratchy', 'doomed', 'doubtful', 'slack', 'squash', 'ultimatums', 'unexpectedly', 'overbearing', 'explode', 'hogs', 'scorching', 'obscurity', 'complacent', 'insult', 'stooges', 'rip-off', 'unbelievably', 'liability', 'overwhelmed', 'hostilities', 'flat-out', 'scourge', 'undid', 'inaudible', 'beggar', 'immoral', 'unintelligile', 'immorality', 'ramshackle', 'fascism', 'lost', 'burdensome', 'capriciousness', 'notoriety', 'hardened', 'arrogance', 'distorted', 'hindrance', 'despondently', 'insupportably', 'menace', 'castrated', 'destitute', 'evasive', 'exploitation', 'fevers', 'fruitlessly', 'disquiet', 'inequality', 'overdo', 'skittish', 'acridness', 'infuriating', 'quarrelsome', 'extinguish', 'doomsday', 'failure', 'outbursts', 'shameful', 'watered-down', 'filth', 'punish', 'paralize', 'instable', 'unauthentic', 'crowded', 'complication', 'irragularity', 'raping', 'innuendo', 'dirty', 'maniac', 'violator', 'insubordinate', 'brazenly', 'evil', 'inhuman', 'reluctant', 'enmity', 'ricer', 'vilify', 'concerns', 'condescending', 'morons', 'parody', 'wicked', 'carnage', 'fabrication', 'low-rated', 'heavy-handed', 'improper', 'errant', 'unjustifiably', 'indulge', 'authoritarian', 'corrupt', 'busts', 'droops', 'gossip', 'aggressive', 'indifference', 'lapses', 'squeaky', 'measly', 'egregiously', 'imperious', 'exaggeration', 'excessive', 'disobedient', 'irritated', 'funny', 'reprovingly', 'fuzzy', 'lascivious', 'pales', 'devoid', 'nefariously', 'loot', 'draining', 'stagnate', 'smack', 'vomit', 'bothers', 'upsettingly', 'appall', 'dinky', 'indefensible', 'slowww', 'insecurity', 'passiveness', 'tardy', 'debauchery', 'unfunded', 'angrily', 'fanatical', 'subjugate', 'inimically', 'intefere', 'scandalous', 'misunderstand', 'nastiness', 'prejudicial', 'restricted', 'dripped', 'disaffect', 'ripoff', 'burning', 'brash', 'weird', 'bafflement', 'distorts', 'crook', 'insular', 'misbegotten', 'anxieties', 'stump', 'unintelligible', 'downbeat', 'onerous', 'chore', 'stringently', 'manipulative', 'allege', 'nightmarishly', 'bullshit', 'befoul', 'thwart', 'precarious', 'steep', 'harshly', 'worsening', 'displaced', 'wilt', 'longingly', 'ordeal', 'isolated', 'wasted', 'dismissive', 'unavailable', 'debasement', 'inhibition', 'grievance', 'insupportable', 'gibberish', 'groundless', 'dirt', 'deterioration', 'irresponsibly', 'showdown', 'stupidly', 'conceited', 'gritty', 'jealously', 'freaking', 'moronic', 'occluded', 'vent', 'cracks', 'treason', 'weed', 'snarl', 'deceitfulness', 'sour', 'disintegrated', 'fanatic', 'smells', 'panic', 'unsustainable', 'dope', 'pompous', 'involuntary', 'prisoner', 'contemptuous', 'cruel', 'plasticky', 'barbarian', 'combust', 'interference', 'worrying', 'litigious', 'obsess', 'troubling', 'fickle', 'misfit', 'tingled', 'doubtfully', 'disgruntled', 'cussed', 'glower', 'pain', 'despised', 'unnaturally', 'oblique', 'culprit', 'frustrated', 'confrontation', 'treachery', 'hysteria', 'fat-cat', 'critic', 'snobs', 'spoon-fed', 'delayed', 'slanderously', 'ignominy', 'impose', 'forceful', 'adamantly', 'upsetting', 'diss', 'repel', 'foolishly', 'heartbreaker', 'wreck', 'hellion', 'frustrations', 'imperil', 'superficial', 'burns', 'freaks', 'ruins', 'clamor', 'instigators', 'flirty', 'mistress', 'ghastly', 'draconic', 'hard-line', 'guile', 'overwhelmingly', 'sinister', 'stereotypical', 'steal', 'whine', 'calamity', 'abrasive', 'inflict', 'terrorize', 'sore', 'devastates', 'damage', 'bid-rigging', 'blow', 'precariously', 'misapprehend', 'preoccupy', 'wild', 'vex', 'poorly', 'swollen', 'despoiler', 'stifling', 'adversarial', 'limitations', 'mocks', 'prohibit', 'stodgy', 'wanton', 'clamorous', 'boil', 'disdainful', 'insane', 'grudges', 'rumbling', 'broke', 'avenge', 'rivalry', 'debauch', 'exasperation', 'travesties', 'heck', 'long-winded', 'implode', 'loud', 'repulsive', 'sullen', 'inextricably', 'depressions', 'foolishness', 'mournful', 'darken', 'incomplete', 'blunders', 'headaches', 'scariest', 'cannibal', 'insensible', 'degradingly', 'misaligned', 'ulterior', 'loophole', 'disorient', 'nauseating', 'goading', 'cramped', 'improperly', 'stain', 'desperation', 'overzealous', 'trapped', 'futility', 'cackle', 'creeps', 'hype', 'immoderate', 'utterly', 'grumpy', 'puzzled', 'inteferes', 'debilitate', 'nastily', 'hobble', 'frozen', 'horde', 'horrifys', 'indecency', 'inevitable', 'strange', 'trouble', 'forged', 'timidness', 'fastidious', 'weak', 'aspersion', 'chafe', 'fist', 'oppressively', 'misguidance', 'adulterier', 'sinisterly', 'inflammatory', 'trap', 'subjugation', 'pessimistic', 'drowning', 'infraction', 'cannibalize', 'illicit', 'kook', 'exploit', 'insecure', 'embroilment', 'irredeemable', 'pathetic', 'disrupt', 'sluggish', 'lackluster', 'grating', 'virus', 'hysterics', 'insensitive', 'creaking', 'dishonest', 'dissed', 'oppressive', 'diabolical', 'pretence', 'genocide', 'molestation', 'abominably', 'backwoods', 'exagerates', 'maltreatment', 'mockeries', 'licentiousness', 'uprising', 'undependability', 'invalidate', 'perfidity', 'catastrophes', 'douchebags', 'ineffectively', 'imminently', 'insinuation', 'underpowered', 'stereotype', 'epidemic', 'hallucinate', 'addict', 'calamities', 'irksomeness', 'jumpy', 'killing', 'revulsive', 'diatribe', 'hopelessly', 'truant', 'idiotically', 'enraging', 'limits', 'nasty', 'frightening', 'bugging', 'fussy', 'coerce', 'oppressors', 'blurt', 'debase', 'chatterbox', 'fiendish', 'impropriety', 'paralyzed', 'traumatize', 'cancer', 'catastrophic', 'evasion', 'inaccurately', 'scrap', 'overstatement', 'morbid', 'derisiveness', 'refutes', 'halfheartedly', 'overpayed', 'disingenuous', 'blandish', 'depraved', 'downheartedly', 'irrecoverably', 'fanciful', 'malign', 'tortured', 'fibber', 'slut', 'avalanche', 'ineloquent', 'untenable', 'bestial', 'unexpected', 'parasite', 'inescapable', 'insurrection', 'puppets', 'uncompromising', 'horrid', 'mislead', 'recourses', 'critics', 'regression', 'defect', 'unreadable', 'fatique', 'havoc', 'unnatural', 'fell', 'spitefulness', 'berate', 'untimely', 'assail', 'futilely', 'peculiarly', 'froze', 'plague', 'terror', 'unmoved', 'whores', 'apprehensions', 'squabbling', 'rubbish', 'crass', 'neurotic', 'annoying', 'conflicted', 'posturing', 'indecisive', 'reluctantly', 'victimize', 'knife', 'disadvantages', 'judders', 'scarily', 'bristle', 'disown', 'agonies', 'flairs', 'mortification', 'joke', 'iniquitous', 'impoverish', 'sermonize', 'intolerable', 'racists', 'grimace', 'commotion', 'imprudent', 'sloooooooooooooow', 'bruising', 'passive', 'inadequate', 'savagery', 'nosey', 'drop-out', 'appallingly', 'shambles', 'recoil', 'crashing', 'burdensomely', 'guilty', 'uproar', 'deaf', 'besiege', 'dishonestly', 'perish', 'disingenuously', 'corruption', 'incoherently', 'temper', 'skepticism', 'irritable', 'demoralizing', 'inattentive', 'indeterminable', 'panders', 'exasperatingly', 'hum', 'crooks', 'calamitously', 'slumpping', 'vibrates', 'knave', 'rift', 'unwisely', 'mudslinging', 'sourly', 'embarrassingly', 'outraged', 'mourn', 'extermination', 'superstitious', 'impulsively', 'freezing', 'ripped', 'concens', 'letch', 'indiscriminate', 'repulse', 'shit', 'upsets', 'sorrowful', 'retaliatory', 'propagandize', 'zapped', 'troublesomely', 'unsecure', 'obsessiveness', 'mawkish', 'problem', 'aching', 'stupify', 'unreliability', 'vomiting', 'accuses', 'acerbate', 'smother', 'darkened', 'damning', 'expunge', 'second-class', 'self-coup', 'sad', 'unfairly', 'embattled', 'inglorious', 'menial', 'disorder', 'indeterminate', 'insensitively', 'misrepresent', 'ashamed', 'bedlam', 'sully', 'denigrate', 'intense', 'bewitch', 'impolitic', 'oddest', 'resigned', 'annoyingly', 'marginally', 'mystify', 'alarmed', 'disliked', 'calumny', 'deficiencies', 'indelicate', 'enemies', 'tragedy', 'butchery', 'laughable', 'banish', 'stigma', 'bragger', 'squeals', 'travesty', 'hefty', 'layoff', 'mystery', 'ultimatum', 'bribery', 'disfavor', 'involuntarily', 'pillage', 'foolhardy', 'inane', 'fictional', 'direness', 'wane', 'peculiar', 'declaim', 'oppressiveness', 'finagle', 'riled', 'brainwash', 'agonizingly', 'illusory', 'nebulously', 'bizarre', 'depressingly', 'weaken', 'ungovernable', 'erratic', 'lack', 'prejudge', 'criticize', 'senile', 'uncomfortable', 'fallacies', 'incomprehension', 'offensiveness', 'improbably', 'undercutting', 'rogue', 'unspecified', 'inadverent', 'angriness', 'brimstone', 'obstacle', 'rascals', 'direly', 'ruined', 'adversary', 'negligent', 'fanatics', 'time-consuming', 'doom', 'improbability', 'predatory', 'wrath', 'partiality', 'subversively', 'affront', 'myth', 'pertinacious', 'mistified', 'revoltingly', 'delaying', 'radicals', 'perversion', 'terribly', 'annoys', 'detest', 'ironical', 'insignificance', 'hysterically', 'unlicensed', 'loathe', 'beggarly', 'dubiously', 'rabid', 'drained', 'sorrowfully', 'monstrously', 'admonishment', 'pander', 'impotent', 'bent', 'brashness', 'dissapointed', 'gimmick', 'anger', 'imperialist', 'forbid', 'drastic', 'indiscretion', 'choke', 'feckless', 'flimflam', 'incompatability', 'loss', 'pretense', 'suspiciously', 'faint', 'tamper', 'smouldering', 'undissolved', 'unsteady', 'cravenly', 'cry', 'scolded', 'deteriorate', 'backbiting', 'restrictive', 'maniacal', 'bullshyt', 'erratically', 'injury', 'squirm', 'stupidest', 'setback', 'misunderstanding', 'autocrat', 'bumpping', 'deadweight', 'struggling', 'hedonistic', 'freakish', 'lull', 'unrest', 'inadverently', 'frown', 'gimmicky', 'quarrellous', 'unconvincingly', 'unjust', 'aggrieve', 'disagreement', 'illusion', 'egotism', 'impatient', 'stunt', 'dissatisfied', 'troublingly', 'punishable', 'rupture', 'bumps', 'allegation', 'incompetent', 'perverse', 'ruthless', 'scorchingly', 'startle', 'inoperable', 'imposition', 'snobby', 'traumatically', 'skeptically', 'tentatively', 'unwatchable', 'tin-y', 'lier', 'dirtbags', 'tragic', 'temerity', 'cynicism', 'two-faces', 'irksomely', 'pittance', 'indigent', 'blindside', 'growl', 'symptom', 'tumbles', 'chintzy', 'haggle', 'impudent', 'complicit', 'harm', 'hardliner', 'irreparable', 'drawbacks', 'underestimate', 'arrogant', 'thug', 'disparagingly', 'quash', 'offensive', 'discredit', 'fatcats', 'relapse', 'obstructs', 'grief', 'insociable', 'dissatisfy', 'strictly', 'deceiving', 'disoobedient', 'break-ups', 'ranting', 'fragmented', 'ghetto', 'devastation', 'harassment', 'repulsed', 'lamentable', 'rusty', 'plea', 'admonish', 'inexpiable', 'goad', 'infections', 'contrive', 'grievously', 'radically', 'inaccuracy', 'shimmy', 'tauntingly', 'invidiousness', 'hapless', 'jittery', 'shadowy', 'stingy', 'wreaked', 'brittle', 'lame', 'criticism', 'doubt', 'extravagance', 'harried', 'detesting', 'rumor', 'stupor', 'sty', 'ineptitude', 'stubbornness', 'misbehave', 'miscellaneous', 'sarcastic', 'fume', 'god-awful', 'dissatisfies', 'irked', 'sink', 'stink', 'craze', 'imprecision', 'revulsion', 'hypocrisy', 'protest', 'pimple', 'disreputable', 'lies', 'gibber', 'overtaxed', 'monstrosity', 'cave', 'exhorbitant', 'adulterated', 'uncontrolled', 'undercuts', 'inexpertly', 'imprison', 'disagreed', 'regrettably', 'flaking', 'betrayer', 'inconsistency', 'moody', 'polluters', 'boiling', 'snobish', 'unprove', 'accusation', 'conspirator', 'deviousness', 'grudging', 'grudgingly', 'prik', 'stifle', 'stealing', 'lament', 'sugar-coated', 'deluded', 'retarded', 'multi-polarization', 'violate', 'reckless', 'gibe', 'unexplained', 'enervate', 'nag', 'importunate', 'abscond', 'intransigent', 'inconsistencies', 'beware', 'prickle', 'decrepitude', 'recession', 'twist', 'breakdown', 'ignominiously', 'misbecoming', 'contradict', 'prick', 'lousy', 'timid', 'farcical-yet-provocative', 'brutish', 'excruciating', 'maladjustment', 'sucky', 'junkyard', 'attack', 'undersized', 'complain', 'misbecome', 'dismalness', 'fiasco', 'irrecoverablenesses', 'overwhelming', 'uncompetitive', 'annoyance', 'cheapen', 'payback', 'flawed', 'defamations', 'frenzied', 'addicts', 'maladjusted', 'creeping', 'feint', 'lackey', 'belligerent', 'job-killing', 'protracted', 'smudging', 'dump', 'misleadingly', 'unresolved', 'deprecate', 'jabber', 'accusations', 'spoils', 'misery', 'mishandle', 'agony', 'radicalization', 'proprietary', 'puppet', 'unsavory', 'douchebag', 'perversity', 'untrue', 'vehemently', 'yawn', 'slow', 'discrimination', 'hideously', 'slower', 'snarky', 'drab', 'repudiate', 'mania', 'non-confidence', 'rip', 'grumpish', 'fleed', 'shortage', 'taunting', 'grouch', 'sinking', 'usurper', 'hoax', 'sags', 'bitch', 'feverish', 'mishap', 'incite', 'adulterate', 'noisy', 'incompetence', 'overshadow', 'traumatized', 'horrified', 'poorer', 'strenuous', 'unpopular', 'fret', 'expired', 'hegemonism', 'shark', 'pitiless', 'lewdly', 'mobster', 'frictions', 'prosecute', 'inimical', 'slumping', 'taut', 'deprive', 'inflame', 'insidiously', 'rigid', 'despairing', 'warlike', 'disapointment', 'stressfully', 'lackadaisical', 'mangling', 'snagged', 'strut', 'deplorable', 'deceitful', 'flare', 'heckles', 'licentiously', 'livid', 'lumpy', 'rough', 'defy', 'embarrassing', 'superstition', 'unilateralism', 'discontinuous', 'egotistical', 'vain', 'unworthy', 'tired', 'toil', 'lunatic', 'reprehension', 'annoyances', 'betrayals', 'crack', 'rejecting', 'stiffness', 'barbarous', 'archaic', 'biases', 'depressed', 'grumpily', 'uneasily', 'clique', 'deficient', 'discontent', 'ominously', 'traped', 'impatiently', 'raped', 'mawkishly', 'hiss', 'disagreeable', 'misuse', 'flagging', 'quack', 'ill-designed', 'sorry', 'crap', 'irreversible', 'prideful', 'misinformed', 'static', 'culpable', 'lambaste', 'poison', 'disrespect', 'assault', 'paucity', 'scrambled', 'cheaply', 'harridan', 'debatable', 'dislocated', 'motley', 'chill', 'picky', 'primitive', 'oblivious', 'tiring', 'ill-usage', 'unfaithful', 'sputter', 'toll', 'crisis', 'aspersions', 'intrusive', 'cronyism', 'obese', 'rigidness', 'wound', 'invidious', 'undermines', 'volatile', 'troubled', 'abnormal', 'disclaim', 'emergency', 'inhumanity', 'demonize', 'hopeless', 'bumpy', 'infuriatingly', 'impair', 'restriction', 'fustigate', 'acerbic', 'bloodthirsty', 'bother', 'false', 'kaput', 'unlikely', 'shriek', 'haggard', 'stale', 'flees', 'misdirection', 'beguile', 'chastisement', 'concerned', 'annoyed', 'incompatibility', 'martyrdom', 'salacious', 'cheerless', 'neurotically', 'rumours', 'baffle', 'disappointment', 'mendacious', 'harms', 'offence', 'exile', 'ill-defined', 'abruptly', 'shortsighted', 'reactionary', 'fatalistic', 'unwarranted', 'unlucky', 'unknown', 'friction', 'inefficacy', 'cripples', 'miss', 'glare', 'woe', 'overweight', 'frazzle', 'dying', 'frustrates', 'scary', 'craps', 'breakup', 'rocky', 'unimportant', 'admonishingly', 'clogged', 'concen', 'avariciously', 'desolately', 'flabbergasted', 'bores', 'lacking', 'bombardment', 'thoughtlessly', 'wrestle', 'mortify', 'displeased', 'relentlessness', 'deteriorating', 'over-priced', 'revolting', 'allergies', 'disagreeably', 'panicky', 'inexorable', 'absent-minded', 'decadent', 'deception', 'decrement', 'dissing', 'motionless', 'miscreants', 'bullyingly', 'harmful', 'interferes', 'overpower', 'irony', 'terribleness', 'volatility', 'unfounded', 'sadden', 'simplistically', 'decay', 'abrupt', 'sticky', 'ached', 'confess', 'disruption', 'selfinterested', 'unpredictable', 'blistering', 'egomania', 'syndrome', 'paupers', 'startling', 'boisterous', 'faltered', 'importune', 'confounded', 'less-developed', 'rebuke', 'disrepute', 'secretive', 'listless', 'abominate', 'killed', 'estranged', 'panick', 'obscured', 'polluter', 'shocking', 'spoilages', 'garbage', 'hard-liner', 'inconsiderate', 'stereotypically', 'inadequately', 'hatred', 'spinster', 'obtrusive', 'dangerousness', 'failing', 'die', 'gracelessly', 'miserableness', 'feeblely', 'damages', 'contentious', 'poverty', 'reprove', 'unaffordable', 'unavoidably', 'tanked', 'bloody', 'mocked', 'uproariously', 'demean', 'whining', 'criticizing', 'obsessively', 'inconsiderately', 'painful', 'unlamentable', 'sickness', 'disconcerting', 'grisly', 'petrified', 'set-up', 'heckled', 'undocumented', 'distraction', 'muscle-flexing', 'ruinous', 'ingrate', 'haphazard', 'swipe', 'misses', 'dim', 'accursed', 'overpaid', 'tediously', 'disconsolation', 'gaff', 'penalize', 'scarcely', 'punk', 'misread', 'shatter', 'polution', 'renunciation', 'aimless', 'incense', 'rash', 'freezes', 'heavyhearted', 'inexorably', 'insufficient', 'paltry', 'illogic', 'ragged', 'pillory', 'unlawfulness', 'squeak', 'barbaric', 'smelling', 'excruciatingly', 'mysteriously', 'powerless', 'fumble', 'inanely', 'hater', 'contaminate', 'retards', 'subversive', 'scoldingly', 'inflammed', 'unwieldy', 'screech', 'annihilation', 'wimpy', 'difficulty', 'bumping', 'belated', 'inessential', 'ill-formed', 'brat', 'insurmountable', 'senselessly', 'disagreeing', 'bemoaning', 'suppression', 'unprofitable', 'deceptively', 'stark', 'emphatic', 'brazen', 'pessimistically', 'aborted', 'conspire', 'demise', 'errors', 'polemize', 'deny', 'evils', 'foully', 'unlamentably', 'cheat', 'inconsolably', 'imperfections', 'inexcusable', 'mangles', 'radical', 'struggle', 'unconfirmed', 'misreading', 'awkwardness', 'overdone', 'boastful', 'confusions', 'aghast', 'nettle', 'ugliness', 'unrealistic', 'inconsolable', 'pleas', 'emasculate', 'mediocrity', 'viciously', 'overwhelm', 'aches', 'aggravating', 'conspicuous', 'crushed', 'spoilage', 'conspiracy', 'mistake', 'infidel', 'bruise', 'indecisively', 'exaggerate', 'pretentious', 'arrogantly', 'rape', 'taxing', 'wheedle', 'infamously', 'mock', 'jitter', 'troublemaker', 'maddening', 'back-woods', 'partisans', 'detests', 'overawe', 'demonized', 'bullying', 'dunce', 'lewdness', 'bewilderingly', 'unclean', 'insinuating', 'mordant', 'tattered', 'heathen', 'paradoxically', 'clouding', 'omission', 'unsupportive', 'costly', 'pratfall', 'orphan', 'silly', 'eyesore', 'ludicrous', 'unnoticed', 'coupists', 'immoderately', 'lawless', 'slogs', 'worsen', 'smoke', 'rhetorical', 'sloppy', 'uninsured', 'irreplacible', 'notoriously', 'overloaded', 'shimmer', 'scratches', 'unease', 'lengthy', 'inexperienced', 'stupified', 'incorrigibly', 'harmed', 'gallingly', 'hassles', 'bloodshed', 'insufficiently', 'intimidatingly', 'incognizant', 'dragged', 'breaks', 'irretrievable', 'cruelties', 'pokey', 'failures', 'deject', 'nonsense', 'foreboding', 'fatally', 'lagged', 'pout', 'scandalously', 'inactive', 'fail', 'ill-used', 'hypocritical', 'disinclined', 'imprudence', 'invalidity', 'disallow', 'limit', 'omit', 'diappointed', 'unimaginable', 'apologists', 'kills', 'manipulate', 'object', 'doggedly', 'ploy', 'problematic', 'smudges', 'sunk', 'knotted', 'faulty', 'dreary', 'engulf', 'irksome', 'dud', 'hung', 'aborts', 'wallow', 'disaffected', 'subordinate', 'biting', 'blasphemy', 'crippled', 'retreat', 'pale', 'infiltrators', 'dull', 'scuff', 'worry', 'disaccord', 'bewilder', 'inaccurate', 'blabber', 'devastatingly', 'erosion', 'detracted', 'uneasy', 'nefarious', 'impolite', 'scoundrel', 'infection', 'sneak', 'sorrow', 'discriminatory', 'ranted', 'malevolence', 'rue', 'incompliant', 'anti-white', 'enraged', 'contempt', 'discourage', 'incoherence', 'loathing', 'trivial', 'wariness', 'oversize', 'presumptuously', 'damnable', 'inconceivable', 'misgivings', 'self-interested', 'poisonous', 'sicken', 'lovelorn', 'hectic', 'unuseably', 'disintegrates', 'illogical', 'rut', 'bungling', 'paradoxical', 'burden', 'lapse', 'antithetical', 'grieve', 'illegitimate', 'cheating', 'defamation', 'confuse', 'debility', 'stuck', 'distressing', 'skulk', 'unspeakablely', 'resent', 'cranky', 'capsize', 'downgrade', 'worthless', 'insanely', 'rigidity', 'issues', 'stupidity', 'fallout', 'harangue', 'chronic', 'disgraceful', 'condescendingly', 'hated', 'invective', 'miscalculate', 'onerously', 'inelegance', 'precipitous', 'shortness', 'impinge', 'fracture', 'bunk', 'languor', 'mispronounces', 'savage', 'unaccessible', 'avaricious', 'peeled', 'anti-american', 'disliking', 'idiocy', 'detriment', 'overheat', 'delude', 'pointlessly', 'dazed', 'aversion', 'bastard', 'disillusion', 'rail', 'impede', 'tyrannically', 'unsuspecting', 'repulsing', 'blameworthy', 'problems', 'incredulous', 'dissatisfaction', 'condemn', 'bereave', 'spurious', 'threaten', 'disasterous', 'suffering', 'cripple', 'turbulent', 'exhort', 'bombastic', 'brutal', 'traitorous', 'jealous', 'swelling', 'exhaust', 'depravedly', 'condemned', 'fidgety', 'ravage', 'disvalue', 'matte', 'recalcitrant', 'maledict', 'tumbled', 'skittishly', 'noises', 'flakey', 'annihilate', 'enviously', 'water-down', 'manipulators', 'rancor', 'compulsion', 'mendacity', 'protests', 'hard', 'dizzy', 'hegemony', 'uglier', 'dissidence', 'dings', 'awfulness', 'fretful', 'gangster', 'sarcastically', 'slime', 'perverted', 'famine', 'confounding', 'top-heavy', 'hoodwink', 'sanctimonious', 'infirm', 'fudge', 'sting', 'dispute', 'smallish', 'oversights', 'scolding', 'impaired', 'inexperience', 'lecher', 'overbalanced', 'over-awe', 'discord', 'fulminate', 'ill-tempered', 'coercive', 'bull----', 'ill-treatment', 'downfallen', 'tainted', 'discrepant', 'gloom', 'hardhearted', 'horrifying', 'ridiculously', 'frightfully', 'dearth', 'bleeds', 'touted', 'fabricate', 'idiotic', 'clunky', 'plotters', 'demonic', 'pitifully', 'infringe', 'smug', 'pandemonium', 'smelt', 'ignoble', 'implication', 'vile', 'waning', 'discompose', 'immature', 'miscreant', 'fawningly', 'frustrate', 'issue', 'implausible', 'disavowal', 'imposers', 'strangest', 'latency', 'erode', 'far-fetched', 'farcically', 'layoff-happy', 'sickening', 'randomly', 'detracts', 'distastefully', 'faithless', 'stew', 'emptiness', 'gutter', 'isolate', 'insolvent', 'unwell', 'profane', 'altercation', 'beastly', 'broken', 'dusty', 'stern', 'meddlesome', 'disinterested', 'unfortunately', 'underdog', 'condemnable', 'infuriate', 'snobbish', 'spews', 'hiliarious', 'anti-us', 'demolish', 'impurity', 'indiscernible', 'petty', 'abrade', 'brutality', 'distress', 'defects', 'donside', 'confession', 'congested', 'sloth', 'bloated', 'rust', 'frail', 'skeptic', 'fiend', 'tyranny', 'apprehensively', 'offending', 'rival', 'misconception', 'despair', 'deceivers', 'slanderer', 'desertion', 'fallaciously', 'absurdness', 'abolish', 'immobilized', 'toxic', 'impossibly', 'wretch', 'iniquity', 'exhausts', 'muddle', 'overpriced', 'dumped', 'inflationary', 'peevish', 'appalling', 'prejudice', 'troubles', 'weariness', 'insulting', 'outsider', 'dissembler', 'trick', 'assassinate', 'phony', 'crumples', 'abysmally', 'defective', 'menacing', 'ugliest', 'fraudulent', 'humid', 'stumble', 'vibrating', 'grievances', 'perplexity', 'rantingly', 'jeers', 'instigator', 'attacks', 'bonkers', 'loner', 'lonesome', 'needy', 'peeved', 'imprecise', 'refute', 'concede', 'jeopardize', 'desiccate', 'anomalous', 'vengeance', 'disappoint', 'haughty', 'flake', 'precipitate', 'ugh', 'pervasive', 'frenetic', 'shamefully', 'desperately', 'discouraging', 'sack', 'discordance', 'disarray', 'doddering', 'exacerbate', 'accusing', 'deceptive', 'declining', 'despoil', 'fearful', 'hell-bent', 'jolt', 'seething', 'subversion', 'irrationals', 'ill-treated', 'stormy', 'deceitfully', 'beset', 'condemnation', 'murderer', 'prevaricate', 'panicking', 'recklessly', 'crash', 'violation', 'debilitating', 'fallacy', 'greasy', 'unsettlingly', 'irritate', 'gabble', '2-faces', 'fault', 'flair', 'cuplrit', 'gripe', 'renounce', 'bumped', 'eviscerate', 'nervousness', 'spoil', 'uproarously', 'flareups', 'imperiously', 'perilous', 'animosity', 'disproportionate', 'buggy', 'blockhead', 'inappropriately', 'rollercoaster', 'carp', 'stress', 'calumniously', 'ingratitude', 'facetious', 'redundant', 'scare', 'expensive', 'deplorably', 'flaw', 'weakening', 'fuck', 'cliched', 'concern', 'gruesome', 'indeterminably', 'creaks', 'over-valuation', 'quitter', 'sacrificed', 'harpy', 'scoffingly', 'shirk', 'suck', 'zealot', 'dilly-dally', 'shady', 'pauper', 'trivialize', 'flakieness', 'shroud', 'cumbersome', 'entanglement', 'disputable', 'outrageous', 'provoke', 'corrosion', 'aggravation', 'mess', 'disregard', 'downturn', 'inundated', 'phobia', 'fear', 'lividly', 'thirst', 'picketing', 'unsettle', 'tantrum', 'denunciation', 'underpaid', 'prison', 'reprehensible', 'troublesome', 'dispiriting', 'assult', 'malicious', 'crazily', 'collapse', 'complains', 'whiny', 'maddeningly', 'disgraced', 'mispronounce', 'distraughtly', 'frantically', 'infamous', 'illusions', 'brood', 'drunk', 'gaudy', 'sunken', 'turmoil', 'unrelentingly', 'fails', 'bruised', 'unruly', 'siege', 'disregardful', 'lethal', 'filthy', 'wrong', 'sensationalize', 'surrender', 'scarier', 'prejudices', 'self-serving', 'irascible', 'wrongly', 'freakishly', 'cons', 'disdainfully', 'steals', 'bait', 'resentful', 'damaged', 'decadence', 'staid', 'regreted', 'remorse', 'chaff', 'insouciance', 'detestable', 'scornfully', 'criticized', 'irregularity', 'lanky', 'pariah', 'spoilled', 'crummy', 'wrongful', 'gruff', 'convoluted', 'glum', 'pinch', 'strained', 'imperfect', 'contrived', 'huckster', 'consternation', 'capricious', 'humiliation', 'hells', 'ill-fated', 'insignificant', 'maliciously', 'bellicose', 'foe', 'satirical', 'mistakenly', 'gnawing', 'wickedness', 'rascal', 'sues', 'meanness', 'zealously', 'upseting', 'bitter', 'mispronounced', 'rude', 'hard-hit', 'selfishly', 'sobering', 'vociferous', 'trample', 'impolitely', 'dishearteningly', 'inexplainable', 'miscalculation', 'asunder', 'shaky', 'erase', 'second-tier', 'unsure', 'needless', 'denunciate', 'rotten', 'harassed', 'nightmare', 'pessimism', 'scandels', 'jarring', 'inability', 'recessionary', 'spurn', 'poor', 'scathing', 'degrading', 'delirious', 'misunderstandings', 'outcry', 'sardonic', 'dented', 'incorrigible', 'butcher', 'restless', 'extort', 'snare', 'bickering', 'scratched', 'fanaticism', 'intermittent', 'shrouded', 'unprepared', 'desperate', 'drain', 'stumbles', 'exterminate', 'downcast', 'monster', 'tarnishes', 'impermissible', 'mundane', 'delay', 'needlessly', 'wreaks', 'drones', 'pertinacity', 'shamefulness', 'glaringly', 'haunt', 'deadlock', 'submissive', 'bombard', 'lemon', 'baseless', 'unkindly', 'messed', 'weep', 'tricked', 'obscure', 'irritably', 'slaughtered', 'last-ditch', 'expulse', 'overstates', 'unappealing', 'belabor', 'bewildered', 'crooked', 'over-hyped', 'vengefulness', 'servitude', 'shortcomings', 'hubris', 'aggressor', 'delusions', 'imbalance', 'fainthearted', 'hestitant', 'tyrant', 'unviewable', 'abysmal', 'conspicuously', 'cruelty', 'ill-advised', 'indolent', 'calumniate', 'confused', 'cunt', 'bereavement', 'distressed', 'undermine', 'despicably', 'fathomless', 'diatribes', 'fractiously', 'blasphemous', 'worrier', 'exagerate', 'infested', 'autocratic', 'shake', 'crushing', 'throbs', 'defrauding', 'unreliable', 'illness', 'hothead', 'thumb-down', 'cowardly', 'haughtily', 'inequitably', 'antagonist', 'bemoan', 'tepid', 'askance', 'wrip', 'sabotage', 'whips', 'dispiritedly', 'passe', 'pique', 'bashing', 'pry', 'pettifog', 'kooky', 'bitchy', 'implacable', 'leery', 'quibbles', 'unqualified', 'cloudy', 'ambiguous', 'afflictive', 'refuse', 'ignominious', 'sneer', 'bum', 'hideousness', 'friggin', 'jitters', 'conflicting', 'oversimplified', 'ruthlessness', 'harasses', 'baffled', 'tenderness', 'nebulous', 'repress', 'vomited', 'sufferers', 'inordinate', 'self-interest', 'fury', 'downhearted', 'gasp', 'hothouse', 'futile', 'weakness', 'quarrels', 'bowdlerize', 'disgusting', 'languid', 'scratch', 'racism', 'spewing', 'discountenance', 'unscrupulous', 'bull****', 'incorrect', 'decry', 'repulsively', 'loser', 'shiver', 'inferiority', 'sickeningly', 'monotonous', 'frighteningly', 'antagonize', 'meddle', 'ridicule', 'tangle', 'cancerous', 'freeze', 'revengefully', 'outcast', 'daze', 'over-acted', 'desecrate', 'qualm', 'bitterness', 'straggler', 'enemy', 'saggy', 'alarming', 'overrated', 'peeve', 'absurd', 'mournfully', 'spade', 'strident', 'disunity', 'hotbeds', 'idiocies', 'displease', 'high-priced', 'illegally', 'weaker', 'languorous', 'remorselessness', 'ruts', 'conflicts', 'entrap', 'defamatory', 'jealousness', 'halfhearted', 'narrower', 'subjected', 'disapointed', 'unpleasant', 'dilemma', 'hinder', 'corrupting', 'devastating', 'compulsive', 'indifferent', 'gullible', 'intransigence', 'curt', 'extravagantly', 'despise', 'drags', 'indecently', 'aloof', 'farce', 'lawbreaking', 'poky', 'indiscreet', 'vibrate', 'vibrated', 'die-hard', 'soreness', 'trashy', 'casualty', 'helplessness', 'inextricable', 'betray', 'weary', 'pretend', 'wary', 'miserably', 'confessions', 'lied', 'audaciously', 'lying', 'premeditated', 'hawkish', 'drastically', 'numb', 'scandalize', 'vicious', 'jam', 'reject', 'tenuously', 'undefined', 'lugubrious', 'vexation', 'agonize', 'misrepresentation', 'spotty', 'denial', 'incommensurate', 'austere', 'irrelevance', 'irritating', 'reproachful', 'felon', 'cocky', 'rifts', 'virulently', 'depressing', 'sedentary', 'moron', 'dehumanize', 'disordered', 'malevolent', 'sap', 'flirt', 'faults', 'extremist', 'nervous', 'screwed-up', 'heretic', 'obstinately', 'disapprobation', 'sleazy', 'contention', 'self-destructive', 'diabolically', 'blah', 'undercut', 'oddly', 'impugn', 'baffling', 'inescapably', 'hurt', 'inflated', 'solicitude', 'louder', 'ax', 'destitution', 'disquietingly', 'stingingly', 'gawky', 'inappropriate', 'stab', 'idle', 'childish', 'ill-mannered', 'vulgar', 'twists', 'retaliate', 'squander', 'guilt', 'pitilessly', 'inaction', 'falsely', 'disappointed', 'throb', 'impeach', 'unreasonably', 'debts', 'wobbles', 'rumors', 'jutter', 'diametrically', 'deprived', 'slave', 'craftly', 'brainless', 'dangerous', 'cursed', 'unreasonable', 'bothering', 'disturb', 'obscenely', 'pickets', 'anguish', 'chunky', 'nauseatingly', 'rife', 'strangle', 'eruptions', 'misjudgment', 'illegal', 'invisible', 'sloow', 'encroachment', 'hurted', 'drunkard', 'disarm', 'dissent', 'miff', 'unbelievable', 'dreadful', 'tension', 'flaky', 'disillusions', 'deluge', 'stammer', 'weirdly', 'intimidation', 'twisted', 'bothersome', 'depress', 'fallaciousness', 'simplistic', 'uproarous', 'unequal', 'smudged', 'rremediable', 'insulted', 'loathsomely', 'indiscriminately', 'testy', 'malady', 'fool', 'stranger', 'beleaguer', 'badly', 'impasse', 'fat-cats', 'remorselessly', 'tangles', 'backwood', 'back-logged', 'snags', 'elimination', 'one-sided', 'refuting', 'regrettable', 'nauseates', 'confuses', 'conspiracies', 'sceptical', 'infected', 'lawlessness', 'musty', 'asininely', 'grievous', 'facetiously', 'complaining', 'arduous', 'obscures', 'asperse', 'sober', 'smut', 'wripping', 'arduously', 'dissidents', 'procrastinate', 'stagnant', 'antagonistic', 'risks', 'darkness', 'stuffy', 'excuses', 'kill', 'scared', 'abomination', 'pitiable', 'regrets', 'inflexible', 'scuffs', 'stuttering', 'sunder', 'rebellious', 'unsatisfactory', 'gape', 'unproves', 'war-like', 'dawdle', 'injustice', 'inveigle', 'entangle', 'manipulation', 'painfull', 'prate', 'flighty', 'shemale', 'spewed', 'bad', 'ineffectualness', 'amputate', 'afflict', 'insults', 'invidiously', 'joker', 'drought', 'gruesomely', 'deter', 'dumbfound', 'massacres', 'misguide', 'disconcert', 'hazardous', 'slashing', 'averse', 'effrontery', 'head-aches', 'deformed', 'destroy', 'ho-hum', 'alarm', 'bored', 'stun', 'disastrously', 'usurp', 'delays', 'occluding', 'spite', 'unfeeling', 'untruthful', 'cataclysm', 'evade', 'impure', 'unjustly', 'contamination', 'heinous', 'curse', 'allegations', 'puzzling', 'wobbled', 'confusion', 'sorely', 'tout', 'exasperate', 'sob', 'commotions', 'flout', 'fatcat', 'sucks', 'touchy', 'dupe', 'debt', 'unacceptably', 'bigotries', 'unfamiliar', 'tortures', 'incoherent', 'dauntingly', 'oversimplification', 'roadblocks', 'ferocity', 'forgetfully', 'hacks', 'anarchistic', 'dirtbag', 'refusal', 'adverse', 'unsophisticated', 'notorious', 'offensively', 'scandal', 'loopholes', 'bitingly', 'irresolvable', 'excuse', 'relentless', 'impending', 'complaint', 'worst', 'malodorous', 'pricey', 'lagging', 'apocalypse', 'dimmer', 'disrespectfully', 'horrendously', 'unhelpful', 'betrays', 'testily', 'doldrums', 'barbarity', 'funky', 'onslaught', 'harsh', 'audaciousness', 'demoralizingly', 'disparage', 'leer', 'protested', 'thicker', 'unsteadiness', 'ill-sorted', 'censure', 'reproach', 'glut', 'hypocrites', 'perverts', 'hang', 'unlawfully', 'chide', 'insufferable', 'distrusting', 'enviousness', 'imperfection', 'bruises', 'defiant', 'egocentric', 'hate', 'mediocre', 'blur', 'rusts', 'stumps', 'argumentative', 'unorthodoxy', 'conflict', 'disobey', 'negatives', 'vileness', 'belittled', 'chaotic', 'obstructing', 'flee', 'vainly', 'spitefully', 'contend', 'antagonism', 'indignity', 'madly', 'doubts', 'combative', 'furor', 'blockage', 'disparaging', 'overbalance', 'discriminate', 'unhappily', 'distraught', 'slug', 'downfall', 'brutally', 'melodramatically', 'instability', 'sly', 'revolt', 'plight', 'blasted', 'boredom', 'devilry', 'inundate', 'mistaken', 'massacre', 'rejects', 'perturbed', 'disgust', 'seedy', 'aggression', 'hardliners', 'costlier', 'stutters', 'ambiguity', 'banishment', 'jobless', 'subservience', 'dust', 'desiccated', 'unfavorable', 'back-wood', 'idiots', 'unuseable', 'fearfully', 'tanks', 'susceptible', 'disrespectable', 'wretched', 'undesirable', 'stiflingly', 'struck', 'admonisher', 'bleakness', 'interruption', 'bulkiness', 'cruelly', 'moribund', 'outburst', 'revile', 'ridicules', 'malignant', 'torturing', 'sarcasm', 'avarice', 'condescend', 'complained', 'rejected', 'bugs', 'ailing', 'impiety', 'disagree', 'oddities', 'enfeeble', 'contravene', 'totalitarian', 'stooge', 'vindictive', 'ineffectiveness', 'cracked', 'floored', 'hostage', 'dejection', 'stridently', 'losers', 'gall', 'haters', 'superficially', 'whore', 'corruptted', 'dissolution', 'fatefully', 'boycott', 'mortified', 'traduce', 'enjoin', 'deadbeat', 'overplay', 'inept', 'senseless', 'dismayingly', 'excessively', 'militancy', 'subtract', 'treacherous', 'sh*t', 'biased', 'inadvisable', 'indiscriminating', 'injurious', 'exhaustion', 'unforgiving', 'crumbling', 'disagrees', 'wayward', 'evildoer', 'complaints', 'fatuity', 'immovable', 'grapple', 'nonexistent', 'pitiful', 'disillusioned', 'fascist', 'sever', 'shrew', 'smutty', 'crude', 'disgustingly', 'devil', 'demonizes', 'hysteric', 'limitation', 'scramble', 'dilapidated', 'incessantly', 'rants', 'irrationality', 'shocked', 'farfetched', 'adversity', 'frost', 'languish', 'occlude', 'implicate', 'abused', 'fundamentalism', 'dismayed', 'spookily', 'madman', 'disrespectfulness', 'disturbing', 'sloooow', 'bomb', 'strife', 'disconcerted', 'emaciated', 'inhibit', 'treasonous', 'zap', 'explosive', 'nervously', 'perversely', 'unsuccessfully', 'obsolete', 'scarce', 'unattractive', 'pretentiously', 'cutthroat', 'daunt', 'bothered', 'destructive', 'intoxicate', 'ominous', 'denounce', 'derogatory', 'discontented', 'unskilled', 'self-defeating', 'unsteadily', 'mists', 'pedantic', 'acrimoniously', 'stunted', 'lecherous', 'frightful', 'illogically', 'disloyal', 'embroiled', 'impossiblity', 'outlaw', 'slaughter', 'unfriendly', 'forbidden', 'sporadic', 'deceiver', 'overstated', 'scrambling', 'suffer', 'torment', 'losing', 'cataclysmic', 'incongruous', 'mistrustful', 'opponent', 'achey', 'abort', 'revoke', 'unusably', 'obliterate', 'hairloss', 'outrageousness', 'pestilent', 'dishonor', 'raked', 'expropriate', 'subvert', 'weaknesses', 'babble', 'soapy', 'distrustful', 'loneliness', 'grieving', 'allergic', 'infuriated', 'wince', 'ultra-hardline', 'hoard', 'breakups', 'dismissively', 'broken-hearted', 'unnerving', 'hampered', 'impediment', 'devilish', 'refusing', 'distains', 'geezer', 'womanizing', 'negative', 'dissenter', 'malevolently', 'defiance', 'frustrating', 'misjudge', 'moan', 'thorny', 'thumbs-down', 'alarmingly', 'immorally', 'indecision', 'dictator', 'stiff', 'adamant', 'begging', 'difficulties', 'dodgey', 'bullies', 'fat', 'gawk', 'anarchist', 'disintegration', 'mislike', 'recant', 'indistinguishable', 'discouragement', 'disgracefully', 'spookier', 'atrocities', 'slothful', 'ruining', 'hardheaded', 'alienation', 'impoverished', 'nettlesome', 'smoulder', 'spook', 'gimmicks', 'spoon-feed', 'squabble', 'treacherously', 'picket', 'zealous', 'barbarically', 'pointless', 'warning', 'incomprehensible', 'flagrant', 'greedy', 'fatal', 'knock', 'irretating', 'coward', 'inexpert', 'oppose', 'misstatement', 'relentlessly', 'nauseate', 'cartoonish', 'swelled', 'thankless', 'inadvisably', 'uncouth', 'unproved', 'distort', 'fleeing', 'irreformable', 'unusual', 'anti-', 'tiresome', 'flimsy', 'goof', 'displeasing', 'irks', 'smash', 'warp', 'devilment', 'perfunctory', 'unproving', 'dishonorable', 'burned', 'crowdedness', 'interfere', 'anemic', 'pricier', 'unusually', 'galling', 'haze', 'inelegant', 'persecution', 'regretted', 'worthlessly', 'busybody', 'aggrivation', 'crappy', 'inadequacy', 'brutalize', 'cunts', 'bewilderment', 'lurk', 'meaningless', 'craven', 'tedious', 'murder', 'rattled', 'loath', 'divisive', 'predicament', 'exclusion', 'extremists', 'marginal', 'contagious', 'lunaticism', 'absurdity', 'savages', 'setbacks', 'mocking', 'besmirch', 'effigy', 'sugar-coat', 'short-lived', 'indignantly', 'acrimony', 'death', 'dismally', 'profanity', 'tacky', 'skeptical', 'frustratingly', 'misinterpret', 'dissension', 'battered', 'unforeseen', 'appalled', 'impertinent', 'frantic', 'frazzled', 'forlorn', 'insincerely', 'backwardness', 'shun', 'galls', 'dumb', 'fastidiously', 'hardball', 'cautionary', 'fateful', 'declines', 'succumb', 'bully', 'destabilisation', 'entrapment', 'blinding', 'upset', 'irreconcilable', 'rampant', 'brazenness', 'criminal', 'stains', 'tank', 'pandering', 'dastard', 'manic', 'unscrupulously', 'lacks', 'intrude', 'incongruously', 'forbidding', 'full-blown', 'mordantly', 'disable', 'd*mn', 'discourteous', 'missed', 'suffered', 'tarnishing', 'misfortune', 'checkered', 'dragging', 'abuse', 'objection', 'penalty', 'hatefulness', 'imperfectly', 'mistrustfully', 'shrilly', 'anxiousness', 'dismaying', 'tramp', 'impunity', 'hasty', 'ludicrously', 'extravagant', 'disturbingly', 'grate', 'apprehension', 'brutalities', 'despondent', 'impedance', 'splatter', 'stalemate', 'awfully', 'mist', 'trickery', 'scarred', 'trauma', 'vagrant', 'hardship', 'two-faced', 'invalid', 'contrariness', 'heretical', 'incredulously', 'defiler', 'fidget', 'hesitant', 'immaterial', 'shoddy', 'dissident', 'downhill', 'liars', 'irresponsible', 'sidetracked', 'diffidence', 'disrespectful', 'hysterical', 'mourner', 'blister', 'overrun', 'hassled', 'regressive', 'corrosive', 'prohibitive', 'imbroglio', 'devastated', 'delusional', 'leakages', 'recklessness', 'harrow', 'shabby', 'figurehead', 'unfinished', 'heartbreaking', 'deviate', 'hideous', 'devilishly', 'ostracize', 'patronize', 'smelled', 'villainous', 'shameless', 'denied', 'conspiratorial', 'degrade', 'crumble', 'horrendous', 'standstill', 'embarrassment', 'hateful', 'harbors', 'degenerately', 'scream', 'overstate', 'flounder', 'tumultuous', 'unnerved', 'uncomfy', 'disinclination', 'discomfititure', 'irrepressible', 'inculcate', 'sick', 'trashed', 'vengeful', 'cruelness', 'heartbreakingly', 'castigate', 'irrecoverable', 'symptoms', 'destruction', 'anarchism', 'nuisance', 'undependable', 'lurid', 'acerbically', 'murky', 'farcical', 'unbearablely', 'dislikes', 'clash', 'disdained', 'falter', 'irk', 'smugly', 'fatalistically', 'gross', 'inconveniently', 'fatuously', 'intimidating', 'insubstantial', 'spooky', 'suspicion', 'petrify', 'impenitent', 'insignificantly', 'hostile', 'washed-out', 'worse', 'traumatic', 'mindless', 'battering', 'tarnish', 'flaunt', 'irrelevant', 'curses', 'starkly', 'opinionated', 'get-rich', 'retard', 'wearisome', 'derision', 'upbraid', 'inordinately', 'writhe', 'outbreak', 'disgrace', 'phobic', 'dents', 'crumple', 'ineffective', 'overzelous', 'smell', 'lech', 'inequalities', 'betraying', 'felonious', 'infernal', 'scandel', 'starve', 'vagueness', 'intolerance', 'wildly', 'flickers', 'skimpy', 'lapsed', 'disapproval', 'moot', 'redundancy', 'struggled', 'monotony', 'arbitrary', 'inopportune', 'disadvantaged', 'misunderstood', 'interrupt', 'fright', 'disgustful', 'muddy', 'oversight', 'insolently', 'traitorously', 'condemns', 'worried', 'dizzingly', 'impossible', 'remorseful', 'mushy', 'damnation', 'disadvantage', 'revert', 'straggle', 'delinquency', 'dissonantly', 'imprisonment', 'berserk', 'regret', 'killer', 'remorseless', 'vestiges', 'frenetically', 'balk', 'timidity', 'deplete', 'splitting', 'unwilling', 'laughably', 'floundering', 'horrifies', 'catastrophies', 'wrest', 'detrimental', 'bust', 'uncooperative', 'inconsequent', 'disgusted', 'dumps', 'inhospitable', 'slap', 'disorganized', 'imbecile', 'lamentably', 'sucked', 'mindlessly', 'insufficiency', 'addicting', 'indignant', 'loses', 'damaging', 'franticly', 'insanity', 'officious', 'brutalizing', 'fears', 'furious', 'unyielding', 'fiction', 'blind', 'fanatically', 'subservient', 'expel', 'anarchy', 'fierce', 'grouse', 'cruelest', 'ambivalence', 'discomfort', 'brusque', 'complicated', 'inclement', 'loathsome', 'reviled', 'f**k', 'mismanage', 'wedge', 'melodramatic', 'molest', 'clogs', 'foulness', 'heartless', 'unproductive', 'dies', 'venomously', 'extraneous', 'invasive', 'nitpicking', 'shock', 'unthinkable', 'bravado', 'garish', 'worries', 'damnably', 'calumniation', 'occludes', 'insufferably', 'erroneously', 'cloud', 'raging', 'absurdly', 'lacked', 'assassin', 'scrambles', 'caustic', 'fever', 'fatuous', 'ghosting', 'deplore', 'mar', 'harass', 'demeaning', 'taint', 'irking', 'crashes', 'perplex', 'bigotry', 'hastily', 'repugnant', 'catastrophically', 'drunken', 'strike', 'overzealously', 'cliche', 'malcontent', 'terrible', 'sub-par', 'discordant', 'ill-favored', 'disturbed', 'fraud', 'irrationally', 'buckle', 'negation', 'shockingly', 'defunct', 'confront', 'negativity', 'unobserved', 'untested', 'resignation', 'forsake', 'crippling', 'mysterious', 'dissuade', 'inconsequentially', 'disorderly', 'lawbreaker', 'killjoy', 'blurring', 'bore', 'wreak', 'detested', 'devastate', 'chastise', 'negate', 'exhausted', 'lags', 'uneasiness', 'dissatisfactory', 'bleak', 'fatigue', 'womanizer', 'inconsequently', 'betrayal', 'leaking', 'flabbergast', 'improbable', 'fucking', 'grumpiest', 'illiterate', 'itch', 'nightmarish', 'partisan', 'downturns', 'sueing', 'pathetically', 'bulkyness', 'prattle', 'dismal', 'fastuous', 'lackeys', 'naïve', 'provocation', 'sin', 'chaos', 'cheats', 'incessant', 'prohibitively', 'spiteful', 'over-balanced', 'unkind', 'unusable', 'flares', 'buzzing', 'gimmicked', 'hegemonistic', 'hell', 'sue', 'uncompromisingly', 'violators', 'graft', 'monstrosities', 'suppress', 'unethical', 'demoralize', 'din', 'atrocious', 'longing', 'controversy', 'deign', 'bs', 'cramp', 'stalls', 'laconic', 'angry', 'preposterously', 'scummy', 'disbeliever', 'breach', 'unwanted', 'qualms', 'stricken', 'vice', 'audiciously', 'accuse', 'arcane', 'lame-duck', 'unacceptablely', 'crabby', 'somber', 'so-cal', 'erroneous', 'counterproductive', 'damn', 'barren', 'offender', 'refutation', 'paranoid', 'dwindling', 'grainy', 'covetous', 'vengefully', 'disservice', 'unjustified', 'backaches', 'grim', 'nemesis', 'corrupted', 'stymied', 'tetchily', 'horrific', 'regretfully', 'subpoenas', 'careless', 'rot', 'picketed', 'smear', 'slanderous', 'leech', 'sucker', 'disconsolate', 'indignation', 'corrosions', 'heedless', 'hypocritically', 'painfully', 'affliction', 'alienated', 'unsound', 'caustically', 'eccentricity', 'mortifying', 'peril', 'subpoena', 'viper', 'licentious', 'drawback', 'demonizing', 'imprecisely', 'slump', 'contemptuously', 'inefficacious', 'taboo', 'wrinkles', 'dent', 'superfluous', 'smolder', 'obsessive', 'refused', 'apathy', 'hating', 'fissures', 'disillusionment', 'tense', 'impudence', 'villianous', 'dizzing', 'morbidly', 'annoy', 'anxiety', 'inconsistent', 'desolation', 'bitterly', 'mistrust', 'obstruct', 'refuted', 'blundering', 'fleeting', 'insultingly', 'admonition', 'inconceivably', 'frenzy', 'deprave', 'ache', 'rumple', 'tentative', 'tingling', 'blab', 'insurmountably', 'jerky', 'offend', 'throttle', 'reprehensive', 'unreachable', 'incomparably', 'dissemble', 'temptation', 'distortion', 'byzantine', 'distract', 'exorbitantance', 'inhumane', 'unhealthy', 'uncreative', 'inevitably', 'flagrantly', 'unfortunate', 'acrid', 'vexing', 'cataclysmal', 'jeopardy', 'callous', 'concessions', 'hedge', 'crazy', 'falsify', 'discontentedly', 'critical', 'jagged', 'swagger', 'tricky', 'gripes', 'propaganda', 'malice', 'lonely', 'escapade', 'wripped', 'fractious', 'atrophy', 'commiserate', 'bulky', 'drag', 'despondence', 'dismay', 'retardedness', 'incompetently', 'tempest', 'falling', 'undecided', 'calamitous', 'dissonant', 'glib', 'racy', 'violent', 'overturn', 'vibration', 'malcontented', 'overacted', 'resurgent', 'ruffle', 'torturous', 'worn', 'envious', 'imaginary', 'stole', 'touts', 'unnervingly', 'haunting', 'blindingly', 'lethargy', 'misaligns', 'despotic', 'disintegrate', 'divergent', 'batty', 'stall', 'allergy', 'guiltily', 'regretful', 'exorbitantly', 'grouchy', 'dislike', 'teasingly', 'zaps', 'disturbance', 'dispensable', 'inarticulate', 'venom', 'unseemly', 'misbehavior', 'cold', 'warily', 'disappointments', 'imminence', 'runaway', 'harboring', 'tragically', 'lechery', 'distracting', 'giddy', 'miserable', 'goofy', 'unachievable', 'scams', 'flicker', 'aggravate', 'creepy', 'dragoon', 'cringed', 'nonresponsive', 'cheesy', 'jutters', 'confound', 'daunting']\n"
     ]
    }
   ],
   "source": [
    "print(\"positive words:------\",len(positive_words))\n",
    "print(positive_words)\n",
    "print(\"negative words:------\",len(negative_words))\n",
    "print(negative_words)"
   ]
  },
  {
   "cell_type": "code",
   "execution_count": 336,
   "metadata": {},
   "outputs": [],
   "source": [
    "# def make_test_feature(text):\n",
    "#     return \"happy\" in text\n",
    "\n",
    "def count_positive_words_feature1(text):\n",
    "    return len([i for i in text if(i in positive_words)])\n",
    "\n",
    "def count_negative_words_feature2(text):\n",
    "    return len([i for i in text if(i in negative_words)])\n",
    "\n",
    "def checking_no_feature3(text):\n",
    "    return 1 if('no' in text) else 0\n",
    "\n",
    "def counting_pronouns_feature4(text):\n",
    "    all_pronouns = ['i', 'me', 'my', 'mine', 'we', 'us', 'our', 'ours','you', 'your', 'yours']\n",
    "    return len([i for i in text if(i in all_pronouns)])\n",
    "\n",
    "\n",
    "def checking_exclamatory_feature5(text):\n",
    "    return 1 if('!' in text) else 0\n",
    "\n",
    "def log_word_count_of_each_doc_feature6(text):\n",
    "    return math.log(len(text)) if(len(text)>0) else 0 \n",
    "\n",
    "\n",
    "def extract_features(text):\n",
    "    features = []\n",
    "    # TODO: Replace this with your own feature extraction functions.\n",
    "    # features.append(make_test_feature(text))\n",
    "    # TODO: add more features to the feature vector\n",
    "    features.append(count_positive_words_feature1(text))\n",
    "    features.append(count_negative_words_feature2(text))\n",
    "    features.append(checking_no_feature3(text))\n",
    "    features.append(counting_pronouns_feature4(text))\n",
    "    features.append(checking_exclamatory_feature5(text))\n",
    "    features.append(log_word_count_of_each_doc_feature6(text))\n",
    "    \n",
    "    return features"
   ]
  },
  {
   "cell_type": "code",
   "execution_count": 337,
   "metadata": {},
   "outputs": [],
   "source": [
    "### ENTER CODE HERE ###\n",
    "### DO NOT CHANGE THE SIGNATURE OF THE function THOUGH ###\n",
    "\n",
    "def featurize_data(texts, labels):\n",
    "    features = [\n",
    "        extract_features(preprocess(text)) for text in texts\n",
    "    ]\n",
    "    return torch.FloatTensor(features), torch.FloatTensor(labels)"
   ]
  },
  {
   "attachments": {
    "image.png": {
     "image/png": "[encoded data removed]"
    }
   },
   "cell_type": "markdown",
   "metadata": {},
   "source": [
    "### Task 3.0.2: Feature Scaling (10 Points)\n",
    "\n",
    "In this task we will use the data normalization technique to ensure the scales of the feature are consistent.\n",
    "After featurizing the dataset, we need to call the following function before passing it to the classifier\n",
    "\n",
    "#### Normalization Formula\n",
    "\n",
    "![image.png](attachment:image.png)"
   ]
  },
  {
   "cell_type": "code",
   "execution_count": 338,
   "metadata": {},
   "outputs": [],
   "source": [
    "# features_testing_out = torch.tensor([\n",
    "#     [0.5, 1.0, 3.0],  # Features for document 1\n",
    "#     [0.1, 2.0, 4.0],  # Features for document 2\n",
    "#     [0.9, 0.5, 2.0],  # Features for document 3\n",
    "# ])\n",
    "\n",
    "# min_vals = torch.min(features_testing_out, dim=0).values  # min_vals = [0.1, 0.5, 2.0]\n",
    "# max_vals = torch.max(features_testing_out, dim=0).values  # max_vals = [0.9, 2.0, 4.0]\n",
    "\n",
    "# print(min_vals)\n",
    "# print(max_vals)\n",
    "\n",
    "# denominator = max_vals - min_vals\n",
    "# print(denominator)\n",
    "# print((features_testing_out - min_vals) / denominator)"
   ]
  },
  {
   "cell_type": "code",
   "execution_count": 339,
   "metadata": {},
   "outputs": [],
   "source": [
    "### ENTER CODE HERE ###\n",
    "\n",
    "def normalize(features: torch.Tensor) -> torch.Tensor:\n",
    "    \"\"\"\n",
    "    return the features transformed by the above formula of normalization\n",
    "    \"\"\"\n",
    "    min_values = torch.min(features,dim=0).values\n",
    "    max_values = torch.max(features,dim=0).values\n",
    "\n",
    "    denom = max_values - min_values\n",
    "    denom[denom == 0] = 1\n",
    "\n",
    "    normalised_features = (features - min_values)/(denom)\n",
    "\n",
    "    return normalised_features\n",
    "\n",
    "    "
   ]
  },
  {
   "cell_type": "markdown",
   "metadata": {},
   "source": [
    "## Training a Logistic Regression Classifier (Total: 30 Points)"
   ]
  },
  {
   "cell_type": "markdown",
   "metadata": {},
   "source": [
    "In this section, you will implement the components needed to train the binary classifier using logistic regression"
   ]
  },
  {
   "cell_type": "markdown",
   "metadata": {},
   "source": [
    "### Here we define our pytorch logistic regression classifier (DO NOT EDIT THIS)"
   ]
  },
  {
   "cell_type": "code",
   "execution_count": 340,
   "metadata": {},
   "outputs": [],
   "source": [
    "class SentimentClassifier(torch.nn.Module):\n",
    "    def __init__(self, input_dim: int):\n",
    "        super().__init__()\n",
    "        # We force output to be one, since we are doing binary logistic regression\n",
    "        self.output_size = 1\n",
    "        self.coefficients = torch.nn.Linear(input_dim, self.output_size)\n",
    "        # Initialize weights. Note that this is not strictly necessary,\n",
    "        # but you should test different initializations per lecture\n",
    "        initialize_weights(self.coefficients)\n",
    "        \n",
    "    def forward(self, features: torch.Tensor):\n",
    "        # We predict a number by multipling by the coefficients\n",
    "        # and then take the sigmoid to turn the score as logits\n",
    "        return torch.sigmoid(self.coefficients(features))"
   ]
  },
  {
   "cell_type": "markdown",
   "metadata": {},
   "source": [
    "### Task 3.1: Initialize the weights. (5 Points)\n",
    "\n",
    "Initialization of the parameters is an important step to ensure the SGD algorithm converges to a global optimum. Typically, we need to try different initialization methods and compare the accuracy we achieve for the development set. In this task, implement the function that initializes the parameters to ones."
   ]
  },
  {
   "cell_type": "code",
   "execution_count": 341,
   "metadata": {},
   "outputs": [],
   "source": [
    "### ENTER CODE HERE ###\n",
    "def initialize_weights(coefficients):\n",
    "    \"\"\"\n",
    "    TODO: Replace the line `raise NotImplementedError` with your code.\n",
    "    Initialize the weights of the coefficients by assigning the parameter\n",
    "    coefficients.weights.data = ...\n",
    "    \"\"\"\n",
    "    coefficients.weight.data = torch.nn.init.ones_(coefficients.weight)"
   ]
  },
  {
   "cell_type": "code",
   "execution_count": 342,
   "metadata": {},
   "outputs": [
    {
     "name": "stdout",
     "output_type": "stream",
     "text": [
      "All Test Cases Passed!\n"
     ]
    }
   ],
   "source": [
    "test_module = torch.nn.Linear(5, 1)\n",
    "initialize_weights(test_module)\n",
    "assert test_module.weight.ravel().tolist() == [1.0, 1.0, 1.0, 1.0, 1.0]\n",
    "\n",
    "print('All Test Cases Passed!')"
   ]
  },
  {
   "cell_type": "markdown",
   "metadata": {},
   "source": [
    "Fill in the loss function by implementing binary cross-entropy loss between the prediction and label. As a reminder, binary cross-entropy loss between the prediction y_hat and the target y, averaged over N examples, is:\n",
    "\n",
    "![loss.png](attachment:loss.png)"
   ]
  },
  {
   "cell_type": "markdown",
   "metadata": {},
   "source": [
    "### Task 3.2: Logistic Loss Function (10 Points)"
   ]
  },
  {
   "cell_type": "code",
   "execution_count": 343,
   "metadata": {},
   "outputs": [],
   "source": [
    "### ENTER CODE HERE ###\n",
    "\n",
    "def logistic_loss(prediction: torch.Tensor, label: torch.Tensor) -> torch.Tensor:\n",
    "    \"\"\"\n",
    "    TODO: Implement the logistic loss function between a prediction and label.\n",
    "    \"\"\"\n",
    "    loss = 0\n",
    "    prediction = prediction.flatten()\n",
    "    label = label.flatten()\n",
    "\n",
    "    for i in range(prediction.size(0)):\n",
    "        pred_val = prediction[i]\n",
    "        label_val = label[i]\n",
    "        if(pred_val == 0):\n",
    "            log_pred = 0  # Avoid log(0), set to 0\n",
    "        else:\n",
    "            log_pred = torch.log(pred_val)\n",
    "            \n",
    "        if(pred_val == 1):\n",
    "            log_one_minus_pred = 0  # Avoid log(1-1), set to 0\n",
    "        else:\n",
    "            log_one_minus_pred = torch.log(1 - pred_val)\n",
    "\n",
    "        loss = loss - (label_val * log_pred + (1 - label_val) * log_one_minus_pred)\n",
    "    \n",
    "    mean_samples = prediction.size(0)\n",
    "    return loss / mean_samples"
   ]
  },
  {
   "cell_type": "code",
   "execution_count": 344,
   "metadata": {},
   "outputs": [],
   "source": [
    "# Sanity check\n",
    "sample_input = torch.FloatTensor([[1,1],[0.0,0.0]])\n",
    "sample_target = torch.FloatTensor([[1,1],[0,0]])\n",
    "sample_output = logistic_loss(sample_input, sample_target)\n",
    "assert sample_output.item() == 0.0"
   ]
  },
  {
   "cell_type": "markdown",
   "metadata": {},
   "source": [
    "### Task 3.3: Create an SGD optimizer (0 Points)\n",
    "\n",
    "We have already provided the implementation of how to create the SGD optimizer\n",
    "\n",
    "You may try different optimizers refering to the docs provided"
   ]
  },
  {
   "cell_type": "code",
   "execution_count": 349,
   "metadata": {},
   "outputs": [],
   "source": [
    "### ENTER CODE HERE ###\n",
    "\n",
    "def make_optimizer(model, learning_rate) -> torch.optim:\n",
    "    \"\"\"\n",
    "    Returns an Stocastic Gradient Descent Optimizer\n",
    "    See here for algorithms you can import: https://pytorch.org/docs/stable/optim.html\n",
    "    \"\"\"\n",
    "    return torch.optim.Adam(model.parameters(), learning_rate)"
   ]
  },
  {
   "cell_type": "markdown",
   "metadata": {},
   "source": [
    "### Task 3.5: Converting Logits into Predictions (5 Points)"
   ]
  },
  {
   "cell_type": "code",
   "execution_count": 350,
   "metadata": {},
   "outputs": [],
   "source": [
    "### ENTER CODE HERE ###\n",
    "\n",
    "def predict(model, features):\n",
    "    with torch.no_grad():\n",
    "        \"\"\"\n",
    "        TODO: Replace the line `raise NotImplementedError`\n",
    "        with the logic of converting the logits into prediction labels (0, 1)\n",
    "        \"\"\"\n",
    "        logits = model(features)\n",
    "        return torch.round(logits)\n",
    "        "
   ]
  },
  {
   "cell_type": "markdown",
   "metadata": {},
   "source": [
    "### Training Function (DO NOT EDIT THIS)"
   ]
  },
  {
   "cell_type": "code",
   "execution_count": 351,
   "metadata": {},
   "outputs": [],
   "source": [
    "### DO NOT EDIT ###\n",
    "\n",
    "from tqdm.autonotebook import tqdm\n",
    "import random\n",
    "\n",
    "\n",
    "def training_loop(\n",
    "    num_epochs,\n",
    "    batch_size,\n",
    "    train_features,\n",
    "    train_labels,\n",
    "    dev_features,\n",
    "    dev_labels,\n",
    "    optimizer,\n",
    "    model\n",
    "):\n",
    "    samples = list(zip(train_features, train_labels))\n",
    "    random.shuffle(samples)\n",
    "    batches = []\n",
    "    for i in range(0, len(samples), batch_size):\n",
    "        batches.append(samples[i:i+batch_size])\n",
    "    print(\"Training...\")\n",
    "    for i in range(num_epochs):\n",
    "        losses = []\n",
    "        for batch in tqdm(batches):\n",
    "            # Empty the dynamic computation graph\n",
    "            features, labels = zip(*batch)\n",
    "            features = torch.stack(features)\n",
    "            labels = torch.stack(labels)\n",
    "            optimizer.zero_grad()\n",
    "            # Run the model\n",
    "            logits = model(features)\n",
    "            # Compute loss\n",
    "            loss = logistic_loss(torch.squeeze(logits), labels)\n",
    "            # In this logistic regression example,\n",
    "            # this entails computing a single gradient\n",
    "            loss.backward()\n",
    "            # Backpropogate the loss through our model\n",
    "            \n",
    "            # Update our coefficients in the direction of the gradient.\n",
    "            optimizer.step()\n",
    "             # For logging\n",
    "            losses.append(loss.item())\n",
    "        \n",
    "        # Estimate the f1 score for the development set\n",
    "        dev_f1 = f1_score(predict(model, dev_features), dev_labels)\n",
    "        print(f\"epoch {i}, loss: {sum(losses)/len(losses)}\")\n",
    "        print(f\"Dev F1 {dev_f1}\")\n",
    "        \n",
    "    # Return the trained model\n",
    "    return model"
   ]
  },
  {
   "cell_type": "markdown",
   "metadata": {},
   "source": [
    "### Task 3.6: Train the classifier (10 Points)\n",
    "\n",
    "Run the following cell to train a logistic regressor on your hand-engineered features."
   ]
  },
  {
   "cell_type": "code",
   "execution_count": 352,
   "metadata": {},
   "outputs": [
    {
     "name": "stdout",
     "output_type": "stream",
     "text": [
      "Training...\n"
     ]
    },
    {
     "data": {
      "application/vnd.jupyter.widget-view+json": {
       "model_id": "c0870f9c605a49aabbf12984961d3b42",
       "version_major": 2,
       "version_minor": 0
      },
      "text/plain": [
       "  0%|          | 0/10 [00:00<?, ?it/s]"
      ]
     },
     "metadata": {},
     "output_type": "display_data"
    },
    {
     "name": "stdout",
     "output_type": "stream",
     "text": [
      "epoch 0, loss: 0.9718915104866028\n",
      "Dev F1 0.6785714030265808\n"
     ]
    },
    {
     "data": {
      "application/vnd.jupyter.widget-view+json": {
       "model_id": "e733fa263c144b36bd17159176d0ee4d",
       "version_major": 2,
       "version_minor": 0
      },
      "text/plain": [
       "  0%|          | 0/10 [00:00<?, ?it/s]"
      ]
     },
     "metadata": {},
     "output_type": "display_data"
    },
    {
     "name": "stdout",
     "output_type": "stream",
     "text": [
      "epoch 1, loss: 0.9101555228233338\n",
      "Dev F1 0.6666666865348816\n"
     ]
    },
    {
     "data": {
      "application/vnd.jupyter.widget-view+json": {
       "model_id": "a2aeb2c835e04ee6ac910026d9b315f2",
       "version_major": 2,
       "version_minor": 0
      },
      "text/plain": [
       "  0%|          | 0/10 [00:00<?, ?it/s]"
      ]
     },
     "metadata": {},
     "output_type": "display_data"
    },
    {
     "name": "stdout",
     "output_type": "stream",
     "text": [
      "epoch 2, loss: 0.8582048058509827\n",
      "Dev F1 0.6666666865348816\n"
     ]
    },
    {
     "data": {
      "application/vnd.jupyter.widget-view+json": {
       "model_id": "c66d14171c1d4fce82fd251f16306f22",
       "version_major": 2,
       "version_minor": 0
      },
      "text/plain": [
       "  0%|          | 0/10 [00:00<?, ?it/s]"
      ]
     },
     "metadata": {},
     "output_type": "display_data"
    },
    {
     "name": "stdout",
     "output_type": "stream",
     "text": [
      "epoch 3, loss: 0.8158178567886353\n",
      "Dev F1 0.6792452931404114\n"
     ]
    },
    {
     "data": {
      "application/vnd.jupyter.widget-view+json": {
       "model_id": "640cc628fe9f4208a8186bff6a649ea6",
       "version_major": 2,
       "version_minor": 0
      },
      "text/plain": [
       "  0%|          | 0/10 [00:00<?, ?it/s]"
      ]
     },
     "metadata": {},
     "output_type": "display_data"
    },
    {
     "name": "stdout",
     "output_type": "stream",
     "text": [
      "epoch 4, loss: 0.782207453250885\n",
      "Dev F1 0.6538461446762085\n"
     ]
    },
    {
     "data": {
      "application/vnd.jupyter.widget-view+json": {
       "model_id": "c2352dfef76943be9af5e37240c92091",
       "version_major": 2,
       "version_minor": 0
      },
      "text/plain": [
       "  0%|          | 0/10 [00:00<?, ?it/s]"
      ]
     },
     "metadata": {},
     "output_type": "display_data"
    },
    {
     "name": "stdout",
     "output_type": "stream",
     "text": [
      "epoch 5, loss: 0.755898118019104\n",
      "Dev F1 0.6666666865348816\n"
     ]
    },
    {
     "data": {
      "application/vnd.jupyter.widget-view+json": {
       "model_id": "58b9f99a692847a49a6778e37d4346f9",
       "version_major": 2,
       "version_minor": 0
      },
      "text/plain": [
       "  0%|          | 0/10 [00:00<?, ?it/s]"
      ]
     },
     "metadata": {},
     "output_type": "display_data"
    },
    {
     "name": "stdout",
     "output_type": "stream",
     "text": [
      "epoch 6, loss: 0.735166335105896\n",
      "Dev F1 0.6938775181770325\n"
     ]
    },
    {
     "data": {
      "application/vnd.jupyter.widget-view+json": {
       "model_id": "3613a90e849d4b0eb91e18737ad089b1",
       "version_major": 2,
       "version_minor": 0
      },
      "text/plain": [
       "  0%|          | 0/10 [00:00<?, ?it/s]"
      ]
     },
     "metadata": {},
     "output_type": "display_data"
    },
    {
     "name": "stdout",
     "output_type": "stream",
     "text": [
      "epoch 7, loss: 0.7183958888053894\n",
      "Dev F1 0.7083333134651184\n"
     ]
    },
    {
     "data": {
      "application/vnd.jupyter.widget-view+json": {
       "model_id": "6b11342cdc164ef2b5c815d26dee6989",
       "version_major": 2,
       "version_minor": 0
      },
      "text/plain": [
       "  0%|          | 0/10 [00:00<?, ?it/s]"
      ]
     },
     "metadata": {},
     "output_type": "display_data"
    },
    {
     "name": "stdout",
     "output_type": "stream",
     "text": [
      "epoch 8, loss: 0.7042813420295715\n",
      "Dev F1 0.7234042286872864\n"
     ]
    },
    {
     "data": {
      "application/vnd.jupyter.widget-view+json": {
       "model_id": "bddb29fd17614ce7955b88b28c4cd728",
       "version_major": 2,
       "version_minor": 0
      },
      "text/plain": [
       "  0%|          | 0/10 [00:00<?, ?it/s]"
      ]
     },
     "metadata": {},
     "output_type": "display_data"
    },
    {
     "name": "stdout",
     "output_type": "stream",
     "text": [
      "epoch 9, loss: 0.6918856739997864\n",
      "Dev F1 0.739130437374115\n"
     ]
    },
    {
     "data": {
      "application/vnd.jupyter.widget-view+json": {
       "model_id": "e11e846db3fc4086b133eab2fdb8808d",
       "version_major": 2,
       "version_minor": 0
      },
      "text/plain": [
       "  0%|          | 0/10 [00:00<?, ?it/s]"
      ]
     },
     "metadata": {},
     "output_type": "display_data"
    },
    {
     "name": "stdout",
     "output_type": "stream",
     "text": [
      "epoch 10, loss: 0.6806004166603088\n",
      "Dev F1 0.7555555701255798\n"
     ]
    },
    {
     "data": {
      "application/vnd.jupyter.widget-view+json": {
       "model_id": "68130de58c544c36aeb0a071b9f71605",
       "version_major": 2,
       "version_minor": 0
      },
      "text/plain": [
       "  0%|          | 0/10 [00:00<?, ?it/s]"
      ]
     },
     "metadata": {},
     "output_type": "display_data"
    },
    {
     "name": "stdout",
     "output_type": "stream",
     "text": [
      "epoch 11, loss: 0.6700635075569152\n",
      "Dev F1 0.7555555701255798\n"
     ]
    },
    {
     "data": {
      "application/vnd.jupyter.widget-view+json": {
       "model_id": "0a0bcacccd9f4843a2eaca5501918a04",
       "version_major": 2,
       "version_minor": 0
      },
      "text/plain": [
       "  0%|          | 0/10 [00:00<?, ?it/s]"
      ]
     },
     "metadata": {},
     "output_type": "display_data"
    },
    {
     "name": "stdout",
     "output_type": "stream",
     "text": [
      "epoch 12, loss: 0.6600748181343079\n",
      "Dev F1 0.7555555701255798\n"
     ]
    },
    {
     "data": {
      "application/vnd.jupyter.widget-view+json": {
       "model_id": "e644a1daf0444970b1966820d5e4cd00",
       "version_major": 2,
       "version_minor": 0
      },
      "text/plain": [
       "  0%|          | 0/10 [00:00<?, ?it/s]"
      ]
     },
     "metadata": {},
     "output_type": "display_data"
    },
    {
     "name": "stdout",
     "output_type": "stream",
     "text": [
      "epoch 13, loss: 0.6505298554897309\n",
      "Dev F1 0.7555555701255798\n"
     ]
    },
    {
     "data": {
      "application/vnd.jupyter.widget-view+json": {
       "model_id": "ec7316ae209a4834b737531be5097fd4",
       "version_major": 2,
       "version_minor": 0
      },
      "text/plain": [
       "  0%|          | 0/10 [00:00<?, ?it/s]"
      ]
     },
     "metadata": {},
     "output_type": "display_data"
    },
    {
     "name": "stdout",
     "output_type": "stream",
     "text": [
      "epoch 14, loss: 0.6413753628730774\n",
      "Dev F1 0.7727272510528564\n"
     ]
    },
    {
     "data": {
      "application/vnd.jupyter.widget-view+json": {
       "model_id": "b27d11b092e64144bdd940c82a0b13ea",
       "version_major": 2,
       "version_minor": 0
      },
      "text/plain": [
       "  0%|          | 0/10 [00:00<?, ?it/s]"
      ]
     },
     "metadata": {},
     "output_type": "display_data"
    },
    {
     "name": "stdout",
     "output_type": "stream",
     "text": [
      "epoch 15, loss: 0.6325829505920411\n",
      "Dev F1 0.7727272510528564\n"
     ]
    },
    {
     "data": {
      "application/vnd.jupyter.widget-view+json": {
       "model_id": "6878c4a98ca54e26bd77fd9f8808a6be",
       "version_major": 2,
       "version_minor": 0
      },
      "text/plain": [
       "  0%|          | 0/10 [00:00<?, ?it/s]"
      ]
     },
     "metadata": {},
     "output_type": "display_data"
    },
    {
     "name": "stdout",
     "output_type": "stream",
     "text": [
      "epoch 16, loss: 0.6241351187229156\n",
      "Dev F1 0.7906976342201233\n"
     ]
    },
    {
     "data": {
      "application/vnd.jupyter.widget-view+json": {
       "model_id": "9342da49d4304e2bb34c83d23a6140e8",
       "version_major": 2,
       "version_minor": 0
      },
      "text/plain": [
       "  0%|          | 0/10 [00:00<?, ?it/s]"
      ]
     },
     "metadata": {},
     "output_type": "display_data"
    },
    {
     "name": "stdout",
     "output_type": "stream",
     "text": [
      "epoch 17, loss: 0.6160184741020203\n",
      "Dev F1 0.7906976342201233\n"
     ]
    },
    {
     "data": {
      "application/vnd.jupyter.widget-view+json": {
       "model_id": "7e34bf86377c4ddaa715f8206e1771ea",
       "version_major": 2,
       "version_minor": 0
      },
      "text/plain": [
       "  0%|          | 0/10 [00:00<?, ?it/s]"
      ]
     },
     "metadata": {},
     "output_type": "display_data"
    },
    {
     "name": "stdout",
     "output_type": "stream",
     "text": [
      "epoch 18, loss: 0.6082208096981049\n",
      "Dev F1 0.7906976342201233\n"
     ]
    },
    {
     "data": {
      "application/vnd.jupyter.widget-view+json": {
       "model_id": "a176786360bd4b39aab303b021d76e0f",
       "version_major": 2,
       "version_minor": 0
      },
      "text/plain": [
       "  0%|          | 0/10 [00:00<?, ?it/s]"
      ]
     },
     "metadata": {},
     "output_type": "display_data"
    },
    {
     "name": "stdout",
     "output_type": "stream",
     "text": [
      "epoch 19, loss: 0.6007300853729248\n",
      "Dev F1 0.7906976342201233\n"
     ]
    },
    {
     "data": {
      "application/vnd.jupyter.widget-view+json": {
       "model_id": "22c20cd077304f7e8b945a76e12fdb7c",
       "version_major": 2,
       "version_minor": 0
      },
      "text/plain": [
       "  0%|          | 0/10 [00:00<?, ?it/s]"
      ]
     },
     "metadata": {},
     "output_type": "display_data"
    },
    {
     "name": "stdout",
     "output_type": "stream",
     "text": [
      "epoch 20, loss: 0.593533992767334\n",
      "Dev F1 0.7906976342201233\n"
     ]
    },
    {
     "data": {
      "application/vnd.jupyter.widget-view+json": {
       "model_id": "48b6e99bb9ea42dfa73c53f6897cba73",
       "version_major": 2,
       "version_minor": 0
      },
      "text/plain": [
       "  0%|          | 0/10 [00:00<?, ?it/s]"
      ]
     },
     "metadata": {},
     "output_type": "display_data"
    },
    {
     "name": "stdout",
     "output_type": "stream",
     "text": [
      "epoch 21, loss: 0.5866201281547546\n",
      "Dev F1 0.8181818723678589\n"
     ]
    },
    {
     "data": {
      "application/vnd.jupyter.widget-view+json": {
       "model_id": "2fa931a1678041d3932421ef65ea586a",
       "version_major": 2,
       "version_minor": 0
      },
      "text/plain": [
       "  0%|          | 0/10 [00:00<?, ?it/s]"
      ]
     },
     "metadata": {},
     "output_type": "display_data"
    },
    {
     "name": "stdout",
     "output_type": "stream",
     "text": [
      "epoch 22, loss: 0.5799761831760406\n",
      "Dev F1 0.8181818723678589\n"
     ]
    },
    {
     "data": {
      "application/vnd.jupyter.widget-view+json": {
       "model_id": "ef85e47bf45c4cba9b2d7ff3d497dcb7",
       "version_major": 2,
       "version_minor": 0
      },
      "text/plain": [
       "  0%|          | 0/10 [00:00<?, ?it/s]"
      ]
     },
     "metadata": {},
     "output_type": "display_data"
    },
    {
     "name": "stdout",
     "output_type": "stream",
     "text": [
      "epoch 23, loss: 0.5735897839069366\n",
      "Dev F1 0.8181818723678589\n"
     ]
    },
    {
     "data": {
      "application/vnd.jupyter.widget-view+json": {
       "model_id": "29b4cf05040548ae9abeb596da5b820f",
       "version_major": 2,
       "version_minor": 0
      },
      "text/plain": [
       "  0%|          | 0/10 [00:00<?, ?it/s]"
      ]
     },
     "metadata": {},
     "output_type": "display_data"
    },
    {
     "name": "stdout",
     "output_type": "stream",
     "text": [
      "epoch 24, loss: 0.5674489855766296\n",
      "Dev F1 0.8181818723678589\n"
     ]
    },
    {
     "data": {
      "application/vnd.jupyter.widget-view+json": {
       "model_id": "7448c63a9899426da3186e57823264b0",
       "version_major": 2,
       "version_minor": 0
      },
      "text/plain": [
       "  0%|          | 0/10 [00:00<?, ?it/s]"
      ]
     },
     "metadata": {},
     "output_type": "display_data"
    },
    {
     "name": "stdout",
     "output_type": "stream",
     "text": [
      "epoch 25, loss: 0.5615419805049896\n",
      "Dev F1 0.8181818723678589\n"
     ]
    },
    {
     "data": {
      "application/vnd.jupyter.widget-view+json": {
       "model_id": "e9d3691c5ccb46519cb832c607251efa",
       "version_major": 2,
       "version_minor": 0
      },
      "text/plain": [
       "  0%|          | 0/10 [00:00<?, ?it/s]"
      ]
     },
     "metadata": {},
     "output_type": "display_data"
    },
    {
     "name": "stdout",
     "output_type": "stream",
     "text": [
      "epoch 26, loss: 0.5558574110269546\n",
      "Dev F1 0.8181818723678589\n"
     ]
    },
    {
     "data": {
      "application/vnd.jupyter.widget-view+json": {
       "model_id": "fdcbc937244a4ce6a3e8cb2f3e8640b3",
       "version_major": 2,
       "version_minor": 0
      },
      "text/plain": [
       "  0%|          | 0/10 [00:00<?, ?it/s]"
      ]
     },
     "metadata": {},
     "output_type": "display_data"
    },
    {
     "name": "stdout",
     "output_type": "stream",
     "text": [
      "epoch 27, loss: 0.5503842800855636\n",
      "Dev F1 0.8444444537162781\n"
     ]
    },
    {
     "data": {
      "application/vnd.jupyter.widget-view+json": {
       "model_id": "96129e4183094ac1a4e2416117f39a18",
       "version_major": 2,
       "version_minor": 0
      },
      "text/plain": [
       "  0%|          | 0/10 [00:00<?, ?it/s]"
      ]
     },
     "metadata": {},
     "output_type": "display_data"
    },
    {
     "name": "stdout",
     "output_type": "stream",
     "text": [
      "epoch 28, loss: 0.5451120972633362\n",
      "Dev F1 0.8444444537162781\n"
     ]
    },
    {
     "data": {
      "application/vnd.jupyter.widget-view+json": {
       "model_id": "7bf60b1f83534ef6923192c10a8d0cd1",
       "version_major": 2,
       "version_minor": 0
      },
      "text/plain": [
       "  0%|          | 0/10 [00:00<?, ?it/s]"
      ]
     },
     "metadata": {},
     "output_type": "display_data"
    },
    {
     "name": "stdout",
     "output_type": "stream",
     "text": [
      "epoch 29, loss: 0.5400307327508926\n",
      "Dev F1 0.8444444537162781\n"
     ]
    },
    {
     "data": {
      "application/vnd.jupyter.widget-view+json": {
       "model_id": "36f14dc07b764d79ba624a01fdd59c7f",
       "version_major": 2,
       "version_minor": 0
      },
      "text/plain": [
       "  0%|          | 0/10 [00:00<?, ?it/s]"
      ]
     },
     "metadata": {},
     "output_type": "display_data"
    },
    {
     "name": "stdout",
     "output_type": "stream",
     "text": [
      "epoch 30, loss: 0.5351305454969406\n",
      "Dev F1 0.8444444537162781\n"
     ]
    },
    {
     "data": {
      "application/vnd.jupyter.widget-view+json": {
       "model_id": "d63095ba967144e3b5e6c2ca83b6bc1c",
       "version_major": 2,
       "version_minor": 0
      },
      "text/plain": [
       "  0%|          | 0/10 [00:00<?, ?it/s]"
      ]
     },
     "metadata": {},
     "output_type": "display_data"
    },
    {
     "name": "stdout",
     "output_type": "stream",
     "text": [
      "epoch 31, loss: 0.5304023772478104\n",
      "Dev F1 0.8444444537162781\n"
     ]
    },
    {
     "data": {
      "application/vnd.jupyter.widget-view+json": {
       "model_id": "bfe327856c3b458bb6725bb3662649c8",
       "version_major": 2,
       "version_minor": 0
      },
      "text/plain": [
       "  0%|          | 0/10 [00:00<?, ?it/s]"
      ]
     },
     "metadata": {},
     "output_type": "display_data"
    },
    {
     "name": "stdout",
     "output_type": "stream",
     "text": [
      "epoch 32, loss: 0.5258374840021134\n",
      "Dev F1 0.8444444537162781\n"
     ]
    },
    {
     "data": {
      "application/vnd.jupyter.widget-view+json": {
       "model_id": "d4f777bc965343439cf2ea8e2c822f5c",
       "version_major": 2,
       "version_minor": 0
      },
      "text/plain": [
       "  0%|          | 0/10 [00:00<?, ?it/s]"
      ]
     },
     "metadata": {},
     "output_type": "display_data"
    },
    {
     "name": "stdout",
     "output_type": "stream",
     "text": [
      "epoch 33, loss: 0.5214275777339935\n",
      "Dev F1 0.8444444537162781\n"
     ]
    },
    {
     "data": {
      "application/vnd.jupyter.widget-view+json": {
       "model_id": "5c608f5bd0e04f2c823b876fb8041269",
       "version_major": 2,
       "version_minor": 0
      },
      "text/plain": [
       "  0%|          | 0/10 [00:00<?, ?it/s]"
      ]
     },
     "metadata": {},
     "output_type": "display_data"
    },
    {
     "name": "stdout",
     "output_type": "stream",
     "text": [
      "epoch 34, loss: 0.5171648740768433\n",
      "Dev F1 0.8444444537162781\n"
     ]
    },
    {
     "data": {
      "application/vnd.jupyter.widget-view+json": {
       "model_id": "093bd85ddbee4833b9d100dde804e1d2",
       "version_major": 2,
       "version_minor": 0
      },
      "text/plain": [
       "  0%|          | 0/10 [00:00<?, ?it/s]"
      ]
     },
     "metadata": {},
     "output_type": "display_data"
    },
    {
     "name": "stdout",
     "output_type": "stream",
     "text": [
      "epoch 35, loss: 0.5130418956279754\n",
      "Dev F1 0.8837209343910217\n"
     ]
    },
    {
     "data": {
      "application/vnd.jupyter.widget-view+json": {
       "model_id": "81798f21a35147feadbdd4997c5c7339",
       "version_major": 2,
       "version_minor": 0
      },
      "text/plain": [
       "  0%|          | 0/10 [00:00<?, ?it/s]"
      ]
     },
     "metadata": {},
     "output_type": "display_data"
    },
    {
     "name": "stdout",
     "output_type": "stream",
     "text": [
      "epoch 36, loss: 0.5090516984462738\n",
      "Dev F1 0.8837209343910217\n"
     ]
    },
    {
     "data": {
      "application/vnd.jupyter.widget-view+json": {
       "model_id": "c6be5ee03ae646fe90a86e89525f3956",
       "version_major": 2,
       "version_minor": 0
      },
      "text/plain": [
       "  0%|          | 0/10 [00:00<?, ?it/s]"
      ]
     },
     "metadata": {},
     "output_type": "display_data"
    },
    {
     "name": "stdout",
     "output_type": "stream",
     "text": [
      "epoch 37, loss: 0.5051876783370972\n",
      "Dev F1 0.8837209343910217\n"
     ]
    },
    {
     "data": {
      "application/vnd.jupyter.widget-view+json": {
       "model_id": "00d4e880a1264da88d6c85a72420d15f",
       "version_major": 2,
       "version_minor": 0
      },
      "text/plain": [
       "  0%|          | 0/10 [00:00<?, ?it/s]"
      ]
     },
     "metadata": {},
     "output_type": "display_data"
    },
    {
     "name": "stdout",
     "output_type": "stream",
     "text": [
      "epoch 38, loss: 0.501443612575531\n",
      "Dev F1 0.8837209343910217\n"
     ]
    },
    {
     "data": {
      "application/vnd.jupyter.widget-view+json": {
       "model_id": "d2ee0565fc7b441594b0382ca38ef9bb",
       "version_major": 2,
       "version_minor": 0
      },
      "text/plain": [
       "  0%|          | 0/10 [00:00<?, ?it/s]"
      ]
     },
     "metadata": {},
     "output_type": "display_data"
    },
    {
     "name": "stdout",
     "output_type": "stream",
     "text": [
      "epoch 39, loss: 0.49781361520290374\n",
      "Dev F1 0.8837209343910217\n"
     ]
    },
    {
     "data": {
      "application/vnd.jupyter.widget-view+json": {
       "model_id": "ff553c7ba3b14898868c55a117f781df",
       "version_major": 2,
       "version_minor": 0
      },
      "text/plain": [
       "  0%|          | 0/10 [00:00<?, ?it/s]"
      ]
     },
     "metadata": {},
     "output_type": "display_data"
    },
    {
     "name": "stdout",
     "output_type": "stream",
     "text": [
      "epoch 40, loss: 0.49429217875003817\n",
      "Dev F1 0.8837209343910217\n"
     ]
    },
    {
     "data": {
      "application/vnd.jupyter.widget-view+json": {
       "model_id": "26c0854410004003bf92d28798fa2d08",
       "version_major": 2,
       "version_minor": 0
      },
      "text/plain": [
       "  0%|          | 0/10 [00:00<?, ?it/s]"
      ]
     },
     "metadata": {},
     "output_type": "display_data"
    },
    {
     "name": "stdout",
     "output_type": "stream",
     "text": [
      "epoch 41, loss: 0.4908741503953934\n",
      "Dev F1 0.8837209343910217\n"
     ]
    },
    {
     "data": {
      "application/vnd.jupyter.widget-view+json": {
       "model_id": "34f3981323c14422944c0b71275e8a92",
       "version_major": 2,
       "version_minor": 0
      },
      "text/plain": [
       "  0%|          | 0/10 [00:00<?, ?it/s]"
      ]
     },
     "metadata": {},
     "output_type": "display_data"
    },
    {
     "name": "stdout",
     "output_type": "stream",
     "text": [
      "epoch 42, loss: 0.48755464255809783\n",
      "Dev F1 0.8837209343910217\n"
     ]
    },
    {
     "data": {
      "application/vnd.jupyter.widget-view+json": {
       "model_id": "48e52a1331b2442fb4f8a5aecde10b41",
       "version_major": 2,
       "version_minor": 0
      },
      "text/plain": [
       "  0%|          | 0/10 [00:00<?, ?it/s]"
      ]
     },
     "metadata": {},
     "output_type": "display_data"
    },
    {
     "name": "stdout",
     "output_type": "stream",
     "text": [
      "epoch 43, loss: 0.4843290328979492\n",
      "Dev F1 0.8837209343910217\n"
     ]
    },
    {
     "data": {
      "application/vnd.jupyter.widget-view+json": {
       "model_id": "78e2b9bb3d094d21b13fd1529466af48",
       "version_major": 2,
       "version_minor": 0
      },
      "text/plain": [
       "  0%|          | 0/10 [00:00<?, ?it/s]"
      ]
     },
     "metadata": {},
     "output_type": "display_data"
    },
    {
     "name": "stdout",
     "output_type": "stream",
     "text": [
      "epoch 44, loss: 0.48119309842586516\n",
      "Dev F1 0.8837209343910217\n"
     ]
    },
    {
     "data": {
      "application/vnd.jupyter.widget-view+json": {
       "model_id": "ccc66fcf04904ce88187a14b967311e8",
       "version_major": 2,
       "version_minor": 0
      },
      "text/plain": [
       "  0%|          | 0/10 [00:00<?, ?it/s]"
      ]
     },
     "metadata": {},
     "output_type": "display_data"
    },
    {
     "name": "stdout",
     "output_type": "stream",
     "text": [
      "epoch 45, loss: 0.4781427264213562\n",
      "Dev F1 0.8837209343910217\n"
     ]
    },
    {
     "data": {
      "application/vnd.jupyter.widget-view+json": {
       "model_id": "72cbe8ab39214d159989750d356fb22e",
       "version_major": 2,
       "version_minor": 0
      },
      "text/plain": [
       "  0%|          | 0/10 [00:00<?, ?it/s]"
      ]
     },
     "metadata": {},
     "output_type": "display_data"
    },
    {
     "name": "stdout",
     "output_type": "stream",
     "text": [
      "epoch 46, loss: 0.47517412304878237\n",
      "Dev F1 0.8636363744735718\n"
     ]
    },
    {
     "data": {
      "application/vnd.jupyter.widget-view+json": {
       "model_id": "6bf9d65dd2484d6d8f5df68398e9bf87",
       "version_major": 2,
       "version_minor": 0
      },
      "text/plain": [
       "  0%|          | 0/10 [00:00<?, ?it/s]"
      ]
     },
     "metadata": {},
     "output_type": "display_data"
    },
    {
     "name": "stdout",
     "output_type": "stream",
     "text": [
      "epoch 47, loss: 0.47228372991085055\n",
      "Dev F1 0.8636363744735718\n"
     ]
    },
    {
     "data": {
      "application/vnd.jupyter.widget-view+json": {
       "model_id": "558d93f4a4ff468ca379655e880ed23a",
       "version_major": 2,
       "version_minor": 0
      },
      "text/plain": [
       "  0%|          | 0/10 [00:00<?, ?it/s]"
      ]
     },
     "metadata": {},
     "output_type": "display_data"
    },
    {
     "name": "stdout",
     "output_type": "stream",
     "text": [
      "epoch 48, loss: 0.46946817338466645\n",
      "Dev F1 0.8636363744735718\n"
     ]
    },
    {
     "data": {
      "application/vnd.jupyter.widget-view+json": {
       "model_id": "d00dd8282d5446239f0d94455f7a3010",
       "version_major": 2,
       "version_minor": 0
      },
      "text/plain": [
       "  0%|          | 0/10 [00:00<?, ?it/s]"
      ]
     },
     "metadata": {},
     "output_type": "display_data"
    },
    {
     "name": "stdout",
     "output_type": "stream",
     "text": [
      "epoch 49, loss: 0.4667243152856827\n",
      "Dev F1 0.8636363744735718\n"
     ]
    },
    {
     "data": {
      "application/vnd.jupyter.widget-view+json": {
       "model_id": "1efc9bf40d914653bb1dac6ba41b9edc",
       "version_major": 2,
       "version_minor": 0
      },
      "text/plain": [
       "  0%|          | 0/10 [00:00<?, ?it/s]"
      ]
     },
     "metadata": {},
     "output_type": "display_data"
    },
    {
     "name": "stdout",
     "output_type": "stream",
     "text": [
      "epoch 50, loss: 0.4640491545200348\n",
      "Dev F1 0.8636363744735718\n"
     ]
    },
    {
     "data": {
      "application/vnd.jupyter.widget-view+json": {
       "model_id": "bb6bb497877145e68dc3a98a7711a2a6",
       "version_major": 2,
       "version_minor": 0
      },
      "text/plain": [
       "  0%|          | 0/10 [00:00<?, ?it/s]"
      ]
     },
     "metadata": {},
     "output_type": "display_data"
    },
    {
     "name": "stdout",
     "output_type": "stream",
     "text": [
      "epoch 51, loss: 0.46143986880779264\n",
      "Dev F1 0.8444444537162781\n"
     ]
    },
    {
     "data": {
      "application/vnd.jupyter.widget-view+json": {
       "model_id": "ea03fbe29c8f4ce5a60ce1ac4c534317",
       "version_major": 2,
       "version_minor": 0
      },
      "text/plain": [
       "  0%|          | 0/10 [00:00<?, ?it/s]"
      ]
     },
     "metadata": {},
     "output_type": "display_data"
    },
    {
     "name": "stdout",
     "output_type": "stream",
     "text": [
      "epoch 52, loss: 0.45889386236667634\n",
      "Dev F1 0.8444444537162781\n"
     ]
    },
    {
     "data": {
      "application/vnd.jupyter.widget-view+json": {
       "model_id": "c72e68b95a84484aa43afd66887084b2",
       "version_major": 2,
       "version_minor": 0
      },
      "text/plain": [
       "  0%|          | 0/10 [00:00<?, ?it/s]"
      ]
     },
     "metadata": {},
     "output_type": "display_data"
    },
    {
     "name": "stdout",
     "output_type": "stream",
     "text": [
      "epoch 53, loss: 0.4564086228609085\n",
      "Dev F1 0.8444444537162781\n"
     ]
    },
    {
     "data": {
      "application/vnd.jupyter.widget-view+json": {
       "model_id": "607973892ff5418eab39470fb790a4ed",
       "version_major": 2,
       "version_minor": 0
      },
      "text/plain": [
       "  0%|          | 0/10 [00:00<?, ?it/s]"
      ]
     },
     "metadata": {},
     "output_type": "display_data"
    },
    {
     "name": "stdout",
     "output_type": "stream",
     "text": [
      "epoch 54, loss: 0.45398184657096863\n",
      "Dev F1 0.8444444537162781\n"
     ]
    },
    {
     "data": {
      "application/vnd.jupyter.widget-view+json": {
       "model_id": "9ccb68ca72f243bc8b65537a8a582a5b",
       "version_major": 2,
       "version_minor": 0
      },
      "text/plain": [
       "  0%|          | 0/10 [00:00<?, ?it/s]"
      ]
     },
     "metadata": {},
     "output_type": "display_data"
    },
    {
     "name": "stdout",
     "output_type": "stream",
     "text": [
      "epoch 55, loss: 0.4516113042831421\n",
      "Dev F1 0.8444444537162781\n"
     ]
    },
    {
     "data": {
      "application/vnd.jupyter.widget-view+json": {
       "model_id": "4da6b72852394fa7ad75bb7d38b0a17b",
       "version_major": 2,
       "version_minor": 0
      },
      "text/plain": [
       "  0%|          | 0/10 [00:00<?, ?it/s]"
      ]
     },
     "metadata": {},
     "output_type": "display_data"
    },
    {
     "name": "stdout",
     "output_type": "stream",
     "text": [
      "epoch 56, loss: 0.4492949068546295\n",
      "Dev F1 0.8444444537162781\n"
     ]
    },
    {
     "data": {
      "application/vnd.jupyter.widget-view+json": {
       "model_id": "6673262d6eac4f5bbb6c36d0c32268f1",
       "version_major": 2,
       "version_minor": 0
      },
      "text/plain": [
       "  0%|          | 0/10 [00:00<?, ?it/s]"
      ]
     },
     "metadata": {},
     "output_type": "display_data"
    },
    {
     "name": "stdout",
     "output_type": "stream",
     "text": [
      "epoch 57, loss: 0.44703072905540464\n",
      "Dev F1 0.8444444537162781\n"
     ]
    },
    {
     "data": {
      "application/vnd.jupyter.widget-view+json": {
       "model_id": "4a1fa608d11b4bd39d3c0ae236d15056",
       "version_major": 2,
       "version_minor": 0
      },
      "text/plain": [
       "  0%|          | 0/10 [00:00<?, ?it/s]"
      ]
     },
     "metadata": {},
     "output_type": "display_data"
    },
    {
     "name": "stdout",
     "output_type": "stream",
     "text": [
      "epoch 58, loss: 0.4448168307542801\n",
      "Dev F1 0.8444444537162781\n"
     ]
    },
    {
     "data": {
      "application/vnd.jupyter.widget-view+json": {
       "model_id": "4d9350144d6a43d78c221c19e03e71bb",
       "version_major": 2,
       "version_minor": 0
      },
      "text/plain": [
       "  0%|          | 0/10 [00:00<?, ?it/s]"
      ]
     },
     "metadata": {},
     "output_type": "display_data"
    },
    {
     "name": "stdout",
     "output_type": "stream",
     "text": [
      "epoch 59, loss: 0.4426514744758606\n",
      "Dev F1 0.8444444537162781\n"
     ]
    },
    {
     "data": {
      "application/vnd.jupyter.widget-view+json": {
       "model_id": "cf725ae4c27a4e1e951715221d7a06d1",
       "version_major": 2,
       "version_minor": 0
      },
      "text/plain": [
       "  0%|          | 0/10 [00:00<?, ?it/s]"
      ]
     },
     "metadata": {},
     "output_type": "display_data"
    },
    {
     "name": "stdout",
     "output_type": "stream",
     "text": [
      "epoch 60, loss: 0.4405330061912537\n",
      "Dev F1 0.8444444537162781\n"
     ]
    },
    {
     "data": {
      "application/vnd.jupyter.widget-view+json": {
       "model_id": "4db0972bbb6a4169987c8c9fbfadb367",
       "version_major": 2,
       "version_minor": 0
      },
      "text/plain": [
       "  0%|          | 0/10 [00:00<?, ?it/s]"
      ]
     },
     "metadata": {},
     "output_type": "display_data"
    },
    {
     "name": "stdout",
     "output_type": "stream",
     "text": [
      "epoch 61, loss: 0.43845982253551485\n",
      "Dev F1 0.8444444537162781\n"
     ]
    },
    {
     "data": {
      "application/vnd.jupyter.widget-view+json": {
       "model_id": "0733c950066c4a7abad0e14e8318b471",
       "version_major": 2,
       "version_minor": 0
      },
      "text/plain": [
       "  0%|          | 0/10 [00:00<?, ?it/s]"
      ]
     },
     "metadata": {},
     "output_type": "display_data"
    },
    {
     "name": "stdout",
     "output_type": "stream",
     "text": [
      "epoch 62, loss: 0.4364304542541504\n",
      "Dev F1 0.8444444537162781\n"
     ]
    },
    {
     "data": {
      "application/vnd.jupyter.widget-view+json": {
       "model_id": "02dab401d29044e4ae12132f59626cf0",
       "version_major": 2,
       "version_minor": 0
      },
      "text/plain": [
       "  0%|          | 0/10 [00:00<?, ?it/s]"
      ]
     },
     "metadata": {},
     "output_type": "display_data"
    },
    {
     "name": "stdout",
     "output_type": "stream",
     "text": [
      "epoch 63, loss: 0.43444347083568574\n",
      "Dev F1 0.8444444537162781\n"
     ]
    },
    {
     "data": {
      "application/vnd.jupyter.widget-view+json": {
       "model_id": "9e28120e1b4d446398ab5db53109f1d2",
       "version_major": 2,
       "version_minor": 0
      },
      "text/plain": [
       "  0%|          | 0/10 [00:00<?, ?it/s]"
      ]
     },
     "metadata": {},
     "output_type": "display_data"
    },
    {
     "name": "stdout",
     "output_type": "stream",
     "text": [
      "epoch 64, loss: 0.43249751925468444\n",
      "Dev F1 0.8444444537162781\n"
     ]
    },
    {
     "data": {
      "application/vnd.jupyter.widget-view+json": {
       "model_id": "9be2742e32e641c48b10d85b4815dc7f",
       "version_major": 2,
       "version_minor": 0
      },
      "text/plain": [
       "  0%|          | 0/10 [00:00<?, ?it/s]"
      ]
     },
     "metadata": {},
     "output_type": "display_data"
    },
    {
     "name": "stdout",
     "output_type": "stream",
     "text": [
      "epoch 65, loss: 0.4305912762880325\n",
      "Dev F1 0.8444444537162781\n"
     ]
    },
    {
     "data": {
      "application/vnd.jupyter.widget-view+json": {
       "model_id": "fe3d3fa2fc6a47e0b0135a663922d5ae",
       "version_major": 2,
       "version_minor": 0
      },
      "text/plain": [
       "  0%|          | 0/10 [00:00<?, ?it/s]"
      ]
     },
     "metadata": {},
     "output_type": "display_data"
    },
    {
     "name": "stdout",
     "output_type": "stream",
     "text": [
      "epoch 66, loss: 0.42872353494167326\n",
      "Dev F1 0.8444444537162781\n"
     ]
    },
    {
     "data": {
      "application/vnd.jupyter.widget-view+json": {
       "model_id": "cfcaf3e8fb324f14b779e9ffd24af1da",
       "version_major": 2,
       "version_minor": 0
      },
      "text/plain": [
       "  0%|          | 0/10 [00:00<?, ?it/s]"
      ]
     },
     "metadata": {},
     "output_type": "display_data"
    },
    {
     "name": "stdout",
     "output_type": "stream",
     "text": [
      "epoch 67, loss: 0.4268931567668915\n",
      "Dev F1 0.8444444537162781\n"
     ]
    },
    {
     "data": {
      "application/vnd.jupyter.widget-view+json": {
       "model_id": "0fb34c83f0b44ddab76772d201ed5f55",
       "version_major": 2,
       "version_minor": 0
      },
      "text/plain": [
       "  0%|          | 0/10 [00:00<?, ?it/s]"
      ]
     },
     "metadata": {},
     "output_type": "display_data"
    },
    {
     "name": "stdout",
     "output_type": "stream",
     "text": [
      "epoch 68, loss: 0.42509897947311404\n",
      "Dev F1 0.8444444537162781\n"
     ]
    },
    {
     "data": {
      "application/vnd.jupyter.widget-view+json": {
       "model_id": "cf7061daa10144b385f0dd0f0dc011a7",
       "version_major": 2,
       "version_minor": 0
      },
      "text/plain": [
       "  0%|          | 0/10 [00:00<?, ?it/s]"
      ]
     },
     "metadata": {},
     "output_type": "display_data"
    },
    {
     "name": "stdout",
     "output_type": "stream",
     "text": [
      "epoch 69, loss: 0.42333996295928955\n",
      "Dev F1 0.8444444537162781\n"
     ]
    },
    {
     "data": {
      "application/vnd.jupyter.widget-view+json": {
       "model_id": "0750220f36774a198bbcc3cd0e5fee35",
       "version_major": 2,
       "version_minor": 0
      },
      "text/plain": [
       "  0%|          | 0/10 [00:00<?, ?it/s]"
      ]
     },
     "metadata": {},
     "output_type": "display_data"
    },
    {
     "name": "stdout",
     "output_type": "stream",
     "text": [
      "epoch 70, loss: 0.4216151088476181\n",
      "Dev F1 0.8444444537162781\n"
     ]
    },
    {
     "data": {
      "application/vnd.jupyter.widget-view+json": {
       "model_id": "36b6f2fe97f941618fe190fbb85c0467",
       "version_major": 2,
       "version_minor": 0
      },
      "text/plain": [
       "  0%|          | 0/10 [00:00<?, ?it/s]"
      ]
     },
     "metadata": {},
     "output_type": "display_data"
    },
    {
     "name": "stdout",
     "output_type": "stream",
     "text": [
      "epoch 71, loss: 0.4199234277009964\n",
      "Dev F1 0.8444444537162781\n"
     ]
    },
    {
     "data": {
      "application/vnd.jupyter.widget-view+json": {
       "model_id": "3530e2b485bc401d9ff0a001aee9fcba",
       "version_major": 2,
       "version_minor": 0
      },
      "text/plain": [
       "  0%|          | 0/10 [00:00<?, ?it/s]"
      ]
     },
     "metadata": {},
     "output_type": "display_data"
    },
    {
     "name": "stdout",
     "output_type": "stream",
     "text": [
      "epoch 72, loss: 0.4182639867067337\n",
      "Dev F1 0.8444444537162781\n"
     ]
    },
    {
     "data": {
      "application/vnd.jupyter.widget-view+json": {
       "model_id": "bddf1f8d2e8c4fa195cded3a7a6db489",
       "version_major": 2,
       "version_minor": 0
      },
      "text/plain": [
       "  0%|          | 0/10 [00:00<?, ?it/s]"
      ]
     },
     "metadata": {},
     "output_type": "display_data"
    },
    {
     "name": "stdout",
     "output_type": "stream",
     "text": [
      "epoch 73, loss: 0.41663590669631956\n",
      "Dev F1 0.8444444537162781\n"
     ]
    },
    {
     "data": {
      "application/vnd.jupyter.widget-view+json": {
       "model_id": "8cd7539ea63b465e9f386539aecb8aeb",
       "version_major": 2,
       "version_minor": 0
      },
      "text/plain": [
       "  0%|          | 0/10 [00:00<?, ?it/s]"
      ]
     },
     "metadata": {},
     "output_type": "display_data"
    },
    {
     "name": "stdout",
     "output_type": "stream",
     "text": [
      "epoch 74, loss: 0.4150383770465851\n",
      "Dev F1 0.8444444537162781\n"
     ]
    },
    {
     "data": {
      "application/vnd.jupyter.widget-view+json": {
       "model_id": "d8ae96aa25454fc5abd636087d791fd9",
       "version_major": 2,
       "version_minor": 0
      },
      "text/plain": [
       "  0%|          | 0/10 [00:00<?, ?it/s]"
      ]
     },
     "metadata": {},
     "output_type": "display_data"
    },
    {
     "name": "stdout",
     "output_type": "stream",
     "text": [
      "epoch 75, loss: 0.4134704887866974\n",
      "Dev F1 0.8444444537162781\n"
     ]
    },
    {
     "data": {
      "application/vnd.jupyter.widget-view+json": {
       "model_id": "2c57da8aeaba4a92bdad7bc0d722151c",
       "version_major": 2,
       "version_minor": 0
      },
      "text/plain": [
       "  0%|          | 0/10 [00:00<?, ?it/s]"
      ]
     },
     "metadata": {},
     "output_type": "display_data"
    },
    {
     "name": "stdout",
     "output_type": "stream",
     "text": [
      "epoch 76, loss: 0.41193155348300936\n",
      "Dev F1 0.8444444537162781\n"
     ]
    },
    {
     "data": {
      "application/vnd.jupyter.widget-view+json": {
       "model_id": "7e6ad1f8aca148a9bc4cdebe7e1cb0df",
       "version_major": 2,
       "version_minor": 0
      },
      "text/plain": [
       "  0%|          | 0/10 [00:00<?, ?it/s]"
      ]
     },
     "metadata": {},
     "output_type": "display_data"
    },
    {
     "name": "stdout",
     "output_type": "stream",
     "text": [
      "epoch 77, loss: 0.4104207456111908\n",
      "Dev F1 0.8444444537162781\n"
     ]
    },
    {
     "data": {
      "application/vnd.jupyter.widget-view+json": {
       "model_id": "38e899dc54c84bb48be184827e021500",
       "version_major": 2,
       "version_minor": 0
      },
      "text/plain": [
       "  0%|          | 0/10 [00:00<?, ?it/s]"
      ]
     },
     "metadata": {},
     "output_type": "display_data"
    },
    {
     "name": "stdout",
     "output_type": "stream",
     "text": [
      "epoch 78, loss: 0.4089373618364334\n",
      "Dev F1 0.8444444537162781\n"
     ]
    },
    {
     "data": {
      "application/vnd.jupyter.widget-view+json": {
       "model_id": "d88a584a7f5c4fbe85bfaa54d2858829",
       "version_major": 2,
       "version_minor": 0
      },
      "text/plain": [
       "  0%|          | 0/10 [00:00<?, ?it/s]"
      ]
     },
     "metadata": {},
     "output_type": "display_data"
    },
    {
     "name": "stdout",
     "output_type": "stream",
     "text": [
      "epoch 79, loss: 0.4074807345867157\n",
      "Dev F1 0.8444444537162781\n"
     ]
    },
    {
     "data": {
      "application/vnd.jupyter.widget-view+json": {
       "model_id": "3411c7fbc2dd4004817afaffa3e526b2",
       "version_major": 2,
       "version_minor": 0
      },
      "text/plain": [
       "  0%|          | 0/10 [00:00<?, ?it/s]"
      ]
     },
     "metadata": {},
     "output_type": "display_data"
    },
    {
     "name": "stdout",
     "output_type": "stream",
     "text": [
      "epoch 80, loss: 0.40605016350746154\n",
      "Dev F1 0.8444444537162781\n"
     ]
    },
    {
     "data": {
      "application/vnd.jupyter.widget-view+json": {
       "model_id": "d5f1a4e199e5426684b192de6f982bfc",
       "version_major": 2,
       "version_minor": 0
      },
      "text/plain": [
       "  0%|          | 0/10 [00:00<?, ?it/s]"
      ]
     },
     "metadata": {},
     "output_type": "display_data"
    },
    {
     "name": "stdout",
     "output_type": "stream",
     "text": [
      "epoch 81, loss: 0.4046450138092041\n",
      "Dev F1 0.8444444537162781\n"
     ]
    },
    {
     "data": {
      "application/vnd.jupyter.widget-view+json": {
       "model_id": "272dacefc41547eea0a9e26f4e1001af",
       "version_major": 2,
       "version_minor": 0
      },
      "text/plain": [
       "  0%|          | 0/10 [00:00<?, ?it/s]"
      ]
     },
     "metadata": {},
     "output_type": "display_data"
    },
    {
     "name": "stdout",
     "output_type": "stream",
     "text": [
      "epoch 82, loss: 0.4032646507024765\n",
      "Dev F1 0.8444444537162781\n"
     ]
    },
    {
     "data": {
      "application/vnd.jupyter.widget-view+json": {
       "model_id": "b3c030f332184b1997a33dda651122a7",
       "version_major": 2,
       "version_minor": 0
      },
      "text/plain": [
       "  0%|          | 0/10 [00:00<?, ?it/s]"
      ]
     },
     "metadata": {},
     "output_type": "display_data"
    },
    {
     "name": "stdout",
     "output_type": "stream",
     "text": [
      "epoch 83, loss: 0.40190849006175994\n",
      "Dev F1 0.8444444537162781\n"
     ]
    },
    {
     "data": {
      "application/vnd.jupyter.widget-view+json": {
       "model_id": "88f79cd89bdc46ca8c8307822fac098e",
       "version_major": 2,
       "version_minor": 0
      },
      "text/plain": [
       "  0%|          | 0/10 [00:00<?, ?it/s]"
      ]
     },
     "metadata": {},
     "output_type": "display_data"
    },
    {
     "name": "stdout",
     "output_type": "stream",
     "text": [
      "epoch 84, loss: 0.40057595670223234\n",
      "Dev F1 0.8444444537162781\n"
     ]
    },
    {
     "data": {
      "application/vnd.jupyter.widget-view+json": {
       "model_id": "e6b5293cb2e145e4be8d646701e1c9d6",
       "version_major": 2,
       "version_minor": 0
      },
      "text/plain": [
       "  0%|          | 0/10 [00:00<?, ?it/s]"
      ]
     },
     "metadata": {},
     "output_type": "display_data"
    },
    {
     "name": "stdout",
     "output_type": "stream",
     "text": [
      "epoch 85, loss: 0.39926646649837494\n",
      "Dev F1 0.8444444537162781\n"
     ]
    },
    {
     "data": {
      "application/vnd.jupyter.widget-view+json": {
       "model_id": "506074df9bed45738428682123033e42",
       "version_major": 2,
       "version_minor": 0
      },
      "text/plain": [
       "  0%|          | 0/10 [00:00<?, ?it/s]"
      ]
     },
     "metadata": {},
     "output_type": "display_data"
    },
    {
     "name": "stdout",
     "output_type": "stream",
     "text": [
      "epoch 86, loss: 0.39797947704792025\n",
      "Dev F1 0.8444444537162781\n"
     ]
    },
    {
     "data": {
      "application/vnd.jupyter.widget-view+json": {
       "model_id": "b7da37fbccc54942a7c93acbda2ad4df",
       "version_major": 2,
       "version_minor": 0
      },
      "text/plain": [
       "  0%|          | 0/10 [00:00<?, ?it/s]"
      ]
     },
     "metadata": {},
     "output_type": "display_data"
    },
    {
     "name": "stdout",
     "output_type": "stream",
     "text": [
      "epoch 87, loss: 0.39671447575092317\n",
      "Dev F1 0.8444444537162781\n"
     ]
    },
    {
     "data": {
      "application/vnd.jupyter.widget-view+json": {
       "model_id": "e0ef0abd44424857af81f0867f18f317",
       "version_major": 2,
       "version_minor": 0
      },
      "text/plain": [
       "  0%|          | 0/10 [00:00<?, ?it/s]"
      ]
     },
     "metadata": {},
     "output_type": "display_data"
    },
    {
     "name": "stdout",
     "output_type": "stream",
     "text": [
      "epoch 88, loss: 0.39547097980976104\n",
      "Dev F1 0.8444444537162781\n"
     ]
    },
    {
     "data": {
      "application/vnd.jupyter.widget-view+json": {
       "model_id": "af7e28a72df540d89f21649bfd4b66d1",
       "version_major": 2,
       "version_minor": 0
      },
      "text/plain": [
       "  0%|          | 0/10 [00:00<?, ?it/s]"
      ]
     },
     "metadata": {},
     "output_type": "display_data"
    },
    {
     "name": "stdout",
     "output_type": "stream",
     "text": [
      "epoch 89, loss: 0.3942484766244888\n",
      "Dev F1 0.8444444537162781\n"
     ]
    },
    {
     "data": {
      "application/vnd.jupyter.widget-view+json": {
       "model_id": "3ec96bd891c64371b036245de2e80f6b",
       "version_major": 2,
       "version_minor": 0
      },
      "text/plain": [
       "  0%|          | 0/10 [00:00<?, ?it/s]"
      ]
     },
     "metadata": {},
     "output_type": "display_data"
    },
    {
     "name": "stdout",
     "output_type": "stream",
     "text": [
      "epoch 90, loss: 0.39304650723934176\n",
      "Dev F1 0.8444444537162781\n"
     ]
    },
    {
     "data": {
      "application/vnd.jupyter.widget-view+json": {
       "model_id": "6125096e3d1144aface6144bc63a2fcc",
       "version_major": 2,
       "version_minor": 0
      },
      "text/plain": [
       "  0%|          | 0/10 [00:00<?, ?it/s]"
      ]
     },
     "metadata": {},
     "output_type": "display_data"
    },
    {
     "name": "stdout",
     "output_type": "stream",
     "text": [
      "epoch 91, loss: 0.39186459183692934\n",
      "Dev F1 0.8444444537162781\n"
     ]
    },
    {
     "data": {
      "application/vnd.jupyter.widget-view+json": {
       "model_id": "56bd9959ae374e51964fdf0ab7549bc5",
       "version_major": 2,
       "version_minor": 0
      },
      "text/plain": [
       "  0%|          | 0/10 [00:00<?, ?it/s]"
      ]
     },
     "metadata": {},
     "output_type": "display_data"
    },
    {
     "name": "stdout",
     "output_type": "stream",
     "text": [
      "epoch 92, loss: 0.39070228934288026\n",
      "Dev F1 0.8444444537162781\n"
     ]
    },
    {
     "data": {
      "application/vnd.jupyter.widget-view+json": {
       "model_id": "5360e57e91564f8badd3db5e4575699c",
       "version_major": 2,
       "version_minor": 0
      },
      "text/plain": [
       "  0%|          | 0/10 [00:00<?, ?it/s]"
      ]
     },
     "metadata": {},
     "output_type": "display_data"
    },
    {
     "name": "stdout",
     "output_type": "stream",
     "text": [
      "epoch 93, loss: 0.3895591557025909\n",
      "Dev F1 0.8444444537162781\n"
     ]
    },
    {
     "data": {
      "application/vnd.jupyter.widget-view+json": {
       "model_id": "3d53ecce768740aeb39f090895fbe0a9",
       "version_major": 2,
       "version_minor": 0
      },
      "text/plain": [
       "  0%|          | 0/10 [00:00<?, ?it/s]"
      ]
     },
     "metadata": {},
     "output_type": "display_data"
    },
    {
     "name": "stdout",
     "output_type": "stream",
     "text": [
      "epoch 94, loss: 0.3884348452091217\n",
      "Dev F1 0.8444444537162781\n"
     ]
    },
    {
     "data": {
      "application/vnd.jupyter.widget-view+json": {
       "model_id": "8791ab7438a243eea1c46b720714f009",
       "version_major": 2,
       "version_minor": 0
      },
      "text/plain": [
       "  0%|          | 0/10 [00:00<?, ?it/s]"
      ]
     },
     "metadata": {},
     "output_type": "display_data"
    },
    {
     "name": "stdout",
     "output_type": "stream",
     "text": [
      "epoch 95, loss: 0.3873288631439209\n",
      "Dev F1 0.8444444537162781\n"
     ]
    },
    {
     "data": {
      "application/vnd.jupyter.widget-view+json": {
       "model_id": "7f77ead8a1be469fba1c15968f79fe5c",
       "version_major": 2,
       "version_minor": 0
      },
      "text/plain": [
       "  0%|          | 0/10 [00:00<?, ?it/s]"
      ]
     },
     "metadata": {},
     "output_type": "display_data"
    },
    {
     "name": "stdout",
     "output_type": "stream",
     "text": [
      "epoch 96, loss: 0.3862408310174942\n",
      "Dev F1 0.8444444537162781\n"
     ]
    },
    {
     "data": {
      "application/vnd.jupyter.widget-view+json": {
       "model_id": "79c5009dcfa54350b3a611fc2644ddca",
       "version_major": 2,
       "version_minor": 0
      },
      "text/plain": [
       "  0%|          | 0/10 [00:00<?, ?it/s]"
      ]
     },
     "metadata": {},
     "output_type": "display_data"
    },
    {
     "name": "stdout",
     "output_type": "stream",
     "text": [
      "epoch 97, loss: 0.38517040610313413\n",
      "Dev F1 0.8444444537162781\n"
     ]
    },
    {
     "data": {
      "application/vnd.jupyter.widget-view+json": {
       "model_id": "5be80161c08246b4aad0e457a57f52da",
       "version_major": 2,
       "version_minor": 0
      },
      "text/plain": [
       "  0%|          | 0/10 [00:00<?, ?it/s]"
      ]
     },
     "metadata": {},
     "output_type": "display_data"
    },
    {
     "name": "stdout",
     "output_type": "stream",
     "text": [
      "epoch 98, loss: 0.3841171860694885\n",
      "Dev F1 0.8444444537162781\n"
     ]
    },
    {
     "data": {
      "application/vnd.jupyter.widget-view+json": {
       "model_id": "892de24495334a3ba350a7fada16dec9",
       "version_major": 2,
       "version_minor": 0
      },
      "text/plain": [
       "  0%|          | 0/10 [00:00<?, ?it/s]"
      ]
     },
     "metadata": {},
     "output_type": "display_data"
    },
    {
     "name": "stdout",
     "output_type": "stream",
     "text": [
      "epoch 99, loss: 0.383080792427063\n",
      "Dev F1 0.8444444537162781\n"
     ]
    },
    {
     "data": {
      "application/vnd.jupyter.widget-view+json": {
       "model_id": "bf1020a46526497ea232d0ef7fa9ae8e",
       "version_major": 2,
       "version_minor": 0
      },
      "text/plain": [
       "  0%|          | 0/10 [00:00<?, ?it/s]"
      ]
     },
     "metadata": {},
     "output_type": "display_data"
    },
    {
     "name": "stdout",
     "output_type": "stream",
     "text": [
      "epoch 100, loss: 0.382060906291008\n",
      "Dev F1 0.8444444537162781\n"
     ]
    },
    {
     "data": {
      "application/vnd.jupyter.widget-view+json": {
       "model_id": "cdae02f168e545418268608833f01dc1",
       "version_major": 2,
       "version_minor": 0
      },
      "text/plain": [
       "  0%|          | 0/10 [00:00<?, ?it/s]"
      ]
     },
     "metadata": {},
     "output_type": "display_data"
    },
    {
     "name": "stdout",
     "output_type": "stream",
     "text": [
      "epoch 101, loss: 0.3810572147369385\n",
      "Dev F1 0.8444444537162781\n"
     ]
    },
    {
     "data": {
      "application/vnd.jupyter.widget-view+json": {
       "model_id": "8eb18793ec6440739f4741ad438bc977",
       "version_major": 2,
       "version_minor": 0
      },
      "text/plain": [
       "  0%|          | 0/10 [00:00<?, ?it/s]"
      ]
     },
     "metadata": {},
     "output_type": "display_data"
    },
    {
     "name": "stdout",
     "output_type": "stream",
     "text": [
      "epoch 102, loss: 0.3800693154335022\n",
      "Dev F1 0.8444444537162781\n"
     ]
    },
    {
     "data": {
      "application/vnd.jupyter.widget-view+json": {
       "model_id": "e37339b8d18948cc88c6d41a27045304",
       "version_major": 2,
       "version_minor": 0
      },
      "text/plain": [
       "  0%|          | 0/10 [00:00<?, ?it/s]"
      ]
     },
     "metadata": {},
     "output_type": "display_data"
    },
    {
     "name": "stdout",
     "output_type": "stream",
     "text": [
      "epoch 103, loss: 0.3790969133377075\n",
      "Dev F1 0.8444444537162781\n"
     ]
    },
    {
     "data": {
      "application/vnd.jupyter.widget-view+json": {
       "model_id": "1178b4e421614f168d16bce68f5a24ca",
       "version_major": 2,
       "version_minor": 0
      },
      "text/plain": [
       "  0%|          | 0/10 [00:00<?, ?it/s]"
      ]
     },
     "metadata": {},
     "output_type": "display_data"
    },
    {
     "name": "stdout",
     "output_type": "stream",
     "text": [
      "epoch 104, loss: 0.3781397193670273\n",
      "Dev F1 0.8444444537162781\n"
     ]
    },
    {
     "data": {
      "application/vnd.jupyter.widget-view+json": {
       "model_id": "943fde2aa98340dab36dd01e67bdc975",
       "version_major": 2,
       "version_minor": 0
      },
      "text/plain": [
       "  0%|          | 0/10 [00:00<?, ?it/s]"
      ]
     },
     "metadata": {},
     "output_type": "display_data"
    },
    {
     "name": "stdout",
     "output_type": "stream",
     "text": [
      "epoch 105, loss: 0.3771973758935928\n",
      "Dev F1 0.8444444537162781\n"
     ]
    },
    {
     "data": {
      "application/vnd.jupyter.widget-view+json": {
       "model_id": "9a7795ac6fc340cb9c288ee658cd0b66",
       "version_major": 2,
       "version_minor": 0
      },
      "text/plain": [
       "  0%|          | 0/10 [00:00<?, ?it/s]"
      ]
     },
     "metadata": {},
     "output_type": "display_data"
    },
    {
     "name": "stdout",
     "output_type": "stream",
     "text": [
      "epoch 106, loss: 0.3762696489691734\n",
      "Dev F1 0.8444444537162781\n"
     ]
    },
    {
     "data": {
      "application/vnd.jupyter.widget-view+json": {
       "model_id": "990b71645e324cf480f9c71851eed8ea",
       "version_major": 2,
       "version_minor": 0
      },
      "text/plain": [
       "  0%|          | 0/10 [00:00<?, ?it/s]"
      ]
     },
     "metadata": {},
     "output_type": "display_data"
    },
    {
     "name": "stdout",
     "output_type": "stream",
     "text": [
      "epoch 107, loss: 0.37535618543624877\n",
      "Dev F1 0.8444444537162781\n"
     ]
    },
    {
     "data": {
      "application/vnd.jupyter.widget-view+json": {
       "model_id": "d9a3bf1ed0be4e63a66926c3c257701a",
       "version_major": 2,
       "version_minor": 0
      },
      "text/plain": [
       "  0%|          | 0/10 [00:00<?, ?it/s]"
      ]
     },
     "metadata": {},
     "output_type": "display_data"
    },
    {
     "name": "stdout",
     "output_type": "stream",
     "text": [
      "epoch 108, loss: 0.3744567483663559\n",
      "Dev F1 0.8444444537162781\n"
     ]
    },
    {
     "data": {
      "application/vnd.jupyter.widget-view+json": {
       "model_id": "27fc36d0bfa44146b3316947bb957a2a",
       "version_major": 2,
       "version_minor": 0
      },
      "text/plain": [
       "  0%|          | 0/10 [00:00<?, ?it/s]"
      ]
     },
     "metadata": {},
     "output_type": "display_data"
    },
    {
     "name": "stdout",
     "output_type": "stream",
     "text": [
      "epoch 109, loss: 0.373571015894413\n",
      "Dev F1 0.8444444537162781\n"
     ]
    },
    {
     "data": {
      "application/vnd.jupyter.widget-view+json": {
       "model_id": "8e8f10d155c9495499c0c65fc2fbd819",
       "version_major": 2,
       "version_minor": 0
      },
      "text/plain": [
       "  0%|          | 0/10 [00:00<?, ?it/s]"
      ]
     },
     "metadata": {},
     "output_type": "display_data"
    },
    {
     "name": "stdout",
     "output_type": "stream",
     "text": [
      "epoch 110, loss: 0.3726987883448601\n",
      "Dev F1 0.8444444537162781\n"
     ]
    },
    {
     "data": {
      "application/vnd.jupyter.widget-view+json": {
       "model_id": "a945cd8eb8024ff9884e82300e94ea95",
       "version_major": 2,
       "version_minor": 0
      },
      "text/plain": [
       "  0%|          | 0/10 [00:00<?, ?it/s]"
      ]
     },
     "metadata": {},
     "output_type": "display_data"
    },
    {
     "name": "stdout",
     "output_type": "stream",
     "text": [
      "epoch 111, loss: 0.37183974534273145\n",
      "Dev F1 0.8444444537162781\n"
     ]
    },
    {
     "data": {
      "application/vnd.jupyter.widget-view+json": {
       "model_id": "753e2b26175f48d2861329ffbfc3ba3a",
       "version_major": 2,
       "version_minor": 0
      },
      "text/plain": [
       "  0%|          | 0/10 [00:00<?, ?it/s]"
      ]
     },
     "metadata": {},
     "output_type": "display_data"
    },
    {
     "name": "stdout",
     "output_type": "stream",
     "text": [
      "epoch 112, loss: 0.370993635058403\n",
      "Dev F1 0.8444444537162781\n"
     ]
    },
    {
     "data": {
      "application/vnd.jupyter.widget-view+json": {
       "model_id": "0be7e324bf59473890c7453c068b2154",
       "version_major": 2,
       "version_minor": 0
      },
      "text/plain": [
       "  0%|          | 0/10 [00:00<?, ?it/s]"
      ]
     },
     "metadata": {},
     "output_type": "display_data"
    },
    {
     "name": "stdout",
     "output_type": "stream",
     "text": [
      "epoch 113, loss: 0.37016025334596636\n",
      "Dev F1 0.8444444537162781\n"
     ]
    },
    {
     "data": {
      "application/vnd.jupyter.widget-view+json": {
       "model_id": "cfa2387729db477a9247008fbfcd76fb",
       "version_major": 2,
       "version_minor": 0
      },
      "text/plain": [
       "  0%|          | 0/10 [00:00<?, ?it/s]"
      ]
     },
     "metadata": {},
     "output_type": "display_data"
    },
    {
     "name": "stdout",
     "output_type": "stream",
     "text": [
      "epoch 114, loss: 0.3693393304944038\n",
      "Dev F1 0.8444444537162781\n"
     ]
    },
    {
     "data": {
      "application/vnd.jupyter.widget-view+json": {
       "model_id": "2566c34331b64c27a5f40226eb990758",
       "version_major": 2,
       "version_minor": 0
      },
      "text/plain": [
       "  0%|          | 0/10 [00:00<?, ?it/s]"
      ]
     },
     "metadata": {},
     "output_type": "display_data"
    },
    {
     "name": "stdout",
     "output_type": "stream",
     "text": [
      "epoch 115, loss: 0.3685305923223495\n",
      "Dev F1 0.8444444537162781\n"
     ]
    },
    {
     "data": {
      "application/vnd.jupyter.widget-view+json": {
       "model_id": "e90a7e0ff3da4bab95a3a344f799ddea",
       "version_major": 2,
       "version_minor": 0
      },
      "text/plain": [
       "  0%|          | 0/10 [00:00<?, ?it/s]"
      ]
     },
     "metadata": {},
     "output_type": "display_data"
    },
    {
     "name": "stdout",
     "output_type": "stream",
     "text": [
      "epoch 116, loss: 0.36773385256528857\n",
      "Dev F1 0.8444444537162781\n"
     ]
    },
    {
     "data": {
      "application/vnd.jupyter.widget-view+json": {
       "model_id": "35660fd928544c81abb9c885c3d13d8c",
       "version_major": 2,
       "version_minor": 0
      },
      "text/plain": [
       "  0%|          | 0/10 [00:00<?, ?it/s]"
      ]
     },
     "metadata": {},
     "output_type": "display_data"
    },
    {
     "name": "stdout",
     "output_type": "stream",
     "text": [
      "epoch 117, loss: 0.36694889664649966\n",
      "Dev F1 0.8444444537162781\n"
     ]
    },
    {
     "data": {
      "application/vnd.jupyter.widget-view+json": {
       "model_id": "fb02215440d4426997dd288e4e3e46d4",
       "version_major": 2,
       "version_minor": 0
      },
      "text/plain": [
       "  0%|          | 0/10 [00:00<?, ?it/s]"
      ]
     },
     "metadata": {},
     "output_type": "display_data"
    },
    {
     "name": "stdout",
     "output_type": "stream",
     "text": [
      "epoch 118, loss: 0.3661754742264748\n",
      "Dev F1 0.8444444537162781\n"
     ]
    },
    {
     "data": {
      "application/vnd.jupyter.widget-view+json": {
       "model_id": "1d0e674213844317a7b6b445f7bbdd86",
       "version_major": 2,
       "version_minor": 0
      },
      "text/plain": [
       "  0%|          | 0/10 [00:00<?, ?it/s]"
      ]
     },
     "metadata": {},
     "output_type": "display_data"
    },
    {
     "name": "stdout",
     "output_type": "stream",
     "text": [
      "epoch 119, loss: 0.3654133856296539\n",
      "Dev F1 0.8444444537162781\n"
     ]
    },
    {
     "data": {
      "application/vnd.jupyter.widget-view+json": {
       "model_id": "83f1be8e032e4c1b90b30e193bd0331d",
       "version_major": 2,
       "version_minor": 0
      },
      "text/plain": [
       "  0%|          | 0/10 [00:00<?, ?it/s]"
      ]
     },
     "metadata": {},
     "output_type": "display_data"
    },
    {
     "name": "stdout",
     "output_type": "stream",
     "text": [
      "epoch 120, loss: 0.36466240882873535\n",
      "Dev F1 0.8444444537162781\n"
     ]
    },
    {
     "data": {
      "application/vnd.jupyter.widget-view+json": {
       "model_id": "79194698205a4bdf819253b60608bae7",
       "version_major": 2,
       "version_minor": 0
      },
      "text/plain": [
       "  0%|          | 0/10 [00:00<?, ?it/s]"
      ]
     },
     "metadata": {},
     "output_type": "display_data"
    },
    {
     "name": "stdout",
     "output_type": "stream",
     "text": [
      "epoch 121, loss: 0.3639223426580429\n",
      "Dev F1 0.8444444537162781\n"
     ]
    },
    {
     "data": {
      "application/vnd.jupyter.widget-view+json": {
       "model_id": "a98ee6a1f069463a85915131b0a1f65d",
       "version_major": 2,
       "version_minor": 0
      },
      "text/plain": [
       "  0%|          | 0/10 [00:00<?, ?it/s]"
      ]
     },
     "metadata": {},
     "output_type": "display_data"
    },
    {
     "name": "stdout",
     "output_type": "stream",
     "text": [
      "epoch 122, loss: 0.36319299340248107\n",
      "Dev F1 0.8444444537162781\n"
     ]
    },
    {
     "data": {
      "application/vnd.jupyter.widget-view+json": {
       "model_id": "a6c50609afb64060a0ef3fdd806e6784",
       "version_major": 2,
       "version_minor": 0
      },
      "text/plain": [
       "  0%|          | 0/10 [00:00<?, ?it/s]"
      ]
     },
     "metadata": {},
     "output_type": "display_data"
    },
    {
     "name": "stdout",
     "output_type": "stream",
     "text": [
      "epoch 123, loss: 0.362474137544632\n",
      "Dev F1 0.8444444537162781\n"
     ]
    },
    {
     "data": {
      "application/vnd.jupyter.widget-view+json": {
       "model_id": "daadc3f58d414d129dd31cbd1e24314b",
       "version_major": 2,
       "version_minor": 0
      },
      "text/plain": [
       "  0%|          | 0/10 [00:00<?, ?it/s]"
      ]
     },
     "metadata": {},
     "output_type": "display_data"
    },
    {
     "name": "stdout",
     "output_type": "stream",
     "text": [
      "epoch 124, loss: 0.36176563799381256\n",
      "Dev F1 0.8444444537162781\n"
     ]
    },
    {
     "data": {
      "application/vnd.jupyter.widget-view+json": {
       "model_id": "f72739b77dd14399937a34c46fc955f8",
       "version_major": 2,
       "version_minor": 0
      },
      "text/plain": [
       "  0%|          | 0/10 [00:00<?, ?it/s]"
      ]
     },
     "metadata": {},
     "output_type": "display_data"
    },
    {
     "name": "stdout",
     "output_type": "stream",
     "text": [
      "epoch 125, loss: 0.36106729656457903\n",
      "Dev F1 0.8444444537162781\n"
     ]
    },
    {
     "data": {
      "application/vnd.jupyter.widget-view+json": {
       "model_id": "4e1c91366c0842d78d01c9c7db1f001e",
       "version_major": 2,
       "version_minor": 0
      },
      "text/plain": [
       "  0%|          | 0/10 [00:00<?, ?it/s]"
      ]
     },
     "metadata": {},
     "output_type": "display_data"
    },
    {
     "name": "stdout",
     "output_type": "stream",
     "text": [
      "epoch 126, loss: 0.3603788986802101\n",
      "Dev F1 0.8444444537162781\n"
     ]
    },
    {
     "data": {
      "application/vnd.jupyter.widget-view+json": {
       "model_id": "90a9668a8bce456ea9adbb6a5e290967",
       "version_major": 2,
       "version_minor": 0
      },
      "text/plain": [
       "  0%|          | 0/10 [00:00<?, ?it/s]"
      ]
     },
     "metadata": {},
     "output_type": "display_data"
    },
    {
     "name": "stdout",
     "output_type": "stream",
     "text": [
      "epoch 127, loss: 0.35970025807619094\n",
      "Dev F1 0.8444444537162781\n"
     ]
    },
    {
     "data": {
      "application/vnd.jupyter.widget-view+json": {
       "model_id": "3dae73a9e7fb42d0ad5e2a24d0841d2b",
       "version_major": 2,
       "version_minor": 0
      },
      "text/plain": [
       "  0%|          | 0/10 [00:00<?, ?it/s]"
      ]
     },
     "metadata": {},
     "output_type": "display_data"
    },
    {
     "name": "stdout",
     "output_type": "stream",
     "text": [
      "epoch 128, loss: 0.35903124511241913\n",
      "Dev F1 0.8444444537162781\n"
     ]
    },
    {
     "data": {
      "application/vnd.jupyter.widget-view+json": {
       "model_id": "bc514382b04c4712810889d12b16cfff",
       "version_major": 2,
       "version_minor": 0
      },
      "text/plain": [
       "  0%|          | 0/10 [00:00<?, ?it/s]"
      ]
     },
     "metadata": {},
     "output_type": "display_data"
    },
    {
     "name": "stdout",
     "output_type": "stream",
     "text": [
      "epoch 129, loss: 0.3583716660737991\n",
      "Dev F1 0.8444444537162781\n"
     ]
    },
    {
     "data": {
      "application/vnd.jupyter.widget-view+json": {
       "model_id": "2551131b109c45c7b7014a18fcb235f1",
       "version_major": 2,
       "version_minor": 0
      },
      "text/plain": [
       "  0%|          | 0/10 [00:00<?, ?it/s]"
      ]
     },
     "metadata": {},
     "output_type": "display_data"
    },
    {
     "name": "stdout",
     "output_type": "stream",
     "text": [
      "epoch 130, loss: 0.3577213704586029\n",
      "Dev F1 0.8444444537162781\n"
     ]
    },
    {
     "data": {
      "application/vnd.jupyter.widget-view+json": {
       "model_id": "6c9d2f9f925b4a70b0a0f069c9886d35",
       "version_major": 2,
       "version_minor": 0
      },
      "text/plain": [
       "  0%|          | 0/10 [00:00<?, ?it/s]"
      ]
     },
     "metadata": {},
     "output_type": "display_data"
    },
    {
     "name": "stdout",
     "output_type": "stream",
     "text": [
      "epoch 131, loss: 0.3570801794528961\n",
      "Dev F1 0.8444444537162781\n"
     ]
    },
    {
     "data": {
      "application/vnd.jupyter.widget-view+json": {
       "model_id": "e988aeff027f4181a06743bc20467ff5",
       "version_major": 2,
       "version_minor": 0
      },
      "text/plain": [
       "  0%|          | 0/10 [00:00<?, ?it/s]"
      ]
     },
     "metadata": {},
     "output_type": "display_data"
    },
    {
     "name": "stdout",
     "output_type": "stream",
     "text": [
      "epoch 132, loss: 0.3564479187130928\n",
      "Dev F1 0.8444444537162781\n"
     ]
    },
    {
     "data": {
      "application/vnd.jupyter.widget-view+json": {
       "model_id": "09044cf56f5e47399748335ae8f30a3c",
       "version_major": 2,
       "version_minor": 0
      },
      "text/plain": [
       "  0%|          | 0/10 [00:00<?, ?it/s]"
      ]
     },
     "metadata": {},
     "output_type": "display_data"
    },
    {
     "name": "stdout",
     "output_type": "stream",
     "text": [
      "epoch 133, loss: 0.3558244839310646\n",
      "Dev F1 0.8444444537162781\n"
     ]
    },
    {
     "data": {
      "application/vnd.jupyter.widget-view+json": {
       "model_id": "10e8b50b08e141ee933f4863b6e58685",
       "version_major": 2,
       "version_minor": 0
      },
      "text/plain": [
       "  0%|          | 0/10 [00:00<?, ?it/s]"
      ]
     },
     "metadata": {},
     "output_type": "display_data"
    },
    {
     "name": "stdout",
     "output_type": "stream",
     "text": [
      "epoch 134, loss: 0.35520966798067094\n",
      "Dev F1 0.8444444537162781\n"
     ]
    },
    {
     "data": {
      "application/vnd.jupyter.widget-view+json": {
       "model_id": "bcaa6f34ad7a416a8a72562b23270733",
       "version_major": 2,
       "version_minor": 0
      },
      "text/plain": [
       "  0%|          | 0/10 [00:00<?, ?it/s]"
      ]
     },
     "metadata": {},
     "output_type": "display_data"
    },
    {
     "name": "stdout",
     "output_type": "stream",
     "text": [
      "epoch 135, loss: 0.3546033680438995\n",
      "Dev F1 0.8444444537162781\n"
     ]
    },
    {
     "data": {
      "application/vnd.jupyter.widget-view+json": {
       "model_id": "38d04ad88a9448d69a593ab9dcad36c7",
       "version_major": 2,
       "version_minor": 0
      },
      "text/plain": [
       "  0%|          | 0/10 [00:00<?, ?it/s]"
      ]
     },
     "metadata": {},
     "output_type": "display_data"
    },
    {
     "name": "stdout",
     "output_type": "stream",
     "text": [
      "epoch 136, loss: 0.354005429148674\n",
      "Dev F1 0.8444444537162781\n"
     ]
    },
    {
     "data": {
      "application/vnd.jupyter.widget-view+json": {
       "model_id": "acde116dbeee4ba3834e67b590611154",
       "version_major": 2,
       "version_minor": 0
      },
      "text/plain": [
       "  0%|          | 0/10 [00:00<?, ?it/s]"
      ]
     },
     "metadata": {},
     "output_type": "display_data"
    },
    {
     "name": "stdout",
     "output_type": "stream",
     "text": [
      "epoch 137, loss: 0.35341566801071167\n",
      "Dev F1 0.8444444537162781\n"
     ]
    },
    {
     "data": {
      "application/vnd.jupyter.widget-view+json": {
       "model_id": "ff5e6e48dcb64b9a9b0ede8a67fb8be9",
       "version_major": 2,
       "version_minor": 0
      },
      "text/plain": [
       "  0%|          | 0/10 [00:00<?, ?it/s]"
      ]
     },
     "metadata": {},
     "output_type": "display_data"
    },
    {
     "name": "stdout",
     "output_type": "stream",
     "text": [
      "epoch 138, loss: 0.3528339624404907\n",
      "Dev F1 0.8444444537162781\n"
     ]
    },
    {
     "data": {
      "application/vnd.jupyter.widget-view+json": {
       "model_id": "ae85c9f0f90844119f52e5e5db73a828",
       "version_major": 2,
       "version_minor": 0
      },
      "text/plain": [
       "  0%|          | 0/10 [00:00<?, ?it/s]"
      ]
     },
     "metadata": {},
     "output_type": "display_data"
    },
    {
     "name": "stdout",
     "output_type": "stream",
     "text": [
      "epoch 139, loss: 0.35226021260023116\n",
      "Dev F1 0.8636363744735718\n"
     ]
    },
    {
     "data": {
      "application/vnd.jupyter.widget-view+json": {
       "model_id": "da29f33183e8471f81ec3f7e25cba4fa",
       "version_major": 2,
       "version_minor": 0
      },
      "text/plain": [
       "  0%|          | 0/10 [00:00<?, ?it/s]"
      ]
     },
     "metadata": {},
     "output_type": "display_data"
    },
    {
     "name": "stdout",
     "output_type": "stream",
     "text": [
      "epoch 140, loss: 0.35169425904750823\n",
      "Dev F1 0.8636363744735718\n"
     ]
    },
    {
     "data": {
      "application/vnd.jupyter.widget-view+json": {
       "model_id": "e6e2abb56a624d9580e73840253b758b",
       "version_major": 2,
       "version_minor": 0
      },
      "text/plain": [
       "  0%|          | 0/10 [00:00<?, ?it/s]"
      ]
     },
     "metadata": {},
     "output_type": "display_data"
    },
    {
     "name": "stdout",
     "output_type": "stream",
     "text": [
      "epoch 141, loss: 0.35113598108291627\n",
      "Dev F1 0.8636363744735718\n"
     ]
    },
    {
     "data": {
      "application/vnd.jupyter.widget-view+json": {
       "model_id": "32c1fd2227eb4aba9fb354c4f37aab3c",
       "version_major": 2,
       "version_minor": 0
      },
      "text/plain": [
       "  0%|          | 0/10 [00:00<?, ?it/s]"
      ]
     },
     "metadata": {},
     "output_type": "display_data"
    },
    {
     "name": "stdout",
     "output_type": "stream",
     "text": [
      "epoch 142, loss: 0.3505852401256561\n",
      "Dev F1 0.8636363744735718\n"
     ]
    },
    {
     "data": {
      "application/vnd.jupyter.widget-view+json": {
       "model_id": "c926c872fc4b43198487a7532c6bf133",
       "version_major": 2,
       "version_minor": 0
      },
      "text/plain": [
       "  0%|          | 0/10 [00:00<?, ?it/s]"
      ]
     },
     "metadata": {},
     "output_type": "display_data"
    },
    {
     "name": "stdout",
     "output_type": "stream",
     "text": [
      "epoch 143, loss: 0.3500418856739998\n",
      "Dev F1 0.8636363744735718\n"
     ]
    },
    {
     "data": {
      "application/vnd.jupyter.widget-view+json": {
       "model_id": "543126a6de214aab961165f9a93245cc",
       "version_major": 2,
       "version_minor": 0
      },
      "text/plain": [
       "  0%|          | 0/10 [00:00<?, ?it/s]"
      ]
     },
     "metadata": {},
     "output_type": "display_data"
    },
    {
     "name": "stdout",
     "output_type": "stream",
     "text": [
      "epoch 144, loss: 0.34950584173202515\n",
      "Dev F1 0.8636363744735718\n"
     ]
    },
    {
     "data": {
      "application/vnd.jupyter.widget-view+json": {
       "model_id": "c5cdb6a9c61940c796f8a116ca5d5108",
       "version_major": 2,
       "version_minor": 0
      },
      "text/plain": [
       "  0%|          | 0/10 [00:00<?, ?it/s]"
      ]
     },
     "metadata": {},
     "output_type": "display_data"
    },
    {
     "name": "stdout",
     "output_type": "stream",
     "text": [
      "epoch 145, loss: 0.34897698014974593\n",
      "Dev F1 0.8636363744735718\n"
     ]
    },
    {
     "data": {
      "application/vnd.jupyter.widget-view+json": {
       "model_id": "28697289650b41558e0bb3a8bb53d8d1",
       "version_major": 2,
       "version_minor": 0
      },
      "text/plain": [
       "  0%|          | 0/10 [00:00<?, ?it/s]"
      ]
     },
     "metadata": {},
     "output_type": "display_data"
    },
    {
     "name": "stdout",
     "output_type": "stream",
     "text": [
      "epoch 146, loss: 0.3484551772475243\n",
      "Dev F1 0.8636363744735718\n"
     ]
    },
    {
     "data": {
      "application/vnd.jupyter.widget-view+json": {
       "model_id": "7f121e99a48e4ec2808e33cc26d314be",
       "version_major": 2,
       "version_minor": 0
      },
      "text/plain": [
       "  0%|          | 0/10 [00:00<?, ?it/s]"
      ]
     },
     "metadata": {},
     "output_type": "display_data"
    },
    {
     "name": "stdout",
     "output_type": "stream",
     "text": [
      "epoch 147, loss: 0.3479403033852577\n",
      "Dev F1 0.8636363744735718\n"
     ]
    },
    {
     "data": {
      "application/vnd.jupyter.widget-view+json": {
       "model_id": "5c591b1c8de84e608abadebedc39e107",
       "version_major": 2,
       "version_minor": 0
      },
      "text/plain": [
       "  0%|          | 0/10 [00:00<?, ?it/s]"
      ]
     },
     "metadata": {},
     "output_type": "display_data"
    },
    {
     "name": "stdout",
     "output_type": "stream",
     "text": [
      "epoch 148, loss: 0.3474322661757469\n",
      "Dev F1 0.8636363744735718\n"
     ]
    },
    {
     "data": {
      "application/vnd.jupyter.widget-view+json": {
       "model_id": "c48042316e66483da0630c11a571953c",
       "version_major": 2,
       "version_minor": 0
      },
      "text/plain": [
       "  0%|          | 0/10 [00:00<?, ?it/s]"
      ]
     },
     "metadata": {},
     "output_type": "display_data"
    },
    {
     "name": "stdout",
     "output_type": "stream",
     "text": [
      "epoch 149, loss: 0.3469309449195862\n",
      "Dev F1 0.8636363744735718\n"
     ]
    },
    {
     "data": {
      "application/vnd.jupyter.widget-view+json": {
       "model_id": "545bd8bb2ffd4930a03615daee2f56b1",
       "version_major": 2,
       "version_minor": 0
      },
      "text/plain": [
       "  0%|          | 0/10 [00:00<?, ?it/s]"
      ]
     },
     "metadata": {},
     "output_type": "display_data"
    },
    {
     "name": "stdout",
     "output_type": "stream",
     "text": [
      "epoch 150, loss: 0.34643620252609253\n",
      "Dev F1 0.8636363744735718\n"
     ]
    },
    {
     "data": {
      "application/vnd.jupyter.widget-view+json": {
       "model_id": "10e2d8fe3c5646dd895ccb14d5f189ba",
       "version_major": 2,
       "version_minor": 0
      },
      "text/plain": [
       "  0%|          | 0/10 [00:00<?, ?it/s]"
      ]
     },
     "metadata": {},
     "output_type": "display_data"
    },
    {
     "name": "stdout",
     "output_type": "stream",
     "text": [
      "epoch 151, loss: 0.3459479779005051\n",
      "Dev F1 0.8636363744735718\n"
     ]
    },
    {
     "data": {
      "application/vnd.jupyter.widget-view+json": {
       "model_id": "00ef378f134c4dbb9b63ac98cbf442ae",
       "version_major": 2,
       "version_minor": 0
      },
      "text/plain": [
       "  0%|          | 0/10 [00:00<?, ?it/s]"
      ]
     },
     "metadata": {},
     "output_type": "display_data"
    },
    {
     "name": "stdout",
     "output_type": "stream",
     "text": [
      "epoch 152, loss: 0.34546615928411484\n",
      "Dev F1 0.8636363744735718\n"
     ]
    },
    {
     "data": {
      "application/vnd.jupyter.widget-view+json": {
       "model_id": "f94a3952f4eb46e687cc6731be2b5c99",
       "version_major": 2,
       "version_minor": 0
      },
      "text/plain": [
       "  0%|          | 0/10 [00:00<?, ?it/s]"
      ]
     },
     "metadata": {},
     "output_type": "display_data"
    },
    {
     "name": "stdout",
     "output_type": "stream",
     "text": [
      "epoch 153, loss: 0.3449906289577484\n",
      "Dev F1 0.8636363744735718\n"
     ]
    },
    {
     "data": {
      "application/vnd.jupyter.widget-view+json": {
       "model_id": "a6d00383f13b477d97ea2bdb5a887829",
       "version_major": 2,
       "version_minor": 0
      },
      "text/plain": [
       "  0%|          | 0/10 [00:00<?, ?it/s]"
      ]
     },
     "metadata": {},
     "output_type": "display_data"
    },
    {
     "name": "stdout",
     "output_type": "stream",
     "text": [
      "epoch 154, loss: 0.34452132433652877\n",
      "Dev F1 0.8636363744735718\n"
     ]
    },
    {
     "data": {
      "application/vnd.jupyter.widget-view+json": {
       "model_id": "5ea1bd0c5ced4478963ee36c5d42679d",
       "version_major": 2,
       "version_minor": 0
      },
      "text/plain": [
       "  0%|          | 0/10 [00:00<?, ?it/s]"
      ]
     },
     "metadata": {},
     "output_type": "display_data"
    },
    {
     "name": "stdout",
     "output_type": "stream",
     "text": [
      "epoch 155, loss: 0.34405809342861177\n",
      "Dev F1 0.8636363744735718\n"
     ]
    },
    {
     "data": {
      "application/vnd.jupyter.widget-view+json": {
       "model_id": "896181a96c3b48c58d71564e588c70af",
       "version_major": 2,
       "version_minor": 0
      },
      "text/plain": [
       "  0%|          | 0/10 [00:00<?, ?it/s]"
      ]
     },
     "metadata": {},
     "output_type": "display_data"
    },
    {
     "name": "stdout",
     "output_type": "stream",
     "text": [
      "epoch 156, loss: 0.3436008542776108\n",
      "Dev F1 0.8636363744735718\n"
     ]
    },
    {
     "data": {
      "application/vnd.jupyter.widget-view+json": {
       "model_id": "11dea54194d547d98fd95a1926c4daa4",
       "version_major": 2,
       "version_minor": 0
      },
      "text/plain": [
       "  0%|          | 0/10 [00:00<?, ?it/s]"
      ]
     },
     "metadata": {},
     "output_type": "display_data"
    },
    {
     "name": "stdout",
     "output_type": "stream",
     "text": [
      "epoch 157, loss: 0.34314955323934554\n",
      "Dev F1 0.8636363744735718\n"
     ]
    },
    {
     "data": {
      "application/vnd.jupyter.widget-view+json": {
       "model_id": "87731c55b2d241bc830ebcdfab4a3005",
       "version_major": 2,
       "version_minor": 0
      },
      "text/plain": [
       "  0%|          | 0/10 [00:00<?, ?it/s]"
      ]
     },
     "metadata": {},
     "output_type": "display_data"
    },
    {
     "name": "stdout",
     "output_type": "stream",
     "text": [
      "epoch 158, loss: 0.3427040487527847\n",
      "Dev F1 0.8636363744735718\n"
     ]
    },
    {
     "data": {
      "application/vnd.jupyter.widget-view+json": {
       "model_id": "f35bc18b02db4aea93b6eeb60f143622",
       "version_major": 2,
       "version_minor": 0
      },
      "text/plain": [
       "  0%|          | 0/10 [00:00<?, ?it/s]"
      ]
     },
     "metadata": {},
     "output_type": "display_data"
    },
    {
     "name": "stdout",
     "output_type": "stream",
     "text": [
      "epoch 159, loss: 0.342264261841774\n",
      "Dev F1 0.8636363744735718\n"
     ]
    },
    {
     "data": {
      "application/vnd.jupyter.widget-view+json": {
       "model_id": "b603c58ca0ec409386d3f56ae072ec2f",
       "version_major": 2,
       "version_minor": 0
      },
      "text/plain": [
       "  0%|          | 0/10 [00:00<?, ?it/s]"
      ]
     },
     "metadata": {},
     "output_type": "display_data"
    },
    {
     "name": "stdout",
     "output_type": "stream",
     "text": [
      "epoch 160, loss: 0.34183012396097184\n",
      "Dev F1 0.8636363744735718\n"
     ]
    },
    {
     "data": {
      "application/vnd.jupyter.widget-view+json": {
       "model_id": "66dc1e1db33643068959bcf1a9b44880",
       "version_major": 2,
       "version_minor": 0
      },
      "text/plain": [
       "  0%|          | 0/10 [00:00<?, ?it/s]"
      ]
     },
     "metadata": {},
     "output_type": "display_data"
    },
    {
     "name": "stdout",
     "output_type": "stream",
     "text": [
      "epoch 161, loss: 0.3414015769958496\n",
      "Dev F1 0.8636363744735718\n"
     ]
    },
    {
     "data": {
      "application/vnd.jupyter.widget-view+json": {
       "model_id": "820edd80a8fe4d66a23f4ce681661ec2",
       "version_major": 2,
       "version_minor": 0
      },
      "text/plain": [
       "  0%|          | 0/10 [00:00<?, ?it/s]"
      ]
     },
     "metadata": {},
     "output_type": "display_data"
    },
    {
     "name": "stdout",
     "output_type": "stream",
     "text": [
      "epoch 162, loss: 0.3409784629940987\n",
      "Dev F1 0.8636363744735718\n"
     ]
    },
    {
     "data": {
      "application/vnd.jupyter.widget-view+json": {
       "model_id": "61a791352e164b519d1306912658c627",
       "version_major": 2,
       "version_minor": 0
      },
      "text/plain": [
       "  0%|          | 0/10 [00:00<?, ?it/s]"
      ]
     },
     "metadata": {},
     "output_type": "display_data"
    },
    {
     "name": "stdout",
     "output_type": "stream",
     "text": [
      "epoch 163, loss: 0.3405607283115387\n",
      "Dev F1 0.8636363744735718\n"
     ]
    },
    {
     "data": {
      "application/vnd.jupyter.widget-view+json": {
       "model_id": "7345cbae1c7c49e2b1c5c75b2e47ef05",
       "version_major": 2,
       "version_minor": 0
      },
      "text/plain": [
       "  0%|          | 0/10 [00:00<?, ?it/s]"
      ]
     },
     "metadata": {},
     "output_type": "display_data"
    },
    {
     "name": "stdout",
     "output_type": "stream",
     "text": [
      "epoch 164, loss: 0.3401483029127121\n",
      "Dev F1 0.8636363744735718\n"
     ]
    },
    {
     "data": {
      "application/vnd.jupyter.widget-view+json": {
       "model_id": "b19cd47d1e2c4033860609dedfc946b0",
       "version_major": 2,
       "version_minor": 0
      },
      "text/plain": [
       "  0%|          | 0/10 [00:00<?, ?it/s]"
      ]
     },
     "metadata": {},
     "output_type": "display_data"
    },
    {
     "name": "stdout",
     "output_type": "stream",
     "text": [
      "epoch 165, loss: 0.3397411122918129\n",
      "Dev F1 0.8636363744735718\n"
     ]
    },
    {
     "data": {
      "application/vnd.jupyter.widget-view+json": {
       "model_id": "f1fe724d46a04cdc88f8828dd70d74ea",
       "version_major": 2,
       "version_minor": 0
      },
      "text/plain": [
       "  0%|          | 0/10 [00:00<?, ?it/s]"
      ]
     },
     "metadata": {},
     "output_type": "display_data"
    },
    {
     "name": "stdout",
     "output_type": "stream",
     "text": [
      "epoch 166, loss: 0.339339017868042\n",
      "Dev F1 0.8636363744735718\n"
     ]
    },
    {
     "data": {
      "application/vnd.jupyter.widget-view+json": {
       "model_id": "d350408a74214c3f8dcfb12f05c43527",
       "version_major": 2,
       "version_minor": 0
      },
      "text/plain": [
       "  0%|          | 0/10 [00:00<?, ?it/s]"
      ]
     },
     "metadata": {},
     "output_type": "display_data"
    },
    {
     "name": "stdout",
     "output_type": "stream",
     "text": [
      "epoch 167, loss: 0.33894202411174773\n",
      "Dev F1 0.8636363744735718\n"
     ]
    },
    {
     "data": {
      "application/vnd.jupyter.widget-view+json": {
       "model_id": "2289bdf4063c4f308562338c3333faaa",
       "version_major": 2,
       "version_minor": 0
      },
      "text/plain": [
       "  0%|          | 0/10 [00:00<?, ?it/s]"
      ]
     },
     "metadata": {},
     "output_type": "display_data"
    },
    {
     "name": "stdout",
     "output_type": "stream",
     "text": [
      "epoch 168, loss: 0.3385500371456146\n",
      "Dev F1 0.8636363744735718\n"
     ]
    },
    {
     "data": {
      "application/vnd.jupyter.widget-view+json": {
       "model_id": "6320896ff29b4f65be0f146cf301e511",
       "version_major": 2,
       "version_minor": 0
      },
      "text/plain": [
       "  0%|          | 0/10 [00:00<?, ?it/s]"
      ]
     },
     "metadata": {},
     "output_type": "display_data"
    },
    {
     "name": "stdout",
     "output_type": "stream",
     "text": [
      "epoch 169, loss: 0.33816292583942414\n",
      "Dev F1 0.8636363744735718\n"
     ]
    },
    {
     "data": {
      "application/vnd.jupyter.widget-view+json": {
       "model_id": "456755b3e06b4ea99ffc0840a2118cc4",
       "version_major": 2,
       "version_minor": 0
      },
      "text/plain": [
       "  0%|          | 0/10 [00:00<?, ?it/s]"
      ]
     },
     "metadata": {},
     "output_type": "display_data"
    },
    {
     "name": "stdout",
     "output_type": "stream",
     "text": [
      "epoch 170, loss: 0.33778066486120223\n",
      "Dev F1 0.8636363744735718\n"
     ]
    },
    {
     "data": {
      "application/vnd.jupyter.widget-view+json": {
       "model_id": "4eb45b7527db462ca23aa57b05eafd40",
       "version_major": 2,
       "version_minor": 0
      },
      "text/plain": [
       "  0%|          | 0/10 [00:00<?, ?it/s]"
      ]
     },
     "metadata": {},
     "output_type": "display_data"
    },
    {
     "name": "stdout",
     "output_type": "stream",
     "text": [
      "epoch 171, loss: 0.3374031573534012\n",
      "Dev F1 0.8636363744735718\n"
     ]
    },
    {
     "data": {
      "application/vnd.jupyter.widget-view+json": {
       "model_id": "4fe13a37afe44ff6a67328d851028794",
       "version_major": 2,
       "version_minor": 0
      },
      "text/plain": [
       "  0%|          | 0/10 [00:00<?, ?it/s]"
      ]
     },
     "metadata": {},
     "output_type": "display_data"
    },
    {
     "name": "stdout",
     "output_type": "stream",
     "text": [
      "epoch 172, loss: 0.33703034222126005\n",
      "Dev F1 0.8636363744735718\n"
     ]
    },
    {
     "data": {
      "application/vnd.jupyter.widget-view+json": {
       "model_id": "ea1dc666860d466ebb82fe9567e02772",
       "version_major": 2,
       "version_minor": 0
      },
      "text/plain": [
       "  0%|          | 0/10 [00:00<?, ?it/s]"
      ]
     },
     "metadata": {},
     "output_type": "display_data"
    },
    {
     "name": "stdout",
     "output_type": "stream",
     "text": [
      "epoch 173, loss: 0.336662195622921\n",
      "Dev F1 0.8636363744735718\n"
     ]
    },
    {
     "data": {
      "application/vnd.jupyter.widget-view+json": {
       "model_id": "4895b9b0b873432497de4517cae45797",
       "version_major": 2,
       "version_minor": 0
      },
      "text/plain": [
       "  0%|          | 0/10 [00:00<?, ?it/s]"
      ]
     },
     "metadata": {},
     "output_type": "display_data"
    },
    {
     "name": "stdout",
     "output_type": "stream",
     "text": [
      "epoch 174, loss: 0.33629857301712035\n",
      "Dev F1 0.8636363744735718\n"
     ]
    },
    {
     "data": {
      "application/vnd.jupyter.widget-view+json": {
       "model_id": "8659ed0383f34412ad55361eb6288d0e",
       "version_major": 2,
       "version_minor": 0
      },
      "text/plain": [
       "  0%|          | 0/10 [00:00<?, ?it/s]"
      ]
     },
     "metadata": {},
     "output_type": "display_data"
    },
    {
     "name": "stdout",
     "output_type": "stream",
     "text": [
      "epoch 175, loss: 0.335939447581768\n",
      "Dev F1 0.8636363744735718\n"
     ]
    },
    {
     "data": {
      "application/vnd.jupyter.widget-view+json": {
       "model_id": "24054249d6af471b805f11e51e1dd003",
       "version_major": 2,
       "version_minor": 0
      },
      "text/plain": [
       "  0%|          | 0/10 [00:00<?, ?it/s]"
      ]
     },
     "metadata": {},
     "output_type": "display_data"
    },
    {
     "name": "stdout",
     "output_type": "stream",
     "text": [
      "epoch 176, loss: 0.3355847492814064\n",
      "Dev F1 0.8636363744735718\n"
     ]
    },
    {
     "data": {
      "application/vnd.jupyter.widget-view+json": {
       "model_id": "45ed9c6961c845caa1c0ffbeb11eaeba",
       "version_major": 2,
       "version_minor": 0
      },
      "text/plain": [
       "  0%|          | 0/10 [00:00<?, ?it/s]"
      ]
     },
     "metadata": {},
     "output_type": "display_data"
    },
    {
     "name": "stdout",
     "output_type": "stream",
     "text": [
      "epoch 177, loss: 0.3352344572544098\n",
      "Dev F1 0.8636363744735718\n"
     ]
    },
    {
     "data": {
      "application/vnd.jupyter.widget-view+json": {
       "model_id": "27123b1a15164b73ab2034b649fe61e0",
       "version_major": 2,
       "version_minor": 0
      },
      "text/plain": [
       "  0%|          | 0/10 [00:00<?, ?it/s]"
      ]
     },
     "metadata": {},
     "output_type": "display_data"
    },
    {
     "name": "stdout",
     "output_type": "stream",
     "text": [
      "epoch 178, loss: 0.3348884373903275\n",
      "Dev F1 0.8636363744735718\n"
     ]
    },
    {
     "data": {
      "application/vnd.jupyter.widget-view+json": {
       "model_id": "96b8425840a941ccae6739fa571cc694",
       "version_major": 2,
       "version_minor": 0
      },
      "text/plain": [
       "  0%|          | 0/10 [00:00<?, ?it/s]"
      ]
     },
     "metadata": {},
     "output_type": "display_data"
    },
    {
     "name": "stdout",
     "output_type": "stream",
     "text": [
      "epoch 179, loss: 0.3345466569066048\n",
      "Dev F1 0.8636363744735718\n"
     ]
    },
    {
     "data": {
      "application/vnd.jupyter.widget-view+json": {
       "model_id": "af43c5c22b37493b8959907083cd8b27",
       "version_major": 2,
       "version_minor": 0
      },
      "text/plain": [
       "  0%|          | 0/10 [00:00<?, ?it/s]"
      ]
     },
     "metadata": {},
     "output_type": "display_data"
    },
    {
     "name": "stdout",
     "output_type": "stream",
     "text": [
      "epoch 180, loss: 0.3342090412974358\n",
      "Dev F1 0.8636363744735718\n"
     ]
    },
    {
     "data": {
      "application/vnd.jupyter.widget-view+json": {
       "model_id": "c19690800e094013b8496178a7a91ae9",
       "version_major": 2,
       "version_minor": 0
      },
      "text/plain": [
       "  0%|          | 0/10 [00:00<?, ?it/s]"
      ]
     },
     "metadata": {},
     "output_type": "display_data"
    },
    {
     "name": "stdout",
     "output_type": "stream",
     "text": [
      "epoch 181, loss: 0.3338755503296852\n",
      "Dev F1 0.8636363744735718\n"
     ]
    },
    {
     "data": {
      "application/vnd.jupyter.widget-view+json": {
       "model_id": "eb8f6e821c204535a46d50ba81be1232",
       "version_major": 2,
       "version_minor": 0
      },
      "text/plain": [
       "  0%|          | 0/10 [00:00<?, ?it/s]"
      ]
     },
     "metadata": {},
     "output_type": "display_data"
    },
    {
     "name": "stdout",
     "output_type": "stream",
     "text": [
      "epoch 182, loss: 0.3335461258888245\n",
      "Dev F1 0.8636363744735718\n"
     ]
    },
    {
     "data": {
      "application/vnd.jupyter.widget-view+json": {
       "model_id": "67e868975d584b6ea33df8f8e05d0131",
       "version_major": 2,
       "version_minor": 0
      },
      "text/plain": [
       "  0%|          | 0/10 [00:00<?, ?it/s]"
      ]
     },
     "metadata": {},
     "output_type": "display_data"
    },
    {
     "name": "stdout",
     "output_type": "stream",
     "text": [
      "epoch 183, loss: 0.3332206979393959\n",
      "Dev F1 0.8636363744735718\n"
     ]
    },
    {
     "data": {
      "application/vnd.jupyter.widget-view+json": {
       "model_id": "f380c26d6e4841ca9abb76386bcd6932",
       "version_major": 2,
       "version_minor": 0
      },
      "text/plain": [
       "  0%|          | 0/10 [00:00<?, ?it/s]"
      ]
     },
     "metadata": {},
     "output_type": "display_data"
    },
    {
     "name": "stdout",
     "output_type": "stream",
     "text": [
      "epoch 184, loss: 0.3328992024064064\n",
      "Dev F1 0.8636363744735718\n"
     ]
    },
    {
     "data": {
      "application/vnd.jupyter.widget-view+json": {
       "model_id": "14a4eb01594c454e890894c13084717b",
       "version_major": 2,
       "version_minor": 0
      },
      "text/plain": [
       "  0%|          | 0/10 [00:00<?, ?it/s]"
      ]
     },
     "metadata": {},
     "output_type": "display_data"
    },
    {
     "name": "stdout",
     "output_type": "stream",
     "text": [
      "epoch 185, loss: 0.33258162140846254\n",
      "Dev F1 0.8636363744735718\n"
     ]
    },
    {
     "data": {
      "application/vnd.jupyter.widget-view+json": {
       "model_id": "7de07d430e4041e389ad0d3e61de9920",
       "version_major": 2,
       "version_minor": 0
      },
      "text/plain": [
       "  0%|          | 0/10 [00:00<?, ?it/s]"
      ]
     },
     "metadata": {},
     "output_type": "display_data"
    },
    {
     "name": "stdout",
     "output_type": "stream",
     "text": [
      "epoch 186, loss: 0.33226785957813265\n",
      "Dev F1 0.8636363744735718\n"
     ]
    },
    {
     "data": {
      "application/vnd.jupyter.widget-view+json": {
       "model_id": "6f853dc46d624a8494cf416ef3a3ba1a",
       "version_major": 2,
       "version_minor": 0
      },
      "text/plain": [
       "  0%|          | 0/10 [00:00<?, ?it/s]"
      ]
     },
     "metadata": {},
     "output_type": "display_data"
    },
    {
     "name": "stdout",
     "output_type": "stream",
     "text": [
      "epoch 187, loss: 0.3319578617811203\n",
      "Dev F1 0.8636363744735718\n"
     ]
    },
    {
     "data": {
      "application/vnd.jupyter.widget-view+json": {
       "model_id": "f32aecf0bfa940a6831d5e42a3f94696",
       "version_major": 2,
       "version_minor": 0
      },
      "text/plain": [
       "  0%|          | 0/10 [00:00<?, ?it/s]"
      ]
     },
     "metadata": {},
     "output_type": "display_data"
    },
    {
     "name": "stdout",
     "output_type": "stream",
     "text": [
      "epoch 188, loss: 0.3316516101360321\n",
      "Dev F1 0.8636363744735718\n"
     ]
    },
    {
     "data": {
      "application/vnd.jupyter.widget-view+json": {
       "model_id": "e62f8e2beb244d3bad44929b2d4b24b9",
       "version_major": 2,
       "version_minor": 0
      },
      "text/plain": [
       "  0%|          | 0/10 [00:00<?, ?it/s]"
      ]
     },
     "metadata": {},
     "output_type": "display_data"
    },
    {
     "name": "stdout",
     "output_type": "stream",
     "text": [
      "epoch 189, loss: 0.33134900629520414\n",
      "Dev F1 0.8636363744735718\n"
     ]
    },
    {
     "data": {
      "application/vnd.jupyter.widget-view+json": {
       "model_id": "702d42d9e0f74f6790cf7e04e983f1c3",
       "version_major": 2,
       "version_minor": 0
      },
      "text/plain": [
       "  0%|          | 0/10 [00:00<?, ?it/s]"
      ]
     },
     "metadata": {},
     "output_type": "display_data"
    },
    {
     "name": "stdout",
     "output_type": "stream",
     "text": [
      "epoch 190, loss: 0.3310500606894493\n",
      "Dev F1 0.8636363744735718\n"
     ]
    },
    {
     "data": {
      "application/vnd.jupyter.widget-view+json": {
       "model_id": "ad13df3d342540b59732ea0ce811c80c",
       "version_major": 2,
       "version_minor": 0
      },
      "text/plain": [
       "  0%|          | 0/10 [00:00<?, ?it/s]"
      ]
     },
     "metadata": {},
     "output_type": "display_data"
    },
    {
     "name": "stdout",
     "output_type": "stream",
     "text": [
      "epoch 191, loss: 0.33075467497110367\n",
      "Dev F1 0.8636363744735718\n"
     ]
    },
    {
     "data": {
      "application/vnd.jupyter.widget-view+json": {
       "model_id": "0336aaa18dd54d5e8213e1b1e0cbcd8a",
       "version_major": 2,
       "version_minor": 0
      },
      "text/plain": [
       "  0%|          | 0/10 [00:00<?, ?it/s]"
      ]
     },
     "metadata": {},
     "output_type": "display_data"
    },
    {
     "name": "stdout",
     "output_type": "stream",
     "text": [
      "epoch 192, loss: 0.33046281039714814\n",
      "Dev F1 0.8636363744735718\n"
     ]
    },
    {
     "data": {
      "application/vnd.jupyter.widget-view+json": {
       "model_id": "d759f0227aed4fb5a8ada8b35202706c",
       "version_major": 2,
       "version_minor": 0
      },
      "text/plain": [
       "  0%|          | 0/10 [00:00<?, ?it/s]"
      ]
     },
     "metadata": {},
     "output_type": "display_data"
    },
    {
     "name": "stdout",
     "output_type": "stream",
     "text": [
      "epoch 193, loss: 0.3301744282245636\n",
      "Dev F1 0.8636363744735718\n"
     ]
    },
    {
     "data": {
      "application/vnd.jupyter.widget-view+json": {
       "model_id": "a7c45fa3d590403e821013421e745cbf",
       "version_major": 2,
       "version_minor": 0
      },
      "text/plain": [
       "  0%|          | 0/10 [00:00<?, ?it/s]"
      ]
     },
     "metadata": {},
     "output_type": "display_data"
    },
    {
     "name": "stdout",
     "output_type": "stream",
     "text": [
      "epoch 194, loss: 0.3298894435167313\n",
      "Dev F1 0.8636363744735718\n"
     ]
    },
    {
     "data": {
      "application/vnd.jupyter.widget-view+json": {
       "model_id": "80667afd051b48eb96d577a42439468d",
       "version_major": 2,
       "version_minor": 0
      },
      "text/plain": [
       "  0%|          | 0/10 [00:00<?, ?it/s]"
      ]
     },
     "metadata": {},
     "output_type": "display_data"
    },
    {
     "name": "stdout",
     "output_type": "stream",
     "text": [
      "epoch 195, loss: 0.3296078771352768\n",
      "Dev F1 0.8636363744735718\n"
     ]
    },
    {
     "data": {
      "application/vnd.jupyter.widget-view+json": {
       "model_id": "a54fb728613e42d685d7f3333d6d313d",
       "version_major": 2,
       "version_minor": 0
      },
      "text/plain": [
       "  0%|          | 0/10 [00:00<?, ?it/s]"
      ]
     },
     "metadata": {},
     "output_type": "display_data"
    },
    {
     "name": "stdout",
     "output_type": "stream",
     "text": [
      "epoch 196, loss: 0.32932961285114287\n",
      "Dev F1 0.8636363744735718\n"
     ]
    },
    {
     "data": {
      "application/vnd.jupyter.widget-view+json": {
       "model_id": "cd63ce61acc045ac88023d9bbd69782a",
       "version_major": 2,
       "version_minor": 0
      },
      "text/plain": [
       "  0%|          | 0/10 [00:00<?, ?it/s]"
      ]
     },
     "metadata": {},
     "output_type": "display_data"
    },
    {
     "name": "stdout",
     "output_type": "stream",
     "text": [
      "epoch 197, loss: 0.3290546625852585\n",
      "Dev F1 0.8636363744735718\n"
     ]
    },
    {
     "data": {
      "application/vnd.jupyter.widget-view+json": {
       "model_id": "49db34cf584a4a53bce77c77ed971ee9",
       "version_major": 2,
       "version_minor": 0
      },
      "text/plain": [
       "  0%|          | 0/10 [00:00<?, ?it/s]"
      ]
     },
     "metadata": {},
     "output_type": "display_data"
    },
    {
     "name": "stdout",
     "output_type": "stream",
     "text": [
      "epoch 198, loss: 0.32878296822309494\n",
      "Dev F1 0.8636363744735718\n"
     ]
    },
    {
     "data": {
      "application/vnd.jupyter.widget-view+json": {
       "model_id": "b422aa6be28a4c6189abfa079c0ae620",
       "version_major": 2,
       "version_minor": 0
      },
      "text/plain": [
       "  0%|          | 0/10 [00:00<?, ?it/s]"
      ]
     },
     "metadata": {},
     "output_type": "display_data"
    },
    {
     "name": "stdout",
     "output_type": "stream",
     "text": [
      "epoch 199, loss: 0.32851445972919463\n",
      "Dev F1 0.8636363744735718\n"
     ]
    },
    {
     "data": {
      "application/vnd.jupyter.widget-view+json": {
       "model_id": "386041a3c33741369ce7564bad10a012",
       "version_major": 2,
       "version_minor": 0
      },
      "text/plain": [
       "  0%|          | 0/10 [00:00<?, ?it/s]"
      ]
     },
     "metadata": {},
     "output_type": "display_data"
    },
    {
     "name": "stdout",
     "output_type": "stream",
     "text": [
      "epoch 200, loss: 0.32824910879135133\n",
      "Dev F1 0.8636363744735718\n"
     ]
    },
    {
     "data": {
      "application/vnd.jupyter.widget-view+json": {
       "model_id": "869b8b2b323e412b8c49a9f375ce89e5",
       "version_major": 2,
       "version_minor": 0
      },
      "text/plain": [
       "  0%|          | 0/10 [00:00<?, ?it/s]"
      ]
     },
     "metadata": {},
     "output_type": "display_data"
    },
    {
     "name": "stdout",
     "output_type": "stream",
     "text": [
      "epoch 201, loss: 0.32798685431480407\n",
      "Dev F1 0.8636363744735718\n"
     ]
    },
    {
     "data": {
      "application/vnd.jupyter.widget-view+json": {
       "model_id": "858d67490a8e433b86636c24c9374184",
       "version_major": 2,
       "version_minor": 0
      },
      "text/plain": [
       "  0%|          | 0/10 [00:00<?, ?it/s]"
      ]
     },
     "metadata": {},
     "output_type": "display_data"
    },
    {
     "name": "stdout",
     "output_type": "stream",
     "text": [
      "epoch 202, loss: 0.3277276799082756\n",
      "Dev F1 0.8636363744735718\n"
     ]
    },
    {
     "data": {
      "application/vnd.jupyter.widget-view+json": {
       "model_id": "9019a6d99a2346759b48074ce313e106",
       "version_major": 2,
       "version_minor": 0
      },
      "text/plain": [
       "  0%|          | 0/10 [00:00<?, ?it/s]"
      ]
     },
     "metadata": {},
     "output_type": "display_data"
    },
    {
     "name": "stdout",
     "output_type": "stream",
     "text": [
      "epoch 203, loss: 0.3274715289473534\n",
      "Dev F1 0.8636363744735718\n"
     ]
    },
    {
     "data": {
      "application/vnd.jupyter.widget-view+json": {
       "model_id": "5c6ad701f46244e2b2a21c1ec0cb6a60",
       "version_major": 2,
       "version_minor": 0
      },
      "text/plain": [
       "  0%|          | 0/10 [00:00<?, ?it/s]"
      ]
     },
     "metadata": {},
     "output_type": "display_data"
    },
    {
     "name": "stdout",
     "output_type": "stream",
     "text": [
      "epoch 204, loss: 0.3272183835506439\n",
      "Dev F1 0.8636363744735718\n"
     ]
    },
    {
     "data": {
      "application/vnd.jupyter.widget-view+json": {
       "model_id": "81ceab3f5da4427a967a2bc3dae575a1",
       "version_major": 2,
       "version_minor": 0
      },
      "text/plain": [
       "  0%|          | 0/10 [00:00<?, ?it/s]"
      ]
     },
     "metadata": {},
     "output_type": "display_data"
    },
    {
     "name": "stdout",
     "output_type": "stream",
     "text": [
      "epoch 205, loss: 0.3269681915640831\n",
      "Dev F1 0.8636363744735718\n"
     ]
    },
    {
     "data": {
      "application/vnd.jupyter.widget-view+json": {
       "model_id": "51fdf76ffc6040daacf57d12595d9eac",
       "version_major": 2,
       "version_minor": 0
      },
      "text/plain": [
       "  0%|          | 0/10 [00:00<?, ?it/s]"
      ]
     },
     "metadata": {},
     "output_type": "display_data"
    },
    {
     "name": "stdout",
     "output_type": "stream",
     "text": [
      "epoch 206, loss: 0.32672088146209716\n",
      "Dev F1 0.8636363744735718\n"
     ]
    },
    {
     "data": {
      "application/vnd.jupyter.widget-view+json": {
       "model_id": "01cf3b1e5a2045268e4da1bb609e7bed",
       "version_major": 2,
       "version_minor": 0
      },
      "text/plain": [
       "  0%|          | 0/10 [00:00<?, ?it/s]"
      ]
     },
     "metadata": {},
     "output_type": "display_data"
    },
    {
     "name": "stdout",
     "output_type": "stream",
     "text": [
      "epoch 207, loss: 0.3264764904975891\n",
      "Dev F1 0.8636363744735718\n"
     ]
    },
    {
     "data": {
      "application/vnd.jupyter.widget-view+json": {
       "model_id": "8f3160004f254ff8b7cfbbe769bbaa4b",
       "version_major": 2,
       "version_minor": 0
      },
      "text/plain": [
       "  0%|          | 0/10 [00:00<?, ?it/s]"
      ]
     },
     "metadata": {},
     "output_type": "display_data"
    },
    {
     "name": "stdout",
     "output_type": "stream",
     "text": [
      "epoch 208, loss: 0.3262349098920822\n",
      "Dev F1 0.8636363744735718\n"
     ]
    },
    {
     "data": {
      "application/vnd.jupyter.widget-view+json": {
       "model_id": "f3d3fcc871d14909a76ee35ea342e357",
       "version_major": 2,
       "version_minor": 0
      },
      "text/plain": [
       "  0%|          | 0/10 [00:00<?, ?it/s]"
      ]
     },
     "metadata": {},
     "output_type": "display_data"
    },
    {
     "name": "stdout",
     "output_type": "stream",
     "text": [
      "epoch 209, loss: 0.3259960874915123\n",
      "Dev F1 0.8636363744735718\n"
     ]
    },
    {
     "data": {
      "application/vnd.jupyter.widget-view+json": {
       "model_id": "8df0b54b6b954aaf82164c81b3b6a888",
       "version_major": 2,
       "version_minor": 0
      },
      "text/plain": [
       "  0%|          | 0/10 [00:00<?, ?it/s]"
      ]
     },
     "metadata": {},
     "output_type": "display_data"
    },
    {
     "name": "stdout",
     "output_type": "stream",
     "text": [
      "epoch 210, loss: 0.3257600724697113\n",
      "Dev F1 0.8636363744735718\n"
     ]
    },
    {
     "data": {
      "application/vnd.jupyter.widget-view+json": {
       "model_id": "959db3bccd184b28a86bb4bd1c8186bd",
       "version_major": 2,
       "version_minor": 0
      },
      "text/plain": [
       "  0%|          | 0/10 [00:00<?, ?it/s]"
      ]
     },
     "metadata": {},
     "output_type": "display_data"
    },
    {
     "name": "stdout",
     "output_type": "stream",
     "text": [
      "epoch 211, loss: 0.3255267575383186\n",
      "Dev F1 0.8636363744735718\n"
     ]
    },
    {
     "data": {
      "application/vnd.jupyter.widget-view+json": {
       "model_id": "ef8d290726e84f1987d40b5ddb69de5b",
       "version_major": 2,
       "version_minor": 0
      },
      "text/plain": [
       "  0%|          | 0/10 [00:00<?, ?it/s]"
      ]
     },
     "metadata": {},
     "output_type": "display_data"
    },
    {
     "name": "stdout",
     "output_type": "stream",
     "text": [
      "epoch 212, loss: 0.32529615312814714\n",
      "Dev F1 0.8636363744735718\n"
     ]
    },
    {
     "data": {
      "application/vnd.jupyter.widget-view+json": {
       "model_id": "148851b58b8244998dc9e85e16189cab",
       "version_major": 2,
       "version_minor": 0
      },
      "text/plain": [
       "  0%|          | 0/10 [00:00<?, ?it/s]"
      ]
     },
     "metadata": {},
     "output_type": "display_data"
    },
    {
     "name": "stdout",
     "output_type": "stream",
     "text": [
      "epoch 213, loss: 0.32506818473339083\n",
      "Dev F1 0.8636363744735718\n"
     ]
    },
    {
     "data": {
      "application/vnd.jupyter.widget-view+json": {
       "model_id": "01eb4507deb541978c45d3fccfbd4359",
       "version_major": 2,
       "version_minor": 0
      },
      "text/plain": [
       "  0%|          | 0/10 [00:00<?, ?it/s]"
      ]
     },
     "metadata": {},
     "output_type": "display_data"
    },
    {
     "name": "stdout",
     "output_type": "stream",
     "text": [
      "epoch 214, loss: 0.3248428404331207\n",
      "Dev F1 0.8636363744735718\n"
     ]
    },
    {
     "data": {
      "application/vnd.jupyter.widget-view+json": {
       "model_id": "20b38016c595436db8a4c5998156698a",
       "version_major": 2,
       "version_minor": 0
      },
      "text/plain": [
       "  0%|          | 0/10 [00:00<?, ?it/s]"
      ]
     },
     "metadata": {},
     "output_type": "display_data"
    },
    {
     "name": "stdout",
     "output_type": "stream",
     "text": [
      "epoch 215, loss: 0.3246200680732727\n",
      "Dev F1 0.8636363744735718\n"
     ]
    },
    {
     "data": {
      "application/vnd.jupyter.widget-view+json": {
       "model_id": "649ff0fa8ec348518d4a0eafd0ef8515",
       "version_major": 2,
       "version_minor": 0
      },
      "text/plain": [
       "  0%|          | 0/10 [00:00<?, ?it/s]"
      ]
     },
     "metadata": {},
     "output_type": "display_data"
    },
    {
     "name": "stdout",
     "output_type": "stream",
     "text": [
      "epoch 216, loss: 0.3243998572230339\n",
      "Dev F1 0.8636363744735718\n"
     ]
    },
    {
     "data": {
      "application/vnd.jupyter.widget-view+json": {
       "model_id": "78f2fe5bb6b24c08b4b5b5402c002379",
       "version_major": 2,
       "version_minor": 0
      },
      "text/plain": [
       "  0%|          | 0/10 [00:00<?, ?it/s]"
      ]
     },
     "metadata": {},
     "output_type": "display_data"
    },
    {
     "name": "stdout",
     "output_type": "stream",
     "text": [
      "epoch 217, loss: 0.32418215423822405\n",
      "Dev F1 0.8636363744735718\n"
     ]
    },
    {
     "data": {
      "application/vnd.jupyter.widget-view+json": {
       "model_id": "4c8eb316c1254c64afb263e461c4750b",
       "version_major": 2,
       "version_minor": 0
      },
      "text/plain": [
       "  0%|          | 0/10 [00:00<?, ?it/s]"
      ]
     },
     "metadata": {},
     "output_type": "display_data"
    },
    {
     "name": "stdout",
     "output_type": "stream",
     "text": [
      "epoch 218, loss: 0.3239669367671013\n",
      "Dev F1 0.8636363744735718\n"
     ]
    },
    {
     "data": {
      "application/vnd.jupyter.widget-view+json": {
       "model_id": "14acf99188e2421789cf2f089fcb2e2e",
       "version_major": 2,
       "version_minor": 0
      },
      "text/plain": [
       "  0%|          | 0/10 [00:00<?, ?it/s]"
      ]
     },
     "metadata": {},
     "output_type": "display_data"
    },
    {
     "name": "stdout",
     "output_type": "stream",
     "text": [
      "epoch 219, loss: 0.3237541809678078\n",
      "Dev F1 0.8636363744735718\n"
     ]
    },
    {
     "data": {
      "application/vnd.jupyter.widget-view+json": {
       "model_id": "4cf0ca87f1c045a89c7026129851656d",
       "version_major": 2,
       "version_minor": 0
      },
      "text/plain": [
       "  0%|          | 0/10 [00:00<?, ?it/s]"
      ]
     },
     "metadata": {},
     "output_type": "display_data"
    },
    {
     "name": "stdout",
     "output_type": "stream",
     "text": [
      "epoch 220, loss: 0.3235438376665115\n",
      "Dev F1 0.8636363744735718\n"
     ]
    },
    {
     "data": {
      "application/vnd.jupyter.widget-view+json": {
       "model_id": "ae34b8f28a0842de92a2f83a70cd89df",
       "version_major": 2,
       "version_minor": 0
      },
      "text/plain": [
       "  0%|          | 0/10 [00:00<?, ?it/s]"
      ]
     },
     "metadata": {},
     "output_type": "display_data"
    },
    {
     "name": "stdout",
     "output_type": "stream",
     "text": [
      "epoch 221, loss: 0.32333588153123854\n",
      "Dev F1 0.8636363744735718\n"
     ]
    },
    {
     "data": {
      "application/vnd.jupyter.widget-view+json": {
       "model_id": "d670b45d15cc42a8bf15c4bdc659ff59",
       "version_major": 2,
       "version_minor": 0
      },
      "text/plain": [
       "  0%|          | 0/10 [00:00<?, ?it/s]"
      ]
     },
     "metadata": {},
     "output_type": "display_data"
    },
    {
     "name": "stdout",
     "output_type": "stream",
     "text": [
      "epoch 222, loss: 0.32313030809164045\n",
      "Dev F1 0.8636363744735718\n"
     ]
    },
    {
     "data": {
      "application/vnd.jupyter.widget-view+json": {
       "model_id": "b58f308e770640cf9c1bc46671c0e92d",
       "version_major": 2,
       "version_minor": 0
      },
      "text/plain": [
       "  0%|          | 0/10 [00:00<?, ?it/s]"
      ]
     },
     "metadata": {},
     "output_type": "display_data"
    },
    {
     "name": "stdout",
     "output_type": "stream",
     "text": [
      "epoch 223, loss: 0.3229270502924919\n",
      "Dev F1 0.8636363744735718\n"
     ]
    },
    {
     "data": {
      "application/vnd.jupyter.widget-view+json": {
       "model_id": "e0291d72bd7e4d2c9f5ad68aa15b3702",
       "version_major": 2,
       "version_minor": 0
      },
      "text/plain": [
       "  0%|          | 0/10 [00:00<?, ?it/s]"
      ]
     },
     "metadata": {},
     "output_type": "display_data"
    },
    {
     "name": "stdout",
     "output_type": "stream",
     "text": [
      "epoch 224, loss: 0.32272606790065766\n",
      "Dev F1 0.8636363744735718\n"
     ]
    },
    {
     "data": {
      "application/vnd.jupyter.widget-view+json": {
       "model_id": "dbf1d37bfe84443e8f7bdd3ac7f93f07",
       "version_major": 2,
       "version_minor": 0
      },
      "text/plain": [
       "  0%|          | 0/10 [00:00<?, ?it/s]"
      ]
     },
     "metadata": {},
     "output_type": "display_data"
    },
    {
     "name": "stdout",
     "output_type": "stream",
     "text": [
      "epoch 225, loss: 0.32252736687660216\n",
      "Dev F1 0.8636363744735718\n"
     ]
    },
    {
     "data": {
      "application/vnd.jupyter.widget-view+json": {
       "model_id": "858907158a9244d5bf00c01119c1e2da",
       "version_major": 2,
       "version_minor": 0
      },
      "text/plain": [
       "  0%|          | 0/10 [00:00<?, ?it/s]"
      ]
     },
     "metadata": {},
     "output_type": "display_data"
    },
    {
     "name": "stdout",
     "output_type": "stream",
     "text": [
      "epoch 226, loss: 0.32233092188835144\n",
      "Dev F1 0.8636363744735718\n"
     ]
    },
    {
     "data": {
      "application/vnd.jupyter.widget-view+json": {
       "model_id": "0f6b3adf4f4b4b9483fa5f9b0e87b50b",
       "version_major": 2,
       "version_minor": 0
      },
      "text/plain": [
       "  0%|          | 0/10 [00:00<?, ?it/s]"
      ]
     },
     "metadata": {},
     "output_type": "display_data"
    },
    {
     "name": "stdout",
     "output_type": "stream",
     "text": [
      "epoch 227, loss: 0.32213670015335083\n",
      "Dev F1 0.8636363744735718\n"
     ]
    },
    {
     "data": {
      "application/vnd.jupyter.widget-view+json": {
       "model_id": "37f7462968c54736852bd49aa0f22790",
       "version_major": 2,
       "version_minor": 0
      },
      "text/plain": [
       "  0%|          | 0/10 [00:00<?, ?it/s]"
      ]
     },
     "metadata": {},
     "output_type": "display_data"
    },
    {
     "name": "stdout",
     "output_type": "stream",
     "text": [
      "epoch 228, loss: 0.32194462716579436\n",
      "Dev F1 0.8636363744735718\n"
     ]
    },
    {
     "data": {
      "application/vnd.jupyter.widget-view+json": {
       "model_id": "69d8652686ae418795e9239ad3fee381",
       "version_major": 2,
       "version_minor": 0
      },
      "text/plain": [
       "  0%|          | 0/10 [00:00<?, ?it/s]"
      ]
     },
     "metadata": {},
     "output_type": "display_data"
    },
    {
     "name": "stdout",
     "output_type": "stream",
     "text": [
      "epoch 229, loss: 0.32175471633672714\n",
      "Dev F1 0.8636363744735718\n"
     ]
    },
    {
     "data": {
      "application/vnd.jupyter.widget-view+json": {
       "model_id": "af4984d12f3044bab3388e903a5b1194",
       "version_major": 2,
       "version_minor": 0
      },
      "text/plain": [
       "  0%|          | 0/10 [00:00<?, ?it/s]"
      ]
     },
     "metadata": {},
     "output_type": "display_data"
    },
    {
     "name": "stdout",
     "output_type": "stream",
     "text": [
      "epoch 230, loss: 0.32156694382429124\n",
      "Dev F1 0.8636363744735718\n"
     ]
    },
    {
     "data": {
      "application/vnd.jupyter.widget-view+json": {
       "model_id": "e448c60876f2465984ec78af9818e257",
       "version_major": 2,
       "version_minor": 0
      },
      "text/plain": [
       "  0%|          | 0/10 [00:00<?, ?it/s]"
      ]
     },
     "metadata": {},
     "output_type": "display_data"
    },
    {
     "name": "stdout",
     "output_type": "stream",
     "text": [
      "epoch 231, loss: 0.3213812917470932\n",
      "Dev F1 0.8636363744735718\n"
     ]
    },
    {
     "data": {
      "application/vnd.jupyter.widget-view+json": {
       "model_id": "d3a88b71b8ec4b488ddce16e84cb530d",
       "version_major": 2,
       "version_minor": 0
      },
      "text/plain": [
       "  0%|          | 0/10 [00:00<?, ?it/s]"
      ]
     },
     "metadata": {},
     "output_type": "display_data"
    },
    {
     "name": "stdout",
     "output_type": "stream",
     "text": [
      "epoch 232, loss: 0.32119772732257845\n",
      "Dev F1 0.8636363744735718\n"
     ]
    },
    {
     "data": {
      "application/vnd.jupyter.widget-view+json": {
       "model_id": "67376624a68e4468b36ad169cae84149",
       "version_major": 2,
       "version_minor": 0
      },
      "text/plain": [
       "  0%|          | 0/10 [00:00<?, ?it/s]"
      ]
     },
     "metadata": {},
     "output_type": "display_data"
    },
    {
     "name": "stdout",
     "output_type": "stream",
     "text": [
      "epoch 233, loss: 0.32101616710424424\n",
      "Dev F1 0.8636363744735718\n"
     ]
    },
    {
     "data": {
      "application/vnd.jupyter.widget-view+json": {
       "model_id": "c5df66ed6e2b4770b0006eec14b97abe",
       "version_major": 2,
       "version_minor": 0
      },
      "text/plain": [
       "  0%|          | 0/10 [00:00<?, ?it/s]"
      ]
     },
     "metadata": {},
     "output_type": "display_data"
    },
    {
     "name": "stdout",
     "output_type": "stream",
     "text": [
      "epoch 234, loss: 0.32083666771650315\n",
      "Dev F1 0.8636363744735718\n"
     ]
    },
    {
     "data": {
      "application/vnd.jupyter.widget-view+json": {
       "model_id": "02fd397fa62d40678e9d2163264cc0e5",
       "version_major": 2,
       "version_minor": 0
      },
      "text/plain": [
       "  0%|          | 0/10 [00:00<?, ?it/s]"
      ]
     },
     "metadata": {},
     "output_type": "display_data"
    },
    {
     "name": "stdout",
     "output_type": "stream",
     "text": [
      "epoch 235, loss: 0.32065915167331693\n",
      "Dev F1 0.8636363744735718\n"
     ]
    },
    {
     "data": {
      "application/vnd.jupyter.widget-view+json": {
       "model_id": "6ade8cda86da48bd951061494b10f914",
       "version_major": 2,
       "version_minor": 0
      },
      "text/plain": [
       "  0%|          | 0/10 [00:00<?, ?it/s]"
      ]
     },
     "metadata": {},
     "output_type": "display_data"
    },
    {
     "name": "stdout",
     "output_type": "stream",
     "text": [
      "epoch 236, loss: 0.3204836085438728\n",
      "Dev F1 0.8636363744735718\n"
     ]
    },
    {
     "data": {
      "application/vnd.jupyter.widget-view+json": {
       "model_id": "de8a19e7a8b64ea8ba7c89fc86bb57c4",
       "version_major": 2,
       "version_minor": 0
      },
      "text/plain": [
       "  0%|          | 0/10 [00:00<?, ?it/s]"
      ]
     },
     "metadata": {},
     "output_type": "display_data"
    },
    {
     "name": "stdout",
     "output_type": "stream",
     "text": [
      "epoch 237, loss: 0.32031004428863524\n",
      "Dev F1 0.8636363744735718\n"
     ]
    },
    {
     "data": {
      "application/vnd.jupyter.widget-view+json": {
       "model_id": "8301da4a148740c2866a55d406fd29c3",
       "version_major": 2,
       "version_minor": 0
      },
      "text/plain": [
       "  0%|          | 0/10 [00:00<?, ?it/s]"
      ]
     },
     "metadata": {},
     "output_type": "display_data"
    },
    {
     "name": "stdout",
     "output_type": "stream",
     "text": [
      "epoch 238, loss: 0.32013836652040484\n",
      "Dev F1 0.8636363744735718\n"
     ]
    },
    {
     "data": {
      "application/vnd.jupyter.widget-view+json": {
       "model_id": "a1425da5af394bce83cbfed5b9fa1bb4",
       "version_major": 2,
       "version_minor": 0
      },
      "text/plain": [
       "  0%|          | 0/10 [00:00<?, ?it/s]"
      ]
     },
     "metadata": {},
     "output_type": "display_data"
    },
    {
     "name": "stdout",
     "output_type": "stream",
     "text": [
      "epoch 239, loss: 0.3199686139822006\n",
      "Dev F1 0.8636363744735718\n"
     ]
    },
    {
     "data": {
      "application/vnd.jupyter.widget-view+json": {
       "model_id": "403467fc853b46b39e0bacff85b8ad8c",
       "version_major": 2,
       "version_minor": 0
      },
      "text/plain": [
       "  0%|          | 0/10 [00:00<?, ?it/s]"
      ]
     },
     "metadata": {},
     "output_type": "display_data"
    },
    {
     "name": "stdout",
     "output_type": "stream",
     "text": [
      "epoch 240, loss: 0.3198007300496101\n",
      "Dev F1 0.8636363744735718\n"
     ]
    },
    {
     "data": {
      "application/vnd.jupyter.widget-view+json": {
       "model_id": "6c63dbf6d3434833a170be98336050cb",
       "version_major": 2,
       "version_minor": 0
      },
      "text/plain": [
       "  0%|          | 0/10 [00:00<?, ?it/s]"
      ]
     },
     "metadata": {},
     "output_type": "display_data"
    },
    {
     "name": "stdout",
     "output_type": "stream",
     "text": [
      "epoch 241, loss: 0.3196347147226334\n",
      "Dev F1 0.8636363744735718\n"
     ]
    },
    {
     "data": {
      "application/vnd.jupyter.widget-view+json": {
       "model_id": "46a7ca0b45b6472a8ad5cfc9173ded3b",
       "version_major": 2,
       "version_minor": 0
      },
      "text/plain": [
       "  0%|          | 0/10 [00:00<?, ?it/s]"
      ]
     },
     "metadata": {},
     "output_type": "display_data"
    },
    {
     "name": "stdout",
     "output_type": "stream",
     "text": [
      "epoch 242, loss: 0.31947051286697387\n",
      "Dev F1 0.8636363744735718\n"
     ]
    },
    {
     "data": {
      "application/vnd.jupyter.widget-view+json": {
       "model_id": "65f32fcdad74489f889a9c74c38288e5",
       "version_major": 2,
       "version_minor": 0
      },
      "text/plain": [
       "  0%|          | 0/10 [00:00<?, ?it/s]"
      ]
     },
     "metadata": {},
     "output_type": "display_data"
    },
    {
     "name": "stdout",
     "output_type": "stream",
     "text": [
      "epoch 243, loss: 0.31930813789367674\n",
      "Dev F1 0.8636363744735718\n"
     ]
    },
    {
     "data": {
      "application/vnd.jupyter.widget-view+json": {
       "model_id": "44669c68ea224be3924eb65f90d36243",
       "version_major": 2,
       "version_minor": 0
      },
      "text/plain": [
       "  0%|          | 0/10 [00:00<?, ?it/s]"
      ]
     },
     "metadata": {},
     "output_type": "display_data"
    },
    {
     "name": "stdout",
     "output_type": "stream",
     "text": [
      "epoch 244, loss: 0.31914753168821336\n",
      "Dev F1 0.8636363744735718\n"
     ]
    },
    {
     "data": {
      "application/vnd.jupyter.widget-view+json": {
       "model_id": "2c50b7f80142483794fcf47892d9ad8f",
       "version_major": 2,
       "version_minor": 0
      },
      "text/plain": [
       "  0%|          | 0/10 [00:00<?, ?it/s]"
      ]
     },
     "metadata": {},
     "output_type": "display_data"
    },
    {
     "name": "stdout",
     "output_type": "stream",
     "text": [
      "epoch 245, loss: 0.3189887210726738\n",
      "Dev F1 0.8636363744735718\n"
     ]
    },
    {
     "data": {
      "application/vnd.jupyter.widget-view+json": {
       "model_id": "e3a23921465948c1917e707b7a698a25",
       "version_major": 2,
       "version_minor": 0
      },
      "text/plain": [
       "  0%|          | 0/10 [00:00<?, ?it/s]"
      ]
     },
     "metadata": {},
     "output_type": "display_data"
    },
    {
     "name": "stdout",
     "output_type": "stream",
     "text": [
      "epoch 246, loss: 0.31883164644241335\n",
      "Dev F1 0.8636363744735718\n"
     ]
    },
    {
     "data": {
      "application/vnd.jupyter.widget-view+json": {
       "model_id": "ea262c8c077c41c99b6ba9702d82f19f",
       "version_major": 2,
       "version_minor": 0
      },
      "text/plain": [
       "  0%|          | 0/10 [00:00<?, ?it/s]"
      ]
     },
     "metadata": {},
     "output_type": "display_data"
    },
    {
     "name": "stdout",
     "output_type": "stream",
     "text": [
      "epoch 247, loss: 0.31867627501487733\n",
      "Dev F1 0.8636363744735718\n"
     ]
    },
    {
     "data": {
      "application/vnd.jupyter.widget-view+json": {
       "model_id": "918d78ce3b984739a134c9bd82f0329f",
       "version_major": 2,
       "version_minor": 0
      },
      "text/plain": [
       "  0%|          | 0/10 [00:00<?, ?it/s]"
      ]
     },
     "metadata": {},
     "output_type": "display_data"
    },
    {
     "name": "stdout",
     "output_type": "stream",
     "text": [
      "epoch 248, loss: 0.31852259635925295\n",
      "Dev F1 0.8636363744735718\n"
     ]
    },
    {
     "data": {
      "application/vnd.jupyter.widget-view+json": {
       "model_id": "c4f547c1ac8d47dd83012e3cb277cb1c",
       "version_major": 2,
       "version_minor": 0
      },
      "text/plain": [
       "  0%|          | 0/10 [00:00<?, ?it/s]"
      ]
     },
     "metadata": {},
     "output_type": "display_data"
    },
    {
     "name": "stdout",
     "output_type": "stream",
     "text": [
      "epoch 249, loss: 0.3183706223964691\n",
      "Dev F1 0.8636363744735718\n"
     ]
    },
    {
     "data": {
      "application/vnd.jupyter.widget-view+json": {
       "model_id": "223de48a32384adab9c483e2ab8056cf",
       "version_major": 2,
       "version_minor": 0
      },
      "text/plain": [
       "  0%|          | 0/10 [00:00<?, ?it/s]"
      ]
     },
     "metadata": {},
     "output_type": "display_data"
    },
    {
     "name": "stdout",
     "output_type": "stream",
     "text": [
      "epoch 250, loss: 0.31822029799222945\n",
      "Dev F1 0.8636363744735718\n"
     ]
    },
    {
     "data": {
      "application/vnd.jupyter.widget-view+json": {
       "model_id": "6209c4005cbf4b55a8718a4ec1b2ac61",
       "version_major": 2,
       "version_minor": 0
      },
      "text/plain": [
       "  0%|          | 0/10 [00:00<?, ?it/s]"
      ]
     },
     "metadata": {},
     "output_type": "display_data"
    },
    {
     "name": "stdout",
     "output_type": "stream",
     "text": [
      "epoch 251, loss: 0.3180716261267662\n",
      "Dev F1 0.8636363744735718\n"
     ]
    },
    {
     "data": {
      "application/vnd.jupyter.widget-view+json": {
       "model_id": "d00da2db3975422ab41e77ff87baac90",
       "version_major": 2,
       "version_minor": 0
      },
      "text/plain": [
       "  0%|          | 0/10 [00:00<?, ?it/s]"
      ]
     },
     "metadata": {},
     "output_type": "display_data"
    },
    {
     "name": "stdout",
     "output_type": "stream",
     "text": [
      "epoch 252, loss: 0.31792455464601516\n",
      "Dev F1 0.8636363744735718\n"
     ]
    },
    {
     "data": {
      "application/vnd.jupyter.widget-view+json": {
       "model_id": "dd3ed13f47594e168c206f8c11913aeb",
       "version_major": 2,
       "version_minor": 0
      },
      "text/plain": [
       "  0%|          | 0/10 [00:00<?, ?it/s]"
      ]
     },
     "metadata": {},
     "output_type": "display_data"
    },
    {
     "name": "stdout",
     "output_type": "stream",
     "text": [
      "epoch 253, loss: 0.3177791088819504\n",
      "Dev F1 0.8636363744735718\n"
     ]
    },
    {
     "data": {
      "application/vnd.jupyter.widget-view+json": {
       "model_id": "95f966e939394e368750d8c5a133b27e",
       "version_major": 2,
       "version_minor": 0
      },
      "text/plain": [
       "  0%|          | 0/10 [00:00<?, ?it/s]"
      ]
     },
     "metadata": {},
     "output_type": "display_data"
    },
    {
     "name": "stdout",
     "output_type": "stream",
     "text": [
      "epoch 254, loss: 0.317635215818882\n",
      "Dev F1 0.8636363744735718\n"
     ]
    },
    {
     "data": {
      "application/vnd.jupyter.widget-view+json": {
       "model_id": "1d50849a38104158930eb6c688fd8467",
       "version_major": 2,
       "version_minor": 0
      },
      "text/plain": [
       "  0%|          | 0/10 [00:00<?, ?it/s]"
      ]
     },
     "metadata": {},
     "output_type": "display_data"
    },
    {
     "name": "stdout",
     "output_type": "stream",
     "text": [
      "epoch 255, loss: 0.3174929141998291\n",
      "Dev F1 0.8636363744735718\n"
     ]
    },
    {
     "data": {
      "application/vnd.jupyter.widget-view+json": {
       "model_id": "e42d1603676d4988b1435ab9159336b8",
       "version_major": 2,
       "version_minor": 0
      },
      "text/plain": [
       "  0%|          | 0/10 [00:00<?, ?it/s]"
      ]
     },
     "metadata": {},
     "output_type": "display_data"
    },
    {
     "name": "stdout",
     "output_type": "stream",
     "text": [
      "epoch 256, loss: 0.3173521339893341\n",
      "Dev F1 0.8636363744735718\n"
     ]
    },
    {
     "data": {
      "application/vnd.jupyter.widget-view+json": {
       "model_id": "04e7216e1f5e4e3c8a08f0f83045040d",
       "version_major": 2,
       "version_minor": 0
      },
      "text/plain": [
       "  0%|          | 0/10 [00:00<?, ?it/s]"
      ]
     },
     "metadata": {},
     "output_type": "display_data"
    },
    {
     "name": "stdout",
     "output_type": "stream",
     "text": [
      "epoch 257, loss: 0.3172129139304161\n",
      "Dev F1 0.8636363744735718\n"
     ]
    },
    {
     "data": {
      "application/vnd.jupyter.widget-view+json": {
       "model_id": "4aa27c1f37964d5c9f4961504bb3cfb1",
       "version_major": 2,
       "version_minor": 0
      },
      "text/plain": [
       "  0%|          | 0/10 [00:00<?, ?it/s]"
      ]
     },
     "metadata": {},
     "output_type": "display_data"
    },
    {
     "name": "stdout",
     "output_type": "stream",
     "text": [
      "epoch 258, loss: 0.31707517951726916\n",
      "Dev F1 0.8636363744735718\n"
     ]
    },
    {
     "data": {
      "application/vnd.jupyter.widget-view+json": {
       "model_id": "c24e2996bec2409e890cb0efa61faa5d",
       "version_major": 2,
       "version_minor": 0
      },
      "text/plain": [
       "  0%|          | 0/10 [00:00<?, ?it/s]"
      ]
     },
     "metadata": {},
     "output_type": "display_data"
    },
    {
     "name": "stdout",
     "output_type": "stream",
     "text": [
      "epoch 259, loss: 0.3169389083981514\n",
      "Dev F1 0.8636363744735718\n"
     ]
    },
    {
     "data": {
      "application/vnd.jupyter.widget-view+json": {
       "model_id": "7422c25e29994ed6a69774e906d6155a",
       "version_major": 2,
       "version_minor": 0
      },
      "text/plain": [
       "  0%|          | 0/10 [00:00<?, ?it/s]"
      ]
     },
     "metadata": {},
     "output_type": "display_data"
    },
    {
     "name": "stdout",
     "output_type": "stream",
     "text": [
      "epoch 260, loss: 0.3168041259050369\n",
      "Dev F1 0.8636363744735718\n"
     ]
    },
    {
     "data": {
      "application/vnd.jupyter.widget-view+json": {
       "model_id": "5790a37eb0124b88ac6d8b5b81939892",
       "version_major": 2,
       "version_minor": 0
      },
      "text/plain": [
       "  0%|          | 0/10 [00:00<?, ?it/s]"
      ]
     },
     "metadata": {},
     "output_type": "display_data"
    },
    {
     "name": "stdout",
     "output_type": "stream",
     "text": [
      "epoch 261, loss: 0.3166708186268806\n",
      "Dev F1 0.8636363744735718\n"
     ]
    },
    {
     "data": {
      "application/vnd.jupyter.widget-view+json": {
       "model_id": "22abc04efcda460c8e0d09653ca78739",
       "version_major": 2,
       "version_minor": 0
      },
      "text/plain": [
       "  0%|          | 0/10 [00:00<?, ?it/s]"
      ]
     },
     "metadata": {},
     "output_type": "display_data"
    },
    {
     "name": "stdout",
     "output_type": "stream",
     "text": [
      "epoch 262, loss: 0.3165389120578766\n",
      "Dev F1 0.8636363744735718\n"
     ]
    },
    {
     "data": {
      "application/vnd.jupyter.widget-view+json": {
       "model_id": "84a9fc74f80a46e1a5c6c0e19b3a37c4",
       "version_major": 2,
       "version_minor": 0
      },
      "text/plain": [
       "  0%|          | 0/10 [00:00<?, ?it/s]"
      ]
     },
     "metadata": {},
     "output_type": "display_data"
    },
    {
     "name": "stdout",
     "output_type": "stream",
     "text": [
      "epoch 263, loss: 0.3164084404706955\n",
      "Dev F1 0.8636363744735718\n"
     ]
    },
    {
     "data": {
      "application/vnd.jupyter.widget-view+json": {
       "model_id": "c08a719caf5a41cf95ae2ac500d59885",
       "version_major": 2,
       "version_minor": 0
      },
      "text/plain": [
       "  0%|          | 0/10 [00:00<?, ?it/s]"
      ]
     },
     "metadata": {},
     "output_type": "display_data"
    },
    {
     "name": "stdout",
     "output_type": "stream",
     "text": [
      "epoch 264, loss: 0.3162793591618538\n",
      "Dev F1 0.8636363744735718\n"
     ]
    },
    {
     "data": {
      "application/vnd.jupyter.widget-view+json": {
       "model_id": "3b656754916f4976852794cb3fa2512a",
       "version_major": 2,
       "version_minor": 0
      },
      "text/plain": [
       "  0%|          | 0/10 [00:00<?, ?it/s]"
      ]
     },
     "metadata": {},
     "output_type": "display_data"
    },
    {
     "name": "stdout",
     "output_type": "stream",
     "text": [
      "epoch 265, loss: 0.31615168452262876\n",
      "Dev F1 0.8636363744735718\n"
     ]
    },
    {
     "data": {
      "application/vnd.jupyter.widget-view+json": {
       "model_id": "9519bdb9e9464320a2aa5db28dc72dcb",
       "version_major": 2,
       "version_minor": 0
      },
      "text/plain": [
       "  0%|          | 0/10 [00:00<?, ?it/s]"
      ]
     },
     "metadata": {},
     "output_type": "display_data"
    },
    {
     "name": "stdout",
     "output_type": "stream",
     "text": [
      "epoch 266, loss: 0.31602535396814346\n",
      "Dev F1 0.8636363744735718\n"
     ]
    },
    {
     "data": {
      "application/vnd.jupyter.widget-view+json": {
       "model_id": "5fe1e387ba4347348346fa3d8c92f22d",
       "version_major": 2,
       "version_minor": 0
      },
      "text/plain": [
       "  0%|          | 0/10 [00:00<?, ?it/s]"
      ]
     },
     "metadata": {},
     "output_type": "display_data"
    },
    {
     "name": "stdout",
     "output_type": "stream",
     "text": [
      "epoch 267, loss: 0.3159003868699074\n",
      "Dev F1 0.8636363744735718\n"
     ]
    },
    {
     "data": {
      "application/vnd.jupyter.widget-view+json": {
       "model_id": "8d12aaf4c7414f9793ab26044e0f10b2",
       "version_major": 2,
       "version_minor": 0
      },
      "text/plain": [
       "  0%|          | 0/10 [00:00<?, ?it/s]"
      ]
     },
     "metadata": {},
     "output_type": "display_data"
    },
    {
     "name": "stdout",
     "output_type": "stream",
     "text": [
      "epoch 268, loss: 0.3157767578959465\n",
      "Dev F1 0.8636363744735718\n"
     ]
    },
    {
     "data": {
      "application/vnd.jupyter.widget-view+json": {
       "model_id": "6a617fa8460f49f2bb2990a15724201b",
       "version_major": 2,
       "version_minor": 0
      },
      "text/plain": [
       "  0%|          | 0/10 [00:00<?, ?it/s]"
      ]
     },
     "metadata": {},
     "output_type": "display_data"
    },
    {
     "name": "stdout",
     "output_type": "stream",
     "text": [
      "epoch 269, loss: 0.31565443277359007\n",
      "Dev F1 0.8636363744735718\n"
     ]
    },
    {
     "data": {
      "application/vnd.jupyter.widget-view+json": {
       "model_id": "64693386ca714a6d9e513e395276b339",
       "version_major": 2,
       "version_minor": 0
      },
      "text/plain": [
       "  0%|          | 0/10 [00:00<?, ?it/s]"
      ]
     },
     "metadata": {},
     "output_type": "display_data"
    },
    {
     "name": "stdout",
     "output_type": "stream",
     "text": [
      "epoch 270, loss: 0.31553344428539276\n",
      "Dev F1 0.8636363744735718\n"
     ]
    },
    {
     "data": {
      "application/vnd.jupyter.widget-view+json": {
       "model_id": "5e378cbf061045d09edb7198e8333f99",
       "version_major": 2,
       "version_minor": 0
      },
      "text/plain": [
       "  0%|          | 0/10 [00:00<?, ?it/s]"
      ]
     },
     "metadata": {},
     "output_type": "display_data"
    },
    {
     "name": "stdout",
     "output_type": "stream",
     "text": [
      "epoch 271, loss: 0.3154137134552002\n",
      "Dev F1 0.8636363744735718\n"
     ]
    },
    {
     "data": {
      "application/vnd.jupyter.widget-view+json": {
       "model_id": "7d3d31899a344e5499f87dad1a545be4",
       "version_major": 2,
       "version_minor": 0
      },
      "text/plain": [
       "  0%|          | 0/10 [00:00<?, ?it/s]"
      ]
     },
     "metadata": {},
     "output_type": "display_data"
    },
    {
     "name": "stdout",
     "output_type": "stream",
     "text": [
      "epoch 272, loss: 0.31529528051614764\n",
      "Dev F1 0.8636363744735718\n"
     ]
    },
    {
     "data": {
      "application/vnd.jupyter.widget-view+json": {
       "model_id": "6d93aa27e8c846b3bbf171684a0dccaf",
       "version_major": 2,
       "version_minor": 0
      },
      "text/plain": [
       "  0%|          | 0/10 [00:00<?, ?it/s]"
      ]
     },
     "metadata": {},
     "output_type": "display_data"
    },
    {
     "name": "stdout",
     "output_type": "stream",
     "text": [
      "epoch 273, loss: 0.3151780888438225\n",
      "Dev F1 0.8636363744735718\n"
     ]
    },
    {
     "data": {
      "application/vnd.jupyter.widget-view+json": {
       "model_id": "39c2af2f3ae44884ac274b1ec32fa050",
       "version_major": 2,
       "version_minor": 0
      },
      "text/plain": [
       "  0%|          | 0/10 [00:00<?, ?it/s]"
      ]
     },
     "metadata": {},
     "output_type": "display_data"
    },
    {
     "name": "stdout",
     "output_type": "stream",
     "text": [
      "epoch 274, loss: 0.315062153339386\n",
      "Dev F1 0.8636363744735718\n"
     ]
    },
    {
     "data": {
      "application/vnd.jupyter.widget-view+json": {
       "model_id": "b97b841dc9fa41d58d0c6baa7e47159c",
       "version_major": 2,
       "version_minor": 0
      },
      "text/plain": [
       "  0%|          | 0/10 [00:00<?, ?it/s]"
      ]
     },
     "metadata": {},
     "output_type": "display_data"
    },
    {
     "name": "stdout",
     "output_type": "stream",
     "text": [
      "epoch 275, loss: 0.3149474531412125\n",
      "Dev F1 0.8636363744735718\n"
     ]
    },
    {
     "data": {
      "application/vnd.jupyter.widget-view+json": {
       "model_id": "57f2fdf681494103aa02e3a4e4749aef",
       "version_major": 2,
       "version_minor": 0
      },
      "text/plain": [
       "  0%|          | 0/10 [00:00<?, ?it/s]"
      ]
     },
     "metadata": {},
     "output_type": "display_data"
    },
    {
     "name": "stdout",
     "output_type": "stream",
     "text": [
      "epoch 276, loss: 0.3148339420557022\n",
      "Dev F1 0.8636363744735718\n"
     ]
    },
    {
     "data": {
      "application/vnd.jupyter.widget-view+json": {
       "model_id": "0ee67fa88c344666a963f0d0dd4df5e9",
       "version_major": 2,
       "version_minor": 0
      },
      "text/plain": [
       "  0%|          | 0/10 [00:00<?, ?it/s]"
      ]
     },
     "metadata": {},
     "output_type": "display_data"
    },
    {
     "name": "stdout",
     "output_type": "stream",
     "text": [
      "epoch 277, loss: 0.31472165137529373\n",
      "Dev F1 0.8636363744735718\n"
     ]
    },
    {
     "data": {
      "application/vnd.jupyter.widget-view+json": {
       "model_id": "149d110051084464b2dae3acea30c9b6",
       "version_major": 2,
       "version_minor": 0
      },
      "text/plain": [
       "  0%|          | 0/10 [00:00<?, ?it/s]"
      ]
     },
     "metadata": {},
     "output_type": "display_data"
    },
    {
     "name": "stdout",
     "output_type": "stream",
     "text": [
      "epoch 278, loss: 0.31461053192615507\n",
      "Dev F1 0.8636363744735718\n"
     ]
    },
    {
     "data": {
      "application/vnd.jupyter.widget-view+json": {
       "model_id": "065d1b832b454355bdf17619feeb1c97",
       "version_major": 2,
       "version_minor": 0
      },
      "text/plain": [
       "  0%|          | 0/10 [00:00<?, ?it/s]"
      ]
     },
     "metadata": {},
     "output_type": "display_data"
    },
    {
     "name": "stdout",
     "output_type": "stream",
     "text": [
      "epoch 279, loss: 0.31450059562921523\n",
      "Dev F1 0.8636363744735718\n"
     ]
    },
    {
     "data": {
      "application/vnd.jupyter.widget-view+json": {
       "model_id": "3f429a9deab5475d9e5b35f6ac1fc7a5",
       "version_major": 2,
       "version_minor": 0
      },
      "text/plain": [
       "  0%|          | 0/10 [00:00<?, ?it/s]"
      ]
     },
     "metadata": {},
     "output_type": "display_data"
    },
    {
     "name": "stdout",
     "output_type": "stream",
     "text": [
      "epoch 280, loss: 0.31439180821180346\n",
      "Dev F1 0.8636363744735718\n"
     ]
    },
    {
     "data": {
      "application/vnd.jupyter.widget-view+json": {
       "model_id": "d9d3604079f445acb21aa006a34c307e",
       "version_major": 2,
       "version_minor": 0
      },
      "text/plain": [
       "  0%|          | 0/10 [00:00<?, ?it/s]"
      ]
     },
     "metadata": {},
     "output_type": "display_data"
    },
    {
     "name": "stdout",
     "output_type": "stream",
     "text": [
      "epoch 281, loss: 0.31428416818380356\n",
      "Dev F1 0.8636363744735718\n"
     ]
    },
    {
     "data": {
      "application/vnd.jupyter.widget-view+json": {
       "model_id": "40e99e62216d421e8fc2fe4bb9172acf",
       "version_major": 2,
       "version_minor": 0
      },
      "text/plain": [
       "  0%|          | 0/10 [00:00<?, ?it/s]"
      ]
     },
     "metadata": {},
     "output_type": "display_data"
    },
    {
     "name": "stdout",
     "output_type": "stream",
     "text": [
      "epoch 282, loss: 0.31417767852544787\n",
      "Dev F1 0.8636363744735718\n"
     ]
    },
    {
     "data": {
      "application/vnd.jupyter.widget-view+json": {
       "model_id": "b80c0ce4e1ad405398fb28cb92b00dd4",
       "version_major": 2,
       "version_minor": 0
      },
      "text/plain": [
       "  0%|          | 0/10 [00:00<?, ?it/s]"
      ]
     },
     "metadata": {},
     "output_type": "display_data"
    },
    {
     "name": "stdout",
     "output_type": "stream",
     "text": [
      "epoch 283, loss: 0.31407227367162704\n",
      "Dev F1 0.8636363744735718\n"
     ]
    },
    {
     "data": {
      "application/vnd.jupyter.widget-view+json": {
       "model_id": "4c5d32ce540b4f24a72966b33f528dc4",
       "version_major": 2,
       "version_minor": 0
      },
      "text/plain": [
       "  0%|          | 0/10 [00:00<?, ?it/s]"
      ]
     },
     "metadata": {},
     "output_type": "display_data"
    },
    {
     "name": "stdout",
     "output_type": "stream",
     "text": [
      "epoch 284, loss: 0.3139679983258247\n",
      "Dev F1 0.8636363744735718\n"
     ]
    },
    {
     "data": {
      "application/vnd.jupyter.widget-view+json": {
       "model_id": "ecf2f53f5110480fb115faa83bb30607",
       "version_major": 2,
       "version_minor": 0
      },
      "text/plain": [
       "  0%|          | 0/10 [00:00<?, ?it/s]"
      ]
     },
     "metadata": {},
     "output_type": "display_data"
    },
    {
     "name": "stdout",
     "output_type": "stream",
     "text": [
      "epoch 285, loss: 0.3138648197054863\n",
      "Dev F1 0.8636363744735718\n"
     ]
    },
    {
     "data": {
      "application/vnd.jupyter.widget-view+json": {
       "model_id": "b223474ef5134a77bb6091f26649f0d5",
       "version_major": 2,
       "version_minor": 0
      },
      "text/plain": [
       "  0%|          | 0/10 [00:00<?, ?it/s]"
      ]
     },
     "metadata": {},
     "output_type": "display_data"
    },
    {
     "name": "stdout",
     "output_type": "stream",
     "text": [
      "epoch 286, loss: 0.3137626931071281\n",
      "Dev F1 0.8636363744735718\n"
     ]
    },
    {
     "data": {
      "application/vnd.jupyter.widget-view+json": {
       "model_id": "df22ebc3c8f344ea9318ecc2e154a1fc",
       "version_major": 2,
       "version_minor": 0
      },
      "text/plain": [
       "  0%|          | 0/10 [00:00<?, ?it/s]"
      ]
     },
     "metadata": {},
     "output_type": "display_data"
    },
    {
     "name": "stdout",
     "output_type": "stream",
     "text": [
      "epoch 287, loss: 0.31366166472435\n",
      "Dev F1 0.8636363744735718\n"
     ]
    },
    {
     "data": {
      "application/vnd.jupyter.widget-view+json": {
       "model_id": "9db1e13a9a6248309c3ff992fc6e89e0",
       "version_major": 2,
       "version_minor": 0
      },
      "text/plain": [
       "  0%|          | 0/10 [00:00<?, ?it/s]"
      ]
     },
     "metadata": {},
     "output_type": "display_data"
    },
    {
     "name": "stdout",
     "output_type": "stream",
     "text": [
      "epoch 288, loss: 0.3135616660118103\n",
      "Dev F1 0.8636363744735718\n"
     ]
    },
    {
     "data": {
      "application/vnd.jupyter.widget-view+json": {
       "model_id": "c01a5eea800c478b90cfb057aa72f66d",
       "version_major": 2,
       "version_minor": 0
      },
      "text/plain": [
       "  0%|          | 0/10 [00:00<?, ?it/s]"
      ]
     },
     "metadata": {},
     "output_type": "display_data"
    },
    {
     "name": "stdout",
     "output_type": "stream",
     "text": [
      "epoch 289, loss: 0.31346272975206374\n",
      "Dev F1 0.8636363744735718\n"
     ]
    },
    {
     "data": {
      "application/vnd.jupyter.widget-view+json": {
       "model_id": "3aedcfd4514845f59eb786f2e474086e",
       "version_major": 2,
       "version_minor": 0
      },
      "text/plain": [
       "  0%|          | 0/10 [00:00<?, ?it/s]"
      ]
     },
     "metadata": {},
     "output_type": "display_data"
    },
    {
     "name": "stdout",
     "output_type": "stream",
     "text": [
      "epoch 290, loss: 0.31336482614278793\n",
      "Dev F1 0.8636363744735718\n"
     ]
    },
    {
     "data": {
      "application/vnd.jupyter.widget-view+json": {
       "model_id": "79c81ae7971f4babb3c7fd7c39cdff91",
       "version_major": 2,
       "version_minor": 0
      },
      "text/plain": [
       "  0%|          | 0/10 [00:00<?, ?it/s]"
      ]
     },
     "metadata": {},
     "output_type": "display_data"
    },
    {
     "name": "stdout",
     "output_type": "stream",
     "text": [
      "epoch 291, loss: 0.3132679060101509\n",
      "Dev F1 0.8636363744735718\n"
     ]
    },
    {
     "data": {
      "application/vnd.jupyter.widget-view+json": {
       "model_id": "fce9541cff1d42e299a9256ec15173bf",
       "version_major": 2,
       "version_minor": 0
      },
      "text/plain": [
       "  0%|          | 0/10 [00:00<?, ?it/s]"
      ]
     },
     "metadata": {},
     "output_type": "display_data"
    },
    {
     "name": "stdout",
     "output_type": "stream",
     "text": [
      "epoch 292, loss: 0.3131720259785652\n",
      "Dev F1 0.8636363744735718\n"
     ]
    },
    {
     "data": {
      "application/vnd.jupyter.widget-view+json": {
       "model_id": "dffec51794054c70ba322dfa467975d9",
       "version_major": 2,
       "version_minor": 0
      },
      "text/plain": [
       "  0%|          | 0/10 [00:00<?, ?it/s]"
      ]
     },
     "metadata": {},
     "output_type": "display_data"
    },
    {
     "name": "stdout",
     "output_type": "stream",
     "text": [
      "epoch 293, loss: 0.3130771204829216\n",
      "Dev F1 0.8636363744735718\n"
     ]
    },
    {
     "data": {
      "application/vnd.jupyter.widget-view+json": {
       "model_id": "9e916af822454acfa4e4a3a68093a897",
       "version_major": 2,
       "version_minor": 0
      },
      "text/plain": [
       "  0%|          | 0/10 [00:00<?, ?it/s]"
      ]
     },
     "metadata": {},
     "output_type": "display_data"
    },
    {
     "name": "stdout",
     "output_type": "stream",
     "text": [
      "epoch 294, loss: 0.31298319399356844\n",
      "Dev F1 0.8636363744735718\n"
     ]
    },
    {
     "data": {
      "application/vnd.jupyter.widget-view+json": {
       "model_id": "cf712969073345fb83e3052b2c07f71e",
       "version_major": 2,
       "version_minor": 0
      },
      "text/plain": [
       "  0%|          | 0/10 [00:00<?, ?it/s]"
      ]
     },
     "metadata": {},
     "output_type": "display_data"
    },
    {
     "name": "stdout",
     "output_type": "stream",
     "text": [
      "epoch 295, loss: 0.3128902420401573\n",
      "Dev F1 0.8636363744735718\n"
     ]
    },
    {
     "data": {
      "application/vnd.jupyter.widget-view+json": {
       "model_id": "407177c44b084a4584bb6d4c991c0429",
       "version_major": 2,
       "version_minor": 0
      },
      "text/plain": [
       "  0%|          | 0/10 [00:00<?, ?it/s]"
      ]
     },
     "metadata": {},
     "output_type": "display_data"
    },
    {
     "name": "stdout",
     "output_type": "stream",
     "text": [
      "epoch 296, loss: 0.312798285484314\n",
      "Dev F1 0.8636363744735718\n"
     ]
    },
    {
     "data": {
      "application/vnd.jupyter.widget-view+json": {
       "model_id": "433894c399ca4da3abc7735ab0a23418",
       "version_major": 2,
       "version_minor": 0
      },
      "text/plain": [
       "  0%|          | 0/10 [00:00<?, ?it/s]"
      ]
     },
     "metadata": {},
     "output_type": "display_data"
    },
    {
     "name": "stdout",
     "output_type": "stream",
     "text": [
      "epoch 297, loss: 0.31270722299814224\n",
      "Dev F1 0.8636363744735718\n"
     ]
    },
    {
     "data": {
      "application/vnd.jupyter.widget-view+json": {
       "model_id": "73d9af3026d24cacb2f8dce8e70c8869",
       "version_major": 2,
       "version_minor": 0
      },
      "text/plain": [
       "  0%|          | 0/10 [00:00<?, ?it/s]"
      ]
     },
     "metadata": {},
     "output_type": "display_data"
    },
    {
     "name": "stdout",
     "output_type": "stream",
     "text": [
      "epoch 298, loss: 0.3126171603798866\n",
      "Dev F1 0.8636363744735718\n"
     ]
    },
    {
     "data": {
      "application/vnd.jupyter.widget-view+json": {
       "model_id": "7d8200a63f924030bad5c38a16471336",
       "version_major": 2,
       "version_minor": 0
      },
      "text/plain": [
       "  0%|          | 0/10 [00:00<?, ?it/s]"
      ]
     },
     "metadata": {},
     "output_type": "display_data"
    },
    {
     "name": "stdout",
     "output_type": "stream",
     "text": [
      "epoch 299, loss: 0.31252799481153487\n",
      "Dev F1 0.8636363744735718\n"
     ]
    },
    {
     "data": {
      "application/vnd.jupyter.widget-view+json": {
       "model_id": "29d2698cf99d4c8295f4fcd31291e474",
       "version_major": 2,
       "version_minor": 0
      },
      "text/plain": [
       "  0%|          | 0/10 [00:00<?, ?it/s]"
      ]
     },
     "metadata": {},
     "output_type": "display_data"
    },
    {
     "name": "stdout",
     "output_type": "stream",
     "text": [
      "epoch 300, loss: 0.31243972182273866\n",
      "Dev F1 0.8636363744735718\n"
     ]
    },
    {
     "data": {
      "application/vnd.jupyter.widget-view+json": {
       "model_id": "dedde4267a4f47a6b901d9c1d1fd69eb",
       "version_major": 2,
       "version_minor": 0
      },
      "text/plain": [
       "  0%|          | 0/10 [00:00<?, ?it/s]"
      ]
     },
     "metadata": {},
     "output_type": "display_data"
    },
    {
     "name": "stdout",
     "output_type": "stream",
     "text": [
      "epoch 301, loss: 0.31235239654779434\n",
      "Dev F1 0.8636363744735718\n"
     ]
    },
    {
     "data": {
      "application/vnd.jupyter.widget-view+json": {
       "model_id": "0e1207b12a3c4eca9d10bb848e54ee86",
       "version_major": 2,
       "version_minor": 0
      },
      "text/plain": [
       "  0%|          | 0/10 [00:00<?, ?it/s]"
      ]
     },
     "metadata": {},
     "output_type": "display_data"
    },
    {
     "name": "stdout",
     "output_type": "stream",
     "text": [
      "epoch 302, loss: 0.31226594746112823\n",
      "Dev F1 0.8636363744735718\n"
     ]
    },
    {
     "data": {
      "application/vnd.jupyter.widget-view+json": {
       "model_id": "d44bd2baaa214ad794e639b36ecb074b",
       "version_major": 2,
       "version_minor": 0
      },
      "text/plain": [
       "  0%|          | 0/10 [00:00<?, ?it/s]"
      ]
     },
     "metadata": {},
     "output_type": "display_data"
    },
    {
     "name": "stdout",
     "output_type": "stream",
     "text": [
      "epoch 303, loss: 0.3121803760528564\n",
      "Dev F1 0.8636363744735718\n"
     ]
    },
    {
     "data": {
      "application/vnd.jupyter.widget-view+json": {
       "model_id": "03a5c3b76fb84ff384ea1c4d253f03de",
       "version_major": 2,
       "version_minor": 0
      },
      "text/plain": [
       "  0%|          | 0/10 [00:00<?, ?it/s]"
      ]
     },
     "metadata": {},
     "output_type": "display_data"
    },
    {
     "name": "stdout",
     "output_type": "stream",
     "text": [
      "epoch 304, loss: 0.31209568977355956\n",
      "Dev F1 0.8636363744735718\n"
     ]
    },
    {
     "data": {
      "application/vnd.jupyter.widget-view+json": {
       "model_id": "25e4564b76f64b7589e9fc12663745f3",
       "version_major": 2,
       "version_minor": 0
      },
      "text/plain": [
       "  0%|          | 0/10 [00:00<?, ?it/s]"
      ]
     },
     "metadata": {},
     "output_type": "display_data"
    },
    {
     "name": "stdout",
     "output_type": "stream",
     "text": [
      "epoch 305, loss: 0.3120118618011475\n",
      "Dev F1 0.8636363744735718\n"
     ]
    },
    {
     "data": {
      "application/vnd.jupyter.widget-view+json": {
       "model_id": "fd6ce2857b724652af0f5804fbaa26cb",
       "version_major": 2,
       "version_minor": 0
      },
      "text/plain": [
       "  0%|          | 0/10 [00:00<?, ?it/s]"
      ]
     },
     "metadata": {},
     "output_type": "display_data"
    },
    {
     "name": "stdout",
     "output_type": "stream",
     "text": [
      "epoch 306, loss: 0.3119289055466652\n",
      "Dev F1 0.8636363744735718\n"
     ]
    },
    {
     "data": {
      "application/vnd.jupyter.widget-view+json": {
       "model_id": "5172d273c8dc4569a4bdacc11fe6a5c2",
       "version_major": 2,
       "version_minor": 0
      },
      "text/plain": [
       "  0%|          | 0/10 [00:00<?, ?it/s]"
      ]
     },
     "metadata": {},
     "output_type": "display_data"
    },
    {
     "name": "stdout",
     "output_type": "stream",
     "text": [
      "epoch 307, loss: 0.31184676140546796\n",
      "Dev F1 0.8636363744735718\n"
     ]
    },
    {
     "data": {
      "application/vnd.jupyter.widget-view+json": {
       "model_id": "5aeb6eebaa374f34888c675a072c4621",
       "version_major": 2,
       "version_minor": 0
      },
      "text/plain": [
       "  0%|          | 0/10 [00:00<?, ?it/s]"
      ]
     },
     "metadata": {},
     "output_type": "display_data"
    },
    {
     "name": "stdout",
     "output_type": "stream",
     "text": [
      "epoch 308, loss: 0.31176547706127167\n",
      "Dev F1 0.8636363744735718\n"
     ]
    },
    {
     "data": {
      "application/vnd.jupyter.widget-view+json": {
       "model_id": "e65a5bb1b240411b89c5efff9ac30b1a",
       "version_major": 2,
       "version_minor": 0
      },
      "text/plain": [
       "  0%|          | 0/10 [00:00<?, ?it/s]"
      ]
     },
     "metadata": {},
     "output_type": "display_data"
    },
    {
     "name": "stdout",
     "output_type": "stream",
     "text": [
      "epoch 309, loss: 0.31168501973152163\n",
      "Dev F1 0.8636363744735718\n"
     ]
    },
    {
     "data": {
      "application/vnd.jupyter.widget-view+json": {
       "model_id": "787e51a5784b4cac9f117436e985729f",
       "version_major": 2,
       "version_minor": 0
      },
      "text/plain": [
       "  0%|          | 0/10 [00:00<?, ?it/s]"
      ]
     },
     "metadata": {},
     "output_type": "display_data"
    },
    {
     "name": "stdout",
     "output_type": "stream",
     "text": [
      "epoch 310, loss: 0.31160537898540497\n",
      "Dev F1 0.8636363744735718\n"
     ]
    },
    {
     "data": {
      "application/vnd.jupyter.widget-view+json": {
       "model_id": "670ab48fe6004396af829094e67681d0",
       "version_major": 2,
       "version_minor": 0
      },
      "text/plain": [
       "  0%|          | 0/10 [00:00<?, ?it/s]"
      ]
     },
     "metadata": {},
     "output_type": "display_data"
    },
    {
     "name": "stdout",
     "output_type": "stream",
     "text": [
      "epoch 311, loss: 0.3115265414118767\n",
      "Dev F1 0.8636363744735718\n"
     ]
    },
    {
     "data": {
      "application/vnd.jupyter.widget-view+json": {
       "model_id": "99297c239db64f4f855f382d540b92cb",
       "version_major": 2,
       "version_minor": 0
      },
      "text/plain": [
       "  0%|          | 0/10 [00:00<?, ?it/s]"
      ]
     },
     "metadata": {},
     "output_type": "display_data"
    },
    {
     "name": "stdout",
     "output_type": "stream",
     "text": [
      "epoch 312, loss: 0.31144849509000777\n",
      "Dev F1 0.8636363744735718\n"
     ]
    },
    {
     "data": {
      "application/vnd.jupyter.widget-view+json": {
       "model_id": "71e14f068c284dbfaa45c8413a245a11",
       "version_major": 2,
       "version_minor": 0
      },
      "text/plain": [
       "  0%|          | 0/10 [00:00<?, ?it/s]"
      ]
     },
     "metadata": {},
     "output_type": "display_data"
    },
    {
     "name": "stdout",
     "output_type": "stream",
     "text": [
      "epoch 313, loss: 0.3113712415099144\n",
      "Dev F1 0.8636363744735718\n"
     ]
    },
    {
     "data": {
      "application/vnd.jupyter.widget-view+json": {
       "model_id": "b4ad517423ed42b299d6f7b227fb5a2b",
       "version_major": 2,
       "version_minor": 0
      },
      "text/plain": [
       "  0%|          | 0/10 [00:00<?, ?it/s]"
      ]
     },
     "metadata": {},
     "output_type": "display_data"
    },
    {
     "name": "stdout",
     "output_type": "stream",
     "text": [
      "epoch 314, loss: 0.31129475831985476\n",
      "Dev F1 0.8636363744735718\n"
     ]
    },
    {
     "data": {
      "application/vnd.jupyter.widget-view+json": {
       "model_id": "bb09c9a5faf4463285d4d3ec4290a274",
       "version_major": 2,
       "version_minor": 0
      },
      "text/plain": [
       "  0%|          | 0/10 [00:00<?, ?it/s]"
      ]
     },
     "metadata": {},
     "output_type": "display_data"
    },
    {
     "name": "stdout",
     "output_type": "stream",
     "text": [
      "epoch 315, loss: 0.3112190723419189\n",
      "Dev F1 0.8636363744735718\n"
     ]
    },
    {
     "data": {
      "application/vnd.jupyter.widget-view+json": {
       "model_id": "186a7a8d41084d0f9cca60636f86222b",
       "version_major": 2,
       "version_minor": 0
      },
      "text/plain": [
       "  0%|          | 0/10 [00:00<?, ?it/s]"
      ]
     },
     "metadata": {},
     "output_type": "display_data"
    },
    {
     "name": "stdout",
     "output_type": "stream",
     "text": [
      "epoch 316, loss: 0.31114412993192675\n",
      "Dev F1 0.8636363744735718\n"
     ]
    },
    {
     "data": {
      "application/vnd.jupyter.widget-view+json": {
       "model_id": "88305a6698274175a7571967acc6e615",
       "version_major": 2,
       "version_minor": 0
      },
      "text/plain": [
       "  0%|          | 0/10 [00:00<?, ?it/s]"
      ]
     },
     "metadata": {},
     "output_type": "display_data"
    },
    {
     "name": "stdout",
     "output_type": "stream",
     "text": [
      "epoch 317, loss: 0.3110699445009232\n",
      "Dev F1 0.8636363744735718\n"
     ]
    },
    {
     "data": {
      "application/vnd.jupyter.widget-view+json": {
       "model_id": "a13a26a5942e4caf97f682f26ed7fd1c",
       "version_major": 2,
       "version_minor": 0
      },
      "text/plain": [
       "  0%|          | 0/10 [00:00<?, ?it/s]"
      ]
     },
     "metadata": {},
     "output_type": "display_data"
    },
    {
     "name": "stdout",
     "output_type": "stream",
     "text": [
      "epoch 318, loss: 0.31099650263786316\n",
      "Dev F1 0.8636363744735718\n"
     ]
    },
    {
     "data": {
      "application/vnd.jupyter.widget-view+json": {
       "model_id": "300961fb029147cb926a52bb2d4e4ef9",
       "version_major": 2,
       "version_minor": 0
      },
      "text/plain": [
       "  0%|          | 0/10 [00:00<?, ?it/s]"
      ]
     },
     "metadata": {},
     "output_type": "display_data"
    },
    {
     "name": "stdout",
     "output_type": "stream",
     "text": [
      "epoch 319, loss: 0.3109238013625145\n",
      "Dev F1 0.8636363744735718\n"
     ]
    },
    {
     "data": {
      "application/vnd.jupyter.widget-view+json": {
       "model_id": "335cf4d5f1064d93b8367321cb809d66",
       "version_major": 2,
       "version_minor": 0
      },
      "text/plain": [
       "  0%|          | 0/10 [00:00<?, ?it/s]"
      ]
     },
     "metadata": {},
     "output_type": "display_data"
    },
    {
     "name": "stdout",
     "output_type": "stream",
     "text": [
      "epoch 320, loss: 0.31085183620452883\n",
      "Dev F1 0.8636363744735718\n"
     ]
    },
    {
     "data": {
      "application/vnd.jupyter.widget-view+json": {
       "model_id": "d240dd7085d749a583898b4955a3493c",
       "version_major": 2,
       "version_minor": 0
      },
      "text/plain": [
       "  0%|          | 0/10 [00:00<?, ?it/s]"
      ]
     },
     "metadata": {},
     "output_type": "display_data"
    },
    {
     "name": "stdout",
     "output_type": "stream",
     "text": [
      "epoch 321, loss: 0.31078057140111925\n",
      "Dev F1 0.8636363744735718\n"
     ]
    },
    {
     "data": {
      "application/vnd.jupyter.widget-view+json": {
       "model_id": "da5f8012e7134ad699e335b94d09cc85",
       "version_major": 2,
       "version_minor": 0
      },
      "text/plain": [
       "  0%|          | 0/10 [00:00<?, ?it/s]"
      ]
     },
     "metadata": {},
     "output_type": "display_data"
    },
    {
     "name": "stdout",
     "output_type": "stream",
     "text": [
      "epoch 322, loss: 0.31071001291275024\n",
      "Dev F1 0.8636363744735718\n"
     ]
    },
    {
     "data": {
      "application/vnd.jupyter.widget-view+json": {
       "model_id": "b3a7ab49a0ab44669292edf54ebed28b",
       "version_major": 2,
       "version_minor": 0
      },
      "text/plain": [
       "  0%|          | 0/10 [00:00<?, ?it/s]"
      ]
     },
     "metadata": {},
     "output_type": "display_data"
    },
    {
     "name": "stdout",
     "output_type": "stream",
     "text": [
      "epoch 323, loss: 0.3106401801109314\n",
      "Dev F1 0.8636363744735718\n"
     ]
    },
    {
     "data": {
      "application/vnd.jupyter.widget-view+json": {
       "model_id": "1809f4f8e81a4d898c1918d7c396b390",
       "version_major": 2,
       "version_minor": 0
      },
      "text/plain": [
       "  0%|          | 0/10 [00:00<?, ?it/s]"
      ]
     },
     "metadata": {},
     "output_type": "display_data"
    },
    {
     "name": "stdout",
     "output_type": "stream",
     "text": [
      "epoch 324, loss: 0.3105710357427597\n",
      "Dev F1 0.8636363744735718\n"
     ]
    },
    {
     "data": {
      "application/vnd.jupyter.widget-view+json": {
       "model_id": "df567f52f8a742efa789d619b0de5a4a",
       "version_major": 2,
       "version_minor": 0
      },
      "text/plain": [
       "  0%|          | 0/10 [00:00<?, ?it/s]"
      ]
     },
     "metadata": {},
     "output_type": "display_data"
    },
    {
     "name": "stdout",
     "output_type": "stream",
     "text": [
      "epoch 325, loss: 0.31050257235765455\n",
      "Dev F1 0.8636363744735718\n"
     ]
    },
    {
     "data": {
      "application/vnd.jupyter.widget-view+json": {
       "model_id": "e80bf16936714de0aec95ffc882fd494",
       "version_major": 2,
       "version_minor": 0
      },
      "text/plain": [
       "  0%|          | 0/10 [00:00<?, ?it/s]"
      ]
     },
     "metadata": {},
     "output_type": "display_data"
    },
    {
     "name": "stdout",
     "output_type": "stream",
     "text": [
      "epoch 326, loss: 0.3104347825050354\n",
      "Dev F1 0.8636363744735718\n"
     ]
    },
    {
     "data": {
      "application/vnd.jupyter.widget-view+json": {
       "model_id": "03a4884a9f524871bf21fca8e3f21092",
       "version_major": 2,
       "version_minor": 0
      },
      "text/plain": [
       "  0%|          | 0/10 [00:00<?, ?it/s]"
      ]
     },
     "metadata": {},
     "output_type": "display_data"
    },
    {
     "name": "stdout",
     "output_type": "stream",
     "text": [
      "epoch 327, loss: 0.31036766767501833\n",
      "Dev F1 0.8636363744735718\n"
     ]
    },
    {
     "data": {
      "application/vnd.jupyter.widget-view+json": {
       "model_id": "53721ce410d74653b237ca8378069928",
       "version_major": 2,
       "version_minor": 0
      },
      "text/plain": [
       "  0%|          | 0/10 [00:00<?, ?it/s]"
      ]
     },
     "metadata": {},
     "output_type": "display_data"
    },
    {
     "name": "stdout",
     "output_type": "stream",
     "text": [
      "epoch 328, loss: 0.3103012338280678\n",
      "Dev F1 0.8636363744735718\n"
     ]
    },
    {
     "data": {
      "application/vnd.jupyter.widget-view+json": {
       "model_id": "3f8b1ede66bf4fccbefd381030f143a2",
       "version_major": 2,
       "version_minor": 0
      },
      "text/plain": [
       "  0%|          | 0/10 [00:00<?, ?it/s]"
      ]
     },
     "metadata": {},
     "output_type": "display_data"
    },
    {
     "name": "stdout",
     "output_type": "stream",
     "text": [
      "epoch 329, loss: 0.3102354481816292\n",
      "Dev F1 0.8636363744735718\n"
     ]
    },
    {
     "data": {
      "application/vnd.jupyter.widget-view+json": {
       "model_id": "ed6eb3c9022845d1a0e43eefd43a82e2",
       "version_major": 2,
       "version_minor": 0
      },
      "text/plain": [
       "  0%|          | 0/10 [00:00<?, ?it/s]"
      ]
     },
     "metadata": {},
     "output_type": "display_data"
    },
    {
     "name": "stdout",
     "output_type": "stream",
     "text": [
      "epoch 330, loss: 0.31017031967639924\n",
      "Dev F1 0.8636363744735718\n"
     ]
    },
    {
     "data": {
      "application/vnd.jupyter.widget-view+json": {
       "model_id": "270b673449c64c7d92222af84e0c04c6",
       "version_major": 2,
       "version_minor": 0
      },
      "text/plain": [
       "  0%|          | 0/10 [00:00<?, ?it/s]"
      ]
     },
     "metadata": {},
     "output_type": "display_data"
    },
    {
     "name": "stdout",
     "output_type": "stream",
     "text": [
      "epoch 331, loss: 0.3101057976484299\n",
      "Dev F1 0.8636363744735718\n"
     ]
    },
    {
     "data": {
      "application/vnd.jupyter.widget-view+json": {
       "model_id": "853a2059791449e8ba782969c1579cfe",
       "version_major": 2,
       "version_minor": 0
      },
      "text/plain": [
       "  0%|          | 0/10 [00:00<?, ?it/s]"
      ]
     },
     "metadata": {},
     "output_type": "display_data"
    },
    {
     "name": "stdout",
     "output_type": "stream",
     "text": [
      "epoch 332, loss: 0.3100419357419014\n",
      "Dev F1 0.8636363744735718\n"
     ]
    },
    {
     "data": {
      "application/vnd.jupyter.widget-view+json": {
       "model_id": "4e4be35a4e34442a8c68842e5c5a3715",
       "version_major": 2,
       "version_minor": 0
      },
      "text/plain": [
       "  0%|          | 0/10 [00:00<?, ?it/s]"
      ]
     },
     "metadata": {},
     "output_type": "display_data"
    },
    {
     "name": "stdout",
     "output_type": "stream",
     "text": [
      "epoch 333, loss: 0.30997870713472364\n",
      "Dev F1 0.8636363744735718\n"
     ]
    },
    {
     "data": {
      "application/vnd.jupyter.widget-view+json": {
       "model_id": "754624ec47b64c399116196d27e3b138",
       "version_major": 2,
       "version_minor": 0
      },
      "text/plain": [
       "  0%|          | 0/10 [00:00<?, ?it/s]"
      ]
     },
     "metadata": {},
     "output_type": "display_data"
    },
    {
     "name": "stdout",
     "output_type": "stream",
     "text": [
      "epoch 334, loss: 0.30991608202457427\n",
      "Dev F1 0.8636363744735718\n"
     ]
    },
    {
     "data": {
      "application/vnd.jupyter.widget-view+json": {
       "model_id": "caf6b113e8d24faca5dab01eee20aa58",
       "version_major": 2,
       "version_minor": 0
      },
      "text/plain": [
       "  0%|          | 0/10 [00:00<?, ?it/s]"
      ]
     },
     "metadata": {},
     "output_type": "display_data"
    },
    {
     "name": "stdout",
     "output_type": "stream",
     "text": [
      "epoch 335, loss: 0.3098540633916855\n",
      "Dev F1 0.8636363744735718\n"
     ]
    },
    {
     "data": {
      "application/vnd.jupyter.widget-view+json": {
       "model_id": "ffb7030b9ca044b2a5905b7f800c2017",
       "version_major": 2,
       "version_minor": 0
      },
      "text/plain": [
       "  0%|          | 0/10 [00:00<?, ?it/s]"
      ]
     },
     "metadata": {},
     "output_type": "display_data"
    },
    {
     "name": "stdout",
     "output_type": "stream",
     "text": [
      "epoch 336, loss: 0.30979268103837965\n",
      "Dev F1 0.8636363744735718\n"
     ]
    },
    {
     "data": {
      "application/vnd.jupyter.widget-view+json": {
       "model_id": "57f3e8fe28b3433fa562b20ce0941d2f",
       "version_major": 2,
       "version_minor": 0
      },
      "text/plain": [
       "  0%|          | 0/10 [00:00<?, ?it/s]"
      ]
     },
     "metadata": {},
     "output_type": "display_data"
    },
    {
     "name": "stdout",
     "output_type": "stream",
     "text": [
      "epoch 337, loss: 0.30973184406757354\n",
      "Dev F1 0.8636363744735718\n"
     ]
    },
    {
     "data": {
      "application/vnd.jupyter.widget-view+json": {
       "model_id": "d856f58998144298b71b77d17cb88a0f",
       "version_major": 2,
       "version_minor": 0
      },
      "text/plain": [
       "  0%|          | 0/10 [00:00<?, ?it/s]"
      ]
     },
     "metadata": {},
     "output_type": "display_data"
    },
    {
     "name": "stdout",
     "output_type": "stream",
     "text": [
      "epoch 338, loss: 0.3096716672182083\n",
      "Dev F1 0.8636363744735718\n"
     ]
    },
    {
     "data": {
      "application/vnd.jupyter.widget-view+json": {
       "model_id": "62c9fb6f6c974385b45c751ea5bed3a1",
       "version_major": 2,
       "version_minor": 0
      },
      "text/plain": [
       "  0%|          | 0/10 [00:00<?, ?it/s]"
      ]
     },
     "metadata": {},
     "output_type": "display_data"
    },
    {
     "name": "stdout",
     "output_type": "stream",
     "text": [
      "epoch 339, loss: 0.30961204171180723\n",
      "Dev F1 0.8636363744735718\n"
     ]
    },
    {
     "data": {
      "application/vnd.jupyter.widget-view+json": {
       "model_id": "e8e4c4ac81c24f7098155dedcec54c11",
       "version_major": 2,
       "version_minor": 0
      },
      "text/plain": [
       "  0%|          | 0/10 [00:00<?, ?it/s]"
      ]
     },
     "metadata": {},
     "output_type": "display_data"
    },
    {
     "name": "stdout",
     "output_type": "stream",
     "text": [
      "epoch 340, loss: 0.3095529794692993\n",
      "Dev F1 0.8636363744735718\n"
     ]
    },
    {
     "data": {
      "application/vnd.jupyter.widget-view+json": {
       "model_id": "12561c29552f4c58bcddbb168aebee5e",
       "version_major": 2,
       "version_minor": 0
      },
      "text/plain": [
       "  0%|          | 0/10 [00:00<?, ?it/s]"
      ]
     },
     "metadata": {},
     "output_type": "display_data"
    },
    {
     "name": "stdout",
     "output_type": "stream",
     "text": [
      "epoch 341, loss: 0.30949450433254244\n",
      "Dev F1 0.8636363744735718\n"
     ]
    },
    {
     "data": {
      "application/vnd.jupyter.widget-view+json": {
       "model_id": "3bcf6df5e7124f5b9dbe3e9844276322",
       "version_major": 2,
       "version_minor": 0
      },
      "text/plain": [
       "  0%|          | 0/10 [00:00<?, ?it/s]"
      ]
     },
     "metadata": {},
     "output_type": "display_data"
    },
    {
     "name": "stdout",
     "output_type": "stream",
     "text": [
      "epoch 342, loss: 0.30943662524223325\n",
      "Dev F1 0.8636363744735718\n"
     ]
    },
    {
     "data": {
      "application/vnd.jupyter.widget-view+json": {
       "model_id": "40c271d998eb4b37ae3ef259dbf9a719",
       "version_major": 2,
       "version_minor": 0
      },
      "text/plain": [
       "  0%|          | 0/10 [00:00<?, ?it/s]"
      ]
     },
     "metadata": {},
     "output_type": "display_data"
    },
    {
     "name": "stdout",
     "output_type": "stream",
     "text": [
      "epoch 343, loss: 0.3093792751431465\n",
      "Dev F1 0.8636363744735718\n"
     ]
    },
    {
     "data": {
      "application/vnd.jupyter.widget-view+json": {
       "model_id": "a87f2e17617f4a319de4b0bd04033552",
       "version_major": 2,
       "version_minor": 0
      },
      "text/plain": [
       "  0%|          | 0/10 [00:00<?, ?it/s]"
      ]
     },
     "metadata": {},
     "output_type": "display_data"
    },
    {
     "name": "stdout",
     "output_type": "stream",
     "text": [
      "epoch 344, loss: 0.3093224838376045\n",
      "Dev F1 0.8636363744735718\n"
     ]
    },
    {
     "data": {
      "application/vnd.jupyter.widget-view+json": {
       "model_id": "a2077f0d29cb4ba6a011ed3047f4247e",
       "version_major": 2,
       "version_minor": 0
      },
      "text/plain": [
       "  0%|          | 0/10 [00:00<?, ?it/s]"
      ]
     },
     "metadata": {},
     "output_type": "display_data"
    },
    {
     "name": "stdout",
     "output_type": "stream",
     "text": [
      "epoch 345, loss: 0.3092662200331688\n",
      "Dev F1 0.8636363744735718\n"
     ]
    },
    {
     "data": {
      "application/vnd.jupyter.widget-view+json": {
       "model_id": "9cdfd782d2bc432fa8a58fe2d8cbb105",
       "version_major": 2,
       "version_minor": 0
      },
      "text/plain": [
       "  0%|          | 0/10 [00:00<?, ?it/s]"
      ]
     },
     "metadata": {},
     "output_type": "display_data"
    },
    {
     "name": "stdout",
     "output_type": "stream",
     "text": [
      "epoch 346, loss: 0.3092105150222778\n",
      "Dev F1 0.8636363744735718\n"
     ]
    },
    {
     "data": {
      "application/vnd.jupyter.widget-view+json": {
       "model_id": "f2ad93d3d21b4155a411463def477560",
       "version_major": 2,
       "version_minor": 0
      },
      "text/plain": [
       "  0%|          | 0/10 [00:00<?, ?it/s]"
      ]
     },
     "metadata": {},
     "output_type": "display_data"
    },
    {
     "name": "stdout",
     "output_type": "stream",
     "text": [
      "epoch 347, loss: 0.3091553315520287\n",
      "Dev F1 0.8636363744735718\n"
     ]
    },
    {
     "data": {
      "application/vnd.jupyter.widget-view+json": {
       "model_id": "b253af9543ab452cbdde68eed48324d3",
       "version_major": 2,
       "version_minor": 0
      },
      "text/plain": [
       "  0%|          | 0/10 [00:00<?, ?it/s]"
      ]
     },
     "metadata": {},
     "output_type": "display_data"
    },
    {
     "name": "stdout",
     "output_type": "stream",
     "text": [
      "epoch 348, loss: 0.30910070389509203\n",
      "Dev F1 0.8636363744735718\n"
     ]
    },
    {
     "data": {
      "application/vnd.jupyter.widget-view+json": {
       "model_id": "668abdac1f6a4414bfdc6b0d04c5e293",
       "version_major": 2,
       "version_minor": 0
      },
      "text/plain": [
       "  0%|          | 0/10 [00:00<?, ?it/s]"
      ]
     },
     "metadata": {},
     "output_type": "display_data"
    },
    {
     "name": "stdout",
     "output_type": "stream",
     "text": [
      "epoch 349, loss: 0.30904659628868103\n",
      "Dev F1 0.8636363744735718\n"
     ]
    },
    {
     "data": {
      "application/vnd.jupyter.widget-view+json": {
       "model_id": "af03e908263341ec83b66c16735ed347",
       "version_major": 2,
       "version_minor": 0
      },
      "text/plain": [
       "  0%|          | 0/10 [00:00<?, ?it/s]"
      ]
     },
     "metadata": {},
     "output_type": "display_data"
    },
    {
     "name": "stdout",
     "output_type": "stream",
     "text": [
      "epoch 350, loss: 0.3089930057525635\n",
      "Dev F1 0.8636363744735718\n"
     ]
    },
    {
     "data": {
      "application/vnd.jupyter.widget-view+json": {
       "model_id": "3fad4849d68548abbdbfea9b69b83f24",
       "version_major": 2,
       "version_minor": 0
      },
      "text/plain": [
       "  0%|          | 0/10 [00:00<?, ?it/s]"
      ]
     },
     "metadata": {},
     "output_type": "display_data"
    },
    {
     "name": "stdout",
     "output_type": "stream",
     "text": [
      "epoch 351, loss: 0.30893990099430085\n",
      "Dev F1 0.8636363744735718\n"
     ]
    },
    {
     "data": {
      "application/vnd.jupyter.widget-view+json": {
       "model_id": "9deb5ceafa4247fbb1e2bf3a113e73ef",
       "version_major": 2,
       "version_minor": 0
      },
      "text/plain": [
       "  0%|          | 0/10 [00:00<?, ?it/s]"
      ]
     },
     "metadata": {},
     "output_type": "display_data"
    },
    {
     "name": "stdout",
     "output_type": "stream",
     "text": [
      "epoch 352, loss: 0.30888731628656385\n",
      "Dev F1 0.8636363744735718\n"
     ]
    },
    {
     "data": {
      "application/vnd.jupyter.widget-view+json": {
       "model_id": "b5b0764828a54eda8947dc6ca9940485",
       "version_major": 2,
       "version_minor": 0
      },
      "text/plain": [
       "  0%|          | 0/10 [00:00<?, ?it/s]"
      ]
     },
     "metadata": {},
     "output_type": "display_data"
    },
    {
     "name": "stdout",
     "output_type": "stream",
     "text": [
      "epoch 353, loss: 0.30883524715900423\n",
      "Dev F1 0.8636363744735718\n"
     ]
    },
    {
     "data": {
      "application/vnd.jupyter.widget-view+json": {
       "model_id": "237bbe4e9f864ced9757b58ea6726dfa",
       "version_major": 2,
       "version_minor": 0
      },
      "text/plain": [
       "  0%|          | 0/10 [00:00<?, ?it/s]"
      ]
     },
     "metadata": {},
     "output_type": "display_data"
    },
    {
     "name": "stdout",
     "output_type": "stream",
     "text": [
      "epoch 354, loss: 0.3087836354970932\n",
      "Dev F1 0.8636363744735718\n"
     ]
    },
    {
     "data": {
      "application/vnd.jupyter.widget-view+json": {
       "model_id": "4ab1362c8e244976877052c127b2eec2",
       "version_major": 2,
       "version_minor": 0
      },
      "text/plain": [
       "  0%|          | 0/10 [00:00<?, ?it/s]"
      ]
     },
     "metadata": {},
     "output_type": "display_data"
    },
    {
     "name": "stdout",
     "output_type": "stream",
     "text": [
      "epoch 355, loss: 0.3087325423955917\n",
      "Dev F1 0.8636363744735718\n"
     ]
    },
    {
     "data": {
      "application/vnd.jupyter.widget-view+json": {
       "model_id": "4177a95b04934905a84c09fa2a229a01",
       "version_major": 2,
       "version_minor": 0
      },
      "text/plain": [
       "  0%|          | 0/10 [00:00<?, ?it/s]"
      ]
     },
     "metadata": {},
     "output_type": "display_data"
    },
    {
     "name": "stdout",
     "output_type": "stream",
     "text": [
      "epoch 356, loss: 0.30868192464113237\n",
      "Dev F1 0.8636363744735718\n"
     ]
    },
    {
     "data": {
      "application/vnd.jupyter.widget-view+json": {
       "model_id": "d384c2276e554bd8b592ac2d5ded2c76",
       "version_major": 2,
       "version_minor": 0
      },
      "text/plain": [
       "  0%|          | 0/10 [00:00<?, ?it/s]"
      ]
     },
     "metadata": {},
     "output_type": "display_data"
    },
    {
     "name": "stdout",
     "output_type": "stream",
     "text": [
      "epoch 357, loss: 0.30863177329301833\n",
      "Dev F1 0.8636363744735718\n"
     ]
    },
    {
     "data": {
      "application/vnd.jupyter.widget-view+json": {
       "model_id": "f133afa8a542415fb6aeeb2fe0a978ee",
       "version_major": 2,
       "version_minor": 0
      },
      "text/plain": [
       "  0%|          | 0/10 [00:00<?, ?it/s]"
      ]
     },
     "metadata": {},
     "output_type": "display_data"
    },
    {
     "name": "stdout",
     "output_type": "stream",
     "text": [
      "epoch 358, loss: 0.30858210325241087\n",
      "Dev F1 0.8636363744735718\n"
     ]
    },
    {
     "data": {
      "application/vnd.jupyter.widget-view+json": {
       "model_id": "b054d8ed86a94b749f18064f0a849b2a",
       "version_major": 2,
       "version_minor": 0
      },
      "text/plain": [
       "  0%|          | 0/10 [00:00<?, ?it/s]"
      ]
     },
     "metadata": {},
     "output_type": "display_data"
    },
    {
     "name": "stdout",
     "output_type": "stream",
     "text": [
      "epoch 359, loss: 0.3085328981280327\n",
      "Dev F1 0.8636363744735718\n"
     ]
    },
    {
     "data": {
      "application/vnd.jupyter.widget-view+json": {
       "model_id": "7b84c65320e1424db51311b8b002f0ee",
       "version_major": 2,
       "version_minor": 0
      },
      "text/plain": [
       "  0%|          | 0/10 [00:00<?, ?it/s]"
      ]
     },
     "metadata": {},
     "output_type": "display_data"
    },
    {
     "name": "stdout",
     "output_type": "stream",
     "text": [
      "epoch 360, loss: 0.3084841459989548\n",
      "Dev F1 0.8636363744735718\n"
     ]
    },
    {
     "data": {
      "application/vnd.jupyter.widget-view+json": {
       "model_id": "49dfb5e6cf8f49559a2f85b1f3b26a24",
       "version_major": 2,
       "version_minor": 0
      },
      "text/plain": [
       "  0%|          | 0/10 [00:00<?, ?it/s]"
      ]
     },
     "metadata": {},
     "output_type": "display_data"
    },
    {
     "name": "stdout",
     "output_type": "stream",
     "text": [
      "epoch 361, loss: 0.3084358602762222\n",
      "Dev F1 0.8636363744735718\n"
     ]
    },
    {
     "data": {
      "application/vnd.jupyter.widget-view+json": {
       "model_id": "41662c84be8f458d95cf8de004d6cc67",
       "version_major": 2,
       "version_minor": 0
      },
      "text/plain": [
       "  0%|          | 0/10 [00:00<?, ?it/s]"
      ]
     },
     "metadata": {},
     "output_type": "display_data"
    },
    {
     "name": "stdout",
     "output_type": "stream",
     "text": [
      "epoch 362, loss: 0.308388015627861\n",
      "Dev F1 0.8636363744735718\n"
     ]
    },
    {
     "data": {
      "application/vnd.jupyter.widget-view+json": {
       "model_id": "fc58607f246445afb39de3328211b38c",
       "version_major": 2,
       "version_minor": 0
      },
      "text/plain": [
       "  0%|          | 0/10 [00:00<?, ?it/s]"
      ]
     },
     "metadata": {},
     "output_type": "display_data"
    },
    {
     "name": "stdout",
     "output_type": "stream",
     "text": [
      "epoch 363, loss: 0.30834065079689027\n",
      "Dev F1 0.8636363744735718\n"
     ]
    },
    {
     "data": {
      "application/vnd.jupyter.widget-view+json": {
       "model_id": "22e0606a16bc41f0bb2de81fe54c3f92",
       "version_major": 2,
       "version_minor": 0
      },
      "text/plain": [
       "  0%|          | 0/10 [00:00<?, ?it/s]"
      ]
     },
     "metadata": {},
     "output_type": "display_data"
    },
    {
     "name": "stdout",
     "output_type": "stream",
     "text": [
      "epoch 364, loss: 0.30829366147518156\n",
      "Dev F1 0.8636363744735718\n"
     ]
    },
    {
     "data": {
      "application/vnd.jupyter.widget-view+json": {
       "model_id": "81c03c3a8ba64eee9a10c20788764e3d",
       "version_major": 2,
       "version_minor": 0
      },
      "text/plain": [
       "  0%|          | 0/10 [00:00<?, ?it/s]"
      ]
     },
     "metadata": {},
     "output_type": "display_data"
    },
    {
     "name": "stdout",
     "output_type": "stream",
     "text": [
      "epoch 365, loss: 0.30824715942144393\n",
      "Dev F1 0.8636363744735718\n"
     ]
    },
    {
     "data": {
      "application/vnd.jupyter.widget-view+json": {
       "model_id": "cb0c0a7408104a94a406a61613bb173a",
       "version_major": 2,
       "version_minor": 0
      },
      "text/plain": [
       "  0%|          | 0/10 [00:00<?, ?it/s]"
      ]
     },
     "metadata": {},
     "output_type": "display_data"
    },
    {
     "name": "stdout",
     "output_type": "stream",
     "text": [
      "epoch 366, loss: 0.3082011044025421\n",
      "Dev F1 0.8636363744735718\n"
     ]
    },
    {
     "data": {
      "application/vnd.jupyter.widget-view+json": {
       "model_id": "8ba5849d9bbe43aebfb634a8d1195a96",
       "version_major": 2,
       "version_minor": 0
      },
      "text/plain": [
       "  0%|          | 0/10 [00:00<?, ?it/s]"
      ]
     },
     "metadata": {},
     "output_type": "display_data"
    },
    {
     "name": "stdout",
     "output_type": "stream",
     "text": [
      "epoch 367, loss: 0.3081554487347603\n",
      "Dev F1 0.8636363744735718\n"
     ]
    },
    {
     "data": {
      "application/vnd.jupyter.widget-view+json": {
       "model_id": "02f5730138274f198d3976538c53e7dc",
       "version_major": 2,
       "version_minor": 0
      },
      "text/plain": [
       "  0%|          | 0/10 [00:00<?, ?it/s]"
      ]
     },
     "metadata": {},
     "output_type": "display_data"
    },
    {
     "name": "stdout",
     "output_type": "stream",
     "text": [
      "epoch 368, loss: 0.3081101983785629\n",
      "Dev F1 0.8636363744735718\n"
     ]
    },
    {
     "data": {
      "application/vnd.jupyter.widget-view+json": {
       "model_id": "8b98539ab3b14aae979e882c47f56295",
       "version_major": 2,
       "version_minor": 0
      },
      "text/plain": [
       "  0%|          | 0/10 [00:00<?, ?it/s]"
      ]
     },
     "metadata": {},
     "output_type": "display_data"
    },
    {
     "name": "stdout",
     "output_type": "stream",
     "text": [
      "epoch 369, loss: 0.3080653965473175\n",
      "Dev F1 0.8636363744735718\n"
     ]
    },
    {
     "data": {
      "application/vnd.jupyter.widget-view+json": {
       "model_id": "31f81f807ab541eb80cd1e6ba0c854f8",
       "version_major": 2,
       "version_minor": 0
      },
      "text/plain": [
       "  0%|          | 0/10 [00:00<?, ?it/s]"
      ]
     },
     "metadata": {},
     "output_type": "display_data"
    },
    {
     "name": "stdout",
     "output_type": "stream",
     "text": [
      "epoch 370, loss: 0.3080210030078888\n",
      "Dev F1 0.8636363744735718\n"
     ]
    },
    {
     "data": {
      "application/vnd.jupyter.widget-view+json": {
       "model_id": "af15d653a3a942eb98fcacb1a94cf19f",
       "version_major": 2,
       "version_minor": 0
      },
      "text/plain": [
       "  0%|          | 0/10 [00:00<?, ?it/s]"
      ]
     },
     "metadata": {},
     "output_type": "display_data"
    },
    {
     "name": "stdout",
     "output_type": "stream",
     "text": [
      "epoch 371, loss: 0.3079769998788834\n",
      "Dev F1 0.8636363744735718\n"
     ]
    },
    {
     "data": {
      "application/vnd.jupyter.widget-view+json": {
       "model_id": "1c31ca5610ca4b7e99eac321355192b6",
       "version_major": 2,
       "version_minor": 0
      },
      "text/plain": [
       "  0%|          | 0/10 [00:00<?, ?it/s]"
      ]
     },
     "metadata": {},
     "output_type": "display_data"
    },
    {
     "name": "stdout",
     "output_type": "stream",
     "text": [
      "epoch 372, loss: 0.3079334169626236\n",
      "Dev F1 0.8636363744735718\n"
     ]
    },
    {
     "data": {
      "application/vnd.jupyter.widget-view+json": {
       "model_id": "1fe7a99bd9d34e559f55219e191a19a9",
       "version_major": 2,
       "version_minor": 0
      },
      "text/plain": [
       "  0%|          | 0/10 [00:00<?, ?it/s]"
      ]
     },
     "metadata": {},
     "output_type": "display_data"
    },
    {
     "name": "stdout",
     "output_type": "stream",
     "text": [
      "epoch 373, loss: 0.3078902095556259\n",
      "Dev F1 0.8636363744735718\n"
     ]
    },
    {
     "data": {
      "application/vnd.jupyter.widget-view+json": {
       "model_id": "d479ee1a08c3445488dc9e6cf2c898e3",
       "version_major": 2,
       "version_minor": 0
      },
      "text/plain": [
       "  0%|          | 0/10 [00:00<?, ?it/s]"
      ]
     },
     "metadata": {},
     "output_type": "display_data"
    },
    {
     "name": "stdout",
     "output_type": "stream",
     "text": [
      "epoch 374, loss: 0.3078474044799805\n",
      "Dev F1 0.8636363744735718\n"
     ]
    },
    {
     "data": {
      "application/vnd.jupyter.widget-view+json": {
       "model_id": "34da15631ef7466a82053706102bf164",
       "version_major": 2,
       "version_minor": 0
      },
      "text/plain": [
       "  0%|          | 0/10 [00:00<?, ?it/s]"
      ]
     },
     "metadata": {},
     "output_type": "display_data"
    },
    {
     "name": "stdout",
     "output_type": "stream",
     "text": [
      "epoch 375, loss: 0.3078050032258034\n",
      "Dev F1 0.8636363744735718\n"
     ]
    },
    {
     "data": {
      "application/vnd.jupyter.widget-view+json": {
       "model_id": "bbcb3b06683140df88b1f464f04fcbb7",
       "version_major": 2,
       "version_minor": 0
      },
      "text/plain": [
       "  0%|          | 0/10 [00:00<?, ?it/s]"
      ]
     },
     "metadata": {},
     "output_type": "display_data"
    },
    {
     "name": "stdout",
     "output_type": "stream",
     "text": [
      "epoch 376, loss: 0.3077629655599594\n",
      "Dev F1 0.8636363744735718\n"
     ]
    },
    {
     "data": {
      "application/vnd.jupyter.widget-view+json": {
       "model_id": "994d9ef8a6c44d2a86b717919707b3b7",
       "version_major": 2,
       "version_minor": 0
      },
      "text/plain": [
       "  0%|          | 0/10 [00:00<?, ?it/s]"
      ]
     },
     "metadata": {},
     "output_type": "display_data"
    },
    {
     "name": "stdout",
     "output_type": "stream",
     "text": [
      "epoch 377, loss: 0.3077213242650032\n",
      "Dev F1 0.8636363744735718\n"
     ]
    },
    {
     "data": {
      "application/vnd.jupyter.widget-view+json": {
       "model_id": "77c058afc9c649a885dfc10963619a96",
       "version_major": 2,
       "version_minor": 0
      },
      "text/plain": [
       "  0%|          | 0/10 [00:00<?, ?it/s]"
      ]
     },
     "metadata": {},
     "output_type": "display_data"
    },
    {
     "name": "stdout",
     "output_type": "stream",
     "text": [
      "epoch 378, loss: 0.3076800689101219\n",
      "Dev F1 0.8636363744735718\n"
     ]
    },
    {
     "data": {
      "application/vnd.jupyter.widget-view+json": {
       "model_id": "5a9cdfb21662408586c797b1032ed74f",
       "version_major": 2,
       "version_minor": 0
      },
      "text/plain": [
       "  0%|          | 0/10 [00:00<?, ?it/s]"
      ]
     },
     "metadata": {},
     "output_type": "display_data"
    },
    {
     "name": "stdout",
     "output_type": "stream",
     "text": [
      "epoch 379, loss: 0.30763917714357375\n",
      "Dev F1 0.8636363744735718\n"
     ]
    },
    {
     "data": {
      "application/vnd.jupyter.widget-view+json": {
       "model_id": "3bae621174b64b0c97ec64928d420cca",
       "version_major": 2,
       "version_minor": 0
      },
      "text/plain": [
       "  0%|          | 0/10 [00:00<?, ?it/s]"
      ]
     },
     "metadata": {},
     "output_type": "display_data"
    },
    {
     "name": "stdout",
     "output_type": "stream",
     "text": [
      "epoch 380, loss: 0.307598651945591\n",
      "Dev F1 0.8636363744735718\n"
     ]
    },
    {
     "data": {
      "application/vnd.jupyter.widget-view+json": {
       "model_id": "0513fd8b9e07445baf5abb9853ef5ae3",
       "version_major": 2,
       "version_minor": 0
      },
      "text/plain": [
       "  0%|          | 0/10 [00:00<?, ?it/s]"
      ]
     },
     "metadata": {},
     "output_type": "display_data"
    },
    {
     "name": "stdout",
     "output_type": "stream",
     "text": [
      "epoch 381, loss: 0.3075584888458252\n",
      "Dev F1 0.8636363744735718\n"
     ]
    },
    {
     "data": {
      "application/vnd.jupyter.widget-view+json": {
       "model_id": "6160f1430d42466990d7ac6fe4f89065",
       "version_major": 2,
       "version_minor": 0
      },
      "text/plain": [
       "  0%|          | 0/10 [00:00<?, ?it/s]"
      ]
     },
     "metadata": {},
     "output_type": "display_data"
    },
    {
     "name": "stdout",
     "output_type": "stream",
     "text": [
      "epoch 382, loss: 0.3075186923146248\n",
      "Dev F1 0.8636363744735718\n"
     ]
    },
    {
     "data": {
      "application/vnd.jupyter.widget-view+json": {
       "model_id": "50c4ccf4e5d24a5c8fb38c05604710cf",
       "version_major": 2,
       "version_minor": 0
      },
      "text/plain": [
       "  0%|          | 0/10 [00:00<?, ?it/s]"
      ]
     },
     "metadata": {},
     "output_type": "display_data"
    },
    {
     "name": "stdout",
     "output_type": "stream",
     "text": [
      "epoch 383, loss: 0.3074792370200157\n",
      "Dev F1 0.8636363744735718\n"
     ]
    },
    {
     "data": {
      "application/vnd.jupyter.widget-view+json": {
       "model_id": "9ec933b974514d918e5483992c36fdab",
       "version_major": 2,
       "version_minor": 0
      },
      "text/plain": [
       "  0%|          | 0/10 [00:00<?, ?it/s]"
      ]
     },
     "metadata": {},
     "output_type": "display_data"
    },
    {
     "name": "stdout",
     "output_type": "stream",
     "text": [
      "epoch 384, loss: 0.3074401572346687\n",
      "Dev F1 0.8636363744735718\n"
     ]
    },
    {
     "data": {
      "application/vnd.jupyter.widget-view+json": {
       "model_id": "f9f2e8d9c5e743ae91e47ce5cae8ac6d",
       "version_major": 2,
       "version_minor": 0
      },
      "text/plain": [
       "  0%|          | 0/10 [00:00<?, ?it/s]"
      ]
     },
     "metadata": {},
     "output_type": "display_data"
    },
    {
     "name": "stdout",
     "output_type": "stream",
     "text": [
      "epoch 385, loss: 0.30740142464637754\n",
      "Dev F1 0.8636363744735718\n"
     ]
    },
    {
     "data": {
      "application/vnd.jupyter.widget-view+json": {
       "model_id": "7ae662ca20454b4585ef16e712cb2b87",
       "version_major": 2,
       "version_minor": 0
      },
      "text/plain": [
       "  0%|          | 0/10 [00:00<?, ?it/s]"
      ]
     },
     "metadata": {},
     "output_type": "display_data"
    },
    {
     "name": "stdout",
     "output_type": "stream",
     "text": [
      "epoch 386, loss: 0.3073630228638649\n",
      "Dev F1 0.8636363744735718\n"
     ]
    },
    {
     "data": {
      "application/vnd.jupyter.widget-view+json": {
       "model_id": "8b2ebcdc52904eebb83c2027018e0707",
       "version_major": 2,
       "version_minor": 0
      },
      "text/plain": [
       "  0%|          | 0/10 [00:00<?, ?it/s]"
      ]
     },
     "metadata": {},
     "output_type": "display_data"
    },
    {
     "name": "stdout",
     "output_type": "stream",
     "text": [
      "epoch 387, loss: 0.30732498317956924\n",
      "Dev F1 0.8636363744735718\n"
     ]
    },
    {
     "data": {
      "application/vnd.jupyter.widget-view+json": {
       "model_id": "82aa63b5964e4004a45fc9155152d726",
       "version_major": 2,
       "version_minor": 0
      },
      "text/plain": [
       "  0%|          | 0/10 [00:00<?, ?it/s]"
      ]
     },
     "metadata": {},
     "output_type": "display_data"
    },
    {
     "name": "stdout",
     "output_type": "stream",
     "text": [
      "epoch 388, loss: 0.3072872593998909\n",
      "Dev F1 0.8636363744735718\n"
     ]
    },
    {
     "data": {
      "application/vnd.jupyter.widget-view+json": {
       "model_id": "4d1a3f9d2b764d5a8ffe92d6aa34718a",
       "version_major": 2,
       "version_minor": 0
      },
      "text/plain": [
       "  0%|          | 0/10 [00:00<?, ?it/s]"
      ]
     },
     "metadata": {},
     "output_type": "display_data"
    },
    {
     "name": "stdout",
     "output_type": "stream",
     "text": [
      "epoch 389, loss: 0.3072498768568039\n",
      "Dev F1 0.8636363744735718\n"
     ]
    },
    {
     "data": {
      "application/vnd.jupyter.widget-view+json": {
       "model_id": "1ca58767af814242a40c1e99e0b13674",
       "version_major": 2,
       "version_minor": 0
      },
      "text/plain": [
       "  0%|          | 0/10 [00:00<?, ?it/s]"
      ]
     },
     "metadata": {},
     "output_type": "display_data"
    },
    {
     "name": "stdout",
     "output_type": "stream",
     "text": [
      "epoch 390, loss: 0.30721280425786973\n",
      "Dev F1 0.8636363744735718\n"
     ]
    },
    {
     "data": {
      "application/vnd.jupyter.widget-view+json": {
       "model_id": "5b7a0769dc454e2cbada5a1f592989af",
       "version_major": 2,
       "version_minor": 0
      },
      "text/plain": [
       "  0%|          | 0/10 [00:00<?, ?it/s]"
      ]
     },
     "metadata": {},
     "output_type": "display_data"
    },
    {
     "name": "stdout",
     "output_type": "stream",
     "text": [
      "epoch 391, loss: 0.3071760892868042\n",
      "Dev F1 0.8636363744735718\n"
     ]
    },
    {
     "data": {
      "application/vnd.jupyter.widget-view+json": {
       "model_id": "719d5c62558641dab07cbcb734be0f31",
       "version_major": 2,
       "version_minor": 0
      },
      "text/plain": [
       "  0%|          | 0/10 [00:00<?, ?it/s]"
      ]
     },
     "metadata": {},
     "output_type": "display_data"
    },
    {
     "name": "stdout",
     "output_type": "stream",
     "text": [
      "epoch 392, loss: 0.3071396708488464\n",
      "Dev F1 0.8636363744735718\n"
     ]
    },
    {
     "data": {
      "application/vnd.jupyter.widget-view+json": {
       "model_id": "8076ee3fff6f492dbb49cd525b141c9f",
       "version_major": 2,
       "version_minor": 0
      },
      "text/plain": [
       "  0%|          | 0/10 [00:00<?, ?it/s]"
      ]
     },
     "metadata": {},
     "output_type": "display_data"
    },
    {
     "name": "stdout",
     "output_type": "stream",
     "text": [
      "epoch 393, loss: 0.3071035861968994\n",
      "Dev F1 0.8636363744735718\n"
     ]
    },
    {
     "data": {
      "application/vnd.jupyter.widget-view+json": {
       "model_id": "94bc139f536c4a14ac89ff26be1e077e",
       "version_major": 2,
       "version_minor": 0
      },
      "text/plain": [
       "  0%|          | 0/10 [00:00<?, ?it/s]"
      ]
     },
     "metadata": {},
     "output_type": "display_data"
    },
    {
     "name": "stdout",
     "output_type": "stream",
     "text": [
      "epoch 394, loss: 0.30706780552864077\n",
      "Dev F1 0.8636363744735718\n"
     ]
    },
    {
     "data": {
      "application/vnd.jupyter.widget-view+json": {
       "model_id": "cbb46ca2315b4bd58da774ba27e9fd2d",
       "version_major": 2,
       "version_minor": 0
      },
      "text/plain": [
       "  0%|          | 0/10 [00:00<?, ?it/s]"
      ]
     },
     "metadata": {},
     "output_type": "display_data"
    },
    {
     "name": "stdout",
     "output_type": "stream",
     "text": [
      "epoch 395, loss: 0.3070323601365089\n",
      "Dev F1 0.8636363744735718\n"
     ]
    },
    {
     "data": {
      "application/vnd.jupyter.widget-view+json": {
       "model_id": "2c1df725bbb94f5a9480deeabe44a063",
       "version_major": 2,
       "version_minor": 0
      },
      "text/plain": [
       "  0%|          | 0/10 [00:00<?, ?it/s]"
      ]
     },
     "metadata": {},
     "output_type": "display_data"
    },
    {
     "name": "stdout",
     "output_type": "stream",
     "text": [
      "epoch 396, loss: 0.3069972038269043\n",
      "Dev F1 0.8636363744735718\n"
     ]
    },
    {
     "data": {
      "application/vnd.jupyter.widget-view+json": {
       "model_id": "70d98c3b308f4d66bf8ccfb6d222f694",
       "version_major": 2,
       "version_minor": 0
      },
      "text/plain": [
       "  0%|          | 0/10 [00:00<?, ?it/s]"
      ]
     },
     "metadata": {},
     "output_type": "display_data"
    },
    {
     "name": "stdout",
     "output_type": "stream",
     "text": [
      "epoch 397, loss: 0.3069623723626137\n",
      "Dev F1 0.8636363744735718\n"
     ]
    },
    {
     "data": {
      "application/vnd.jupyter.widget-view+json": {
       "model_id": "88cb5d38e0fc434e85e9afc2d0e0d146",
       "version_major": 2,
       "version_minor": 0
      },
      "text/plain": [
       "  0%|          | 0/10 [00:00<?, ?it/s]"
      ]
     },
     "metadata": {},
     "output_type": "display_data"
    },
    {
     "name": "stdout",
     "output_type": "stream",
     "text": [
      "epoch 398, loss: 0.3069277971982956\n",
      "Dev F1 0.8636363744735718\n"
     ]
    },
    {
     "data": {
      "application/vnd.jupyter.widget-view+json": {
       "model_id": "efd2e0bef79948e98a38db1dbbfaede9",
       "version_major": 2,
       "version_minor": 0
      },
      "text/plain": [
       "  0%|          | 0/10 [00:00<?, ?it/s]"
      ]
     },
     "metadata": {},
     "output_type": "display_data"
    },
    {
     "name": "stdout",
     "output_type": "stream",
     "text": [
      "epoch 399, loss: 0.30689355731010437\n",
      "Dev F1 0.8636363744735718\n"
     ]
    },
    {
     "data": {
      "application/vnd.jupyter.widget-view+json": {
       "model_id": "e54b37c716674b9a8527e244fbc6a8de",
       "version_major": 2,
       "version_minor": 0
      },
      "text/plain": [
       "  0%|          | 0/10 [00:00<?, ?it/s]"
      ]
     },
     "metadata": {},
     "output_type": "display_data"
    },
    {
     "name": "stdout",
     "output_type": "stream",
     "text": [
      "epoch 400, loss: 0.3068596124649048\n",
      "Dev F1 0.8636363744735718\n"
     ]
    },
    {
     "data": {
      "application/vnd.jupyter.widget-view+json": {
       "model_id": "638a394fbae446fea7c6053857f6a77d",
       "version_major": 2,
       "version_minor": 0
      },
      "text/plain": [
       "  0%|          | 0/10 [00:00<?, ?it/s]"
      ]
     },
     "metadata": {},
     "output_type": "display_data"
    },
    {
     "name": "stdout",
     "output_type": "stream",
     "text": [
      "epoch 401, loss: 0.3068259656429291\n",
      "Dev F1 0.8636363744735718\n"
     ]
    },
    {
     "data": {
      "application/vnd.jupyter.widget-view+json": {
       "model_id": "97b377a8e1bc401f9c020152604b16a6",
       "version_major": 2,
       "version_minor": 0
      },
      "text/plain": [
       "  0%|          | 0/10 [00:00<?, ?it/s]"
      ]
     },
     "metadata": {},
     "output_type": "display_data"
    },
    {
     "name": "stdout",
     "output_type": "stream",
     "text": [
      "epoch 402, loss: 0.30679260939359665\n",
      "Dev F1 0.8636363744735718\n"
     ]
    },
    {
     "data": {
      "application/vnd.jupyter.widget-view+json": {
       "model_id": "54acabf1944d49d1b9da4a3df9510c76",
       "version_major": 2,
       "version_minor": 0
      },
      "text/plain": [
       "  0%|          | 0/10 [00:00<?, ?it/s]"
      ]
     },
     "metadata": {},
     "output_type": "display_data"
    },
    {
     "name": "stdout",
     "output_type": "stream",
     "text": [
      "epoch 403, loss: 0.30675950050354006\n",
      "Dev F1 0.8636363744735718\n"
     ]
    },
    {
     "data": {
      "application/vnd.jupyter.widget-view+json": {
       "model_id": "07e4688bd19d4e2d9ec038790c10e4b2",
       "version_major": 2,
       "version_minor": 0
      },
      "text/plain": [
       "  0%|          | 0/10 [00:00<?, ?it/s]"
      ]
     },
     "metadata": {},
     "output_type": "display_data"
    },
    {
     "name": "stdout",
     "output_type": "stream",
     "text": [
      "epoch 404, loss: 0.3067267000675201\n",
      "Dev F1 0.8636363744735718\n"
     ]
    },
    {
     "data": {
      "application/vnd.jupyter.widget-view+json": {
       "model_id": "9ee2ac0d3fc545049f6510c17a2e634b",
       "version_major": 2,
       "version_minor": 0
      },
      "text/plain": [
       "  0%|          | 0/10 [00:00<?, ?it/s]"
      ]
     },
     "metadata": {},
     "output_type": "display_data"
    },
    {
     "name": "stdout",
     "output_type": "stream",
     "text": [
      "epoch 405, loss: 0.30669418573379514\n",
      "Dev F1 0.8636363744735718\n"
     ]
    },
    {
     "data": {
      "application/vnd.jupyter.widget-view+json": {
       "model_id": "d4815004ef6f48c99792ea6742d2e02a",
       "version_major": 2,
       "version_minor": 0
      },
      "text/plain": [
       "  0%|          | 0/10 [00:00<?, ?it/s]"
      ]
     },
     "metadata": {},
     "output_type": "display_data"
    },
    {
     "name": "stdout",
     "output_type": "stream",
     "text": [
      "epoch 406, loss: 0.30666192919015883\n",
      "Dev F1 0.8636363744735718\n"
     ]
    },
    {
     "data": {
      "application/vnd.jupyter.widget-view+json": {
       "model_id": "0e2045c2434449e99ec082e6c15f399e",
       "version_major": 2,
       "version_minor": 0
      },
      "text/plain": [
       "  0%|          | 0/10 [00:00<?, ?it/s]"
      ]
     },
     "metadata": {},
     "output_type": "display_data"
    },
    {
     "name": "stdout",
     "output_type": "stream",
     "text": [
      "epoch 407, loss: 0.3066299632191658\n",
      "Dev F1 0.8636363744735718\n"
     ]
    },
    {
     "data": {
      "application/vnd.jupyter.widget-view+json": {
       "model_id": "2946483db0294f0bacb76d938881b9bc",
       "version_major": 2,
       "version_minor": 0
      },
      "text/plain": [
       "  0%|          | 0/10 [00:00<?, ?it/s]"
      ]
     },
     "metadata": {},
     "output_type": "display_data"
    },
    {
     "name": "stdout",
     "output_type": "stream",
     "text": [
      "epoch 408, loss: 0.30659827440977094\n",
      "Dev F1 0.8636363744735718\n"
     ]
    },
    {
     "data": {
      "application/vnd.jupyter.widget-view+json": {
       "model_id": "dba0c6d5e617498a9a8bb8f5482ba0c0",
       "version_major": 2,
       "version_minor": 0
      },
      "text/plain": [
       "  0%|          | 0/10 [00:00<?, ?it/s]"
      ]
     },
     "metadata": {},
     "output_type": "display_data"
    },
    {
     "name": "stdout",
     "output_type": "stream",
     "text": [
      "epoch 409, loss: 0.30656681060791013\n",
      "Dev F1 0.8636363744735718\n"
     ]
    },
    {
     "data": {
      "application/vnd.jupyter.widget-view+json": {
       "model_id": "7053bd63fe6f457c8af680f7ef59b634",
       "version_major": 2,
       "version_minor": 0
      },
      "text/plain": [
       "  0%|          | 0/10 [00:00<?, ?it/s]"
      ]
     },
     "metadata": {},
     "output_type": "display_data"
    },
    {
     "name": "stdout",
     "output_type": "stream",
     "text": [
      "epoch 410, loss: 0.3065356478095055\n",
      "Dev F1 0.8636363744735718\n"
     ]
    },
    {
     "data": {
      "application/vnd.jupyter.widget-view+json": {
       "model_id": "19beb7f1582b43c686e0b8faf25c1e02",
       "version_major": 2,
       "version_minor": 0
      },
      "text/plain": [
       "  0%|          | 0/10 [00:00<?, ?it/s]"
      ]
     },
     "metadata": {},
     "output_type": "display_data"
    },
    {
     "name": "stdout",
     "output_type": "stream",
     "text": [
      "epoch 411, loss: 0.3065047666430473\n",
      "Dev F1 0.8636363744735718\n"
     ]
    },
    {
     "data": {
      "application/vnd.jupyter.widget-view+json": {
       "model_id": "0a7843eebbb64f4fa2cdc5d348639b38",
       "version_major": 2,
       "version_minor": 0
      },
      "text/plain": [
       "  0%|          | 0/10 [00:00<?, ?it/s]"
      ]
     },
     "metadata": {},
     "output_type": "display_data"
    },
    {
     "name": "stdout",
     "output_type": "stream",
     "text": [
      "epoch 412, loss: 0.3064741060137749\n",
      "Dev F1 0.8636363744735718\n"
     ]
    },
    {
     "data": {
      "application/vnd.jupyter.widget-view+json": {
       "model_id": "5cd3c079f7e44797910d67548c56be1c",
       "version_major": 2,
       "version_minor": 0
      },
      "text/plain": [
       "  0%|          | 0/10 [00:00<?, ?it/s]"
      ]
     },
     "metadata": {},
     "output_type": "display_data"
    },
    {
     "name": "stdout",
     "output_type": "stream",
     "text": [
      "epoch 413, loss: 0.30644369274377825\n",
      "Dev F1 0.8636363744735718\n"
     ]
    },
    {
     "data": {
      "application/vnd.jupyter.widget-view+json": {
       "model_id": "5c00206f35e142b882fb96511300359a",
       "version_major": 2,
       "version_minor": 0
      },
      "text/plain": [
       "  0%|          | 0/10 [00:00<?, ?it/s]"
      ]
     },
     "metadata": {},
     "output_type": "display_data"
    },
    {
     "name": "stdout",
     "output_type": "stream",
     "text": [
      "epoch 414, loss: 0.3064135581254959\n",
      "Dev F1 0.8636363744735718\n"
     ]
    },
    {
     "data": {
      "application/vnd.jupyter.widget-view+json": {
       "model_id": "76e51d031230439eb5919b811b506057",
       "version_major": 2,
       "version_minor": 0
      },
      "text/plain": [
       "  0%|          | 0/10 [00:00<?, ?it/s]"
      ]
     },
     "metadata": {},
     "output_type": "display_data"
    },
    {
     "name": "stdout",
     "output_type": "stream",
     "text": [
      "epoch 415, loss: 0.3063836693763733\n",
      "Dev F1 0.8636363744735718\n"
     ]
    },
    {
     "data": {
      "application/vnd.jupyter.widget-view+json": {
       "model_id": "4bfea69a2aa349d9933ba701093255b4",
       "version_major": 2,
       "version_minor": 0
      },
      "text/plain": [
       "  0%|          | 0/10 [00:00<?, ?it/s]"
      ]
     },
     "metadata": {},
     "output_type": "display_data"
    },
    {
     "name": "stdout",
     "output_type": "stream",
     "text": [
      "epoch 416, loss: 0.306354022026062\n",
      "Dev F1 0.8636363744735718\n"
     ]
    },
    {
     "data": {
      "application/vnd.jupyter.widget-view+json": {
       "model_id": "c44f767743084004bdec168d74493ff0",
       "version_major": 2,
       "version_minor": 0
      },
      "text/plain": [
       "  0%|          | 0/10 [00:00<?, ?it/s]"
      ]
     },
     "metadata": {},
     "output_type": "display_data"
    },
    {
     "name": "stdout",
     "output_type": "stream",
     "text": [
      "epoch 417, loss: 0.30632463097572327\n",
      "Dev F1 0.8636363744735718\n"
     ]
    },
    {
     "data": {
      "application/vnd.jupyter.widget-view+json": {
       "model_id": "fb5dc01ac13f44ac9fe2274f20945332",
       "version_major": 2,
       "version_minor": 0
      },
      "text/plain": [
       "  0%|          | 0/10 [00:00<?, ?it/s]"
      ]
     },
     "metadata": {},
     "output_type": "display_data"
    },
    {
     "name": "stdout",
     "output_type": "stream",
     "text": [
      "epoch 418, loss: 0.30629548728466033\n",
      "Dev F1 0.8636363744735718\n"
     ]
    },
    {
     "data": {
      "application/vnd.jupyter.widget-view+json": {
       "model_id": "e92b5246801d4643879e79e94c1dc2ab",
       "version_major": 2,
       "version_minor": 0
      },
      "text/plain": [
       "  0%|          | 0/10 [00:00<?, ?it/s]"
      ]
     },
     "metadata": {},
     "output_type": "display_data"
    },
    {
     "name": "stdout",
     "output_type": "stream",
     "text": [
      "epoch 419, loss: 0.3062665700912476\n",
      "Dev F1 0.8636363744735718\n"
     ]
    },
    {
     "data": {
      "application/vnd.jupyter.widget-view+json": {
       "model_id": "fce877ee139c40998b8a4580101b5291",
       "version_major": 2,
       "version_minor": 0
      },
      "text/plain": [
       "  0%|          | 0/10 [00:00<?, ?it/s]"
      ]
     },
     "metadata": {},
     "output_type": "display_data"
    },
    {
     "name": "stdout",
     "output_type": "stream",
     "text": [
      "epoch 420, loss: 0.30623790323734285\n",
      "Dev F1 0.8636363744735718\n"
     ]
    },
    {
     "data": {
      "application/vnd.jupyter.widget-view+json": {
       "model_id": "e1490cc1a4b24863a8aefc7b9b0a2105",
       "version_major": 2,
       "version_minor": 0
      },
      "text/plain": [
       "  0%|          | 0/10 [00:00<?, ?it/s]"
      ]
     },
     "metadata": {},
     "output_type": "display_data"
    },
    {
     "name": "stdout",
     "output_type": "stream",
     "text": [
      "epoch 421, loss: 0.30620945543050765\n",
      "Dev F1 0.8636363744735718\n"
     ]
    },
    {
     "data": {
      "application/vnd.jupyter.widget-view+json": {
       "model_id": "d84cedcb5d7a4640baa6652573df83fb",
       "version_major": 2,
       "version_minor": 0
      },
      "text/plain": [
       "  0%|          | 0/10 [00:00<?, ?it/s]"
      ]
     },
     "metadata": {},
     "output_type": "display_data"
    },
    {
     "name": "stdout",
     "output_type": "stream",
     "text": [
      "epoch 422, loss: 0.30618125200271606\n",
      "Dev F1 0.8636363744735718\n"
     ]
    },
    {
     "data": {
      "application/vnd.jupyter.widget-view+json": {
       "model_id": "26dcddb5ae194e029e4bc4145c2edcdc",
       "version_major": 2,
       "version_minor": 0
      },
      "text/plain": [
       "  0%|          | 0/10 [00:00<?, ?it/s]"
      ]
     },
     "metadata": {},
     "output_type": "display_data"
    },
    {
     "name": "stdout",
     "output_type": "stream",
     "text": [
      "epoch 423, loss: 0.3061532750725746\n",
      "Dev F1 0.8636363744735718\n"
     ]
    },
    {
     "data": {
      "application/vnd.jupyter.widget-view+json": {
       "model_id": "8005159c9af44af48ea61aedc29aa488",
       "version_major": 2,
       "version_minor": 0
      },
      "text/plain": [
       "  0%|          | 0/10 [00:00<?, ?it/s]"
      ]
     },
     "metadata": {},
     "output_type": "display_data"
    },
    {
     "name": "stdout",
     "output_type": "stream",
     "text": [
      "epoch 424, loss: 0.3061255067586899\n",
      "Dev F1 0.8636363744735718\n"
     ]
    },
    {
     "data": {
      "application/vnd.jupyter.widget-view+json": {
       "model_id": "88696415eb144f25aee9d7976842d2e5",
       "version_major": 2,
       "version_minor": 0
      },
      "text/plain": [
       "  0%|          | 0/10 [00:00<?, ?it/s]"
      ]
     },
     "metadata": {},
     "output_type": "display_data"
    },
    {
     "name": "stdout",
     "output_type": "stream",
     "text": [
      "epoch 425, loss: 0.30609799474477767\n",
      "Dev F1 0.8636363744735718\n"
     ]
    },
    {
     "data": {
      "application/vnd.jupyter.widget-view+json": {
       "model_id": "5aa8159c1b0f47acbb35449e267248be",
       "version_major": 2,
       "version_minor": 0
      },
      "text/plain": [
       "  0%|          | 0/10 [00:00<?, ?it/s]"
      ]
     },
     "metadata": {},
     "output_type": "display_data"
    },
    {
     "name": "stdout",
     "output_type": "stream",
     "text": [
      "epoch 426, loss: 0.30607067197561266\n",
      "Dev F1 0.8636363744735718\n"
     ]
    },
    {
     "data": {
      "application/vnd.jupyter.widget-view+json": {
       "model_id": "f142475ddfec46c8afda36b32933fabe",
       "version_major": 2,
       "version_minor": 0
      },
      "text/plain": [
       "  0%|          | 0/10 [00:00<?, ?it/s]"
      ]
     },
     "metadata": {},
     "output_type": "display_data"
    },
    {
     "name": "stdout",
     "output_type": "stream",
     "text": [
      "epoch 427, loss: 0.30604363083839414\n",
      "Dev F1 0.8636363744735718\n"
     ]
    },
    {
     "data": {
      "application/vnd.jupyter.widget-view+json": {
       "model_id": "6925f95f35df4cdf87bbd9d34cab80d4",
       "version_major": 2,
       "version_minor": 0
      },
      "text/plain": [
       "  0%|          | 0/10 [00:00<?, ?it/s]"
      ]
     },
     "metadata": {},
     "output_type": "display_data"
    },
    {
     "name": "stdout",
     "output_type": "stream",
     "text": [
      "epoch 428, loss: 0.30601671785116197\n",
      "Dev F1 0.8636363744735718\n"
     ]
    },
    {
     "data": {
      "application/vnd.jupyter.widget-view+json": {
       "model_id": "cc57a5b5968f4896bac6d262e5a205f7",
       "version_major": 2,
       "version_minor": 0
      },
      "text/plain": [
       "  0%|          | 0/10 [00:00<?, ?it/s]"
      ]
     },
     "metadata": {},
     "output_type": "display_data"
    },
    {
     "name": "stdout",
     "output_type": "stream",
     "text": [
      "epoch 429, loss: 0.3059900775551796\n",
      "Dev F1 0.8636363744735718\n"
     ]
    },
    {
     "data": {
      "application/vnd.jupyter.widget-view+json": {
       "model_id": "638f82aaf8c94d01b4115aacfb121cd6",
       "version_major": 2,
       "version_minor": 0
      },
      "text/plain": [
       "  0%|          | 0/10 [00:00<?, ?it/s]"
      ]
     },
     "metadata": {},
     "output_type": "display_data"
    },
    {
     "name": "stdout",
     "output_type": "stream",
     "text": [
      "epoch 430, loss: 0.3059636399149895\n",
      "Dev F1 0.8636363744735718\n"
     ]
    },
    {
     "data": {
      "application/vnd.jupyter.widget-view+json": {
       "model_id": "5f6f64401da34a7d9c65db429be13772",
       "version_major": 2,
       "version_minor": 0
      },
      "text/plain": [
       "  0%|          | 0/10 [00:00<?, ?it/s]"
      ]
     },
     "metadata": {},
     "output_type": "display_data"
    },
    {
     "name": "stdout",
     "output_type": "stream",
     "text": [
      "epoch 431, loss: 0.30593740940093994\n",
      "Dev F1 0.8636363744735718\n"
     ]
    },
    {
     "data": {
      "application/vnd.jupyter.widget-view+json": {
       "model_id": "ca81f70afdb24103bebaf394db406bb4",
       "version_major": 2,
       "version_minor": 0
      },
      "text/plain": [
       "  0%|          | 0/10 [00:00<?, ?it/s]"
      ]
     },
     "metadata": {},
     "output_type": "display_data"
    },
    {
     "name": "stdout",
     "output_type": "stream",
     "text": [
      "epoch 432, loss: 0.30591137856245043\n",
      "Dev F1 0.8636363744735718\n"
     ]
    },
    {
     "data": {
      "application/vnd.jupyter.widget-view+json": {
       "model_id": "04992436a42f435ea2b76c063d86bfd5",
       "version_major": 2,
       "version_minor": 0
      },
      "text/plain": [
       "  0%|          | 0/10 [00:00<?, ?it/s]"
      ]
     },
     "metadata": {},
     "output_type": "display_data"
    },
    {
     "name": "stdout",
     "output_type": "stream",
     "text": [
      "epoch 433, loss: 0.3058855667710304\n",
      "Dev F1 0.8636363744735718\n"
     ]
    },
    {
     "data": {
      "application/vnd.jupyter.widget-view+json": {
       "model_id": "4e89fce1af9544f0a91253770f610f10",
       "version_major": 2,
       "version_minor": 0
      },
      "text/plain": [
       "  0%|          | 0/10 [00:00<?, ?it/s]"
      ]
     },
     "metadata": {},
     "output_type": "display_data"
    },
    {
     "name": "stdout",
     "output_type": "stream",
     "text": [
      "epoch 434, loss: 0.30585997104644774\n",
      "Dev F1 0.8636363744735718\n"
     ]
    },
    {
     "data": {
      "application/vnd.jupyter.widget-view+json": {
       "model_id": "75156d7283464ccda628719b671ae76a",
       "version_major": 2,
       "version_minor": 0
      },
      "text/plain": [
       "  0%|          | 0/10 [00:00<?, ?it/s]"
      ]
     },
     "metadata": {},
     "output_type": "display_data"
    },
    {
     "name": "stdout",
     "output_type": "stream",
     "text": [
      "epoch 435, loss: 0.30583456307649615\n",
      "Dev F1 0.8636363744735718\n"
     ]
    },
    {
     "data": {
      "application/vnd.jupyter.widget-view+json": {
       "model_id": "acd20627616441e69d153c83f14d891a",
       "version_major": 2,
       "version_minor": 0
      },
      "text/plain": [
       "  0%|          | 0/10 [00:00<?, ?it/s]"
      ]
     },
     "metadata": {},
     "output_type": "display_data"
    },
    {
     "name": "stdout",
     "output_type": "stream",
     "text": [
      "epoch 436, loss: 0.30580933541059496\n",
      "Dev F1 0.8636363744735718\n"
     ]
    },
    {
     "data": {
      "application/vnd.jupyter.widget-view+json": {
       "model_id": "6a5b13391d4f49718b8a72a6385864d1",
       "version_major": 2,
       "version_minor": 0
      },
      "text/plain": [
       "  0%|          | 0/10 [00:00<?, ?it/s]"
      ]
     },
     "metadata": {},
     "output_type": "display_data"
    },
    {
     "name": "stdout",
     "output_type": "stream",
     "text": [
      "epoch 437, loss: 0.3057843342423439\n",
      "Dev F1 0.8636363744735718\n"
     ]
    },
    {
     "data": {
      "application/vnd.jupyter.widget-view+json": {
       "model_id": "60bace26d9ed47b7b173d16c853e3ca6",
       "version_major": 2,
       "version_minor": 0
      },
      "text/plain": [
       "  0%|          | 0/10 [00:00<?, ?it/s]"
      ]
     },
     "metadata": {},
     "output_type": "display_data"
    },
    {
     "name": "stdout",
     "output_type": "stream",
     "text": [
      "epoch 438, loss: 0.3057595193386078\n",
      "Dev F1 0.8636363744735718\n"
     ]
    },
    {
     "data": {
      "application/vnd.jupyter.widget-view+json": {
       "model_id": "0b616e03e4b44d21958b394978331a2c",
       "version_major": 2,
       "version_minor": 0
      },
      "text/plain": [
       "  0%|          | 0/10 [00:00<?, ?it/s]"
      ]
     },
     "metadata": {},
     "output_type": "display_data"
    },
    {
     "name": "stdout",
     "output_type": "stream",
     "text": [
      "epoch 439, loss: 0.3057349145412445\n",
      "Dev F1 0.8636363744735718\n"
     ]
    },
    {
     "data": {
      "application/vnd.jupyter.widget-view+json": {
       "model_id": "33c9f9da32c94f5597ac6c8c2c393729",
       "version_major": 2,
       "version_minor": 0
      },
      "text/plain": [
       "  0%|          | 0/10 [00:00<?, ?it/s]"
      ]
     },
     "metadata": {},
     "output_type": "display_data"
    },
    {
     "name": "stdout",
     "output_type": "stream",
     "text": [
      "epoch 440, loss: 0.3057104781270027\n",
      "Dev F1 0.8636363744735718\n"
     ]
    },
    {
     "data": {
      "application/vnd.jupyter.widget-view+json": {
       "model_id": "cc67f03935bd4c50823e296980cca86f",
       "version_major": 2,
       "version_minor": 0
      },
      "text/plain": [
       "  0%|          | 0/10 [00:00<?, ?it/s]"
      ]
     },
     "metadata": {},
     "output_type": "display_data"
    },
    {
     "name": "stdout",
     "output_type": "stream",
     "text": [
      "epoch 441, loss: 0.3056862384080887\n",
      "Dev F1 0.8636363744735718\n"
     ]
    },
    {
     "data": {
      "application/vnd.jupyter.widget-view+json": {
       "model_id": "9ed6adc9c69b4217bf74fd606facb272",
       "version_major": 2,
       "version_minor": 0
      },
      "text/plain": [
       "  0%|          | 0/10 [00:00<?, ?it/s]"
      ]
     },
     "metadata": {},
     "output_type": "display_data"
    },
    {
     "name": "stdout",
     "output_type": "stream",
     "text": [
      "epoch 442, loss: 0.30566219091415403\n",
      "Dev F1 0.8636363744735718\n"
     ]
    },
    {
     "data": {
      "application/vnd.jupyter.widget-view+json": {
       "model_id": "4dd2ad24760649f596eaf45a94d432e2",
       "version_major": 2,
       "version_minor": 0
      },
      "text/plain": [
       "  0%|          | 0/10 [00:00<?, ?it/s]"
      ]
     },
     "metadata": {},
     "output_type": "display_data"
    },
    {
     "name": "stdout",
     "output_type": "stream",
     "text": [
      "epoch 443, loss: 0.3056383147835732\n",
      "Dev F1 0.8636363744735718\n"
     ]
    },
    {
     "data": {
      "application/vnd.jupyter.widget-view+json": {
       "model_id": "d698d53a629d4cf08373a4fce0ed7627",
       "version_major": 2,
       "version_minor": 0
      },
      "text/plain": [
       "  0%|          | 0/10 [00:00<?, ?it/s]"
      ]
     },
     "metadata": {},
     "output_type": "display_data"
    },
    {
     "name": "stdout",
     "output_type": "stream",
     "text": [
      "epoch 444, loss: 0.305614647269249\n",
      "Dev F1 0.8636363744735718\n"
     ]
    },
    {
     "data": {
      "application/vnd.jupyter.widget-view+json": {
       "model_id": "08eafa3bdda14501a3f6efd937e5d946",
       "version_major": 2,
       "version_minor": 0
      },
      "text/plain": [
       "  0%|          | 0/10 [00:00<?, ?it/s]"
      ]
     },
     "metadata": {},
     "output_type": "display_data"
    },
    {
     "name": "stdout",
     "output_type": "stream",
     "text": [
      "epoch 445, loss: 0.3055911332368851\n",
      "Dev F1 0.8636363744735718\n"
     ]
    },
    {
     "data": {
      "application/vnd.jupyter.widget-view+json": {
       "model_id": "9e2e87bf53fb48cca1a0a9427646a5e1",
       "version_major": 2,
       "version_minor": 0
      },
      "text/plain": [
       "  0%|          | 0/10 [00:00<?, ?it/s]"
      ]
     },
     "metadata": {},
     "output_type": "display_data"
    },
    {
     "name": "stdout",
     "output_type": "stream",
     "text": [
      "epoch 446, loss: 0.3055678516626358\n",
      "Dev F1 0.8636363744735718\n"
     ]
    },
    {
     "data": {
      "application/vnd.jupyter.widget-view+json": {
       "model_id": "dacfc0131dbf47b19adb9cafdbf9dcc4",
       "version_major": 2,
       "version_minor": 0
      },
      "text/plain": [
       "  0%|          | 0/10 [00:00<?, ?it/s]"
      ]
     },
     "metadata": {},
     "output_type": "display_data"
    },
    {
     "name": "stdout",
     "output_type": "stream",
     "text": [
      "epoch 447, loss: 0.3055446699261665\n",
      "Dev F1 0.8636363744735718\n"
     ]
    },
    {
     "data": {
      "application/vnd.jupyter.widget-view+json": {
       "model_id": "cda222d65bde4c06aeeb5c32744fe5a2",
       "version_major": 2,
       "version_minor": 0
      },
      "text/plain": [
       "  0%|          | 0/10 [00:00<?, ?it/s]"
      ]
     },
     "metadata": {},
     "output_type": "display_data"
    },
    {
     "name": "stdout",
     "output_type": "stream",
     "text": [
      "epoch 448, loss: 0.30552169382572175\n",
      "Dev F1 0.8636363744735718\n"
     ]
    },
    {
     "data": {
      "application/vnd.jupyter.widget-view+json": {
       "model_id": "d9baa453d528487283c290af514a12d9",
       "version_major": 2,
       "version_minor": 0
      },
      "text/plain": [
       "  0%|          | 0/10 [00:00<?, ?it/s]"
      ]
     },
     "metadata": {},
     "output_type": "display_data"
    },
    {
     "name": "stdout",
     "output_type": "stream",
     "text": [
      "epoch 449, loss: 0.305498893558979\n",
      "Dev F1 0.8636363744735718\n"
     ]
    }
   ],
   "source": [
    "### DO NOT EDIT ###\n",
    "\n",
    "num_epochs = 450\n",
    "\n",
    "train_features, train_labels_tensor = featurize_data(train_texts, train_labels)\n",
    "train_features = normalize(train_features)\n",
    "dev_features, dev_labels_tensor = featurize_data(dev_texts, dev_labels)\n",
    "dev_features = normalize(dev_features)\n",
    "model = SentimentClassifier(train_features.shape[1]) \n",
    "optimizer = make_optimizer(model, learning_rate=0.01)\n",
    "\n",
    "trained_model = training_loop(\n",
    "    num_epochs,\n",
    "    16,\n",
    "    train_features,\n",
    "    train_labels_tensor,\n",
    "    dev_features,\n",
    "    dev_labels_tensor,\n",
    "    optimizer,\n",
    "    model\n",
    ")"
   ]
  },
  {
   "cell_type": "markdown",
   "metadata": {},
   "source": [
    "### Task 3.7: Get the predictions on the Test Set using the Trained model and print the F1 score (10 Points)"
   ]
  },
  {
   "cell_type": "code",
   "execution_count": 353,
   "metadata": {},
   "outputs": [
    {
     "name": "stdout",
     "output_type": "stream",
     "text": [
      "Random Chance F1: 0.42105263471603394\n",
      "All Test Cases Passed!\n"
     ]
    }
   ],
   "source": [
    "### DO NOT EDIT ###\n",
    "\n",
    "### DEV SET RESULTS\n",
    "\n",
    "train_texts, train_labels, dev_texts, dev_labels = split_dataset(all_texts, all_labels)\n",
    "\n",
    "devset_prediction_random = predict_random(train_labels, num_samples=len(dev_labels))\n",
    "dev_random_f1 = f1_score(devset_prediction_random, dev_labels)\n",
    "print('Random Chance F1:', dev_random_f1)\n",
    "\n",
    "assert dev_random_f1 > 0\n",
    "\n",
    "print('All Test Cases Passed!')"
   ]
  },
  {
   "cell_type": "code",
   "execution_count": 354,
   "metadata": {},
   "outputs": [
    {
     "name": "stdout",
     "output_type": "stream",
     "text": [
      "Logistic Regression Results:\n",
      "Accuracy: 0.8421052694320679\n",
      "F1-score 0.8636363744735718\n"
     ]
    }
   ],
   "source": [
    "### DO NOT EDIT ###\n",
    "### DEV SET RESULTS - LOGISTIC REGRESSION\n",
    "\n",
    "dev_features, dev_labels = featurize_data(dev_texts, dev_labels)\n",
    "dev_features = normalize(dev_features)\n",
    "dev_logistic_accuracy = accuracy(predict(trained_model, dev_features), dev_labels.tolist())\n",
    "dev_logistic_f1 = f1_score(predict(trained_model, dev_features), dev_labels.tolist())\n",
    "print('Logistic Regression Results:')\n",
    "print('Accuracy:', dev_logistic_accuracy)\n",
    "print('F1-score', dev_logistic_f1)"
   ]
  },
  {
   "cell_type": "code",
   "execution_count": 286,
   "metadata": {},
   "outputs": [
    {
     "ename": "FileNotFoundError",
     "evalue": "[Errno 2] No such file or directory: 'data/HW2-testset.txt'",
     "output_type": "error",
     "traceback": [
      "\u001b[0;31m---------------------------------------------------------------------------\u001b[0m",
      "\u001b[0;31mFileNotFoundError\u001b[0m                         Traceback (most recent call last)",
      "Cell \u001b[0;32mIn[286], line 6\u001b[0m\n\u001b[1;32m      1\u001b[0m \u001b[38;5;66;03m### TEST SET RESULTS - RANDOM CHANCE\u001b[39;00m\n\u001b[1;32m      2\u001b[0m \u001b[38;5;66;03m### DO NOT EDIT ###\u001b[39;00m\n\u001b[1;32m      3\u001b[0m \n\u001b[1;32m      4\u001b[0m \u001b[38;5;66;03m# load the test data\u001b[39;00m\n\u001b[1;32m      5\u001b[0m test_datapath \u001b[38;5;241m=\u001b[39m \u001b[38;5;124m\"\u001b[39m\u001b[38;5;124mdata/HW2-testset.txt\u001b[39m\u001b[38;5;124m\"\u001b[39m\n\u001b[0;32m----> 6\u001b[0m test_texts, test_labels \u001b[38;5;241m=\u001b[39m load_test_data(test_datapath)\n\u001b[1;32m      8\u001b[0m testset_prediction_random \u001b[38;5;241m=\u001b[39m predict_random(all_labels, num_samples\u001b[38;5;241m=\u001b[39m\u001b[38;5;28mlen\u001b[39m(test_labels))\n\u001b[1;32m      9\u001b[0m test_random_f1 \u001b[38;5;241m=\u001b[39m f1_score(testset_prediction_random, test_labels)\n",
      "File \u001b[0;32m~/Desktop/BOULDER/CUB_Semesters/Sem3_Fall2024/NLP/Assignment2_Sentiment_Analysis/util.py:49\u001b[0m, in \u001b[0;36mload_test_data\u001b[0;34m(filepath)\u001b[0m\n\u001b[1;32m     47\u001b[0m texts \u001b[38;5;241m=\u001b[39m []\n\u001b[1;32m     48\u001b[0m labels \u001b[38;5;241m=\u001b[39m []\n\u001b[0;32m---> 49\u001b[0m \u001b[38;5;28;01mwith\u001b[39;00m \u001b[38;5;28mopen\u001b[39m(filepath, \u001b[38;5;124m\"\u001b[39m\u001b[38;5;124mr\u001b[39m\u001b[38;5;124m\"\u001b[39m) \u001b[38;5;28;01mas\u001b[39;00m file:\n\u001b[1;32m     50\u001b[0m     \u001b[38;5;28;01mfor\u001b[39;00m line \u001b[38;5;129;01min\u001b[39;00m file:\n\u001b[1;32m     51\u001b[0m         idx, text, label \u001b[38;5;241m=\u001b[39m line\u001b[38;5;241m.\u001b[39mrstrip()\u001b[38;5;241m.\u001b[39msplit(\u001b[38;5;124m\"\u001b[39m\u001b[38;5;130;01m\\t\u001b[39;00m\u001b[38;5;124m\"\u001b[39m)\n",
      "\u001b[0;31mFileNotFoundError\u001b[0m: [Errno 2] No such file or directory: 'data/HW2-testset.txt'"
     ]
    }
   ],
   "source": [
    "### TEST SET RESULTS - RANDOM CHANCE\n",
    "### DO NOT EDIT ###\n",
    "\n",
    "# load the test data\n",
    "test_datapath = \"data/HW2-testset.txt\"\n",
    "test_texts, test_labels = load_test_data(test_datapath)\n",
    "\n",
    "testset_prediction_random = predict_random(all_labels, num_samples=len(test_labels))\n",
    "test_random_f1 = f1_score(testset_prediction_random, test_labels)\n",
    "print('Random Chance F1:', test_random_f1)\n",
    "testset_prediction_naive = naive_bayes_classifier.predict(test_texts)\n",
    "test_naive_f1 = f1_score(testset_prediction_naive, test_labels)\n",
    "print('Naive Bayes F1:', test_naive_f1)"
   ]
  },
  {
   "cell_type": "code",
   "execution_count": 287,
   "metadata": {},
   "outputs": [
    {
     "ename": "FileNotFoundError",
     "evalue": "[Errno 2] No such file or directory: 'data/HW2-testset.txt'",
     "output_type": "error",
     "traceback": [
      "\u001b[0;31m---------------------------------------------------------------------------\u001b[0m",
      "\u001b[0;31mFileNotFoundError\u001b[0m                         Traceback (most recent call last)",
      "Cell \u001b[0;32mIn[287], line 7\u001b[0m\n\u001b[1;32m      1\u001b[0m \u001b[38;5;66;03m### DO NOT EDIT ###\u001b[39;00m\n\u001b[1;32m      2\u001b[0m \u001b[38;5;66;03m### RUN THIS ONLY ON DEADLINE ###\u001b[39;00m\n\u001b[1;32m      3\u001b[0m \u001b[38;5;66;03m### TEST SET RESULTS\u001b[39;00m\n\u001b[1;32m      4\u001b[0m \n\u001b[1;32m      5\u001b[0m \u001b[38;5;66;03m# load the test data\u001b[39;00m\n\u001b[1;32m      6\u001b[0m test_datapath \u001b[38;5;241m=\u001b[39m \u001b[38;5;124m\"\u001b[39m\u001b[38;5;124mdata/HW2-testset.txt\u001b[39m\u001b[38;5;124m\"\u001b[39m\n\u001b[0;32m----> 7\u001b[0m test_texts, test_labels \u001b[38;5;241m=\u001b[39m load_test_data(test_datapath)\n\u001b[1;32m      9\u001b[0m test_features, test_labels \u001b[38;5;241m=\u001b[39m featurize_data(test_texts, test_labels)\n\u001b[1;32m     10\u001b[0m test_features \u001b[38;5;241m=\u001b[39m normalize(test_features)\n",
      "File \u001b[0;32m~/Desktop/BOULDER/CUB_Semesters/Sem3_Fall2024/NLP/Assignment2_Sentiment_Analysis/util.py:49\u001b[0m, in \u001b[0;36mload_test_data\u001b[0;34m(filepath)\u001b[0m\n\u001b[1;32m     47\u001b[0m texts \u001b[38;5;241m=\u001b[39m []\n\u001b[1;32m     48\u001b[0m labels \u001b[38;5;241m=\u001b[39m []\n\u001b[0;32m---> 49\u001b[0m \u001b[38;5;28;01mwith\u001b[39;00m \u001b[38;5;28mopen\u001b[39m(filepath, \u001b[38;5;124m\"\u001b[39m\u001b[38;5;124mr\u001b[39m\u001b[38;5;124m\"\u001b[39m) \u001b[38;5;28;01mas\u001b[39;00m file:\n\u001b[1;32m     50\u001b[0m     \u001b[38;5;28;01mfor\u001b[39;00m line \u001b[38;5;129;01min\u001b[39;00m file:\n\u001b[1;32m     51\u001b[0m         idx, text, label \u001b[38;5;241m=\u001b[39m line\u001b[38;5;241m.\u001b[39mrstrip()\u001b[38;5;241m.\u001b[39msplit(\u001b[38;5;124m\"\u001b[39m\u001b[38;5;130;01m\\t\u001b[39;00m\u001b[38;5;124m\"\u001b[39m)\n",
      "\u001b[0;31mFileNotFoundError\u001b[0m: [Errno 2] No such file or directory: 'data/HW2-testset.txt'"
     ]
    }
   ],
   "source": [
    "### DO NOT EDIT ###\n",
    "### RUN THIS ONLY ON DEADLINE ###\n",
    "### TEST SET RESULTS\n",
    "\n",
    "# load the test data\n",
    "test_datapath = \"data/HW2-testset.txt\"\n",
    "test_texts, test_labels = load_test_data(test_datapath)\n",
    "\n",
    "test_features, test_labels = featurize_data(test_texts, test_labels)\n",
    "test_features = normalize(test_features)\n",
    "test_logistic_accuracy = accuracy(predict(trained_model, test_features), test_labels.tolist())\n",
    "test_logistic_f1 = f1_score(predict(trained_model, test_features), test_labels.tolist())\n",
    "print('Logistic Regression Results:')\n",
    "print('Accuracy:', test_logistic_accuracy)\n",
    "print('F1-score', test_logistic_f1)"
   ]
  },
  {
   "cell_type": "markdown",
   "id": "71455cfd",
   "metadata": {},
   "source": [
    "## Written Assignment (60 Points)"
   ]
  },
  {
   "cell_type": "markdown",
   "id": "05348ced",
   "metadata": {},
   "source": [
    "Written assignment tests the understanding of the student for the assignment's task. We have split the writing into sections. You will need to write 1-2 paragraphs describing the sections. Please be concise."
   ]
  },
  {
   "cell_type": "markdown",
   "id": "99841650",
   "metadata": {},
   "source": [
    "### In your own words, describe what the task is (20 points)"
   ]
  },
  {
   "cell_type": "markdown",
   "id": "d049c34a",
   "metadata": {},
   "source": [
    "Describe the task, how is it useful and an example."
   ]
  },
  {
   "cell_type": "markdown",
   "metadata": {},
   "source": [
    "##### QUESTION1 ANSWER\n",
    "\n",
    "A natural language processing (NLP) technique known as sentiment analysis is utilised in this task. This technique is utilised to automatically identify the feeling or sentiment that is underlying a piece of text. At this point in time, the task at hand is to determine whether a piece of writing (for instance, a review or comment) possesses a positive or negative sentiment. We are using machine learning models like Naive Bayes and Logistic Regression to accomplish this.\n",
    "\n",
    "There are a lot of areas and uses for sentiment analysis, such as:\n",
    "\n",
    "- Product Reviews: Companies can look at reviews from customers to see how their products are doing. A positive sentiment means the customer is happy, while negative feedback can help them find problems or places where they can do better.\n",
    "\n",
    "- Public Opinion on Events: You can use sentiment analysis to find out how people feel about big events like the release of a new product, a political campaign, or a public scandal. This helps companies, politicians, and organisations change their plans right away.\n",
    " \n",
    "- Improving customer service: By looking at what customers say, companies can figure out how to best handle complaints that are negative. This makes customer service more effective by letting people focus on fixing the problems that are bothering them the most.\n",
    "\n",
    "- Media Monitoring: Individuals and companies can use sentiment analysis to look at news stories, blogs, and social media posts online. This helps them keep an eye on how people feel about them or their products, or how the public sees a brand's image evolving over time.\n",
    "\n",
    "- Example:\n",
    "\n",
    "    Imagine an online movie streaming platform seeking to comprehend user sentiments regarding its available shows and films.Through the process of collecting reviews from their platform, they are able to use sentiment analysis to classify the feedback as either positive or negative.\n",
    "\n",
    "    - A review that is considered to be positive would be one that has something along the lines of \"The storyline was captivating and the actors did an amazing job!\".\n",
    "    - On the other hand, a comment like \"The pacing was slow and the plot was boring\" would be considered to be a negative comment.\n",
    "    \n",
    "    Through the examination of thousands of these reviews, the platform is able to determine which shows are more well-liked and which ones are not. In the event that they receive numerous complaints regarding the slow pace of their series, they may choose to suggest series with a faster pace to specific audiences or reevaluate their content selection in order to improve the level of satisfaction experienced by viewers.\n",
    "\n",
    "\n"
   ]
  },
  {
   "cell_type": "markdown",
   "id": "c96cc70a",
   "metadata": {},
   "source": [
    "### Describe your method for the task (10 points)"
   ]
  },
  {
   "cell_type": "markdown",
   "id": "f0eb5ed1",
   "metadata": {},
   "source": [
    "Important details about the implementation. Feature engineering, parameter choice etc."
   ]
  },
  {
   "cell_type": "markdown",
   "metadata": {},
   "source": [
    "##### QUESTION 2 ANSWER\n",
    "\n",
    "For this particular task involving sentiment analysis, I utilised two different classifiers, namely Naive Bayes and Logistic Regression, in order to categorise the text as either positive or negative. Preprocessing the data, extracting features, training the models, and evaluating how well they perform are all components of the overall process. Here's a breakdown of each component:\n",
    "\n",
    "- We preprocess text through two main steps before inputting it into our machine learning models: first, we lowercase the text to treat variations of the same word, such as \"Great\" and \"great,\" as identical features;second, we perform tokenisation, which is dividing the text into individual words using whitespace as a delimiter so that each word can be analysed as a separate feature.\n",
    "\n",
    "- Feature engineering is crucial for analyzing text sentiment, and several features have been developed to extract significant signals. These include counting positive and negative words to gauge overall sentiment, checking for the presence of the word \"no\" as an indicator of negativity, and counting personal pronouns to assess subjectivity. Additionally, the presence of exclamation marks is monitored to identify strong emotional expressions, while the logarithmic word count of the document helps differentiate patterns between short and long reviews. Together, these features provide a comprehensive understanding of the text's sentiment.\n",
    "\n",
    "- In building and optimizing a logistic regression model for sentiment classification, I extracted features from text and applied the sigmoid function in the forward pass to convert the weighted sum of features into probabilities between 0 and 1, which I then thresholded for classification. I implemented the binary cross-entropy loss function manually to compute the difference between predicted probabilities and actual labels, ensuring to handle edge cases to avoid log(0) errors. For predictions, I rounded the probabilities to binary labels, designating 0 for negative and 1 for positive sentiments. I employed Stochastic Gradient Descent (SGD) as the optimization strategy, using a learning rate of 0.01 for steady convergence. Additionally, I manually initialized the weights to 1 for experimentation, despite PyTorch's default weight initialization handling.\n",
    "\n",
    "- I implemented a Naive Bayes classifier for text classification, which is known for its simplicity and efficiency. The model operates under the assumption that features, such as positive and negative words, are independent given the sentiment label, a premise that may not hold true in practice but still yields effective results in many cases. In the fit method, I calculated the likelihood of each word for both positive and negative classes, along with the prior probabilities, to train the model on word frequency in each sentiment category. For predictions, I computed the posterior probabilities of the text belonging to each class and used these probabilities to determine the sentiment of the text.\n",
    "\n",
    "- Before inputting the features into the Logistic Regression model, min-max normalization was applied to ensure all features were scaled uniformly between 0 and 1. This step was crucial to prevent features with larger ranges, such as word count, from dominating the learning process and causing skewed results.\n",
    "\n",
    "- I evaluated both Naive Bayes and Logistic Regression models using several performance metrics: accuracy, precision, recall, and F1 score, which collectively provide insights into their effectiveness and guide tuning efforts. I experimented the logistic regression model with trained over 450 epochs with a batch size of 16, utilizing stochastic gradient descent and also Adam optimiser to update weights and calculate loss at each step, while the F1 score was used for evaluation after each epoch. Ultimately, the comparison revealed that logistic regression offers greater flexibility for modeling complex relationships, whereas Naive Bayes is simpler in terms of computation. Where logistic regression with the parameters epochs = 450, Adam optimiser, learning rate = 0.01 gave accuracy of 0.84 and F1-score : 0.86."
   ]
  },
  {
   "cell_type": "markdown",
   "id": "0aa84f3f",
   "metadata": {},
   "source": [
    "### Experiment Results (10 points)"
   ]
  },
  {
   "cell_type": "markdown",
   "id": "aa642620",
   "metadata": {},
   "source": [
    "Typically a table summarizing all the different experiment results for various parameter choices"
   ]
  },
  {
   "cell_type": "markdown",
   "metadata": {},
   "source": [
    "![image.png](attachment:image.png)"
   ]
  },
  {
   "cell_type": "markdown",
   "id": "51cf3384",
   "metadata": {},
   "source": [
    "### Discussion (20 points)"
   ]
  },
  {
   "cell_type": "markdown",
   "id": "f0f974b3",
   "metadata": {},
   "source": [
    "Key takeaway from the assignment. Why is the method good? shortcomings? how would you improve? Additional thoughts?"
   ]
  },
  {
   "cell_type": "markdown",
   "metadata": {},
   "source": [
    "##### QUESTION 4 ANSWER\n",
    "\n",
    "- The approach to sentiment analysis is characterized by its simplicity and effectiveness, utilizing basic feature engineering techniques, such as counting positive and negative words, alongside machine learning models like Naive Bayes and Logistic Regression to achieve good accuracy. This method is easy to understand and implement, making it an excellent starting point for sentiment analysis tasks. Custom features, including the presence of specific words and punctuation, enhance sentiment classification by providing clear indicators of sentiment. Additionally, the method's reliance on common language features allows for adaptability across various text-based sentiment analysis tasks, such as product reviews and social media posts. Lastly, both Naive Bayes and Logistic Regression are efficient models that perform well on smaller datasets and require minimal computational resources, making them suitable for quick predictions.\n",
    "\n",
    "- The model has several shortcomings, primarily its dependence on the quality and relevance of selected features, which limits its ability to generalize to new or uncommon words not included in predefined positive and negative lists. Additionally, it struggles with complex language nuances such as sarcasm and word dependencies, leading to potential misclassifications,negative review being misinterpreted as positive.The model also faces challenges with imbalanced data, as a predominance of either positive or negative examples can bias its performance, an issue not addressed through methods like class balancing or weighted loss functions. Lastly, while Logistic Regression is effective, it lacks the capability to manage complex word interactions, suggesting that advanced deep learning models like LSTMs or transformers could provide better performance for longer or more intricate texts.\n",
    "\n",
    "- To enhance model performance, several advanced features and techniques could be implemented. Incorporating sophisticated methods like word embeddings (Word2Vec, GloVe) or TF-IDF would allow the model to better capture the semantic meaning of words, improving generalization to unseen data. Additionally, a more nuanced approach to handling negations could be developed, focusing on the context of words like \"not\" when paired with positive or negative terms. Introducing deep learning models, such as LSTM or transformer-based models like BERT, could further enhance understanding of word context and complex sentences, despite their higher computational costs. Improving evaluation methods through cross-validation would provide a more reliable assessment of model performance, while systematic hyperparameter tuning using grid or random search could optimize existing models for better results.\n",
    " "
   ]
  },
  {
   "cell_type": "markdown",
   "metadata": {},
   "source": []
  }
 ],
 "metadata": {
  "kernelspec": {
   "display_name": "Python 3 (ipykernel)",
   "language": "python",
   "name": "python3"
  },
  "language_info": {
   "codemirror_mode": {
    "name": "ipython",
    "version": 3
   },
   "file_extension": ".py",
   "mimetype": "text/x-python",
   "name": "python",
   "nbconvert_exporter": "python",
   "pygments_lexer": "ipython3",
   "version": "3.11.5"
  }
 },
 "nbformat": 4,
 "nbformat_minor": 4
}
